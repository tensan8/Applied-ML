{
  "cells": [
    {
      "cell_type": "code",
      "execution_count": 1,
      "metadata": {
        "id": "neIQx6jsHuAu"
      },
      "outputs": [],
      "source": [
        "from matplotlib import image\n",
        "import numpy as np\n",
        "import tensorflow as tf\n",
        "from keras.layers import Dense, Conv2D, MaxPooling2D, Dropout, Flatten\n",
        "from keras.callbacks import ModelCheckpoint, EarlyStopping\n",
        "from keras.models import Sequential, load_model\n",
        "from keras.utils import to_categorical\n",
        "from sklearn.model_selection import train_test_split\n",
        "from keras.metrics import top_k_categorical_accuracy\n",
        "from keras.preprocessing.image import ImageDataGenerator\n",
        "from keras import regularizers\n",
        "import matplotlib.pyplot as plt\n",
        "from sklearn.preprocessing import LabelEncoder\n",
        "from imblearn.over_sampling import RandomOverSampler"
      ]
    },
    {
      "cell_type": "code",
      "execution_count": 2,
      "metadata": {
        "colab": {
          "base_uri": "https://localhost:8080/"
        },
        "id": "Lmso7HEEDWeK",
        "outputId": "fbc72f73-0fdb-48eb-e427-0711b3ea4750"
      },
      "outputs": [
        {
          "output_type": "stream",
          "name": "stdout",
          "text": [
            "Drive already mounted at /content/drive/; to attempt to forcibly remount, call drive.mount(\"/content/drive/\", force_remount=True).\n"
          ]
        }
      ],
      "source": [
        "from google.colab import drive\n",
        "drive.mount('/content/drive/')"
      ]
    },
    {
      "cell_type": "code",
      "execution_count": 3,
      "metadata": {
        "id": "E_KY3hGzWC4-",
        "colab": {
          "base_uri": "https://localhost:8080/"
        },
        "outputId": "c7b409d5-e449-4f6d-d70a-fda1d48e5358"
      },
      "outputs": [
        {
          "output_type": "stream",
          "name": "stdout",
          "text": [
            "replace train/herbarium/148977/291355.jpg? [y]es, [n]o, [A]ll, [N]one, [r]ename: A\n",
            "replace test/11765.jpg? [y]es, [n]o, [A]ll, [N]one, [r]ename: A\n"
          ]
        }
      ],
      "source": [
        "!unzip drive/MyDrive/AML_project/train.zip > /dev/null\n",
        "!unzip drive/MyDrive/AML_project/test.zip > /dev/null\n",
        "\n",
        "!cp \"/content/drive/MyDrive/AML_project/list/train.txt\" \"train.txt\"\n",
        "!cp \"/content/drive/MyDrive/AML_project/list/groundtruth.txt\" \"groundtruth.txt\""
      ]
    },
    {
      "cell_type": "code",
      "execution_count": 4,
      "metadata": {
        "id": "6x0-zQ_rGHra"
      },
      "outputs": [],
      "source": [
        "def convert_image_to_numpy(image_paths_arr):\n",
        "  dataset_nparr = list()\n",
        "\n",
        "  for path in image_paths_arr:\n",
        "    image_data = image.imread(path)\n",
        "    image_data = tf.cast(image_data, tf.float32)/255\n",
        "    image_data = tf.image.resize(image_data, (128, 128), method = \"bilinear\")\n",
        "    dataset_nparr.append(image_data)\n",
        "\n",
        "  return np.array(dataset_nparr)"
      ]
    },
    {
      "cell_type": "code",
      "execution_count": 5,
      "metadata": {
        "id": "1qqQNgaVhEls"
      },
      "outputs": [],
      "source": [
        "def encode_labels(labels_arr):\n",
        "  label_encoder = LabelEncoder()\n",
        "  return label_encoder.fit_transform(labels_arr)"
      ]
    },
    {
      "cell_type": "code",
      "execution_count": 6,
      "metadata": {
        "id": "iwqVGlvUhAe5"
      },
      "outputs": [],
      "source": [
        "def load_data(text_file):\n",
        "  with open(text_file) as txt_file:\n",
        "    # read the file, with format \"path label\"\n",
        "    # e.g. train/photo/106023/1769.jpg 106023\n",
        "    lines_arr = [line.strip() for line in txt_file.readlines()]\n",
        "\n",
        "    # split the lines to image path and label\n",
        "    image_paths = [line.split(' ')[0] for line in lines_arr]\n",
        "    labels = [line.split(' ')[1] for line in lines_arr]\n",
        "    x_data = convert_image_to_numpy(image_paths)\n",
        "    y_data = encode_labels(labels)\n",
        "\n",
        "    return x_data, y_data"
      ]
    },
    {
      "cell_type": "code",
      "execution_count": 7,
      "metadata": {
        "id": "oQDlBcv8hc9M"
      },
      "outputs": [],
      "source": [
        "# Load train data\n",
        "x_train, y_train = load_data(\"train.txt\")"
      ]
    },
    {
      "cell_type": "code",
      "source": [
        "#Undersampling train data\n",
        "ReX_train = x_train.reshape(x_train.shape[0], x_train.shape[1] * x_train.shape[2] * x_train.shape[3])\n",
        "print(ReX_train.shape)\n",
        "#rus = RandomUnderSampler(sampling_strategy=1) # Numerical value\n",
        "ros = RandomOverSampler(sampling_strategy=\"not majority\") # String\n",
        "x_train, y_train = ros.fit_resample(ReX_train, y_train)"
      ],
      "metadata": {
        "colab": {
          "base_uri": "https://localhost:8080/"
        },
        "id": "Og3RpMxMqvcW",
        "outputId": "5c2acdc0-3e0a-4159-91ba-8f31ed0375c9"
      },
      "execution_count": 8,
      "outputs": [
        {
          "output_type": "stream",
          "name": "stdout",
          "text": [
            "(4744, 49152)\n"
          ]
        }
      ]
    },
    {
      "cell_type": "code",
      "execution_count": 9,
      "metadata": {
        "id": "BJv0YUgAhoSi"
      },
      "outputs": [],
      "source": [
        "# Load test data\n",
        "x_test, y_test = load_data(\"groundtruth.txt\")"
      ]
    },
    {
      "cell_type": "code",
      "source": [
        "#Undersampling test data\n",
        "ReX_test = x_test.reshape(x_test.shape[0], x_test.shape[1] * x_test.shape[2] * x_test.shape[3])\n",
        "print(ReX_test.shape)\n",
        "#rus = RandomUnderSampler(sampling_strategy=1) # Numerical value\n",
        "ros = RandomOverSampler(sampling_strategy=\"not majority\") # String\n",
        "x_test, y_test = ros.fit_resample(ReX_test, y_test)"
      ],
      "metadata": {
        "colab": {
          "base_uri": "https://localhost:8080/"
        },
        "id": "-0WhzR7itxvz",
        "outputId": "07b21b62-bf1c-48ed-f4e1-ba549de5dab7"
      },
      "execution_count": 10,
      "outputs": [
        {
          "output_type": "stream",
          "name": "stdout",
          "text": [
            "(207, 49152)\n"
          ]
        }
      ]
    },
    {
      "cell_type": "code",
      "source": [
        "x_train = x_train.reshape(x_train.shape[0], 128, 128, 3)\n",
        "x_test = x_test.reshape(x_test.shape[0], 128, 128, 3)"
      ],
      "metadata": {
        "id": "E97HTHV-1miM"
      },
      "execution_count": 11,
      "outputs": []
    },
    {
      "cell_type": "code",
      "execution_count": 12,
      "metadata": {
        "colab": {
          "base_uri": "https://localhost:8080/"
        },
        "id": "N-E_rU9zifan",
        "outputId": "14b440e1-2e1e-42c9-85fe-fd94a15c876e"
      },
      "outputs": [
        {
          "output_type": "stream",
          "name": "stdout",
          "text": [
            "Shapes Checking\n",
            "X-train: (5000, 128, 128, 3)\n",
            "y-train: (5000,)\n",
            "X-test: (300, 128, 128, 3)\n",
            "y-test: (300,)\n"
          ]
        }
      ],
      "source": [
        "# Check data shape\n",
        "print(\"Shapes Checking\")\n",
        "print(\"X-train: \" + str(x_train.shape))\n",
        "print(\"y-train: \" + str(y_train.shape))\n",
        "print(\"X-test: \" + str(x_test.shape))\n",
        "print(\"y-test: \" + str(y_test.shape))"
      ]
    },
    {
      "cell_type": "code",
      "execution_count": 13,
      "metadata": {
        "colab": {
          "base_uri": "https://localhost:8080/"
        },
        "id": "UHv1QFa96EEx",
        "outputId": "a384870c-36e4-43de-9484-cea93fe0732a"
      },
      "outputs": [
        {
          "output_type": "stream",
          "name": "stdout",
          "text": [
            "Reshape Checking\n",
            "X-train: (5000, 128, 128, 3)\n",
            "X-test: (300, 128, 128, 3)\n"
          ]
        }
      ],
      "source": [
        "# Normalize and reshape the data\n",
        "nRows,nCols,nDims = x_train.shape[1:]\n",
        "x_train = x_train.reshape(x_train.shape[0], nRows, nCols, nDims)\n",
        "input_shape = (nRows, nCols, nDims)\n",
        "\n",
        "nRows,nCols,nDims = x_test.shape[1:]\n",
        "x_test = x_test.reshape(x_test.shape[0], nRows, nCols, nDims)\n",
        "\n",
        "print(\"Reshape Checking\")\n",
        "print(\"X-train: \" + str(x_train.shape))\n",
        "print(\"X-test: \" + str(x_test.shape))"
      ]
    },
    {
      "cell_type": "code",
      "execution_count": 14,
      "metadata": {
        "id": "Uhk_WlqG6zWM"
      },
      "outputs": [],
      "source": [
        "classes = np.unique(y_train)\n",
        "nClasses = len(classes)\n"
      ]
    },
    {
      "cell_type": "code",
      "execution_count": 15,
      "metadata": {
        "id": "PDwngO36AbNe"
      },
      "outputs": [],
      "source": [
        "# Image data generator (data augmentation)\n",
        "datagen = ImageDataGenerator(horizontal_flip=True,\n",
        "                            rotation_range=45,\n",
        "                            zoom_range=0.8,\n",
        "                            vertical_flip=True)\n",
        "\n",
        "datagen.fit(x_train)"
      ]
    },
    {
      "cell_type": "code",
      "execution_count": 16,
      "metadata": {
        "id": "Nbk1SklG68u-"
      },
      "outputs": [],
      "source": [
        "# Create Model\n",
        "def createModel():\n",
        "    model = Sequential()\n",
        "    model.add(Conv2D(64, (3, 3), kernel_regularizer=regularizers.L1L2(l1=0.01, l2=0.01), activation='relu', input_shape=input_shape))\n",
        "    model.add(Conv2D(32, (3, 3), activation='relu'))\n",
        "    model.add(MaxPooling2D(pool_size=(2, 2)))\n",
        " \n",
        "    model.add(Conv2D(16, (3, 3), activation='relu'))\n",
        "    model.add(MaxPooling2D(pool_size=(2, 2)))\n",
        "    model.add(Dropout(0.2))\n",
        "\n",
        "    model.add(Flatten())\n",
        "    model.add(Dense(512, activation='relu'))\n",
        "    model.add(Dropout(0.25))\n",
        "    model.add(Dense(nClasses, activation='softmax'))\n",
        "    \n",
        "    return model"
      ]
    },
    {
      "cell_type": "code",
      "execution_count": 17,
      "metadata": {
        "colab": {
          "base_uri": "https://localhost:8080/"
        },
        "id": "DTu8tO5O70QZ",
        "outputId": "6bf3f615-e464-423e-9a92-4dd7bb163618"
      },
      "outputs": [
        {
          "output_type": "stream",
          "name": "stdout",
          "text": [
            "Model: \"sequential\"\n",
            "_________________________________________________________________\n",
            " Layer (type)                Output Shape              Param #   \n",
            "=================================================================\n",
            " conv2d (Conv2D)             (None, 126, 126, 64)      1792      \n",
            "                                                                 \n",
            " conv2d_1 (Conv2D)           (None, 124, 124, 32)      18464     \n",
            "                                                                 \n",
            " max_pooling2d (MaxPooling2D  (None, 62, 62, 32)       0         \n",
            " )                                                               \n",
            "                                                                 \n",
            " conv2d_2 (Conv2D)           (None, 60, 60, 16)        4624      \n",
            "                                                                 \n",
            " max_pooling2d_1 (MaxPooling  (None, 30, 30, 16)       0         \n",
            " 2D)                                                             \n",
            "                                                                 \n",
            " dropout (Dropout)           (None, 30, 30, 16)        0         \n",
            "                                                                 \n",
            " flatten (Flatten)           (None, 14400)             0         \n",
            "                                                                 \n",
            " dense (Dense)               (None, 512)               7373312   \n",
            "                                                                 \n",
            " dropout_1 (Dropout)         (None, 512)               0         \n",
            "                                                                 \n",
            " dense_1 (Dense)             (None, 100)               51300     \n",
            "                                                                 \n",
            "=================================================================\n",
            "Total params: 7,449,492\n",
            "Trainable params: 7,449,492\n",
            "Non-trainable params: 0\n",
            "_________________________________________________________________\n"
          ]
        }
      ],
      "source": [
        "# Call Create Model\n",
        "cnn_model = createModel()\n",
        "\n",
        "# Show model summary\n",
        "cnn_model.summary()"
      ]
    },
    {
      "cell_type": "code",
      "execution_count": 18,
      "metadata": {
        "id": "LH4zlZBR9WeS"
      },
      "outputs": [],
      "source": [
        "def top_5_categorical_accuracy(y_true, y_pred):\n",
        "    return top_k_categorical_accuracy (y_true, y_pred, k=5)"
      ]
    },
    {
      "cell_type": "code",
      "execution_count": 19,
      "metadata": {
        "colab": {
          "base_uri": "https://localhost:8080/"
        },
        "id": "HHD18BjX81sx",
        "outputId": "29d6d8fb-261e-4ee2-ad9e-98e1a0d93734"
      },
      "outputs": [
        {
          "output_type": "stream",
          "name": "stdout",
          "text": [
            "Epoch 1/100\n",
            "157/157 [==============================] - ETA: 0s - loss: 5.5225 - accuracy: 0.0100 - top_5_categorical_accuracy: 0.0000e+00\n",
            "Epoch 1: val_accuracy improved from -inf to 0.00667, saving model to base_model.h5\n",
            "157/157 [==============================] - 22s 118ms/step - loss: 5.5225 - accuracy: 0.0100 - top_5_categorical_accuracy: 0.0000e+00 - val_loss: 5.4981 - val_accuracy: 0.0067 - val_top_5_categorical_accuracy: 0.0000e+00\n",
            "Epoch 2/100\n",
            "157/157 [==============================] - ETA: 0s - loss: 5.4853 - accuracy: 0.0138 - top_5_categorical_accuracy: 0.0102\n",
            "Epoch 2: val_accuracy did not improve from 0.00667\n",
            "157/157 [==============================] - 18s 117ms/step - loss: 5.4853 - accuracy: 0.0138 - top_5_categorical_accuracy: 0.0102 - val_loss: 5.4745 - val_accuracy: 0.0067 - val_top_5_categorical_accuracy: 0.0100\n",
            "Epoch 3/100\n",
            "157/157 [==============================] - ETA: 0s - loss: 5.4581 - accuracy: 0.0128 - top_5_categorical_accuracy: 0.0544\n",
            "Epoch 3: val_accuracy improved from 0.00667 to 0.01000, saving model to base_model.h5\n",
            "157/157 [==============================] - 18s 115ms/step - loss: 5.4581 - accuracy: 0.0128 - top_5_categorical_accuracy: 0.0544 - val_loss: 5.4506 - val_accuracy: 0.0100 - val_top_5_categorical_accuracy: 0.0167\n",
            "Epoch 4/100\n",
            "157/157 [==============================] - ETA: 0s - loss: 5.4261 - accuracy: 0.0186 - top_5_categorical_accuracy: 0.0516\n",
            "Epoch 4: val_accuracy improved from 0.01000 to 0.02333, saving model to base_model.h5\n",
            "157/157 [==============================] - 18s 115ms/step - loss: 5.4261 - accuracy: 0.0186 - top_5_categorical_accuracy: 0.0516 - val_loss: 5.4279 - val_accuracy: 0.0233 - val_top_5_categorical_accuracy: 0.0167\n",
            "Epoch 5/100\n",
            "157/157 [==============================] - ETA: 0s - loss: 5.3937 - accuracy: 0.0204 - top_5_categorical_accuracy: 0.0420\n",
            "Epoch 5: val_accuracy did not improve from 0.02333\n",
            "157/157 [==============================] - 18s 116ms/step - loss: 5.3937 - accuracy: 0.0204 - top_5_categorical_accuracy: 0.0420 - val_loss: 5.4119 - val_accuracy: 0.0167 - val_top_5_categorical_accuracy: 0.0300\n",
            "Epoch 6/100\n",
            "157/157 [==============================] - ETA: 0s - loss: 5.3533 - accuracy: 0.0224 - top_5_categorical_accuracy: 0.0572\n",
            "Epoch 6: val_accuracy did not improve from 0.02333\n",
            "157/157 [==============================] - 18s 116ms/step - loss: 5.3533 - accuracy: 0.0224 - top_5_categorical_accuracy: 0.0572 - val_loss: 5.4000 - val_accuracy: 0.0200 - val_top_5_categorical_accuracy: 0.0033\n",
            "Epoch 7/100\n",
            "157/157 [==============================] - ETA: 0s - loss: 5.3115 - accuracy: 0.0262 - top_5_categorical_accuracy: 0.0648\n",
            "Epoch 7: val_accuracy did not improve from 0.02333\n",
            "157/157 [==============================] - 18s 114ms/step - loss: 5.3115 - accuracy: 0.0262 - top_5_categorical_accuracy: 0.0648 - val_loss: 5.4154 - val_accuracy: 0.0167 - val_top_5_categorical_accuracy: 0.0000e+00\n",
            "Epoch 8/100\n",
            "157/157 [==============================] - ETA: 0s - loss: 5.2691 - accuracy: 0.0290 - top_5_categorical_accuracy: 0.0532\n",
            "Epoch 8: val_accuracy did not improve from 0.02333\n",
            "157/157 [==============================] - 18s 114ms/step - loss: 5.2691 - accuracy: 0.0290 - top_5_categorical_accuracy: 0.0532 - val_loss: 5.4239 - val_accuracy: 0.0167 - val_top_5_categorical_accuracy: 0.0233\n",
            "Epoch 9/100\n",
            "157/157 [==============================] - ETA: 0s - loss: 5.2313 - accuracy: 0.0332 - top_5_categorical_accuracy: 0.1186\n",
            "Epoch 9: val_accuracy did not improve from 0.02333\n",
            "157/157 [==============================] - 18s 114ms/step - loss: 5.2313 - accuracy: 0.0332 - top_5_categorical_accuracy: 0.1186 - val_loss: 5.4423 - val_accuracy: 0.0133 - val_top_5_categorical_accuracy: 0.0167\n",
            "Epoch 10/100\n",
            "157/157 [==============================] - ETA: 0s - loss: 5.2030 - accuracy: 0.0300 - top_5_categorical_accuracy: 0.0966\n",
            "Epoch 10: val_accuracy did not improve from 0.02333\n",
            "157/157 [==============================] - 18s 114ms/step - loss: 5.2030 - accuracy: 0.0300 - top_5_categorical_accuracy: 0.0966 - val_loss: 5.4685 - val_accuracy: 0.0167 - val_top_5_categorical_accuracy: 0.0000e+00\n",
            "Epoch 11/100\n",
            "157/157 [==============================] - ETA: 0s - loss: 5.1672 - accuracy: 0.0316 - top_5_categorical_accuracy: 0.0830\n",
            "Epoch 11: val_accuracy did not improve from 0.02333\n",
            "157/157 [==============================] - 18s 114ms/step - loss: 5.1672 - accuracy: 0.0316 - top_5_categorical_accuracy: 0.0830 - val_loss: 5.5047 - val_accuracy: 0.0167 - val_top_5_categorical_accuracy: 0.0100\n",
            "Epoch 12/100\n",
            "157/157 [==============================] - ETA: 0s - loss: 5.1339 - accuracy: 0.0350 - top_5_categorical_accuracy: 0.0892\n",
            "Epoch 12: val_accuracy did not improve from 0.02333\n",
            "157/157 [==============================] - 18s 114ms/step - loss: 5.1339 - accuracy: 0.0350 - top_5_categorical_accuracy: 0.0892 - val_loss: 5.5495 - val_accuracy: 0.0133 - val_top_5_categorical_accuracy: 0.0000e+00\n",
            "Epoch 13/100\n",
            "157/157 [==============================] - ETA: 0s - loss: 5.1073 - accuracy: 0.0356 - top_5_categorical_accuracy: 0.0714\n",
            "Epoch 13: val_accuracy did not improve from 0.02333\n",
            "157/157 [==============================] - 18s 114ms/step - loss: 5.1073 - accuracy: 0.0356 - top_5_categorical_accuracy: 0.0714 - val_loss: 5.5297 - val_accuracy: 0.0233 - val_top_5_categorical_accuracy: 0.0000e+00\n",
            "Epoch 14/100\n",
            "157/157 [==============================] - ETA: 0s - loss: 5.0780 - accuracy: 0.0402 - top_5_categorical_accuracy: 0.1238\n",
            "Epoch 14: val_accuracy did not improve from 0.02333\n",
            "157/157 [==============================] - 18s 114ms/step - loss: 5.0780 - accuracy: 0.0402 - top_5_categorical_accuracy: 0.1238 - val_loss: 5.5652 - val_accuracy: 0.0167 - val_top_5_categorical_accuracy: 0.0000e+00\n",
            "Epoch 15/100\n",
            "157/157 [==============================] - ETA: 0s - loss: 5.0638 - accuracy: 0.0396 - top_5_categorical_accuracy: 0.1206\n",
            "Epoch 15: val_accuracy did not improve from 0.02333\n",
            "157/157 [==============================] - 18s 115ms/step - loss: 5.0638 - accuracy: 0.0396 - top_5_categorical_accuracy: 0.1206 - val_loss: 5.5593 - val_accuracy: 0.0133 - val_top_5_categorical_accuracy: 0.0000e+00\n",
            "Epoch 16/100\n",
            "157/157 [==============================] - ETA: 0s - loss: 5.0393 - accuracy: 0.0420 - top_5_categorical_accuracy: 0.0824\n",
            "Epoch 16: val_accuracy did not improve from 0.02333\n",
            "157/157 [==============================] - 18s 114ms/step - loss: 5.0393 - accuracy: 0.0420 - top_5_categorical_accuracy: 0.0824 - val_loss: 5.6144 - val_accuracy: 0.0167 - val_top_5_categorical_accuracy: 0.0000e+00\n",
            "Epoch 17/100\n",
            "157/157 [==============================] - ETA: 0s - loss: 5.0176 - accuracy: 0.0444 - top_5_categorical_accuracy: 0.0776\n",
            "Epoch 17: val_accuracy improved from 0.02333 to 0.03000, saving model to base_model.h5\n",
            "157/157 [==============================] - 18s 116ms/step - loss: 5.0176 - accuracy: 0.0444 - top_5_categorical_accuracy: 0.0776 - val_loss: 5.6361 - val_accuracy: 0.0300 - val_top_5_categorical_accuracy: 0.0000e+00\n",
            "Epoch 18/100\n",
            "157/157 [==============================] - ETA: 0s - loss: 4.9956 - accuracy: 0.0488 - top_5_categorical_accuracy: 0.0700\n",
            "Epoch 18: val_accuracy did not improve from 0.03000\n",
            "157/157 [==============================] - 18s 114ms/step - loss: 4.9956 - accuracy: 0.0488 - top_5_categorical_accuracy: 0.0700 - val_loss: 5.6455 - val_accuracy: 0.0233 - val_top_5_categorical_accuracy: 0.0000e+00\n",
            "Epoch 19/100\n",
            "157/157 [==============================] - ETA: 0s - loss: 4.9689 - accuracy: 0.0444 - top_5_categorical_accuracy: 0.1184\n",
            "Epoch 19: val_accuracy did not improve from 0.03000\n",
            "157/157 [==============================] - 18s 115ms/step - loss: 4.9689 - accuracy: 0.0444 - top_5_categorical_accuracy: 0.1184 - val_loss: 5.6635 - val_accuracy: 0.0233 - val_top_5_categorical_accuracy: 0.0000e+00\n",
            "Epoch 20/100\n",
            "157/157 [==============================] - ETA: 0s - loss: 4.9535 - accuracy: 0.0494 - top_5_categorical_accuracy: 0.0636\n",
            "Epoch 20: val_accuracy improved from 0.03000 to 0.03333, saving model to base_model.h5\n",
            "157/157 [==============================] - 18s 116ms/step - loss: 4.9535 - accuracy: 0.0494 - top_5_categorical_accuracy: 0.0636 - val_loss: 5.6570 - val_accuracy: 0.0333 - val_top_5_categorical_accuracy: 0.0000e+00\n",
            "Epoch 21/100\n",
            "157/157 [==============================] - ETA: 0s - loss: 4.9416 - accuracy: 0.0494 - top_5_categorical_accuracy: 0.0714\n",
            "Epoch 21: val_accuracy did not improve from 0.03333\n",
            "157/157 [==============================] - 18s 115ms/step - loss: 4.9416 - accuracy: 0.0494 - top_5_categorical_accuracy: 0.0714 - val_loss: 5.6682 - val_accuracy: 0.0300 - val_top_5_categorical_accuracy: 0.0000e+00\n",
            "Epoch 22/100\n",
            "157/157 [==============================] - ETA: 0s - loss: 4.9130 - accuracy: 0.0486 - top_5_categorical_accuracy: 0.0816\n",
            "Epoch 22: val_accuracy did not improve from 0.03333\n",
            "157/157 [==============================] - 18s 115ms/step - loss: 4.9130 - accuracy: 0.0486 - top_5_categorical_accuracy: 0.0816 - val_loss: 5.6638 - val_accuracy: 0.0267 - val_top_5_categorical_accuracy: 0.0000e+00\n",
            "Epoch 23/100\n",
            "157/157 [==============================] - ETA: 0s - loss: 4.9145 - accuracy: 0.0492 - top_5_categorical_accuracy: 0.0770\n",
            "Epoch 23: val_accuracy did not improve from 0.03333\n",
            "157/157 [==============================] - 18s 114ms/step - loss: 4.9145 - accuracy: 0.0492 - top_5_categorical_accuracy: 0.0770 - val_loss: 5.6665 - val_accuracy: 0.0267 - val_top_5_categorical_accuracy: 0.0000e+00\n",
            "Epoch 24/100\n",
            "157/157 [==============================] - ETA: 0s - loss: 4.8819 - accuracy: 0.0494 - top_5_categorical_accuracy: 0.0912\n",
            "Epoch 24: val_accuracy did not improve from 0.03333\n",
            "157/157 [==============================] - 18s 115ms/step - loss: 4.8819 - accuracy: 0.0494 - top_5_categorical_accuracy: 0.0912 - val_loss: 5.7182 - val_accuracy: 0.0267 - val_top_5_categorical_accuracy: 0.0000e+00\n",
            "Epoch 25/100\n",
            "157/157 [==============================] - ETA: 0s - loss: 4.8735 - accuracy: 0.0510 - top_5_categorical_accuracy: 0.0684\n",
            "Epoch 25: val_accuracy did not improve from 0.03333\n",
            "157/157 [==============================] - 18s 115ms/step - loss: 4.8735 - accuracy: 0.0510 - top_5_categorical_accuracy: 0.0684 - val_loss: 5.6853 - val_accuracy: 0.0300 - val_top_5_categorical_accuracy: 0.0000e+00\n",
            "Epoch 26/100\n",
            "157/157 [==============================] - ETA: 0s - loss: 4.8635 - accuracy: 0.0444 - top_5_categorical_accuracy: 0.0698\n",
            "Epoch 26: val_accuracy improved from 0.03333 to 0.03667, saving model to base_model.h5\n",
            "157/157 [==============================] - 18s 116ms/step - loss: 4.8635 - accuracy: 0.0444 - top_5_categorical_accuracy: 0.0698 - val_loss: 5.6714 - val_accuracy: 0.0367 - val_top_5_categorical_accuracy: 0.0000e+00\n",
            "Epoch 27/100\n",
            "157/157 [==============================] - ETA: 0s - loss: 4.8461 - accuracy: 0.0492 - top_5_categorical_accuracy: 0.0830\n",
            "Epoch 27: val_accuracy did not improve from 0.03667\n",
            "157/157 [==============================] - 18s 115ms/step - loss: 4.8461 - accuracy: 0.0492 - top_5_categorical_accuracy: 0.0830 - val_loss: 5.6741 - val_accuracy: 0.0367 - val_top_5_categorical_accuracy: 0.0000e+00\n",
            "Epoch 28/100\n",
            "157/157 [==============================] - ETA: 0s - loss: 4.8282 - accuracy: 0.0590 - top_5_categorical_accuracy: 0.0704\n",
            "Epoch 28: val_accuracy did not improve from 0.03667\n",
            "157/157 [==============================] - 18s 115ms/step - loss: 4.8282 - accuracy: 0.0590 - top_5_categorical_accuracy: 0.0704 - val_loss: 5.7102 - val_accuracy: 0.0333 - val_top_5_categorical_accuracy: 0.0000e+00\n",
            "Epoch 29/100\n",
            "157/157 [==============================] - ETA: 0s - loss: 4.8035 - accuracy: 0.0580 - top_5_categorical_accuracy: 0.0896\n",
            "Epoch 29: val_accuracy did not improve from 0.03667\n",
            "157/157 [==============================] - 18s 115ms/step - loss: 4.8035 - accuracy: 0.0580 - top_5_categorical_accuracy: 0.0896 - val_loss: 5.7067 - val_accuracy: 0.0333 - val_top_5_categorical_accuracy: 0.0000e+00\n",
            "Epoch 30/100\n",
            "157/157 [==============================] - ETA: 0s - loss: 4.7975 - accuracy: 0.0568 - top_5_categorical_accuracy: 0.0882\n",
            "Epoch 30: val_accuracy did not improve from 0.03667\n",
            "157/157 [==============================] - 18s 115ms/step - loss: 4.7975 - accuracy: 0.0568 - top_5_categorical_accuracy: 0.0882 - val_loss: 5.7115 - val_accuracy: 0.0333 - val_top_5_categorical_accuracy: 0.0000e+00\n",
            "Epoch 31/100\n",
            "157/157 [==============================] - ETA: 0s - loss: 4.7819 - accuracy: 0.0628 - top_5_categorical_accuracy: 0.0916\n",
            "Epoch 31: val_accuracy did not improve from 0.03667\n",
            "157/157 [==============================] - 18s 115ms/step - loss: 4.7819 - accuracy: 0.0628 - top_5_categorical_accuracy: 0.0916 - val_loss: 5.7176 - val_accuracy: 0.0300 - val_top_5_categorical_accuracy: 0.0000e+00\n",
            "Epoch 32/100\n",
            "157/157 [==============================] - ETA: 0s - loss: 4.7654 - accuracy: 0.0638 - top_5_categorical_accuracy: 0.1078\n",
            "Epoch 32: val_accuracy did not improve from 0.03667\n",
            "157/157 [==============================] - 19s 119ms/step - loss: 4.7654 - accuracy: 0.0638 - top_5_categorical_accuracy: 0.1078 - val_loss: 5.7226 - val_accuracy: 0.0333 - val_top_5_categorical_accuracy: 0.0000e+00\n",
            "Epoch 33/100\n",
            "157/157 [==============================] - ETA: 0s - loss: 4.7633 - accuracy: 0.0616 - top_5_categorical_accuracy: 0.0912\n",
            "Epoch 33: val_accuracy did not improve from 0.03667\n",
            "157/157 [==============================] - 20s 127ms/step - loss: 4.7633 - accuracy: 0.0616 - top_5_categorical_accuracy: 0.0912 - val_loss: 5.7271 - val_accuracy: 0.0300 - val_top_5_categorical_accuracy: 0.0000e+00\n",
            "Epoch 34/100\n",
            "157/157 [==============================] - ETA: 0s - loss: 4.7576 - accuracy: 0.0574 - top_5_categorical_accuracy: 0.0808\n",
            "Epoch 34: val_accuracy did not improve from 0.03667\n",
            "157/157 [==============================] - 20s 124ms/step - loss: 4.7576 - accuracy: 0.0574 - top_5_categorical_accuracy: 0.0808 - val_loss: 5.7505 - val_accuracy: 0.0333 - val_top_5_categorical_accuracy: 0.0000e+00\n",
            "Epoch 35/100\n",
            "157/157 [==============================] - ETA: 0s - loss: 4.7372 - accuracy: 0.0630 - top_5_categorical_accuracy: 0.0724\n",
            "Epoch 35: val_accuracy did not improve from 0.03667\n",
            "157/157 [==============================] - 19s 120ms/step - loss: 4.7372 - accuracy: 0.0630 - top_5_categorical_accuracy: 0.0724 - val_loss: 5.7558 - val_accuracy: 0.0333 - val_top_5_categorical_accuracy: 0.0000e+00\n",
            "Epoch 36/100\n",
            "157/157 [==============================] - ETA: 0s - loss: 4.7248 - accuracy: 0.0600 - top_5_categorical_accuracy: 0.0924\n",
            "Epoch 36: val_accuracy did not improve from 0.03667\n",
            "157/157 [==============================] - 19s 120ms/step - loss: 4.7248 - accuracy: 0.0600 - top_5_categorical_accuracy: 0.0924 - val_loss: 5.7143 - val_accuracy: 0.0367 - val_top_5_categorical_accuracy: 0.0000e+00\n",
            "Epoch 37/100\n",
            "157/157 [==============================] - ETA: 0s - loss: 4.7109 - accuracy: 0.0582 - top_5_categorical_accuracy: 0.0980\n",
            "Epoch 37: val_accuracy did not improve from 0.03667\n",
            "157/157 [==============================] - 19s 120ms/step - loss: 4.7109 - accuracy: 0.0582 - top_5_categorical_accuracy: 0.0980 - val_loss: 5.7788 - val_accuracy: 0.0367 - val_top_5_categorical_accuracy: 0.0000e+00\n",
            "Epoch 38/100\n",
            "157/157 [==============================] - ETA: 0s - loss: 4.7013 - accuracy: 0.0664 - top_5_categorical_accuracy: 0.0928\n",
            "Epoch 38: val_accuracy did not improve from 0.03667\n",
            "157/157 [==============================] - 19s 120ms/step - loss: 4.7013 - accuracy: 0.0664 - top_5_categorical_accuracy: 0.0928 - val_loss: 5.8144 - val_accuracy: 0.0367 - val_top_5_categorical_accuracy: 0.0000e+00\n",
            "Epoch 39/100\n",
            "157/157 [==============================] - ETA: 0s - loss: 4.6763 - accuracy: 0.0702 - top_5_categorical_accuracy: 0.0856\n",
            "Epoch 39: val_accuracy improved from 0.03667 to 0.04000, saving model to base_model.h5\n",
            "157/157 [==============================] - 19s 121ms/step - loss: 4.6763 - accuracy: 0.0702 - top_5_categorical_accuracy: 0.0856 - val_loss: 5.7791 - val_accuracy: 0.0400 - val_top_5_categorical_accuracy: 0.0000e+00\n",
            "Epoch 40/100\n",
            "157/157 [==============================] - ETA: 0s - loss: 4.6795 - accuracy: 0.0672 - top_5_categorical_accuracy: 0.1010\n",
            "Epoch 40: val_accuracy improved from 0.04000 to 0.05000, saving model to base_model.h5\n",
            "157/157 [==============================] - 19s 120ms/step - loss: 4.6795 - accuracy: 0.0672 - top_5_categorical_accuracy: 0.1010 - val_loss: 5.7944 - val_accuracy: 0.0500 - val_top_5_categorical_accuracy: 0.0000e+00\n",
            "Epoch 41/100\n",
            "157/157 [==============================] - ETA: 0s - loss: 4.6634 - accuracy: 0.0752 - top_5_categorical_accuracy: 0.0896\n",
            "Epoch 41: val_accuracy did not improve from 0.05000\n",
            "157/157 [==============================] - 19s 118ms/step - loss: 4.6634 - accuracy: 0.0752 - top_5_categorical_accuracy: 0.0896 - val_loss: 5.7584 - val_accuracy: 0.0467 - val_top_5_categorical_accuracy: 0.0000e+00\n",
            "Epoch 42/100\n",
            "157/157 [==============================] - ETA: 0s - loss: 4.6506 - accuracy: 0.0746 - top_5_categorical_accuracy: 0.1040\n",
            "Epoch 42: val_accuracy did not improve from 0.05000\n",
            "157/157 [==============================] - 19s 119ms/step - loss: 4.6506 - accuracy: 0.0746 - top_5_categorical_accuracy: 0.1040 - val_loss: 5.7931 - val_accuracy: 0.0433 - val_top_5_categorical_accuracy: 0.0000e+00\n",
            "Epoch 43/100\n",
            "157/157 [==============================] - ETA: 0s - loss: 4.6328 - accuracy: 0.0720 - top_5_categorical_accuracy: 0.0686\n",
            "Epoch 43: val_accuracy did not improve from 0.05000\n",
            "157/157 [==============================] - 19s 120ms/step - loss: 4.6328 - accuracy: 0.0720 - top_5_categorical_accuracy: 0.0686 - val_loss: 5.8515 - val_accuracy: 0.0467 - val_top_5_categorical_accuracy: 0.0000e+00\n",
            "Epoch 44/100\n",
            "157/157 [==============================] - ETA: 0s - loss: 4.6347 - accuracy: 0.0694 - top_5_categorical_accuracy: 0.0954\n",
            "Epoch 44: val_accuracy improved from 0.05000 to 0.05333, saving model to base_model.h5\n",
            "157/157 [==============================] - 19s 121ms/step - loss: 4.6347 - accuracy: 0.0694 - top_5_categorical_accuracy: 0.0954 - val_loss: 5.8130 - val_accuracy: 0.0533 - val_top_5_categorical_accuracy: 0.0000e+00\n",
            "Epoch 45/100\n",
            "157/157 [==============================] - ETA: 0s - loss: 4.6302 - accuracy: 0.0714 - top_5_categorical_accuracy: 0.0714\n",
            "Epoch 45: val_accuracy did not improve from 0.05333\n",
            "157/157 [==============================] - 19s 119ms/step - loss: 4.6302 - accuracy: 0.0714 - top_5_categorical_accuracy: 0.0714 - val_loss: 5.8143 - val_accuracy: 0.0500 - val_top_5_categorical_accuracy: 0.0000e+00\n",
            "Epoch 46/100\n",
            "157/157 [==============================] - ETA: 0s - loss: 4.6170 - accuracy: 0.0766 - top_5_categorical_accuracy: 0.0936\n",
            "Epoch 46: val_accuracy did not improve from 0.05333\n",
            "157/157 [==============================] - 19s 121ms/step - loss: 4.6170 - accuracy: 0.0766 - top_5_categorical_accuracy: 0.0936 - val_loss: 5.8661 - val_accuracy: 0.0433 - val_top_5_categorical_accuracy: 0.0000e+00\n",
            "Epoch 47/100\n",
            "157/157 [==============================] - ETA: 0s - loss: 4.6045 - accuracy: 0.0766 - top_5_categorical_accuracy: 0.0736\n",
            "Epoch 47: val_accuracy did not improve from 0.05333\n",
            "157/157 [==============================] - 19s 119ms/step - loss: 4.6045 - accuracy: 0.0766 - top_5_categorical_accuracy: 0.0736 - val_loss: 5.8406 - val_accuracy: 0.0467 - val_top_5_categorical_accuracy: 0.0000e+00\n",
            "Epoch 48/100\n",
            "157/157 [==============================] - ETA: 0s - loss: 4.5970 - accuracy: 0.0726 - top_5_categorical_accuracy: 0.0924\n",
            "Epoch 48: val_accuracy did not improve from 0.05333\n",
            "157/157 [==============================] - 19s 119ms/step - loss: 4.5970 - accuracy: 0.0726 - top_5_categorical_accuracy: 0.0924 - val_loss: 5.8472 - val_accuracy: 0.0533 - val_top_5_categorical_accuracy: 0.0000e+00\n",
            "Epoch 49/100\n",
            "157/157 [==============================] - ETA: 0s - loss: 4.5942 - accuracy: 0.0706 - top_5_categorical_accuracy: 0.0848\n",
            "Epoch 49: val_accuracy did not improve from 0.05333\n",
            "157/157 [==============================] - 19s 120ms/step - loss: 4.5942 - accuracy: 0.0706 - top_5_categorical_accuracy: 0.0848 - val_loss: 5.8441 - val_accuracy: 0.0433 - val_top_5_categorical_accuracy: 0.0000e+00\n",
            "Epoch 50/100\n",
            "157/157 [==============================] - ETA: 0s - loss: 4.5774 - accuracy: 0.0764 - top_5_categorical_accuracy: 0.0862\n",
            "Epoch 50: val_accuracy did not improve from 0.05333\n",
            "157/157 [==============================] - 19s 120ms/step - loss: 4.5774 - accuracy: 0.0764 - top_5_categorical_accuracy: 0.0862 - val_loss: 5.8340 - val_accuracy: 0.0500 - val_top_5_categorical_accuracy: 0.0000e+00\n",
            "Epoch 51/100\n",
            "157/157 [==============================] - ETA: 0s - loss: 4.5754 - accuracy: 0.0790 - top_5_categorical_accuracy: 0.1072\n",
            "Epoch 51: val_accuracy improved from 0.05333 to 0.06000, saving model to base_model.h5\n",
            "157/157 [==============================] - 19s 122ms/step - loss: 4.5754 - accuracy: 0.0790 - top_5_categorical_accuracy: 0.1072 - val_loss: 5.8525 - val_accuracy: 0.0600 - val_top_5_categorical_accuracy: 0.0000e+00\n",
            "Epoch 52/100\n",
            "157/157 [==============================] - ETA: 0s - loss: 4.5559 - accuracy: 0.0804 - top_5_categorical_accuracy: 0.0612\n",
            "Epoch 52: val_accuracy did not improve from 0.06000\n",
            "157/157 [==============================] - 19s 120ms/step - loss: 4.5559 - accuracy: 0.0804 - top_5_categorical_accuracy: 0.0612 - val_loss: 5.8579 - val_accuracy: 0.0567 - val_top_5_categorical_accuracy: 0.0000e+00\n",
            "Epoch 53/100\n",
            "157/157 [==============================] - ETA: 0s - loss: 4.5736 - accuracy: 0.0826 - top_5_categorical_accuracy: 0.0942\n",
            "Epoch 53: val_accuracy did not improve from 0.06000\n",
            "157/157 [==============================] - 19s 119ms/step - loss: 4.5736 - accuracy: 0.0826 - top_5_categorical_accuracy: 0.0942 - val_loss: 5.8343 - val_accuracy: 0.0467 - val_top_5_categorical_accuracy: 0.0000e+00\n",
            "Epoch 54/100\n",
            "157/157 [==============================] - ETA: 0s - loss: 4.5562 - accuracy: 0.0776 - top_5_categorical_accuracy: 0.0848\n",
            "Epoch 54: val_accuracy did not improve from 0.06000\n",
            "157/157 [==============================] - 19s 120ms/step - loss: 4.5562 - accuracy: 0.0776 - top_5_categorical_accuracy: 0.0848 - val_loss: 5.8300 - val_accuracy: 0.0567 - val_top_5_categorical_accuracy: 0.0000e+00\n",
            "Epoch 55/100\n",
            "157/157 [==============================] - ETA: 0s - loss: 4.5454 - accuracy: 0.0778 - top_5_categorical_accuracy: 0.0902\n",
            "Epoch 55: val_accuracy did not improve from 0.06000\n",
            "157/157 [==============================] - 19s 119ms/step - loss: 4.5454 - accuracy: 0.0778 - top_5_categorical_accuracy: 0.0902 - val_loss: 5.9082 - val_accuracy: 0.0533 - val_top_5_categorical_accuracy: 0.0000e+00\n",
            "Epoch 56/100\n",
            "157/157 [==============================] - ETA: 0s - loss: 4.5280 - accuracy: 0.0832 - top_5_categorical_accuracy: 0.0888\n",
            "Epoch 56: val_accuracy improved from 0.06000 to 0.06333, saving model to base_model.h5\n",
            "157/157 [==============================] - 19s 120ms/step - loss: 4.5280 - accuracy: 0.0832 - top_5_categorical_accuracy: 0.0888 - val_loss: 5.8603 - val_accuracy: 0.0633 - val_top_5_categorical_accuracy: 0.0000e+00\n",
            "Epoch 57/100\n",
            "157/157 [==============================] - ETA: 0s - loss: 4.5426 - accuracy: 0.0824 - top_5_categorical_accuracy: 0.0782\n",
            "Epoch 57: val_accuracy did not improve from 0.06333\n",
            "157/157 [==============================] - 19s 118ms/step - loss: 4.5426 - accuracy: 0.0824 - top_5_categorical_accuracy: 0.0782 - val_loss: 5.8726 - val_accuracy: 0.0633 - val_top_5_categorical_accuracy: 0.0000e+00\n",
            "Epoch 58/100\n",
            "157/157 [==============================] - ETA: 0s - loss: 4.5091 - accuracy: 0.0856 - top_5_categorical_accuracy: 0.0734\n",
            "Epoch 58: val_accuracy did not improve from 0.06333\n",
            "157/157 [==============================] - 19s 119ms/step - loss: 4.5091 - accuracy: 0.0856 - top_5_categorical_accuracy: 0.0734 - val_loss: 5.9172 - val_accuracy: 0.0600 - val_top_5_categorical_accuracy: 0.0000e+00\n",
            "Epoch 59/100\n",
            "157/157 [==============================] - ETA: 0s - loss: 4.5236 - accuracy: 0.0832 - top_5_categorical_accuracy: 0.1030\n",
            "Epoch 59: val_accuracy did not improve from 0.06333\n",
            "157/157 [==============================] - 19s 119ms/step - loss: 4.5236 - accuracy: 0.0832 - top_5_categorical_accuracy: 0.1030 - val_loss: 5.9484 - val_accuracy: 0.0533 - val_top_5_categorical_accuracy: 0.0000e+00\n",
            "Epoch 60/100\n",
            "157/157 [==============================] - ETA: 0s - loss: 4.5186 - accuracy: 0.0862 - top_5_categorical_accuracy: 0.0846\n",
            "Epoch 60: val_accuracy did not improve from 0.06333\n",
            "157/157 [==============================] - 19s 120ms/step - loss: 4.5186 - accuracy: 0.0862 - top_5_categorical_accuracy: 0.0846 - val_loss: 5.9287 - val_accuracy: 0.0600 - val_top_5_categorical_accuracy: 0.0000e+00\n",
            "Epoch 61/100\n",
            "157/157 [==============================] - ETA: 0s - loss: 4.4878 - accuracy: 0.0854 - top_5_categorical_accuracy: 0.0946\n",
            "Epoch 61: val_accuracy did not improve from 0.06333\n",
            "157/157 [==============================] - 19s 121ms/step - loss: 4.4878 - accuracy: 0.0854 - top_5_categorical_accuracy: 0.0946 - val_loss: 5.8839 - val_accuracy: 0.0567 - val_top_5_categorical_accuracy: 0.0000e+00\n",
            "Epoch 62/100\n",
            "157/157 [==============================] - ETA: 0s - loss: 4.5005 - accuracy: 0.0882 - top_5_categorical_accuracy: 0.0850\n",
            "Epoch 62: val_accuracy improved from 0.06333 to 0.06667, saving model to base_model.h5\n",
            "157/157 [==============================] - 19s 123ms/step - loss: 4.5005 - accuracy: 0.0882 - top_5_categorical_accuracy: 0.0850 - val_loss: 5.9387 - val_accuracy: 0.0667 - val_top_5_categorical_accuracy: 0.0000e+00\n",
            "Epoch 63/100\n",
            "157/157 [==============================] - ETA: 0s - loss: 4.4965 - accuracy: 0.0838 - top_5_categorical_accuracy: 0.0712\n",
            "Epoch 63: val_accuracy did not improve from 0.06667\n",
            "157/157 [==============================] - 19s 121ms/step - loss: 4.4965 - accuracy: 0.0838 - top_5_categorical_accuracy: 0.0712 - val_loss: 5.9007 - val_accuracy: 0.0600 - val_top_5_categorical_accuracy: 0.0000e+00\n",
            "Epoch 64/100\n",
            "157/157 [==============================] - ETA: 0s - loss: 4.4759 - accuracy: 0.0874 - top_5_categorical_accuracy: 0.0840\n",
            "Epoch 64: val_accuracy did not improve from 0.06667\n",
            "157/157 [==============================] - 19s 120ms/step - loss: 4.4759 - accuracy: 0.0874 - top_5_categorical_accuracy: 0.0840 - val_loss: 5.9504 - val_accuracy: 0.0567 - val_top_5_categorical_accuracy: 0.0000e+00\n",
            "Epoch 65/100\n",
            "157/157 [==============================] - ETA: 0s - loss: 4.4753 - accuracy: 0.0846 - top_5_categorical_accuracy: 0.0892\n",
            "Epoch 65: val_accuracy did not improve from 0.06667\n",
            "157/157 [==============================] - 19s 120ms/step - loss: 4.4753 - accuracy: 0.0846 - top_5_categorical_accuracy: 0.0892 - val_loss: 6.0174 - val_accuracy: 0.0600 - val_top_5_categorical_accuracy: 0.0000e+00\n",
            "Epoch 66/100\n",
            "157/157 [==============================] - ETA: 0s - loss: 4.4808 - accuracy: 0.0842 - top_5_categorical_accuracy: 0.0804\n",
            "Epoch 66: val_accuracy did not improve from 0.06667\n",
            "157/157 [==============================] - 19s 120ms/step - loss: 4.4808 - accuracy: 0.0842 - top_5_categorical_accuracy: 0.0804 - val_loss: 5.9909 - val_accuracy: 0.0667 - val_top_5_categorical_accuracy: 0.0000e+00\n",
            "Epoch 67/100\n",
            "157/157 [==============================] - ETA: 0s - loss: 4.4564 - accuracy: 0.0910 - top_5_categorical_accuracy: 0.0686\n",
            "Epoch 67: val_accuracy did not improve from 0.06667\n",
            "157/157 [==============================] - 19s 120ms/step - loss: 4.4564 - accuracy: 0.0910 - top_5_categorical_accuracy: 0.0686 - val_loss: 5.9743 - val_accuracy: 0.0633 - val_top_5_categorical_accuracy: 0.0000e+00\n",
            "Epoch 68/100\n",
            "157/157 [==============================] - ETA: 0s - loss: 4.4599 - accuracy: 0.0914 - top_5_categorical_accuracy: 0.0676\n",
            "Epoch 68: val_accuracy did not improve from 0.06667\n",
            "157/157 [==============================] - 19s 118ms/step - loss: 4.4599 - accuracy: 0.0914 - top_5_categorical_accuracy: 0.0676 - val_loss: 5.9450 - val_accuracy: 0.0600 - val_top_5_categorical_accuracy: 0.0000e+00\n",
            "Epoch 69/100\n",
            "157/157 [==============================] - ETA: 0s - loss: 4.4537 - accuracy: 0.0916 - top_5_categorical_accuracy: 0.0962\n",
            "Epoch 69: val_accuracy improved from 0.06667 to 0.07333, saving model to base_model.h5\n",
            "157/157 [==============================] - 19s 119ms/step - loss: 4.4537 - accuracy: 0.0916 - top_5_categorical_accuracy: 0.0962 - val_loss: 5.9754 - val_accuracy: 0.0733 - val_top_5_categorical_accuracy: 0.0000e+00\n",
            "Epoch 70/100\n",
            "157/157 [==============================] - ETA: 0s - loss: 4.4329 - accuracy: 0.1000 - top_5_categorical_accuracy: 0.0714\n",
            "Epoch 70: val_accuracy did not improve from 0.07333\n",
            "157/157 [==============================] - 19s 119ms/step - loss: 4.4329 - accuracy: 0.1000 - top_5_categorical_accuracy: 0.0714 - val_loss: 5.9937 - val_accuracy: 0.0733 - val_top_5_categorical_accuracy: 0.0000e+00\n",
            "Epoch 71/100\n",
            "157/157 [==============================] - ETA: 0s - loss: 4.4386 - accuracy: 0.0900 - top_5_categorical_accuracy: 0.0938\n",
            "Epoch 71: val_accuracy did not improve from 0.07333\n",
            "157/157 [==============================] - 19s 120ms/step - loss: 4.4386 - accuracy: 0.0900 - top_5_categorical_accuracy: 0.0938 - val_loss: 5.9730 - val_accuracy: 0.0667 - val_top_5_categorical_accuracy: 0.0000e+00\n",
            "Epoch 72/100\n",
            "157/157 [==============================] - ETA: 0s - loss: 4.4272 - accuracy: 0.1010 - top_5_categorical_accuracy: 0.0718\n",
            "Epoch 72: val_accuracy improved from 0.07333 to 0.07667, saving model to base_model.h5\n",
            "157/157 [==============================] - 19s 120ms/step - loss: 4.4272 - accuracy: 0.1010 - top_5_categorical_accuracy: 0.0718 - val_loss: 5.9636 - val_accuracy: 0.0767 - val_top_5_categorical_accuracy: 0.0000e+00\n",
            "Epoch 73/100\n",
            "157/157 [==============================] - ETA: 0s - loss: 4.4185 - accuracy: 0.0912 - top_5_categorical_accuracy: 0.0824\n",
            "Epoch 73: val_accuracy did not improve from 0.07667\n",
            "157/157 [==============================] - 19s 119ms/step - loss: 4.4185 - accuracy: 0.0912 - top_5_categorical_accuracy: 0.0824 - val_loss: 6.0110 - val_accuracy: 0.0667 - val_top_5_categorical_accuracy: 0.0000e+00\n",
            "Epoch 74/100\n",
            "157/157 [==============================] - ETA: 0s - loss: 4.4227 - accuracy: 0.0936 - top_5_categorical_accuracy: 0.0682\n",
            "Epoch 74: val_accuracy did not improve from 0.07667\n",
            "157/157 [==============================] - 19s 119ms/step - loss: 4.4227 - accuracy: 0.0936 - top_5_categorical_accuracy: 0.0682 - val_loss: 6.0233 - val_accuracy: 0.0667 - val_top_5_categorical_accuracy: 0.0000e+00\n",
            "Epoch 75/100\n",
            "157/157 [==============================] - ETA: 0s - loss: 4.4089 - accuracy: 0.0976 - top_5_categorical_accuracy: 0.0820\n",
            "Epoch 75: val_accuracy did not improve from 0.07667\n",
            "157/157 [==============================] - 19s 119ms/step - loss: 4.4089 - accuracy: 0.0976 - top_5_categorical_accuracy: 0.0820 - val_loss: 6.0084 - val_accuracy: 0.0700 - val_top_5_categorical_accuracy: 0.0000e+00\n",
            "Epoch 76/100\n",
            "157/157 [==============================] - ETA: 0s - loss: 4.3956 - accuracy: 0.1054 - top_5_categorical_accuracy: 0.0846\n",
            "Epoch 76: val_accuracy did not improve from 0.07667\n",
            "157/157 [==============================] - 19s 119ms/step - loss: 4.3956 - accuracy: 0.1054 - top_5_categorical_accuracy: 0.0846 - val_loss: 6.0499 - val_accuracy: 0.0700 - val_top_5_categorical_accuracy: 0.0000e+00\n",
            "Epoch 77/100\n",
            "157/157 [==============================] - ETA: 0s - loss: 4.4025 - accuracy: 0.0988 - top_5_categorical_accuracy: 0.0710\n",
            "Epoch 77: val_accuracy did not improve from 0.07667\n",
            "157/157 [==============================] - 19s 118ms/step - loss: 4.4025 - accuracy: 0.0988 - top_5_categorical_accuracy: 0.0710 - val_loss: 6.0881 - val_accuracy: 0.0733 - val_top_5_categorical_accuracy: 0.0000e+00\n",
            "Epoch 78/100\n",
            "157/157 [==============================] - ETA: 0s - loss: 4.3966 - accuracy: 0.0966 - top_5_categorical_accuracy: 0.0752\n",
            "Epoch 78: val_accuracy did not improve from 0.07667\n",
            "157/157 [==============================] - 19s 119ms/step - loss: 4.3966 - accuracy: 0.0966 - top_5_categorical_accuracy: 0.0752 - val_loss: 6.0641 - val_accuracy: 0.0667 - val_top_5_categorical_accuracy: 0.0000e+00\n",
            "Epoch 79/100\n",
            "157/157 [==============================] - ETA: 0s - loss: 4.3913 - accuracy: 0.0962 - top_5_categorical_accuracy: 0.0694\n",
            "Epoch 79: val_accuracy did not improve from 0.07667\n",
            "157/157 [==============================] - 19s 121ms/step - loss: 4.3913 - accuracy: 0.0962 - top_5_categorical_accuracy: 0.0694 - val_loss: 6.0116 - val_accuracy: 0.0667 - val_top_5_categorical_accuracy: 0.0000e+00\n",
            "Epoch 80/100\n",
            "157/157 [==============================] - ETA: 0s - loss: 4.3805 - accuracy: 0.1016 - top_5_categorical_accuracy: 0.0776\n",
            "Epoch 80: val_accuracy did not improve from 0.07667\n",
            "157/157 [==============================] - 19s 119ms/step - loss: 4.3805 - accuracy: 0.1016 - top_5_categorical_accuracy: 0.0776 - val_loss: 6.0319 - val_accuracy: 0.0667 - val_top_5_categorical_accuracy: 0.0000e+00\n",
            "Epoch 81/100\n",
            "157/157 [==============================] - ETA: 0s - loss: 4.3829 - accuracy: 0.1032 - top_5_categorical_accuracy: 0.0730\n",
            "Epoch 81: val_accuracy did not improve from 0.07667\n",
            "157/157 [==============================] - 19s 118ms/step - loss: 4.3829 - accuracy: 0.1032 - top_5_categorical_accuracy: 0.0730 - val_loss: 6.1203 - val_accuracy: 0.0667 - val_top_5_categorical_accuracy: 0.0000e+00\n",
            "Epoch 82/100\n",
            "157/157 [==============================] - ETA: 0s - loss: 4.3919 - accuracy: 0.0992 - top_5_categorical_accuracy: 0.0536\n",
            "Epoch 82: val_accuracy did not improve from 0.07667\n",
            "157/157 [==============================] - 18s 118ms/step - loss: 4.3919 - accuracy: 0.0992 - top_5_categorical_accuracy: 0.0536 - val_loss: 6.0958 - val_accuracy: 0.0700 - val_top_5_categorical_accuracy: 0.0000e+00\n",
            "Epoch 83/100\n",
            "157/157 [==============================] - ETA: 0s - loss: 4.3792 - accuracy: 0.0998 - top_5_categorical_accuracy: 0.0824\n",
            "Epoch 83: val_accuracy did not improve from 0.07667\n",
            "157/157 [==============================] - 19s 118ms/step - loss: 4.3792 - accuracy: 0.0998 - top_5_categorical_accuracy: 0.0824 - val_loss: 6.0229 - val_accuracy: 0.0633 - val_top_5_categorical_accuracy: 0.0000e+00\n",
            "Epoch 84/100\n",
            "157/157 [==============================] - ETA: 0s - loss: 4.3557 - accuracy: 0.1056 - top_5_categorical_accuracy: 0.0642\n",
            "Epoch 84: val_accuracy did not improve from 0.07667\n",
            "157/157 [==============================] - 19s 119ms/step - loss: 4.3557 - accuracy: 0.1056 - top_5_categorical_accuracy: 0.0642 - val_loss: 6.0091 - val_accuracy: 0.0733 - val_top_5_categorical_accuracy: 0.0000e+00\n",
            "Epoch 85/100\n",
            "157/157 [==============================] - ETA: 0s - loss: 4.3624 - accuracy: 0.1032 - top_5_categorical_accuracy: 0.0770\n",
            "Epoch 85: val_accuracy did not improve from 0.07667\n",
            "157/157 [==============================] - 18s 117ms/step - loss: 4.3624 - accuracy: 0.1032 - top_5_categorical_accuracy: 0.0770 - val_loss: 6.0264 - val_accuracy: 0.0700 - val_top_5_categorical_accuracy: 0.0000e+00\n",
            "Epoch 86/100\n",
            "157/157 [==============================] - ETA: 0s - loss: 4.3620 - accuracy: 0.0998 - top_5_categorical_accuracy: 0.0796\n",
            "Epoch 86: val_accuracy did not improve from 0.07667\n",
            "157/157 [==============================] - 18s 118ms/step - loss: 4.3620 - accuracy: 0.0998 - top_5_categorical_accuracy: 0.0796 - val_loss: 6.0743 - val_accuracy: 0.0733 - val_top_5_categorical_accuracy: 0.0000e+00\n",
            "Epoch 87/100\n",
            "157/157 [==============================] - ETA: 0s - loss: 4.3489 - accuracy: 0.1062 - top_5_categorical_accuracy: 0.0602\n",
            "Epoch 87: val_accuracy did not improve from 0.07667\n",
            "157/157 [==============================] - 19s 118ms/step - loss: 4.3489 - accuracy: 0.1062 - top_5_categorical_accuracy: 0.0602 - val_loss: 6.0778 - val_accuracy: 0.0733 - val_top_5_categorical_accuracy: 0.0000e+00\n",
            "Epoch 88/100\n",
            "157/157 [==============================] - ETA: 0s - loss: 4.3377 - accuracy: 0.1044 - top_5_categorical_accuracy: 0.0690\n",
            "Epoch 88: val_accuracy did not improve from 0.07667\n",
            "157/157 [==============================] - 19s 118ms/step - loss: 4.3377 - accuracy: 0.1044 - top_5_categorical_accuracy: 0.0690 - val_loss: 6.1044 - val_accuracy: 0.0733 - val_top_5_categorical_accuracy: 0.0000e+00\n",
            "Epoch 89/100\n",
            "157/157 [==============================] - ETA: 0s - loss: 4.3332 - accuracy: 0.1020 - top_5_categorical_accuracy: 0.0878\n",
            "Epoch 89: val_accuracy improved from 0.07667 to 0.08000, saving model to base_model.h5\n",
            "157/157 [==============================] - 19s 120ms/step - loss: 4.3332 - accuracy: 0.1020 - top_5_categorical_accuracy: 0.0878 - val_loss: 6.1558 - val_accuracy: 0.0800 - val_top_5_categorical_accuracy: 0.0000e+00\n",
            "Epoch 90/100\n",
            "157/157 [==============================] - ETA: 0s - loss: 4.3384 - accuracy: 0.1026 - top_5_categorical_accuracy: 0.0714\n",
            "Epoch 90: val_accuracy did not improve from 0.08000\n",
            "157/157 [==============================] - 19s 119ms/step - loss: 4.3384 - accuracy: 0.1026 - top_5_categorical_accuracy: 0.0714 - val_loss: 6.1146 - val_accuracy: 0.0767 - val_top_5_categorical_accuracy: 0.0000e+00\n",
            "Epoch 91/100\n",
            "157/157 [==============================] - ETA: 0s - loss: 4.3317 - accuracy: 0.1014 - top_5_categorical_accuracy: 0.0796\n",
            "Epoch 91: val_accuracy did not improve from 0.08000\n",
            "157/157 [==============================] - 19s 118ms/step - loss: 4.3317 - accuracy: 0.1014 - top_5_categorical_accuracy: 0.0796 - val_loss: 6.1357 - val_accuracy: 0.0800 - val_top_5_categorical_accuracy: 0.0000e+00\n",
            "Epoch 92/100\n",
            "157/157 [==============================] - ETA: 0s - loss: 4.3304 - accuracy: 0.1016 - top_5_categorical_accuracy: 0.0560\n",
            "Epoch 92: val_accuracy did not improve from 0.08000\n",
            "157/157 [==============================] - 19s 119ms/step - loss: 4.3304 - accuracy: 0.1016 - top_5_categorical_accuracy: 0.0560 - val_loss: 6.1542 - val_accuracy: 0.0767 - val_top_5_categorical_accuracy: 0.0000e+00\n",
            "Epoch 93/100\n",
            "157/157 [==============================] - ETA: 0s - loss: 4.3174 - accuracy: 0.1098 - top_5_categorical_accuracy: 0.0638\n",
            "Epoch 93: val_accuracy did not improve from 0.08000\n",
            "157/157 [==============================] - 19s 120ms/step - loss: 4.3174 - accuracy: 0.1098 - top_5_categorical_accuracy: 0.0638 - val_loss: 6.1564 - val_accuracy: 0.0800 - val_top_5_categorical_accuracy: 0.0000e+00\n",
            "Epoch 94/100\n",
            "157/157 [==============================] - ETA: 0s - loss: 4.3131 - accuracy: 0.1066 - top_5_categorical_accuracy: 0.0684\n",
            "Epoch 94: val_accuracy improved from 0.08000 to 0.08667, saving model to base_model.h5\n",
            "157/157 [==============================] - 19s 120ms/step - loss: 4.3131 - accuracy: 0.1066 - top_5_categorical_accuracy: 0.0684 - val_loss: 6.1492 - val_accuracy: 0.0867 - val_top_5_categorical_accuracy: 0.0000e+00\n",
            "Epoch 95/100\n",
            "157/157 [==============================] - ETA: 0s - loss: 4.3025 - accuracy: 0.1188 - top_5_categorical_accuracy: 0.0600\n",
            "Epoch 95: val_accuracy did not improve from 0.08667\n",
            "157/157 [==============================] - 19s 120ms/step - loss: 4.3025 - accuracy: 0.1188 - top_5_categorical_accuracy: 0.0600 - val_loss: 6.1732 - val_accuracy: 0.0733 - val_top_5_categorical_accuracy: 0.0000e+00\n",
            "Epoch 96/100\n",
            "157/157 [==============================] - ETA: 0s - loss: 4.2896 - accuracy: 0.1098 - top_5_categorical_accuracy: 0.0732\n",
            "Epoch 96: val_accuracy did not improve from 0.08667\n",
            "157/157 [==============================] - 19s 120ms/step - loss: 4.2896 - accuracy: 0.1098 - top_5_categorical_accuracy: 0.0732 - val_loss: 6.1938 - val_accuracy: 0.0733 - val_top_5_categorical_accuracy: 0.0000e+00\n",
            "Epoch 97/100\n",
            "157/157 [==============================] - ETA: 0s - loss: 4.3064 - accuracy: 0.1114 - top_5_categorical_accuracy: 0.0522\n",
            "Epoch 97: val_accuracy improved from 0.08667 to 0.09000, saving model to base_model.h5\n",
            "157/157 [==============================] - 19s 121ms/step - loss: 4.3064 - accuracy: 0.1114 - top_5_categorical_accuracy: 0.0522 - val_loss: 6.1756 - val_accuracy: 0.0900 - val_top_5_categorical_accuracy: 0.0000e+00\n",
            "Epoch 98/100\n",
            "157/157 [==============================] - ETA: 0s - loss: 4.2822 - accuracy: 0.1144 - top_5_categorical_accuracy: 0.0726\n",
            "Epoch 98: val_accuracy did not improve from 0.09000\n",
            "157/157 [==============================] - 19s 119ms/step - loss: 4.2822 - accuracy: 0.1144 - top_5_categorical_accuracy: 0.0726 - val_loss: 6.2414 - val_accuracy: 0.0700 - val_top_5_categorical_accuracy: 0.0000e+00\n",
            "Epoch 99/100\n",
            "157/157 [==============================] - ETA: 0s - loss: 4.2910 - accuracy: 0.1070 - top_5_categorical_accuracy: 0.0722\n",
            "Epoch 99: val_accuracy did not improve from 0.09000\n",
            "157/157 [==============================] - 19s 119ms/step - loss: 4.2910 - accuracy: 0.1070 - top_5_categorical_accuracy: 0.0722 - val_loss: 6.2387 - val_accuracy: 0.0900 - val_top_5_categorical_accuracy: 0.0000e+00\n",
            "Epoch 100/100\n",
            "157/157 [==============================] - ETA: 0s - loss: 4.2895 - accuracy: 0.1078 - top_5_categorical_accuracy: 0.0642\n",
            "Epoch 100: val_accuracy did not improve from 0.09000\n",
            "157/157 [==============================] - 19s 123ms/step - loss: 4.2895 - accuracy: 0.1078 - top_5_categorical_accuracy: 0.0642 - val_loss: 6.2306 - val_accuracy: 0.0900 - val_top_5_categorical_accuracy: 0.0000e+00\n"
          ]
        }
      ],
      "source": [
        "# Compile and fit Adam model\n",
        "checkpoint = ModelCheckpoint(\"base_model.h5\", monitor='val_accuracy', verbose=1, save_best_only=True, save_weights_only=False, mode='auto', save_freq= 'epoch')\n",
        "early = EarlyStopping(monitor='val_accuracy', min_delta=0, patience=50, verbose=1, mode='auto')\n",
        "optimizer = tf.keras.optimizers.Adam(learning_rate = 0.00001)\n",
        "cnn_model.compile(optimizer=optimizer, loss='sparse_categorical_crossentropy', metrics=['accuracy', top_5_categorical_accuracy])\n",
        "batch_size = 32\n",
        "steps_per_epoch = int( np.ceil(x_train.shape[0] / batch_size) )\n",
        "initial_epochs = 100\n",
        "history = cnn_model.fit(datagen.flow(x_train, y_train), batch_size=batch_size, steps_per_epoch = steps_per_epoch,\n",
        "              epochs=initial_epochs, verbose=1, validation_data= (x_test, y_test), callbacks = [early, checkpoint])"
      ]
    },
    {
      "cell_type": "code",
      "execution_count": 20,
      "metadata": {
        "id": "E9BQ9qGp_wkC",
        "colab": {
          "base_uri": "https://localhost:8080/"
        },
        "outputId": "47810369-dc8e-4d4e-dcc8-27681f3cbcd4"
      },
      "outputs": [
        {
          "output_type": "stream",
          "name": "stdout",
          "text": [
            "10/10 [==============================] - 0s 15ms/step - loss: 6.2306 - accuracy: 0.0900 - top_5_categorical_accuracy: 0.0000e+00\n"
          ]
        },
        {
          "output_type": "execute_result",
          "data": {
            "text/plain": [
              "[6.230637073516846, 0.09000000357627869, 0.0]"
            ]
          },
          "metadata": {},
          "execution_count": 20
        }
      ],
      "source": [
        "# Evaluate model\n",
        "cnn_model.evaluate(x_test, y_test)"
      ]
    },
    {
      "cell_type": "code",
      "source": [
        "# Save model\n",
        "cnn_model.save(\"saved_model\")"
      ],
      "metadata": {
        "id": "esjjQTXA9Pa-",
        "colab": {
          "base_uri": "https://localhost:8080/"
        },
        "outputId": "736779ad-d252-4dd1-83c5-878123f34af5"
      },
      "execution_count": 21,
      "outputs": [
        {
          "output_type": "stream",
          "name": "stderr",
          "text": [
            "WARNING:absl:Found untraced functions such as _jit_compiled_convolution_op, _jit_compiled_convolution_op, _jit_compiled_convolution_op while saving (showing 3 of 3). These functions will not be directly callable after loading.\n"
          ]
        }
      ]
    },
    {
      "cell_type": "code",
      "source": [
        "!zip -r /content/saved_model.zip /content/saved_model"
      ],
      "metadata": {
        "colab": {
          "base_uri": "https://localhost:8080/"
        },
        "id": "Qn79lpiiPkJf",
        "outputId": "2babf880-0b0c-4741-86c4-c9d39b0f7d6c"
      },
      "execution_count": 22,
      "outputs": [
        {
          "output_type": "stream",
          "name": "stdout",
          "text": [
            "updating: content/saved_model/ (stored 0%)\n",
            "updating: content/saved_model/assets/ (stored 0%)\n",
            "updating: content/saved_model/keras_metadata.pb (deflated 91%)\n",
            "updating: content/saved_model/variables/ (stored 0%)\n",
            "updating: content/saved_model/variables/variables.data-00000-of-00001 (deflated 9%)\n",
            "updating: content/saved_model/variables/variables.index (deflated 66%)\n",
            "updating: content/saved_model/saved_model.pb (deflated 89%)\n"
          ]
        }
      ]
    },
    {
      "cell_type": "code",
      "execution_count": 23,
      "metadata": {
        "id": "Ksrr0Vqo_5Az",
        "colab": {
          "base_uri": "https://localhost:8080/",
          "height": 805
        },
        "outputId": "5b71ed9d-6cde-4414-c677-7350e4ef2a90"
      },
      "outputs": [
        {
          "output_type": "display_data",
          "data": {
            "text/plain": [
              "<Figure size 576x432 with 1 Axes>"
            ],
            "image/png": "[encoded data removed]"
          },
          "metadata": {
            "needs_background": "light"
          }
        },
        {
          "output_type": "display_data",
          "data": {
            "text/plain": [
              "<Figure size 576x432 with 1 Axes>"
            ],
            "image/png": "[encoded data removed]"
          },
          "metadata": {
            "needs_background": "light"
          }
        }
      ],
      "source": [
        "# Show model's loss and accuracy graph\n",
        "loss = history.history['loss']\n",
        "val_loss = history.history['val_loss']\n",
        "\n",
        "accuracy = history.history['accuracy']\n",
        "val_accuracy = history.history['val_accuracy']\n",
        "\n",
        "plt.figure(figsize=[8,6])\n",
        "plt.plot(loss,'r',linewidth=3.0)\n",
        "plt.plot(val_loss,'b',linewidth=3.0)\n",
        "plt.legend(['Training loss', 'Validation Loss'],fontsize=18)\n",
        "plt.xlabel('Epochs ',fontsize=16)\n",
        "plt.ylabel('Loss',fontsize=16)\n",
        "plt.title('Loss Curves',fontsize=16)\n",
        "plt.show()\n",
        "\n",
        "plt.figure(figsize=[8,6])\n",
        "plt.plot(accuracy,'r',linewidth=3.0)\n",
        "plt.plot(val_accuracy,'b',linewidth=3.0)\n",
        "plt.legend(['Training Accuracy', 'Validation Accuracy'],fontsize=18)\n",
        "plt.xlabel('Epochs ',fontsize=16)\n",
        "plt.ylabel('Accuracy',fontsize=16)\n",
        "plt.title('Accuracy Curves',fontsize=16)\n",
        "plt.show() "
      ]
    }
  ],
  "metadata": {
    "accelerator": "GPU",
    "colab": {
      "collapsed_sections": [],
      "provenance": []
    },
    "gpuClass": "standard",
    "kernelspec": {
      "display_name": "Python 3",
      "name": "python3"
    },
    "language_info": {
      "name": "python"
    }
  },
  "nbformat": 4,
  "nbformat_minor": 0
}