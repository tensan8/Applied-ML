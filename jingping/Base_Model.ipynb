{
  "nbformat": 4,
  "nbformat_minor": 0,
  "metadata": {
    "colab": {
      "provenance": [],
      "collapsed_sections": []
    },
    "kernelspec": {
      "name": "python3",
      "display_name": "Python 3"
    },
    "language_info": {
      "name": "python"
    },
    "accelerator": "GPU",
    "gpuClass": "standard"
  },
  "cells": [
    {
      "cell_type": "code",
      "source": [
        "from matplotlib import image\n",
        "import numpy as np\n",
        "import tensorflow as tf\n",
        "from keras.layers import Dense, Conv2D, MaxPooling2D, Dropout, Flatten\n",
        "from keras.callbacks import ModelCheckpoint, EarlyStopping\n",
        "from keras.models import Sequential, load_model\n",
        "from keras.utils import to_categorical\n",
        "from sklearn.model_selection import train_test_split\n",
        "from keras.metrics import top_k_categorical_accuracy\n",
        "from keras.preprocessing.image import ImageDataGenerator\n",
        "import matplotlib.pyplot as plt\n",
        "from sklearn.preprocessing import LabelEncoder"
      ],
      "metadata": {
        "id": "neIQx6jsHuAu"
      },
      "execution_count": null,
      "outputs": []
    },
    {
      "cell_type": "code",
      "execution_count": null,
      "metadata": {
        "colab": {
          "base_uri": "https://localhost:8080/"
        },
        "id": "Lmso7HEEDWeK",
        "outputId": "703d717b-59e1-4d1a-8fd4-309b5e21afe5"
      },
      "outputs": [
        {
          "output_type": "stream",
          "name": "stdout",
          "text": [
            "Mounted at /content/drive/\n"
          ]
        }
      ],
      "source": [
        "from google.colab import drive\n",
        "drive.mount('/content/drive/')"
      ]
    },
    {
      "cell_type": "code",
      "source": [
        "!unzip drive/MyDrive/AML_project/train.zip > /dev/null\n",
        "!unzip drive/MyDrive/AML_project/test.zip > /dev/null\n",
        "\n",
        "!cp \"/content/drive/MyDrive/AML_project/list/train.txt\" \"train.txt\"\n",
        "!cp \"/content/drive/MyDrive/AML_project/list/groundtruth.txt\" \"groundtruth.txt\""
      ],
      "metadata": {
        "id": "E_KY3hGzWC4-"
      },
      "execution_count": null,
      "outputs": []
    },
    {
      "cell_type": "code",
      "source": [
        "def convert_image_to_numpy(image_paths_arr):\n",
        "  dataset_nparr = list()\n",
        "\n",
        "  for path in image_paths_arr:\n",
        "    image_data = image.imread(path)\n",
        "    image_data = tf.cast(image_data, tf.float32)/255\n",
        "    image_data = tf.image.resize(image_data, (128, 128), method = \"bilinear\")\n",
        "    dataset_nparr.append(image_data)\n",
        "\n",
        "  return np.array(dataset_nparr)"
      ],
      "metadata": {
        "id": "6x0-zQ_rGHra"
      },
      "execution_count": null,
      "outputs": []
    },
    {
      "cell_type": "code",
      "source": [
        "def encode_labels(labels_arr):\n",
        "  label_encoder = LabelEncoder()\n",
        "  return label_encoder.fit_transform(labels_arr)"
      ],
      "metadata": {
        "id": "1qqQNgaVhEls"
      },
      "execution_count": null,
      "outputs": []
    },
    {
      "cell_type": "code",
      "source": [
        "def load_data(text_file):\n",
        "  with open(text_file) as txt_file:\n",
        "    # read the file, with format \"path label\"\n",
        "    # e.g. train/photo/106023/1769.jpg 106023\n",
        "    lines_arr = [line.strip() for line in txt_file.readlines()]\n",
        "\n",
        "    # split the lines to image path and label\n",
        "    image_paths = [line.split(' ')[0] for line in lines_arr]\n",
        "    labels = [line.split(' ')[1] for line in lines_arr]\n",
        "\n",
        "    x_data = convert_image_to_numpy(image_paths)\n",
        "    y_data = encode_labels(labels)\n",
        "\n",
        "    return x_data, y_data"
      ],
      "metadata": {
        "id": "iwqVGlvUhAe5"
      },
      "execution_count": null,
      "outputs": []
    },
    {
      "cell_type": "code",
      "source": [
        "# Load train data\n",
        "x_train, y_train = load_data(\"train.txt\")"
      ],
      "metadata": {
        "id": "oQDlBcv8hc9M"
      },
      "execution_count": null,
      "outputs": []
    },
    {
      "cell_type": "code",
      "source": [
        "# Load test data\n",
        "x_test, y_test = load_data(\"groundtruth.txt\")"
      ],
      "metadata": {
        "id": "BJv0YUgAhoSi"
      },
      "execution_count": null,
      "outputs": []
    },
    {
      "cell_type": "code",
      "source": [
        "# Check data shape\n",
        "print(\"Shapes Checking\")\n",
        "print(\"X-train: \" + str(x_train.shape))\n",
        "print(\"y-train: \" + str(y_train.shape))\n",
        "print(\"X-test: \" + str(x_test.shape))\n",
        "print(\"y-test: \" + str(y_test.shape))"
      ],
      "metadata": {
        "colab": {
          "base_uri": "https://localhost:8080/"
        },
        "id": "N-E_rU9zifan",
        "outputId": "2dc3a674-3503-49b3-9e00-cabb2dfbba21"
      },
      "execution_count": null,
      "outputs": [
        {
          "output_type": "stream",
          "name": "stdout",
          "text": [
            "Shapes Checking\n",
            "X-train: (4744, 128, 128, 3)\n",
            "y-train: (4744,)\n",
            "X-test: (207, 128, 128, 3)\n",
            "y-test: (207,)\n"
          ]
        }
      ]
    },
    {
      "cell_type": "code",
      "source": [
        "# Normalize and reshape the data\n",
        "nRows,nCols,nDims = x_train.shape[1:]\n",
        "x_train = x_train.reshape(x_train.shape[0], nRows, nCols, nDims)\n",
        "input_shape = (nRows, nCols, nDims)\n",
        "\n",
        "nRows,nCols,nDims = x_test.shape[1:]\n",
        "x_test = x_test.reshape(x_test.shape[0], nRows, nCols, nDims)\n",
        "\n",
        "print(\"Reshape Checking\")\n",
        "print(\"X-train: \" + str(x_train.shape))\n",
        "print(\"X-test: \" + str(x_test.shape))"
      ],
      "metadata": {
        "colab": {
          "base_uri": "https://localhost:8080/"
        },
        "id": "UHv1QFa96EEx",
        "outputId": "6d211400-a2eb-47a9-8b72-ff32247cfe7d"
      },
      "execution_count": null,
      "outputs": [
        {
          "output_type": "stream",
          "name": "stdout",
          "text": [
            "Reshape Checking\n",
            "X-train: (4744, 128, 128, 3)\n",
            "X-test: (207, 128, 128, 3)\n"
          ]
        }
      ]
    },
    {
      "cell_type": "code",
      "source": [
        "X_train = x_train/225.0\n",
        "Y_train = to_categorical(y_train)\n",
        "classes = np.unique(y_train)\n",
        "nClasses = len(classes)\n",
        "\n",
        "X_test = x_test/225.0\n",
        "Y_test = to_categorical(y_test)"
      ],
      "metadata": {
        "id": "Uhk_WlqG6zWM"
      },
      "execution_count": null,
      "outputs": []
    },
    {
      "cell_type": "code",
      "source": [
        "# Image data generator (data augmentation)\n",
        "datagen = ImageDataGenerator(horizontal_flip=True,\n",
        "                            rotation_range=45,\n",
        "                            zoom_range=0.8,\n",
        "                            vertical_flip=True)\n",
        "\n",
        "datagen.fit(x_train)"
      ],
      "metadata": {
        "id": "PDwngO36AbNe"
      },
      "execution_count": null,
      "outputs": []
    },
    {
      "cell_type": "code",
      "source": [
        "# Create Model\n",
        "def createModel():\n",
        "    model = Sequential()\n",
        "    model.add(Conv2D(64, (3, 3), padding = \"same\", activation='relu', input_shape=input_shape))\n",
        "    model.add(Conv2D(32, (3, 3), activation='relu'))\n",
        "    model.add(MaxPooling2D(pool_size=(2, 2)))\n",
        " \n",
        "    model.add(Conv2D(16, (3, 3), activation='relu'))\n",
        "    model.add(MaxPooling2D(pool_size=(2, 2)))\n",
        "    model.add(Dropout(0.2))\n",
        "\n",
        "    model.add(Flatten())\n",
        "    model.add(Dense(512, activation='relu'))\n",
        "    model.add(Dropout(0.25))\n",
        "    model.add(Dense(nClasses, activation='sigmoid'))\n",
        "    \n",
        "    return model"
      ],
      "metadata": {
        "id": "Nbk1SklG68u-"
      },
      "execution_count": null,
      "outputs": []
    },
    {
      "cell_type": "code",
      "source": [
        "# Call Create Model\n",
        "cnn_model = createModel()\n",
        "\n",
        "# Show model summary\n",
        "cnn_model.summary()"
      ],
      "metadata": {
        "colab": {
          "base_uri": "https://localhost:8080/"
        },
        "id": "DTu8tO5O70QZ",
        "outputId": "906494c7-37af-40e2-d8a6-b7b3484c869b"
      },
      "execution_count": null,
      "outputs": [
        {
          "output_type": "stream",
          "name": "stdout",
          "text": [
            "Model: \"sequential_6\"\n",
            "_________________________________________________________________\n",
            " Layer (type)                Output Shape              Param #   \n",
            "=================================================================\n",
            " conv2d_34 (Conv2D)          (None, 128, 128, 64)      1792      \n",
            "                                                                 \n",
            " conv2d_35 (Conv2D)          (None, 126, 126, 32)      18464     \n",
            "                                                                 \n",
            " max_pooling2d_18 (MaxPoolin  (None, 63, 63, 32)       0         \n",
            " g2D)                                                            \n",
            "                                                                 \n",
            " conv2d_36 (Conv2D)          (None, 61, 61, 16)        4624      \n",
            "                                                                 \n",
            " max_pooling2d_19 (MaxPoolin  (None, 30, 30, 16)       0         \n",
            " g2D)                                                            \n",
            "                                                                 \n",
            " dropout_11 (Dropout)        (None, 30, 30, 16)        0         \n",
            "                                                                 \n",
            " flatten_6 (Flatten)         (None, 14400)             0         \n",
            "                                                                 \n",
            " dense_12 (Dense)            (None, 512)               7373312   \n",
            "                                                                 \n",
            " dropout_12 (Dropout)        (None, 512)               0         \n",
            "                                                                 \n",
            " dense_13 (Dense)            (None, 100)               51300     \n",
            "                                                                 \n",
            "=================================================================\n",
            "Total params: 7,449,492\n",
            "Trainable params: 7,449,492\n",
            "Non-trainable params: 0\n",
            "_________________________________________________________________\n"
          ]
        }
      ]
    },
    {
      "cell_type": "code",
      "source": [
        "def top_5_categorical_accuracy(y_true, y_pred):\n",
        "    return top_k_categorical_accuracy (y_true, y_pred, k=5)"
      ],
      "metadata": {
        "id": "LH4zlZBR9WeS"
      },
      "execution_count": null,
      "outputs": []
    },
    {
      "cell_type": "code",
      "source": [
        "# Compile and fit Adam model\n",
        "checkpoint = ModelCheckpoint(\"vgg16_1.h5\", monitor='val_accuracy', verbose=1, save_best_only=True, save_weights_only=False, mode='auto', save_freq= 'epoch')\n",
        "early = EarlyStopping(monitor='val_accuracy', min_delta=0, patience=50, verbose=1, mode='auto')\n",
        "optimizer = tf.keras.optimizers.Adam(learning_rate = 0.0001)\n",
        "cnn_model.compile(optimizer=optimizer, loss='categorical_crossentropy', metrics=['accuracy', top_5_categorical_accuracy])\n",
        "batch_size = 32\n",
        "steps_per_epoch = int( np.ceil(x_train.shape[0] / batch_size) )\n",
        "initial_epochs = 100\n",
        "history = cnn_model.fit(datagen.flow(X_train, Y_train), batch_size=batch_size, steps_per_epoch = steps_per_epoch,\n",
        "              epochs=initial_epochs, verbose=1, validation_data= (X_test, Y_test), callbacks = [early, checkpoint])"
      ],
      "metadata": {
        "colab": {
          "base_uri": "https://localhost:8080/"
        },
        "id": "HHD18BjX81sx",
        "outputId": "24af6c61-b900-46e1-ec1a-8e0e84f4f54a"
      },
      "execution_count": null,
      "outputs": [
        {
          "output_type": "stream",
          "name": "stdout",
          "text": [
            "Epoch 1/100\n",
            "149/149 [==============================] - ETA: 0s - loss: 4.6052 - accuracy: 0.0091 - top_5_categorical_accuracy: 0.0468\n",
            "Epoch 1: val_accuracy improved from -inf to 0.01449, saving model to vgg16_1.h5\n",
            "149/149 [==============================] - 19s 124ms/step - loss: 4.6052 - accuracy: 0.0091 - top_5_categorical_accuracy: 0.0468 - val_loss: 4.6052 - val_accuracy: 0.0145 - val_top_5_categorical_accuracy: 0.0676\n",
            "Epoch 2/100\n",
            "149/149 [==============================] - ETA: 0s - loss: 4.6038 - accuracy: 0.0105 - top_5_categorical_accuracy: 0.0457\n",
            "Epoch 2: val_accuracy did not improve from 0.01449\n",
            "149/149 [==============================] - 18s 119ms/step - loss: 4.6038 - accuracy: 0.0105 - top_5_categorical_accuracy: 0.0457 - val_loss: 4.6070 - val_accuracy: 0.0048 - val_top_5_categorical_accuracy: 0.0483\n",
            "Epoch 3/100\n",
            "149/149 [==============================] - ETA: 0s - loss: 4.5999 - accuracy: 0.0101 - top_5_categorical_accuracy: 0.0493\n",
            "Epoch 3: val_accuracy did not improve from 0.01449\n",
            "149/149 [==============================] - 18s 119ms/step - loss: 4.5999 - accuracy: 0.0101 - top_5_categorical_accuracy: 0.0493 - val_loss: 4.6044 - val_accuracy: 0.0145 - val_top_5_categorical_accuracy: 0.0628\n",
            "Epoch 4/100\n",
            "149/149 [==============================] - ETA: 0s - loss: 4.5872 - accuracy: 0.0148 - top_5_categorical_accuracy: 0.0624\n",
            "Epoch 4: val_accuracy improved from 0.01449 to 0.02415, saving model to vgg16_1.h5\n",
            "149/149 [==============================] - 18s 122ms/step - loss: 4.5872 - accuracy: 0.0148 - top_5_categorical_accuracy: 0.0624 - val_loss: 4.5905 - val_accuracy: 0.0242 - val_top_5_categorical_accuracy: 0.0773\n",
            "Epoch 5/100\n",
            "149/149 [==============================] - ETA: 0s - loss: 4.5402 - accuracy: 0.0190 - top_5_categorical_accuracy: 0.0826\n",
            "Epoch 5: val_accuracy did not improve from 0.02415\n",
            "149/149 [==============================] - 18s 121ms/step - loss: 4.5402 - accuracy: 0.0190 - top_5_categorical_accuracy: 0.0826 - val_loss: 4.6360 - val_accuracy: 0.0145 - val_top_5_categorical_accuracy: 0.0676\n",
            "Epoch 6/100\n",
            "149/149 [==============================] - ETA: 0s - loss: 4.4890 - accuracy: 0.0181 - top_5_categorical_accuracy: 0.0858\n",
            "Epoch 6: val_accuracy did not improve from 0.02415\n",
            "149/149 [==============================] - 18s 121ms/step - loss: 4.4890 - accuracy: 0.0181 - top_5_categorical_accuracy: 0.0858 - val_loss: 4.6575 - val_accuracy: 0.0048 - val_top_5_categorical_accuracy: 0.0676\n",
            "Epoch 7/100\n",
            "149/149 [==============================] - ETA: 0s - loss: 4.4575 - accuracy: 0.0240 - top_5_categorical_accuracy: 0.0999\n",
            "Epoch 7: val_accuracy did not improve from 0.02415\n",
            "149/149 [==============================] - 18s 121ms/step - loss: 4.4575 - accuracy: 0.0240 - top_5_categorical_accuracy: 0.0999 - val_loss: 4.7954 - val_accuracy: 0.0145 - val_top_5_categorical_accuracy: 0.0773\n",
            "Epoch 8/100\n",
            "149/149 [==============================] - ETA: 0s - loss: 4.4447 - accuracy: 0.0257 - top_5_categorical_accuracy: 0.1079\n",
            "Epoch 8: val_accuracy did not improve from 0.02415\n",
            "149/149 [==============================] - 18s 120ms/step - loss: 4.4447 - accuracy: 0.0257 - top_5_categorical_accuracy: 0.1079 - val_loss: 4.7556 - val_accuracy: 0.0145 - val_top_5_categorical_accuracy: 0.0580\n",
            "Epoch 9/100\n",
            "149/149 [==============================] - ETA: 0s - loss: 4.4171 - accuracy: 0.0242 - top_5_categorical_accuracy: 0.1134\n",
            "Epoch 9: val_accuracy did not improve from 0.02415\n",
            "149/149 [==============================] - 18s 122ms/step - loss: 4.4171 - accuracy: 0.0242 - top_5_categorical_accuracy: 0.1134 - val_loss: 4.7777 - val_accuracy: 0.0145 - val_top_5_categorical_accuracy: 0.0725\n",
            "Epoch 10/100\n",
            "149/149 [==============================] - ETA: 0s - loss: 4.4040 - accuracy: 0.0259 - top_5_categorical_accuracy: 0.1183\n",
            "Epoch 10: val_accuracy did not improve from 0.02415\n",
            "149/149 [==============================] - 18s 121ms/step - loss: 4.4040 - accuracy: 0.0259 - top_5_categorical_accuracy: 0.1183 - val_loss: 4.9198 - val_accuracy: 0.0145 - val_top_5_categorical_accuracy: 0.0580\n",
            "Epoch 11/100\n",
            "149/149 [==============================] - ETA: 0s - loss: 4.3791 - accuracy: 0.0312 - top_5_categorical_accuracy: 0.1242\n",
            "Epoch 11: val_accuracy did not improve from 0.02415\n",
            "149/149 [==============================] - 18s 121ms/step - loss: 4.3791 - accuracy: 0.0312 - top_5_categorical_accuracy: 0.1242 - val_loss: 4.9518 - val_accuracy: 0.0048 - val_top_5_categorical_accuracy: 0.0821\n",
            "Epoch 12/100\n",
            "149/149 [==============================] - ETA: 0s - loss: 4.3687 - accuracy: 0.0339 - top_5_categorical_accuracy: 0.1280\n",
            "Epoch 12: val_accuracy did not improve from 0.02415\n",
            "149/149 [==============================] - 19s 129ms/step - loss: 4.3687 - accuracy: 0.0339 - top_5_categorical_accuracy: 0.1280 - val_loss: 4.9524 - val_accuracy: 0.0145 - val_top_5_categorical_accuracy: 0.0725\n",
            "Epoch 13/100\n",
            "149/149 [==============================] - ETA: 0s - loss: 4.3565 - accuracy: 0.0350 - top_5_categorical_accuracy: 0.1305\n",
            "Epoch 13: val_accuracy did not improve from 0.02415\n",
            "149/149 [==============================] - 18s 121ms/step - loss: 4.3565 - accuracy: 0.0350 - top_5_categorical_accuracy: 0.1305 - val_loss: 4.9534 - val_accuracy: 0.0193 - val_top_5_categorical_accuracy: 0.0773\n",
            "Epoch 14/100\n",
            "149/149 [==============================] - ETA: 0s - loss: 4.3467 - accuracy: 0.0346 - top_5_categorical_accuracy: 0.1343\n",
            "Epoch 14: val_accuracy did not improve from 0.02415\n",
            "149/149 [==============================] - 18s 121ms/step - loss: 4.3467 - accuracy: 0.0346 - top_5_categorical_accuracy: 0.1343 - val_loss: 5.0454 - val_accuracy: 0.0145 - val_top_5_categorical_accuracy: 0.0773\n",
            "Epoch 15/100\n",
            "149/149 [==============================] - ETA: 0s - loss: 4.3365 - accuracy: 0.0363 - top_5_categorical_accuracy: 0.1446\n",
            "Epoch 15: val_accuracy did not improve from 0.02415\n",
            "149/149 [==============================] - 18s 120ms/step - loss: 4.3365 - accuracy: 0.0363 - top_5_categorical_accuracy: 0.1446 - val_loss: 4.9945 - val_accuracy: 0.0193 - val_top_5_categorical_accuracy: 0.0773\n",
            "Epoch 16/100\n",
            "149/149 [==============================] - ETA: 0s - loss: 4.3204 - accuracy: 0.0428 - top_5_categorical_accuracy: 0.1575\n",
            "Epoch 16: val_accuracy did not improve from 0.02415\n",
            "149/149 [==============================] - 18s 121ms/step - loss: 4.3204 - accuracy: 0.0428 - top_5_categorical_accuracy: 0.1575 - val_loss: 4.9956 - val_accuracy: 0.0242 - val_top_5_categorical_accuracy: 0.0773\n",
            "Epoch 17/100\n",
            "149/149 [==============================] - ETA: 0s - loss: 4.3050 - accuracy: 0.0375 - top_5_categorical_accuracy: 0.1522\n",
            "Epoch 17: val_accuracy improved from 0.02415 to 0.02899, saving model to vgg16_1.h5\n",
            "149/149 [==============================] - 18s 122ms/step - loss: 4.3050 - accuracy: 0.0375 - top_5_categorical_accuracy: 0.1522 - val_loss: 5.0344 - val_accuracy: 0.0290 - val_top_5_categorical_accuracy: 0.1063\n",
            "Epoch 18/100\n",
            "149/149 [==============================] - ETA: 0s - loss: 4.2883 - accuracy: 0.0388 - top_5_categorical_accuracy: 0.1573\n",
            "Epoch 18: val_accuracy did not improve from 0.02899\n",
            "149/149 [==============================] - 18s 121ms/step - loss: 4.2883 - accuracy: 0.0388 - top_5_categorical_accuracy: 0.1573 - val_loss: 5.0470 - val_accuracy: 0.0193 - val_top_5_categorical_accuracy: 0.0966\n",
            "Epoch 19/100\n",
            "149/149 [==============================] - ETA: 0s - loss: 4.2783 - accuracy: 0.0445 - top_5_categorical_accuracy: 0.1707\n",
            "Epoch 19: val_accuracy did not improve from 0.02899\n",
            "149/149 [==============================] - 18s 121ms/step - loss: 4.2783 - accuracy: 0.0445 - top_5_categorical_accuracy: 0.1707 - val_loss: 5.1409 - val_accuracy: 0.0145 - val_top_5_categorical_accuracy: 0.0821\n",
            "Epoch 20/100\n",
            "149/149 [==============================] - ETA: 0s - loss: 4.2609 - accuracy: 0.0428 - top_5_categorical_accuracy: 0.1802\n",
            "Epoch 20: val_accuracy did not improve from 0.02899\n",
            "149/149 [==============================] - 18s 120ms/step - loss: 4.2609 - accuracy: 0.0428 - top_5_categorical_accuracy: 0.1802 - val_loss: 5.1266 - val_accuracy: 0.0290 - val_top_5_categorical_accuracy: 0.0870\n",
            "Epoch 21/100\n",
            "149/149 [==============================] - ETA: 0s - loss: 4.2618 - accuracy: 0.0478 - top_5_categorical_accuracy: 0.1701\n",
            "Epoch 21: val_accuracy did not improve from 0.02899\n",
            "149/149 [==============================] - 18s 121ms/step - loss: 4.2618 - accuracy: 0.0478 - top_5_categorical_accuracy: 0.1701 - val_loss: 5.1333 - val_accuracy: 0.0145 - val_top_5_categorical_accuracy: 0.0918\n",
            "Epoch 22/100\n",
            "149/149 [==============================] - ETA: 0s - loss: 4.2477 - accuracy: 0.0495 - top_5_categorical_accuracy: 0.1773\n",
            "Epoch 22: val_accuracy did not improve from 0.02899\n",
            "149/149 [==============================] - 18s 120ms/step - loss: 4.2477 - accuracy: 0.0495 - top_5_categorical_accuracy: 0.1773 - val_loss: 5.0992 - val_accuracy: 0.0242 - val_top_5_categorical_accuracy: 0.0821\n",
            "Epoch 23/100\n",
            "149/149 [==============================] - ETA: 0s - loss: 4.2389 - accuracy: 0.0523 - top_5_categorical_accuracy: 0.1773\n",
            "Epoch 23: val_accuracy did not improve from 0.02899\n",
            "149/149 [==============================] - 18s 122ms/step - loss: 4.2389 - accuracy: 0.0523 - top_5_categorical_accuracy: 0.1773 - val_loss: 5.2672 - val_accuracy: 0.0242 - val_top_5_categorical_accuracy: 0.1159\n",
            "Epoch 24/100\n",
            "149/149 [==============================] - ETA: 0s - loss: 4.2270 - accuracy: 0.0462 - top_5_categorical_accuracy: 0.1806\n",
            "Epoch 24: val_accuracy did not improve from 0.02899\n",
            "149/149 [==============================] - 19s 130ms/step - loss: 4.2270 - accuracy: 0.0462 - top_5_categorical_accuracy: 0.1806 - val_loss: 5.1580 - val_accuracy: 0.0193 - val_top_5_categorical_accuracy: 0.0966\n",
            "Epoch 25/100\n",
            "149/149 [==============================] - ETA: 0s - loss: 4.2150 - accuracy: 0.0462 - top_5_categorical_accuracy: 0.1802\n",
            "Epoch 25: val_accuracy did not improve from 0.02899\n",
            "149/149 [==============================] - 18s 121ms/step - loss: 4.2150 - accuracy: 0.0462 - top_5_categorical_accuracy: 0.1802 - val_loss: 5.2310 - val_accuracy: 0.0242 - val_top_5_categorical_accuracy: 0.0870\n",
            "Epoch 26/100\n",
            "149/149 [==============================] - ETA: 0s - loss: 4.2093 - accuracy: 0.0502 - top_5_categorical_accuracy: 0.1859\n",
            "Epoch 26: val_accuracy did not improve from 0.02899\n",
            "149/149 [==============================] - 18s 121ms/step - loss: 4.2093 - accuracy: 0.0502 - top_5_categorical_accuracy: 0.1859 - val_loss: 5.1713 - val_accuracy: 0.0242 - val_top_5_categorical_accuracy: 0.0918\n",
            "Epoch 27/100\n",
            "149/149 [==============================] - ETA: 0s - loss: 4.2088 - accuracy: 0.0485 - top_5_categorical_accuracy: 0.1838\n",
            "Epoch 27: val_accuracy did not improve from 0.02899\n",
            "149/149 [==============================] - 18s 121ms/step - loss: 4.2088 - accuracy: 0.0485 - top_5_categorical_accuracy: 0.1838 - val_loss: 5.2978 - val_accuracy: 0.0145 - val_top_5_categorical_accuracy: 0.0966\n",
            "Epoch 28/100\n",
            "149/149 [==============================] - ETA: 0s - loss: 4.1971 - accuracy: 0.0495 - top_5_categorical_accuracy: 0.1889\n",
            "Epoch 28: val_accuracy did not improve from 0.02899\n",
            "149/149 [==============================] - 18s 122ms/step - loss: 4.1971 - accuracy: 0.0495 - top_5_categorical_accuracy: 0.1889 - val_loss: 5.2234 - val_accuracy: 0.0145 - val_top_5_categorical_accuracy: 0.1208\n",
            "Epoch 29/100\n",
            "149/149 [==============================] - ETA: 0s - loss: 4.1857 - accuracy: 0.0500 - top_5_categorical_accuracy: 0.2011\n",
            "Epoch 29: val_accuracy did not improve from 0.02899\n",
            "149/149 [==============================] - 18s 120ms/step - loss: 4.1857 - accuracy: 0.0500 - top_5_categorical_accuracy: 0.2011 - val_loss: 5.3021 - val_accuracy: 0.0193 - val_top_5_categorical_accuracy: 0.0966\n",
            "Epoch 30/100\n",
            "149/149 [==============================] - ETA: 0s - loss: 4.1783 - accuracy: 0.0502 - top_5_categorical_accuracy: 0.1861\n",
            "Epoch 30: val_accuracy did not improve from 0.02899\n",
            "149/149 [==============================] - 18s 121ms/step - loss: 4.1783 - accuracy: 0.0502 - top_5_categorical_accuracy: 0.1861 - val_loss: 5.2692 - val_accuracy: 0.0242 - val_top_5_categorical_accuracy: 0.1014\n",
            "Epoch 31/100\n",
            "149/149 [==============================] - ETA: 0s - loss: 4.1636 - accuracy: 0.0586 - top_5_categorical_accuracy: 0.1988\n",
            "Epoch 31: val_accuracy did not improve from 0.02899\n",
            "149/149 [==============================] - 18s 121ms/step - loss: 4.1636 - accuracy: 0.0586 - top_5_categorical_accuracy: 0.1988 - val_loss: 5.3809 - val_accuracy: 0.0242 - val_top_5_categorical_accuracy: 0.1014\n",
            "Epoch 32/100\n",
            "149/149 [==============================] - ETA: 0s - loss: 4.1659 - accuracy: 0.0624 - top_5_categorical_accuracy: 0.1946\n",
            "Epoch 32: val_accuracy did not improve from 0.02899\n",
            "149/149 [==============================] - 18s 121ms/step - loss: 4.1659 - accuracy: 0.0624 - top_5_categorical_accuracy: 0.1946 - val_loss: 5.2839 - val_accuracy: 0.0193 - val_top_5_categorical_accuracy: 0.0870\n",
            "Epoch 33/100\n",
            "149/149 [==============================] - ETA: 0s - loss: 4.1680 - accuracy: 0.0592 - top_5_categorical_accuracy: 0.2047\n",
            "Epoch 33: val_accuracy did not improve from 0.02899\n",
            "149/149 [==============================] - 18s 121ms/step - loss: 4.1680 - accuracy: 0.0592 - top_5_categorical_accuracy: 0.2047 - val_loss: 5.2575 - val_accuracy: 0.0193 - val_top_5_categorical_accuracy: 0.0966\n",
            "Epoch 34/100\n",
            "149/149 [==============================] - ETA: 0s - loss: 4.1527 - accuracy: 0.0544 - top_5_categorical_accuracy: 0.2036\n",
            "Epoch 34: val_accuracy did not improve from 0.02899\n",
            "149/149 [==============================] - 18s 120ms/step - loss: 4.1527 - accuracy: 0.0544 - top_5_categorical_accuracy: 0.2036 - val_loss: 5.3093 - val_accuracy: 0.0193 - val_top_5_categorical_accuracy: 0.1208\n",
            "Epoch 35/100\n",
            "149/149 [==============================] - ETA: 0s - loss: 4.1605 - accuracy: 0.0580 - top_5_categorical_accuracy: 0.2022\n",
            "Epoch 35: val_accuracy did not improve from 0.02899\n",
            "149/149 [==============================] - 18s 121ms/step - loss: 4.1605 - accuracy: 0.0580 - top_5_categorical_accuracy: 0.2022 - val_loss: 5.3376 - val_accuracy: 0.0193 - val_top_5_categorical_accuracy: 0.1111\n",
            "Epoch 36/100\n",
            "149/149 [==============================] - ETA: 0s - loss: 4.1510 - accuracy: 0.0550 - top_5_categorical_accuracy: 0.2013\n",
            "Epoch 36: val_accuracy did not improve from 0.02899\n",
            "149/149 [==============================] - 19s 131ms/step - loss: 4.1510 - accuracy: 0.0550 - top_5_categorical_accuracy: 0.2013 - val_loss: 5.3208 - val_accuracy: 0.0242 - val_top_5_categorical_accuracy: 0.1159\n",
            "Epoch 37/100\n",
            "149/149 [==============================] - ETA: 0s - loss: 4.1387 - accuracy: 0.0573 - top_5_categorical_accuracy: 0.2083\n",
            "Epoch 37: val_accuracy did not improve from 0.02899\n",
            "149/149 [==============================] - 18s 122ms/step - loss: 4.1387 - accuracy: 0.0573 - top_5_categorical_accuracy: 0.2083 - val_loss: 5.3566 - val_accuracy: 0.0193 - val_top_5_categorical_accuracy: 0.1159\n",
            "Epoch 38/100\n",
            "149/149 [==============================] - ETA: 0s - loss: 4.1423 - accuracy: 0.0554 - top_5_categorical_accuracy: 0.2085\n",
            "Epoch 38: val_accuracy did not improve from 0.02899\n",
            "149/149 [==============================] - 18s 122ms/step - loss: 4.1423 - accuracy: 0.0554 - top_5_categorical_accuracy: 0.2085 - val_loss: 5.2625 - val_accuracy: 0.0242 - val_top_5_categorical_accuracy: 0.1208\n",
            "Epoch 39/100\n",
            "149/149 [==============================] - ETA: 0s - loss: 4.1339 - accuracy: 0.0563 - top_5_categorical_accuracy: 0.2078\n",
            "Epoch 39: val_accuracy did not improve from 0.02899\n",
            "149/149 [==============================] - 18s 121ms/step - loss: 4.1339 - accuracy: 0.0563 - top_5_categorical_accuracy: 0.2078 - val_loss: 5.3522 - val_accuracy: 0.0290 - val_top_5_categorical_accuracy: 0.1111\n",
            "Epoch 40/100\n",
            "149/149 [==============================] - ETA: 0s - loss: 4.1246 - accuracy: 0.0552 - top_5_categorical_accuracy: 0.2207\n",
            "Epoch 40: val_accuracy did not improve from 0.02899\n",
            "149/149 [==============================] - 18s 122ms/step - loss: 4.1246 - accuracy: 0.0552 - top_5_categorical_accuracy: 0.2207 - val_loss: 5.3026 - val_accuracy: 0.0193 - val_top_5_categorical_accuracy: 0.1208\n",
            "Epoch 41/100\n",
            "149/149 [==============================] - ETA: 0s - loss: 4.1271 - accuracy: 0.0582 - top_5_categorical_accuracy: 0.2108\n",
            "Epoch 41: val_accuracy did not improve from 0.02899\n",
            "149/149 [==============================] - 18s 122ms/step - loss: 4.1271 - accuracy: 0.0582 - top_5_categorical_accuracy: 0.2108 - val_loss: 5.3536 - val_accuracy: 0.0145 - val_top_5_categorical_accuracy: 0.1304\n",
            "Epoch 42/100\n",
            "149/149 [==============================] - ETA: 0s - loss: 4.1345 - accuracy: 0.0590 - top_5_categorical_accuracy: 0.2142\n",
            "Epoch 42: val_accuracy improved from 0.02899 to 0.03865, saving model to vgg16_1.h5\n",
            "149/149 [==============================] - 18s 123ms/step - loss: 4.1345 - accuracy: 0.0590 - top_5_categorical_accuracy: 0.2142 - val_loss: 5.3618 - val_accuracy: 0.0386 - val_top_5_categorical_accuracy: 0.1208\n",
            "Epoch 43/100\n",
            "149/149 [==============================] - ETA: 0s - loss: 4.0957 - accuracy: 0.0651 - top_5_categorical_accuracy: 0.2220\n",
            "Epoch 43: val_accuracy did not improve from 0.03865\n",
            "149/149 [==============================] - 18s 121ms/step - loss: 4.0957 - accuracy: 0.0651 - top_5_categorical_accuracy: 0.2220 - val_loss: 5.3538 - val_accuracy: 0.0097 - val_top_5_categorical_accuracy: 0.1256\n",
            "Epoch 44/100\n",
            "149/149 [==============================] - ETA: 0s - loss: 4.1064 - accuracy: 0.0578 - top_5_categorical_accuracy: 0.2133\n",
            "Epoch 44: val_accuracy did not improve from 0.03865\n",
            "149/149 [==============================] - 18s 121ms/step - loss: 4.1064 - accuracy: 0.0578 - top_5_categorical_accuracy: 0.2133 - val_loss: 5.3694 - val_accuracy: 0.0338 - val_top_5_categorical_accuracy: 0.1208\n",
            "Epoch 45/100\n",
            "149/149 [==============================] - ETA: 0s - loss: 4.1084 - accuracy: 0.0645 - top_5_categorical_accuracy: 0.2203\n",
            "Epoch 45: val_accuracy did not improve from 0.03865\n",
            "149/149 [==============================] - 18s 122ms/step - loss: 4.1084 - accuracy: 0.0645 - top_5_categorical_accuracy: 0.2203 - val_loss: 5.2968 - val_accuracy: 0.0290 - val_top_5_categorical_accuracy: 0.1159\n",
            "Epoch 46/100\n",
            "149/149 [==============================] - ETA: 0s - loss: 4.0958 - accuracy: 0.0622 - top_5_categorical_accuracy: 0.2262\n",
            "Epoch 46: val_accuracy did not improve from 0.03865\n",
            "149/149 [==============================] - 18s 121ms/step - loss: 4.0958 - accuracy: 0.0622 - top_5_categorical_accuracy: 0.2262 - val_loss: 5.2883 - val_accuracy: 0.0242 - val_top_5_categorical_accuracy: 0.1498\n",
            "Epoch 47/100\n",
            "149/149 [==============================] - ETA: 0s - loss: 4.1003 - accuracy: 0.0607 - top_5_categorical_accuracy: 0.2156\n",
            "Epoch 47: val_accuracy did not improve from 0.03865\n",
            "149/149 [==============================] - 18s 121ms/step - loss: 4.1003 - accuracy: 0.0607 - top_5_categorical_accuracy: 0.2156 - val_loss: 5.3812 - val_accuracy: 0.0290 - val_top_5_categorical_accuracy: 0.1111\n",
            "Epoch 48/100\n",
            "149/149 [==============================] - ETA: 0s - loss: 4.0992 - accuracy: 0.0643 - top_5_categorical_accuracy: 0.2180\n",
            "Epoch 48: val_accuracy did not improve from 0.03865\n",
            "149/149 [==============================] - 19s 130ms/step - loss: 4.0992 - accuracy: 0.0643 - top_5_categorical_accuracy: 0.2180 - val_loss: 5.4046 - val_accuracy: 0.0386 - val_top_5_categorical_accuracy: 0.1304\n",
            "Epoch 49/100\n",
            "148/149 [============================>.] - ETA: 0s - loss: 4.0840 - accuracy: 0.0612 - top_5_categorical_accuracy: 0.2171\n",
            "Epoch 49: val_accuracy did not improve from 0.03865\n",
            "149/149 [==============================] - 18s 122ms/step - loss: 4.0849 - accuracy: 0.0611 - top_5_categorical_accuracy: 0.2169 - val_loss: 5.3743 - val_accuracy: 0.0290 - val_top_5_categorical_accuracy: 0.1256\n",
            "Epoch 50/100\n",
            "149/149 [==============================] - ETA: 0s - loss: 4.0848 - accuracy: 0.0613 - top_5_categorical_accuracy: 0.2215\n",
            "Epoch 50: val_accuracy did not improve from 0.03865\n",
            "149/149 [==============================] - 18s 121ms/step - loss: 4.0848 - accuracy: 0.0613 - top_5_categorical_accuracy: 0.2215 - val_loss: 5.3377 - val_accuracy: 0.0242 - val_top_5_categorical_accuracy: 0.1449\n",
            "Epoch 51/100\n",
            "149/149 [==============================] - ETA: 0s - loss: 4.0784 - accuracy: 0.0666 - top_5_categorical_accuracy: 0.2291\n",
            "Epoch 51: val_accuracy did not improve from 0.03865\n",
            "149/149 [==============================] - 18s 121ms/step - loss: 4.0784 - accuracy: 0.0666 - top_5_categorical_accuracy: 0.2291 - val_loss: 5.3543 - val_accuracy: 0.0290 - val_top_5_categorical_accuracy: 0.1304\n",
            "Epoch 52/100\n",
            "149/149 [==============================] - ETA: 0s - loss: 4.0612 - accuracy: 0.0742 - top_5_categorical_accuracy: 0.2289\n",
            "Epoch 52: val_accuracy did not improve from 0.03865\n",
            "149/149 [==============================] - 18s 122ms/step - loss: 4.0612 - accuracy: 0.0742 - top_5_categorical_accuracy: 0.2289 - val_loss: 5.4136 - val_accuracy: 0.0386 - val_top_5_categorical_accuracy: 0.1111\n",
            "Epoch 53/100\n",
            "149/149 [==============================] - ETA: 0s - loss: 4.0522 - accuracy: 0.0689 - top_5_categorical_accuracy: 0.2340\n",
            "Epoch 53: val_accuracy did not improve from 0.03865\n",
            "149/149 [==============================] - 18s 122ms/step - loss: 4.0522 - accuracy: 0.0689 - top_5_categorical_accuracy: 0.2340 - val_loss: 5.4062 - val_accuracy: 0.0242 - val_top_5_categorical_accuracy: 0.1401\n",
            "Epoch 54/100\n",
            "149/149 [==============================] - ETA: 0s - loss: 4.0683 - accuracy: 0.0643 - top_5_categorical_accuracy: 0.2262\n",
            "Epoch 54: val_accuracy did not improve from 0.03865\n",
            "149/149 [==============================] - 18s 122ms/step - loss: 4.0683 - accuracy: 0.0643 - top_5_categorical_accuracy: 0.2262 - val_loss: 5.4188 - val_accuracy: 0.0338 - val_top_5_categorical_accuracy: 0.1353\n",
            "Epoch 55/100\n",
            "149/149 [==============================] - ETA: 0s - loss: 4.0588 - accuracy: 0.0660 - top_5_categorical_accuracy: 0.2312\n",
            "Epoch 55: val_accuracy did not improve from 0.03865\n",
            "149/149 [==============================] - 18s 121ms/step - loss: 4.0588 - accuracy: 0.0660 - top_5_categorical_accuracy: 0.2312 - val_loss: 5.4677 - val_accuracy: 0.0193 - val_top_5_categorical_accuracy: 0.1449\n",
            "Epoch 56/100\n",
            "149/149 [==============================] - ETA: 0s - loss: 4.0563 - accuracy: 0.0675 - top_5_categorical_accuracy: 0.2359\n",
            "Epoch 56: val_accuracy did not improve from 0.03865\n",
            "149/149 [==============================] - 18s 122ms/step - loss: 4.0563 - accuracy: 0.0675 - top_5_categorical_accuracy: 0.2359 - val_loss: 5.3062 - val_accuracy: 0.0290 - val_top_5_categorical_accuracy: 0.1353\n",
            "Epoch 57/100\n",
            "149/149 [==============================] - ETA: 0s - loss: 4.0454 - accuracy: 0.0694 - top_5_categorical_accuracy: 0.2468\n",
            "Epoch 57: val_accuracy did not improve from 0.03865\n",
            "149/149 [==============================] - 18s 122ms/step - loss: 4.0454 - accuracy: 0.0694 - top_5_categorical_accuracy: 0.2468 - val_loss: 5.3064 - val_accuracy: 0.0193 - val_top_5_categorical_accuracy: 0.1353\n",
            "Epoch 58/100\n",
            "149/149 [==============================] - ETA: 0s - loss: 4.0312 - accuracy: 0.0691 - top_5_categorical_accuracy: 0.2378\n",
            "Epoch 58: val_accuracy did not improve from 0.03865\n",
            "149/149 [==============================] - 18s 122ms/step - loss: 4.0312 - accuracy: 0.0691 - top_5_categorical_accuracy: 0.2378 - val_loss: 5.5381 - val_accuracy: 0.0338 - val_top_5_categorical_accuracy: 0.1498\n",
            "Epoch 59/100\n",
            "149/149 [==============================] - ETA: 0s - loss: 4.0302 - accuracy: 0.0736 - top_5_categorical_accuracy: 0.2367\n",
            "Epoch 59: val_accuracy did not improve from 0.03865\n",
            "149/149 [==============================] - 18s 122ms/step - loss: 4.0302 - accuracy: 0.0736 - top_5_categorical_accuracy: 0.2367 - val_loss: 5.4073 - val_accuracy: 0.0290 - val_top_5_categorical_accuracy: 0.1353\n",
            "Epoch 60/100\n",
            "149/149 [==============================] - ETA: 0s - loss: 4.0355 - accuracy: 0.0715 - top_5_categorical_accuracy: 0.2437\n",
            "Epoch 60: val_accuracy did not improve from 0.03865\n",
            "149/149 [==============================] - 19s 130ms/step - loss: 4.0355 - accuracy: 0.0715 - top_5_categorical_accuracy: 0.2437 - val_loss: 5.4554 - val_accuracy: 0.0193 - val_top_5_categorical_accuracy: 0.1401\n",
            "Epoch 61/100\n",
            "149/149 [==============================] - ETA: 0s - loss: 4.0244 - accuracy: 0.0689 - top_5_categorical_accuracy: 0.2420\n",
            "Epoch 61: val_accuracy did not improve from 0.03865\n",
            "149/149 [==============================] - 18s 122ms/step - loss: 4.0244 - accuracy: 0.0689 - top_5_categorical_accuracy: 0.2420 - val_loss: 5.4926 - val_accuracy: 0.0290 - val_top_5_categorical_accuracy: 0.1546\n",
            "Epoch 62/100\n",
            "149/149 [==============================] - ETA: 0s - loss: 4.0017 - accuracy: 0.0809 - top_5_categorical_accuracy: 0.2477\n",
            "Epoch 62: val_accuracy did not improve from 0.03865\n",
            "149/149 [==============================] - 18s 122ms/step - loss: 4.0017 - accuracy: 0.0809 - top_5_categorical_accuracy: 0.2477 - val_loss: 5.5570 - val_accuracy: 0.0193 - val_top_5_categorical_accuracy: 0.1449\n",
            "Epoch 63/100\n",
            "149/149 [==============================] - ETA: 0s - loss: 4.0024 - accuracy: 0.0776 - top_5_categorical_accuracy: 0.2479\n",
            "Epoch 63: val_accuracy did not improve from 0.03865\n",
            "149/149 [==============================] - 18s 123ms/step - loss: 4.0024 - accuracy: 0.0776 - top_5_categorical_accuracy: 0.2479 - val_loss: 5.4568 - val_accuracy: 0.0193 - val_top_5_categorical_accuracy: 0.1256\n",
            "Epoch 64/100\n",
            "149/149 [==============================] - ETA: 0s - loss: 4.0303 - accuracy: 0.0769 - top_5_categorical_accuracy: 0.2477\n",
            "Epoch 64: val_accuracy did not improve from 0.03865\n",
            "149/149 [==============================] - 18s 121ms/step - loss: 4.0303 - accuracy: 0.0769 - top_5_categorical_accuracy: 0.2477 - val_loss: 5.4572 - val_accuracy: 0.0338 - val_top_5_categorical_accuracy: 0.1256\n",
            "Epoch 65/100\n",
            "149/149 [==============================] - ETA: 0s - loss: 4.0176 - accuracy: 0.0708 - top_5_categorical_accuracy: 0.2437\n",
            "Epoch 65: val_accuracy did not improve from 0.03865\n",
            "149/149 [==============================] - 18s 121ms/step - loss: 4.0176 - accuracy: 0.0708 - top_5_categorical_accuracy: 0.2437 - val_loss: 5.5521 - val_accuracy: 0.0290 - val_top_5_categorical_accuracy: 0.1498\n",
            "Epoch 66/100\n",
            "149/149 [==============================] - ETA: 0s - loss: 3.9969 - accuracy: 0.0803 - top_5_categorical_accuracy: 0.2517\n",
            "Epoch 66: val_accuracy did not improve from 0.03865\n",
            "149/149 [==============================] - 18s 123ms/step - loss: 3.9969 - accuracy: 0.0803 - top_5_categorical_accuracy: 0.2517 - val_loss: 5.6659 - val_accuracy: 0.0290 - val_top_5_categorical_accuracy: 0.1498\n",
            "Epoch 67/100\n",
            "149/149 [==============================] - ETA: 0s - loss: 3.9919 - accuracy: 0.0788 - top_5_categorical_accuracy: 0.2536\n",
            "Epoch 67: val_accuracy did not improve from 0.03865\n",
            "149/149 [==============================] - 18s 122ms/step - loss: 3.9919 - accuracy: 0.0788 - top_5_categorical_accuracy: 0.2536 - val_loss: 5.4374 - val_accuracy: 0.0290 - val_top_5_categorical_accuracy: 0.1401\n",
            "Epoch 68/100\n",
            "149/149 [==============================] - ETA: 0s - loss: 4.0000 - accuracy: 0.0774 - top_5_categorical_accuracy: 0.2551\n",
            "Epoch 68: val_accuracy did not improve from 0.03865\n",
            "149/149 [==============================] - 18s 122ms/step - loss: 4.0000 - accuracy: 0.0774 - top_5_categorical_accuracy: 0.2551 - val_loss: 5.6392 - val_accuracy: 0.0338 - val_top_5_categorical_accuracy: 0.1353\n",
            "Epoch 69/100\n",
            "148/149 [============================>.] - ETA: 0s - loss: 3.9909 - accuracy: 0.0771 - top_5_categorical_accuracy: 0.2546\n",
            "Epoch 69: val_accuracy did not improve from 0.03865\n",
            "149/149 [==============================] - 18s 122ms/step - loss: 3.9913 - accuracy: 0.0772 - top_5_categorical_accuracy: 0.2546 - val_loss: 5.5285 - val_accuracy: 0.0242 - val_top_5_categorical_accuracy: 0.1449\n",
            "Epoch 70/100\n",
            "149/149 [==============================] - ETA: 0s - loss: 3.9985 - accuracy: 0.0748 - top_5_categorical_accuracy: 0.2574\n",
            "Epoch 70: val_accuracy did not improve from 0.03865\n",
            "149/149 [==============================] - 18s 121ms/step - loss: 3.9985 - accuracy: 0.0748 - top_5_categorical_accuracy: 0.2574 - val_loss: 5.5512 - val_accuracy: 0.0386 - val_top_5_categorical_accuracy: 0.1208\n",
            "Epoch 71/100\n",
            "149/149 [==============================] - ETA: 0s - loss: 3.9869 - accuracy: 0.0744 - top_5_categorical_accuracy: 0.2538\n",
            "Epoch 71: val_accuracy did not improve from 0.03865\n",
            "149/149 [==============================] - 18s 122ms/step - loss: 3.9869 - accuracy: 0.0744 - top_5_categorical_accuracy: 0.2538 - val_loss: 5.5114 - val_accuracy: 0.0338 - val_top_5_categorical_accuracy: 0.1401\n",
            "Epoch 72/100\n",
            "149/149 [==============================] - ETA: 0s - loss: 3.9849 - accuracy: 0.0772 - top_5_categorical_accuracy: 0.2532\n",
            "Epoch 72: val_accuracy did not improve from 0.03865\n",
            "149/149 [==============================] - 19s 131ms/step - loss: 3.9849 - accuracy: 0.0772 - top_5_categorical_accuracy: 0.2532 - val_loss: 5.5046 - val_accuracy: 0.0386 - val_top_5_categorical_accuracy: 0.1256\n",
            "Epoch 73/100\n",
            "149/149 [==============================] - ETA: 0s - loss: 3.9770 - accuracy: 0.0784 - top_5_categorical_accuracy: 0.2567\n",
            "Epoch 73: val_accuracy did not improve from 0.03865\n",
            "149/149 [==============================] - 18s 122ms/step - loss: 3.9770 - accuracy: 0.0784 - top_5_categorical_accuracy: 0.2567 - val_loss: 5.5627 - val_accuracy: 0.0242 - val_top_5_categorical_accuracy: 0.1401\n",
            "Epoch 74/100\n",
            "149/149 [==============================] - ETA: 0s - loss: 3.9643 - accuracy: 0.0753 - top_5_categorical_accuracy: 0.2639\n",
            "Epoch 74: val_accuracy did not improve from 0.03865\n",
            "149/149 [==============================] - 18s 122ms/step - loss: 3.9643 - accuracy: 0.0753 - top_5_categorical_accuracy: 0.2639 - val_loss: 5.6204 - val_accuracy: 0.0386 - val_top_5_categorical_accuracy: 0.1401\n",
            "Epoch 75/100\n",
            "149/149 [==============================] - ETA: 0s - loss: 3.9737 - accuracy: 0.0782 - top_5_categorical_accuracy: 0.2563\n",
            "Epoch 75: val_accuracy did not improve from 0.03865\n",
            "149/149 [==============================] - 18s 122ms/step - loss: 3.9737 - accuracy: 0.0782 - top_5_categorical_accuracy: 0.2563 - val_loss: 5.5597 - val_accuracy: 0.0386 - val_top_5_categorical_accuracy: 0.1594\n",
            "Epoch 76/100\n",
            "149/149 [==============================] - ETA: 0s - loss: 3.9668 - accuracy: 0.0816 - top_5_categorical_accuracy: 0.2650\n",
            "Epoch 76: val_accuracy did not improve from 0.03865\n",
            "149/149 [==============================] - 18s 123ms/step - loss: 3.9668 - accuracy: 0.0816 - top_5_categorical_accuracy: 0.2650 - val_loss: 5.5436 - val_accuracy: 0.0338 - val_top_5_categorical_accuracy: 0.1691\n",
            "Epoch 77/100\n",
            "149/149 [==============================] - ETA: 0s - loss: 3.9710 - accuracy: 0.0774 - top_5_categorical_accuracy: 0.2622\n",
            "Epoch 77: val_accuracy did not improve from 0.03865\n",
            "149/149 [==============================] - 18s 120ms/step - loss: 3.9710 - accuracy: 0.0774 - top_5_categorical_accuracy: 0.2622 - val_loss: 5.5258 - val_accuracy: 0.0338 - val_top_5_categorical_accuracy: 0.1401\n",
            "Epoch 78/100\n",
            "149/149 [==============================] - ETA: 0s - loss: 3.9686 - accuracy: 0.0786 - top_5_categorical_accuracy: 0.2557\n",
            "Epoch 78: val_accuracy did not improve from 0.03865\n",
            "149/149 [==============================] - 18s 122ms/step - loss: 3.9686 - accuracy: 0.0786 - top_5_categorical_accuracy: 0.2557 - val_loss: 5.5470 - val_accuracy: 0.0386 - val_top_5_categorical_accuracy: 0.1739\n",
            "Epoch 79/100\n",
            "149/149 [==============================] - ETA: 0s - loss: 3.9588 - accuracy: 0.0803 - top_5_categorical_accuracy: 0.2656\n",
            "Epoch 79: val_accuracy did not improve from 0.03865\n",
            "149/149 [==============================] - 18s 122ms/step - loss: 3.9588 - accuracy: 0.0803 - top_5_categorical_accuracy: 0.2656 - val_loss: 5.5465 - val_accuracy: 0.0386 - val_top_5_categorical_accuracy: 0.1401\n",
            "Epoch 80/100\n",
            "149/149 [==============================] - ETA: 0s - loss: 3.9455 - accuracy: 0.0795 - top_5_categorical_accuracy: 0.2629\n",
            "Epoch 80: val_accuracy did not improve from 0.03865\n",
            "149/149 [==============================] - 18s 122ms/step - loss: 3.9455 - accuracy: 0.0795 - top_5_categorical_accuracy: 0.2629 - val_loss: 5.5208 - val_accuracy: 0.0290 - val_top_5_categorical_accuracy: 0.1353\n",
            "Epoch 81/100\n",
            "149/149 [==============================] - ETA: 0s - loss: 3.9529 - accuracy: 0.0776 - top_5_categorical_accuracy: 0.2664\n",
            "Epoch 81: val_accuracy improved from 0.03865 to 0.05314, saving model to vgg16_1.h5\n",
            "149/149 [==============================] - 18s 123ms/step - loss: 3.9529 - accuracy: 0.0776 - top_5_categorical_accuracy: 0.2664 - val_loss: 5.5875 - val_accuracy: 0.0531 - val_top_5_categorical_accuracy: 0.1498\n",
            "Epoch 82/100\n",
            "149/149 [==============================] - ETA: 0s - loss: 3.9495 - accuracy: 0.0788 - top_5_categorical_accuracy: 0.2671\n",
            "Epoch 82: val_accuracy did not improve from 0.05314\n",
            "149/149 [==============================] - 18s 122ms/step - loss: 3.9495 - accuracy: 0.0788 - top_5_categorical_accuracy: 0.2671 - val_loss: 5.6860 - val_accuracy: 0.0386 - val_top_5_categorical_accuracy: 0.1401\n",
            "Epoch 83/100\n",
            "149/149 [==============================] - ETA: 0s - loss: 3.9505 - accuracy: 0.0824 - top_5_categorical_accuracy: 0.2698\n",
            "Epoch 83: val_accuracy did not improve from 0.05314\n",
            "149/149 [==============================] - 18s 122ms/step - loss: 3.9505 - accuracy: 0.0824 - top_5_categorical_accuracy: 0.2698 - val_loss: 5.6926 - val_accuracy: 0.0386 - val_top_5_categorical_accuracy: 0.1546\n",
            "Epoch 84/100\n",
            "148/149 [============================>.] - ETA: 0s - loss: 3.9310 - accuracy: 0.0859 - top_5_categorical_accuracy: 0.2743\n",
            "Epoch 84: val_accuracy did not improve from 0.05314\n",
            "149/149 [==============================] - 20s 131ms/step - loss: 3.9305 - accuracy: 0.0862 - top_5_categorical_accuracy: 0.2745 - val_loss: 5.6610 - val_accuracy: 0.0290 - val_top_5_categorical_accuracy: 0.1546\n",
            "Epoch 85/100\n",
            "149/149 [==============================] - ETA: 0s - loss: 3.9388 - accuracy: 0.0841 - top_5_categorical_accuracy: 0.2698\n",
            "Epoch 85: val_accuracy did not improve from 0.05314\n",
            "149/149 [==============================] - 18s 122ms/step - loss: 3.9388 - accuracy: 0.0841 - top_5_categorical_accuracy: 0.2698 - val_loss: 5.6293 - val_accuracy: 0.0435 - val_top_5_categorical_accuracy: 0.1594\n",
            "Epoch 86/100\n",
            "149/149 [==============================] - ETA: 0s - loss: 3.9405 - accuracy: 0.0797 - top_5_categorical_accuracy: 0.2681\n",
            "Epoch 86: val_accuracy did not improve from 0.05314\n",
            "149/149 [==============================] - 18s 122ms/step - loss: 3.9405 - accuracy: 0.0797 - top_5_categorical_accuracy: 0.2681 - val_loss: 5.6246 - val_accuracy: 0.0435 - val_top_5_categorical_accuracy: 0.1594\n",
            "Epoch 87/100\n",
            "149/149 [==============================] - ETA: 0s - loss: 3.9243 - accuracy: 0.0871 - top_5_categorical_accuracy: 0.2823\n",
            "Epoch 87: val_accuracy did not improve from 0.05314\n",
            "149/149 [==============================] - 18s 122ms/step - loss: 3.9243 - accuracy: 0.0871 - top_5_categorical_accuracy: 0.2823 - val_loss: 5.8004 - val_accuracy: 0.0386 - val_top_5_categorical_accuracy: 0.1401\n",
            "Epoch 88/100\n",
            "149/149 [==============================] - ETA: 0s - loss: 3.9389 - accuracy: 0.0831 - top_5_categorical_accuracy: 0.2766\n",
            "Epoch 88: val_accuracy did not improve from 0.05314\n",
            "149/149 [==============================] - 18s 122ms/step - loss: 3.9389 - accuracy: 0.0831 - top_5_categorical_accuracy: 0.2766 - val_loss: 5.6179 - val_accuracy: 0.0386 - val_top_5_categorical_accuracy: 0.1594\n",
            "Epoch 89/100\n",
            "149/149 [==============================] - ETA: 0s - loss: 3.9197 - accuracy: 0.0879 - top_5_categorical_accuracy: 0.2749\n",
            "Epoch 89: val_accuracy did not improve from 0.05314\n",
            "149/149 [==============================] - 18s 122ms/step - loss: 3.9197 - accuracy: 0.0879 - top_5_categorical_accuracy: 0.2749 - val_loss: 5.6617 - val_accuracy: 0.0242 - val_top_5_categorical_accuracy: 0.1401\n",
            "Epoch 90/100\n",
            "149/149 [==============================] - ETA: 0s - loss: 3.9334 - accuracy: 0.0845 - top_5_categorical_accuracy: 0.2629\n",
            "Epoch 90: val_accuracy did not improve from 0.05314\n",
            "149/149 [==============================] - 18s 122ms/step - loss: 3.9334 - accuracy: 0.0845 - top_5_categorical_accuracy: 0.2629 - val_loss: 5.7040 - val_accuracy: 0.0386 - val_top_5_categorical_accuracy: 0.1449\n",
            "Epoch 91/100\n",
            "149/149 [==============================] - ETA: 0s - loss: 3.9176 - accuracy: 0.0877 - top_5_categorical_accuracy: 0.2645\n",
            "Epoch 91: val_accuracy did not improve from 0.05314\n",
            "149/149 [==============================] - 18s 123ms/step - loss: 3.9176 - accuracy: 0.0877 - top_5_categorical_accuracy: 0.2645 - val_loss: 5.6803 - val_accuracy: 0.0386 - val_top_5_categorical_accuracy: 0.1449\n",
            "Epoch 92/100\n",
            "149/149 [==============================] - ETA: 0s - loss: 3.9197 - accuracy: 0.0843 - top_5_categorical_accuracy: 0.2641\n",
            "Epoch 92: val_accuracy did not improve from 0.05314\n",
            "149/149 [==============================] - 18s 122ms/step - loss: 3.9197 - accuracy: 0.0843 - top_5_categorical_accuracy: 0.2641 - val_loss: 5.5831 - val_accuracy: 0.0386 - val_top_5_categorical_accuracy: 0.1643\n",
            "Epoch 93/100\n",
            "149/149 [==============================] - ETA: 0s - loss: 3.9193 - accuracy: 0.0824 - top_5_categorical_accuracy: 0.2730\n",
            "Epoch 93: val_accuracy did not improve from 0.05314\n",
            "149/149 [==============================] - 18s 123ms/step - loss: 3.9193 - accuracy: 0.0824 - top_5_categorical_accuracy: 0.2730 - val_loss: 5.6931 - val_accuracy: 0.0435 - val_top_5_categorical_accuracy: 0.1594\n",
            "Epoch 94/100\n",
            "149/149 [==============================] - ETA: 0s - loss: 3.9101 - accuracy: 0.0856 - top_5_categorical_accuracy: 0.2736\n",
            "Epoch 94: val_accuracy did not improve from 0.05314\n",
            "149/149 [==============================] - 18s 124ms/step - loss: 3.9101 - accuracy: 0.0856 - top_5_categorical_accuracy: 0.2736 - val_loss: 5.5796 - val_accuracy: 0.0386 - val_top_5_categorical_accuracy: 0.1498\n",
            "Epoch 95/100\n",
            "149/149 [==============================] - ETA: 0s - loss: 3.9067 - accuracy: 0.0864 - top_5_categorical_accuracy: 0.2804\n",
            "Epoch 95: val_accuracy did not improve from 0.05314\n",
            "149/149 [==============================] - 18s 124ms/step - loss: 3.9067 - accuracy: 0.0864 - top_5_categorical_accuracy: 0.2804 - val_loss: 5.6194 - val_accuracy: 0.0483 - val_top_5_categorical_accuracy: 0.1594\n",
            "Epoch 96/100\n",
            "149/149 [==============================] - ETA: 0s - loss: 3.9132 - accuracy: 0.0900 - top_5_categorical_accuracy: 0.2747\n",
            "Epoch 96: val_accuracy did not improve from 0.05314\n",
            "149/149 [==============================] - 19s 126ms/step - loss: 3.9132 - accuracy: 0.0900 - top_5_categorical_accuracy: 0.2747 - val_loss: 5.6953 - val_accuracy: 0.0483 - val_top_5_categorical_accuracy: 0.1643\n",
            "Epoch 97/100\n",
            "149/149 [==============================] - ETA: 0s - loss: 3.9048 - accuracy: 0.0898 - top_5_categorical_accuracy: 0.2839\n",
            "Epoch 97: val_accuracy did not improve from 0.05314\n",
            "149/149 [==============================] - 18s 124ms/step - loss: 3.9048 - accuracy: 0.0898 - top_5_categorical_accuracy: 0.2839 - val_loss: 5.7378 - val_accuracy: 0.0338 - val_top_5_categorical_accuracy: 0.1643\n",
            "Epoch 98/100\n",
            "148/149 [============================>.] - ETA: 0s - loss: 3.8908 - accuracy: 0.0849 - top_5_categorical_accuracy: 0.2760\n",
            "Epoch 98: val_accuracy did not improve from 0.05314\n",
            "149/149 [==============================] - 18s 122ms/step - loss: 3.8909 - accuracy: 0.0849 - top_5_categorical_accuracy: 0.2759 - val_loss: 5.7043 - val_accuracy: 0.0386 - val_top_5_categorical_accuracy: 0.1449\n",
            "Epoch 99/100\n",
            "148/149 [============================>.] - ETA: 0s - loss: 3.9060 - accuracy: 0.0859 - top_5_categorical_accuracy: 0.2810\n",
            "Epoch 99: val_accuracy did not improve from 0.05314\n",
            "149/149 [==============================] - 18s 124ms/step - loss: 3.9060 - accuracy: 0.0858 - top_5_categorical_accuracy: 0.2814 - val_loss: 5.6302 - val_accuracy: 0.0338 - val_top_5_categorical_accuracy: 0.1787\n",
            "Epoch 100/100\n",
            "149/149 [==============================] - ETA: 0s - loss: 3.8920 - accuracy: 0.0896 - top_5_categorical_accuracy: 0.2814\n",
            "Epoch 100: val_accuracy did not improve from 0.05314\n",
            "149/149 [==============================] - 19s 125ms/step - loss: 3.8920 - accuracy: 0.0896 - top_5_categorical_accuracy: 0.2814 - val_loss: 5.6973 - val_accuracy: 0.0386 - val_top_5_categorical_accuracy: 0.1546\n"
          ]
        }
      ]
    },
    {
      "cell_type": "code",
      "source": [
        "# Evaluate model\n",
        "cnn_model.evaluate(X_test, Y_test)"
      ],
      "metadata": {
        "colab": {
          "base_uri": "https://localhost:8080/"
        },
        "id": "E9BQ9qGp_wkC",
        "outputId": "f37c7dc1-3ec8-46d6-e548-16ea3c39da2e"
      },
      "execution_count": null,
      "outputs": [
        {
          "output_type": "stream",
          "name": "stdout",
          "text": [
            "7/7 [==============================] - 0s 19ms/step - loss: 5.6973 - accuracy: 0.0386 - top_5_categorical_accuracy: 0.1546\n"
          ]
        },
        {
          "output_type": "execute_result",
          "data": {
            "text/plain": [
              "[5.697259902954102, 0.03864734247326851, 0.15458936989307404]"
            ]
          },
          "metadata": {},
          "execution_count": 44
        }
      ]
    },
    {
      "cell_type": "code",
      "source": [
        "# Show model's loss and accuracy graph\n",
        "loss = history.history['loss']\n",
        "val_loss = history.history['val_loss']\n",
        "\n",
        "accuracy = history.history['accuracy']\n",
        "val_accuracy = history.history['val_accuracy']\n",
        "\n",
        "plt.figure(figsize=[8,6])\n",
        "plt.plot(loss,'r',linewidth=3.0)\n",
        "plt.plot(val_loss,'b',linewidth=3.0)\n",
        "plt.legend(['Training loss', 'Validation Loss'],fontsize=18)\n",
        "plt.xlabel('Epochs ',fontsize=16)\n",
        "plt.ylabel('Loss',fontsize=16)\n",
        "plt.title('Loss Curves',fontsize=16)\n",
        "plt.show()\n",
        "\n",
        "plt.figure(figsize=[8,6])\n",
        "plt.plot(accuracy,'r',linewidth=3.0)\n",
        "plt.plot(val_accuracy,'b',linewidth=3.0)\n",
        "plt.legend(['Training Accuracy', 'Validation Accuracy'],fontsize=18)\n",
        "plt.xlabel('Epochs ',fontsize=16)\n",
        "plt.ylabel('Accuracy',fontsize=16)\n",
        "plt.title('Accuracy Curves',fontsize=16)\n",
        "plt.show() "
      ],
      "metadata": {
        "colab": {
          "base_uri": "https://localhost:8080/",
          "height": 805
        },
        "id": "Ksrr0Vqo_5Az",
        "outputId": "0e790d83-c132-4ac2-88e2-4c2fdab1f418"
      },
      "execution_count": null,
      "outputs": [
        {
          "output_type": "display_data",
          "data": {
            "text/plain": [
              "<Figure size 576x432 with 1 Axes>"
            ],
            "image/png": "[encoded data removed]"
          },
          "metadata": {
            "needs_background": "light"
          }
        },
        {
          "output_type": "display_data",
          "data": {
            "text/plain": [
              "<Figure size 576x432 with 1 Axes>"
            ],
            "image/png": "[encoded data removed]"
          },
          "metadata": {
            "needs_background": "light"
          }
        }
      ]
    }
  ]
}