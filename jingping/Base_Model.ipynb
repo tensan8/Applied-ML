{
  "cells": [
    {
      "cell_type": "code",
      "execution_count": 20,
      "metadata": {
        "id": "neIQx6jsHuAu"
      },
      "outputs": [],
      "source": [
        "from matplotlib import image\n",
        "import numpy as np\n",
        "import tensorflow as tf\n",
        "from keras.layers import Dense, Conv2D, MaxPooling2D, Dropout, Flatten\n",
        "from keras.callbacks import ModelCheckpoint, EarlyStopping\n",
        "from keras.models import Sequential, load_model\n",
        "from keras.utils import to_categorical\n",
        "from sklearn.model_selection import train_test_split\n",
        "from keras.metrics import top_k_categorical_accuracy\n",
        "from keras.preprocessing.image import ImageDataGenerator\n",
        "from keras import regularizers\n",
        "import matplotlib.pyplot as plt\n",
        "from sklearn.preprocessing import LabelEncoder"
      ]
    },
    {
      "cell_type": "code",
      "execution_count": 2,
      "metadata": {
        "colab": {
          "base_uri": "https://localhost:8080/"
        },
        "id": "Lmso7HEEDWeK",
        "outputId": "3dcb1694-f7e5-4ed5-cb44-f204ca3e5544"
      },
      "outputs": [
        {
          "output_type": "stream",
          "name": "stdout",
          "text": [
            "Mounted at /content/drive/\n"
          ]
        }
      ],
      "source": [
        "from google.colab import drive\n",
        "drive.mount('/content/drive/')"
      ]
    },
    {
      "cell_type": "code",
      "execution_count": 3,
      "metadata": {
        "id": "E_KY3hGzWC4-"
      },
      "outputs": [],
      "source": [
        "!unzip drive/MyDrive/AML_project/train.zip > /dev/null\n",
        "!unzip drive/MyDrive/AML_project/test.zip > /dev/null\n",
        "\n",
        "!cp \"/content/drive/MyDrive/AML_project/list/train.txt\" \"train.txt\"\n",
        "!cp \"/content/drive/MyDrive/AML_project/list/groundtruth.txt\" \"groundtruth.txt\""
      ]
    },
    {
      "cell_type": "code",
      "execution_count": 4,
      "metadata": {
        "id": "6x0-zQ_rGHra"
      },
      "outputs": [],
      "source": [
        "def convert_image_to_numpy(image_paths_arr):\n",
        "  dataset_nparr = list()\n",
        "\n",
        "  for path in image_paths_arr:\n",
        "    image_data = image.imread(path)\n",
        "    image_data = tf.cast(image_data, tf.float32)/255\n",
        "    image_data = tf.image.resize(image_data, (128, 128), method = \"bilinear\")\n",
        "    dataset_nparr.append(image_data)\n",
        "\n",
        "  return np.array(dataset_nparr)"
      ]
    },
    {
      "cell_type": "code",
      "execution_count": 5,
      "metadata": {
        "id": "1qqQNgaVhEls"
      },
      "outputs": [],
      "source": [
        "def encode_labels(labels_arr):\n",
        "  label_encoder = LabelEncoder()\n",
        "  return label_encoder.fit_transform(labels_arr)"
      ]
    },
    {
      "cell_type": "code",
      "execution_count": 6,
      "metadata": {
        "id": "iwqVGlvUhAe5"
      },
      "outputs": [],
      "source": [
        "def load_data(text_file):\n",
        "  with open(text_file) as txt_file:\n",
        "    # read the file, with format \"path label\"\n",
        "    # e.g. train/photo/106023/1769.jpg 106023\n",
        "    lines_arr = [line.strip() for line in txt_file.readlines()]\n",
        "\n",
        "    # split the lines to image path and label\n",
        "    image_paths = [line.split(' ')[0] for line in lines_arr]\n",
        "    labels = [line.split(' ')[1] for line in lines_arr]\n",
        "\n",
        "    x_data = convert_image_to_numpy(image_paths)\n",
        "    y_data = encode_labels(labels)\n",
        "\n",
        "    return x_data, y_data"
      ]
    },
    {
      "cell_type": "code",
      "execution_count": 7,
      "metadata": {
        "id": "oQDlBcv8hc9M"
      },
      "outputs": [],
      "source": [
        "# Load train data\n",
        "x_train, y_train = load_data(\"train.txt\")"
      ]
    },
    {
      "cell_type": "code",
      "execution_count": 8,
      "metadata": {
        "id": "BJv0YUgAhoSi"
      },
      "outputs": [],
      "source": [
        "# Load test data\n",
        "x_test, y_test = load_data(\"groundtruth.txt\")"
      ]
    },
    {
      "cell_type": "code",
      "execution_count": 9,
      "metadata": {
        "colab": {
          "base_uri": "https://localhost:8080/"
        },
        "id": "N-E_rU9zifan",
        "outputId": "6e3a45d0-9d13-4141-ca14-f83d721a2bad"
      },
      "outputs": [
        {
          "output_type": "stream",
          "name": "stdout",
          "text": [
            "Shapes Checking\n",
            "X-train: (4744, 128, 128, 3)\n",
            "y-train: (4744,)\n",
            "X-test: (207, 128, 128, 3)\n",
            "y-test: (207,)\n"
          ]
        }
      ],
      "source": [
        "# Check data shape\n",
        "print(\"Shapes Checking\")\n",
        "print(\"X-train: \" + str(x_train.shape))\n",
        "print(\"y-train: \" + str(y_train.shape))\n",
        "print(\"X-test: \" + str(x_test.shape))\n",
        "print(\"y-test: \" + str(y_test.shape))"
      ]
    },
    {
      "cell_type": "code",
      "execution_count": 10,
      "metadata": {
        "colab": {
          "base_uri": "https://localhost:8080/"
        },
        "id": "UHv1QFa96EEx",
        "outputId": "9ebc6857-079b-4542-cd98-f83cd5869093"
      },
      "outputs": [
        {
          "output_type": "stream",
          "name": "stdout",
          "text": [
            "Reshape Checking\n",
            "X-train: (4744, 128, 128, 3)\n",
            "X-test: (207, 128, 128, 3)\n"
          ]
        }
      ],
      "source": [
        "# Normalize and reshape the data\n",
        "nRows,nCols,nDims = x_train.shape[1:]\n",
        "x_train = x_train.reshape(x_train.shape[0], nRows, nCols, nDims)\n",
        "input_shape = (nRows, nCols, nDims)\n",
        "\n",
        "nRows,nCols,nDims = x_test.shape[1:]\n",
        "x_test = x_test.reshape(x_test.shape[0], nRows, nCols, nDims)\n",
        "\n",
        "print(\"Reshape Checking\")\n",
        "print(\"X-train: \" + str(x_train.shape))\n",
        "print(\"X-test: \" + str(x_test.shape))"
      ]
    },
    {
      "cell_type": "code",
      "execution_count": 11,
      "metadata": {
        "id": "Uhk_WlqG6zWM"
      },
      "outputs": [],
      "source": [
        "classes = np.unique(y_train)\n",
        "nClasses = len(classes)\n"
      ]
    },
    {
      "cell_type": "code",
      "execution_count": 12,
      "metadata": {
        "id": "PDwngO36AbNe"
      },
      "outputs": [],
      "source": [
        "# Image data generator (data augmentation)\n",
        "datagen = ImageDataGenerator(horizontal_flip=True,\n",
        "                            rotation_range=45,\n",
        "                            zoom_range=0.8,\n",
        "                            vertical_flip=True)\n",
        "\n",
        "datagen.fit(x_train)"
      ]
    },
    {
      "cell_type": "code",
      "execution_count": 21,
      "metadata": {
        "id": "Nbk1SklG68u-"
      },
      "outputs": [],
      "source": [
        "# Create Model\n",
        "def createModel():\n",
        "    model = Sequential()\n",
        "    model.add(Conv2D(64, (3, 3), padding = \"same\", kernel_regularizer=regularizers.L1(0.01), activation='relu', input_shape=input_shape))\n",
        "    model.add(Conv2D(32, (3, 3), activation='relu'))\n",
        "    model.add(MaxPooling2D(pool_size=(2, 2)))\n",
        " \n",
        "    model.add(Conv2D(16, (3, 3), activation='relu'))\n",
        "    model.add(MaxPooling2D(pool_size=(2, 2)))\n",
        "    model.add(Dropout(0.2))\n",
        "\n",
        "    model.add(Flatten())\n",
        "    model.add(Dense(512, activation='relu'))\n",
        "    model.add(Dropout(0.25))\n",
        "    model.add(Dense(nClasses, activation='softmax'))\n",
        "    \n",
        "    return model"
      ]
    },
    {
      "cell_type": "code",
      "execution_count": 22,
      "metadata": {
        "colab": {
          "base_uri": "https://localhost:8080/"
        },
        "id": "DTu8tO5O70QZ",
        "outputId": "38989cbe-fd85-4af3-a817-69e16af5a499"
      },
      "outputs": [
        {
          "output_type": "stream",
          "name": "stdout",
          "text": [
            "Model: \"sequential_1\"\n",
            "_________________________________________________________________\n",
            " Layer (type)                Output Shape              Param #   \n",
            "=================================================================\n",
            " conv2d_3 (Conv2D)           (None, 128, 128, 64)      1792      \n",
            "                                                                 \n",
            " conv2d_4 (Conv2D)           (None, 126, 126, 32)      18464     \n",
            "                                                                 \n",
            " max_pooling2d_2 (MaxPooling  (None, 63, 63, 32)       0         \n",
            " 2D)                                                             \n",
            "                                                                 \n",
            " conv2d_5 (Conv2D)           (None, 61, 61, 16)        4624      \n",
            "                                                                 \n",
            " max_pooling2d_3 (MaxPooling  (None, 30, 30, 16)       0         \n",
            " 2D)                                                             \n",
            "                                                                 \n",
            " dropout_2 (Dropout)         (None, 30, 30, 16)        0         \n",
            "                                                                 \n",
            " flatten_1 (Flatten)         (None, 14400)             0         \n",
            "                                                                 \n",
            " dense_2 (Dense)             (None, 512)               7373312   \n",
            "                                                                 \n",
            " dropout_3 (Dropout)         (None, 512)               0         \n",
            "                                                                 \n",
            " dense_3 (Dense)             (None, 100)               51300     \n",
            "                                                                 \n",
            "=================================================================\n",
            "Total params: 7,449,492\n",
            "Trainable params: 7,449,492\n",
            "Non-trainable params: 0\n",
            "_________________________________________________________________\n"
          ]
        }
      ],
      "source": [
        "# Call Create Model\n",
        "cnn_model = createModel()\n",
        "\n",
        "# Show model summary\n",
        "cnn_model.summary()"
      ]
    },
    {
      "cell_type": "code",
      "execution_count": 15,
      "metadata": {
        "id": "LH4zlZBR9WeS"
      },
      "outputs": [],
      "source": [
        "def top_5_categorical_accuracy(y_true, y_pred):\n",
        "    return top_k_categorical_accuracy (y_true, y_pred, k=5)"
      ]
    },
    {
      "cell_type": "code",
      "execution_count": 23,
      "metadata": {
        "colab": {
          "base_uri": "https://localhost:8080/"
        },
        "id": "HHD18BjX81sx",
        "outputId": "d8dbb9ae-47cd-4ad9-a431-7066df2135e5"
      },
      "outputs": [
        {
          "output_type": "stream",
          "name": "stdout",
          "text": [
            "Epoch 1/100\n",
            "149/149 [==============================] - ETA: 0s - loss: 4.9272 - accuracy: 0.0131 - top_5_categorical_accuracy: 0.0533\n",
            "Epoch 1: val_accuracy improved from -inf to 0.01932, saving model to base_model.h5\n",
            "149/149 [==============================] - 22s 139ms/step - loss: 4.9272 - accuracy: 0.0131 - top_5_categorical_accuracy: 0.0533 - val_loss: 4.7564 - val_accuracy: 0.0193 - val_top_5_categorical_accuracy: 0.0000e+00\n",
            "Epoch 2/100\n",
            "149/149 [==============================] - ETA: 0s - loss: 4.5528 - accuracy: 0.0228 - top_5_categorical_accuracy: 0.0314\n",
            "Epoch 2: val_accuracy improved from 0.01932 to 0.02415, saving model to base_model.h5\n",
            "149/149 [==============================] - 18s 123ms/step - loss: 4.5528 - accuracy: 0.0228 - top_5_categorical_accuracy: 0.0314 - val_loss: 4.7168 - val_accuracy: 0.0242 - val_top_5_categorical_accuracy: 0.0097\n",
            "Epoch 3/100\n",
            "149/149 [==============================] - ETA: 0s - loss: 4.4386 - accuracy: 0.0295 - top_5_categorical_accuracy: 0.1560\n",
            "Epoch 3: val_accuracy did not improve from 0.02415\n",
            "149/149 [==============================] - 18s 122ms/step - loss: 4.4386 - accuracy: 0.0295 - top_5_categorical_accuracy: 0.1560 - val_loss: 4.9135 - val_accuracy: 0.0242 - val_top_5_categorical_accuracy: 0.0000e+00\n",
            "Epoch 4/100\n",
            "149/149 [==============================] - ETA: 0s - loss: 4.3610 - accuracy: 0.0386 - top_5_categorical_accuracy: 0.1168\n",
            "Epoch 4: val_accuracy did not improve from 0.02415\n",
            "149/149 [==============================] - 19s 126ms/step - loss: 4.3610 - accuracy: 0.0386 - top_5_categorical_accuracy: 0.1168 - val_loss: 4.7440 - val_accuracy: 0.0193 - val_top_5_categorical_accuracy: 0.0193\n",
            "Epoch 5/100\n",
            "149/149 [==============================] - ETA: 0s - loss: 4.3110 - accuracy: 0.0485 - top_5_categorical_accuracy: 0.0721\n",
            "Epoch 5: val_accuracy improved from 0.02415 to 0.02899, saving model to base_model.h5\n",
            "149/149 [==============================] - 18s 124ms/step - loss: 4.3110 - accuracy: 0.0485 - top_5_categorical_accuracy: 0.0721 - val_loss: 4.8702 - val_accuracy: 0.0290 - val_top_5_categorical_accuracy: 0.0531\n",
            "Epoch 6/100\n",
            "149/149 [==============================] - ETA: 0s - loss: 4.2520 - accuracy: 0.0489 - top_5_categorical_accuracy: 0.1387\n",
            "Epoch 6: val_accuracy improved from 0.02899 to 0.03865, saving model to base_model.h5\n",
            "149/149 [==============================] - 18s 123ms/step - loss: 4.2520 - accuracy: 0.0489 - top_5_categorical_accuracy: 0.1387 - val_loss: 4.7828 - val_accuracy: 0.0386 - val_top_5_categorical_accuracy: 0.0193\n",
            "Epoch 7/100\n",
            "149/149 [==============================] - ETA: 0s - loss: 4.2168 - accuracy: 0.0525 - top_5_categorical_accuracy: 0.1052\n",
            "Epoch 7: val_accuracy did not improve from 0.03865\n",
            "149/149 [==============================] - 18s 121ms/step - loss: 4.2168 - accuracy: 0.0525 - top_5_categorical_accuracy: 0.1052 - val_loss: 5.1115 - val_accuracy: 0.0290 - val_top_5_categorical_accuracy: 0.0000e+00\n",
            "Epoch 8/100\n",
            "149/149 [==============================] - ETA: 0s - loss: 4.1838 - accuracy: 0.0620 - top_5_categorical_accuracy: 0.1159\n",
            "Epoch 8: val_accuracy did not improve from 0.03865\n",
            "149/149 [==============================] - 18s 122ms/step - loss: 4.1838 - accuracy: 0.0620 - top_5_categorical_accuracy: 0.1159 - val_loss: 5.0082 - val_accuracy: 0.0242 - val_top_5_categorical_accuracy: 0.0193\n",
            "Epoch 9/100\n",
            "149/149 [==============================] - ETA: 0s - loss: 4.1195 - accuracy: 0.0677 - top_5_categorical_accuracy: 0.0852\n",
            "Epoch 9: val_accuracy improved from 0.03865 to 0.04831, saving model to base_model.h5\n",
            "149/149 [==============================] - 19s 125ms/step - loss: 4.1195 - accuracy: 0.0677 - top_5_categorical_accuracy: 0.0852 - val_loss: 5.0114 - val_accuracy: 0.0483 - val_top_5_categorical_accuracy: 0.0048\n",
            "Epoch 10/100\n",
            "149/149 [==============================] - ETA: 0s - loss: 4.0945 - accuracy: 0.0748 - top_5_categorical_accuracy: 0.1029\n",
            "Epoch 10: val_accuracy improved from 0.04831 to 0.05314, saving model to base_model.h5\n",
            "149/149 [==============================] - 20s 131ms/step - loss: 4.0945 - accuracy: 0.0748 - top_5_categorical_accuracy: 0.1029 - val_loss: 4.9458 - val_accuracy: 0.0531 - val_top_5_categorical_accuracy: 0.0000e+00\n",
            "Epoch 11/100\n",
            "149/149 [==============================] - ETA: 0s - loss: 4.0580 - accuracy: 0.0727 - top_5_categorical_accuracy: 0.1016\n",
            "Epoch 11: val_accuracy did not improve from 0.05314\n",
            "149/149 [==============================] - 18s 123ms/step - loss: 4.0580 - accuracy: 0.0727 - top_5_categorical_accuracy: 0.1016 - val_loss: 4.9417 - val_accuracy: 0.0435 - val_top_5_categorical_accuracy: 0.0000e+00\n",
            "Epoch 12/100\n",
            "149/149 [==============================] - ETA: 0s - loss: 4.0218 - accuracy: 0.0772 - top_5_categorical_accuracy: 0.0641\n",
            "Epoch 12: val_accuracy did not improve from 0.05314\n",
            "149/149 [==============================] - 18s 122ms/step - loss: 4.0218 - accuracy: 0.0772 - top_5_categorical_accuracy: 0.0641 - val_loss: 5.0582 - val_accuracy: 0.0483 - val_top_5_categorical_accuracy: 0.0048\n",
            "Epoch 13/100\n",
            "149/149 [==============================] - ETA: 0s - loss: 3.9881 - accuracy: 0.0818 - top_5_categorical_accuracy: 0.0965\n",
            "Epoch 13: val_accuracy did not improve from 0.05314\n",
            "149/149 [==============================] - 18s 120ms/step - loss: 3.9881 - accuracy: 0.0818 - top_5_categorical_accuracy: 0.0965 - val_loss: 4.9271 - val_accuracy: 0.0483 - val_top_5_categorical_accuracy: 0.0048\n",
            "Epoch 14/100\n",
            "149/149 [==============================] - ETA: 0s - loss: 3.9321 - accuracy: 0.0896 - top_5_categorical_accuracy: 0.0717\n",
            "Epoch 14: val_accuracy did not improve from 0.05314\n",
            "149/149 [==============================] - 18s 121ms/step - loss: 3.9321 - accuracy: 0.0896 - top_5_categorical_accuracy: 0.0717 - val_loss: 5.0156 - val_accuracy: 0.0435 - val_top_5_categorical_accuracy: 0.0000e+00\n",
            "Epoch 15/100\n",
            "149/149 [==============================] - ETA: 0s - loss: 3.9062 - accuracy: 0.0944 - top_5_categorical_accuracy: 0.0906\n",
            "Epoch 15: val_accuracy did not improve from 0.05314\n",
            "149/149 [==============================] - 21s 140ms/step - loss: 3.9062 - accuracy: 0.0944 - top_5_categorical_accuracy: 0.0906 - val_loss: 5.1870 - val_accuracy: 0.0435 - val_top_5_categorical_accuracy: 0.0000e+00\n",
            "Epoch 16/100\n",
            "149/149 [==============================] - ETA: 0s - loss: 3.8829 - accuracy: 0.0949 - top_5_categorical_accuracy: 0.0875\n",
            "Epoch 16: val_accuracy improved from 0.05314 to 0.07246, saving model to base_model.h5\n",
            "149/149 [==============================] - 18s 122ms/step - loss: 3.8829 - accuracy: 0.0949 - top_5_categorical_accuracy: 0.0875 - val_loss: 5.1094 - val_accuracy: 0.0725 - val_top_5_categorical_accuracy: 0.0000e+00\n",
            "Epoch 17/100\n",
            "149/149 [==============================] - ETA: 0s - loss: 3.8243 - accuracy: 0.1094 - top_5_categorical_accuracy: 0.0510\n",
            "Epoch 17: val_accuracy did not improve from 0.07246\n",
            "149/149 [==============================] - 18s 122ms/step - loss: 3.8243 - accuracy: 0.1094 - top_5_categorical_accuracy: 0.0510 - val_loss: 5.1616 - val_accuracy: 0.0531 - val_top_5_categorical_accuracy: 0.0000e+00\n",
            "Epoch 18/100\n",
            "149/149 [==============================] - ETA: 0s - loss: 3.7974 - accuracy: 0.1102 - top_5_categorical_accuracy: 0.0782\n",
            "Epoch 18: val_accuracy did not improve from 0.07246\n",
            "149/149 [==============================] - 18s 121ms/step - loss: 3.7974 - accuracy: 0.1102 - top_5_categorical_accuracy: 0.0782 - val_loss: 5.2491 - val_accuracy: 0.0628 - val_top_5_categorical_accuracy: 0.0000e+00\n",
            "Epoch 19/100\n",
            "149/149 [==============================] - ETA: 0s - loss: 3.7733 - accuracy: 0.1081 - top_5_categorical_accuracy: 0.0616\n",
            "Epoch 19: val_accuracy did not improve from 0.07246\n",
            "149/149 [==============================] - 18s 121ms/step - loss: 3.7733 - accuracy: 0.1081 - top_5_categorical_accuracy: 0.0616 - val_loss: 5.1576 - val_accuracy: 0.0676 - val_top_5_categorical_accuracy: 0.0000e+00\n",
            "Epoch 20/100\n",
            "149/149 [==============================] - ETA: 0s - loss: 3.7484 - accuracy: 0.1191 - top_5_categorical_accuracy: 0.0828\n",
            "Epoch 20: val_accuracy did not improve from 0.07246\n",
            "149/149 [==============================] - 18s 121ms/step - loss: 3.7484 - accuracy: 0.1191 - top_5_categorical_accuracy: 0.0828 - val_loss: 5.2202 - val_accuracy: 0.0628 - val_top_5_categorical_accuracy: 0.0000e+00\n",
            "Epoch 21/100\n",
            "149/149 [==============================] - ETA: 0s - loss: 3.7037 - accuracy: 0.1267 - top_5_categorical_accuracy: 0.0685\n",
            "Epoch 21: val_accuracy did not improve from 0.07246\n",
            "149/149 [==============================] - 18s 121ms/step - loss: 3.7037 - accuracy: 0.1267 - top_5_categorical_accuracy: 0.0685 - val_loss: 5.4440 - val_accuracy: 0.0628 - val_top_5_categorical_accuracy: 0.0000e+00\n",
            "Epoch 22/100\n",
            "149/149 [==============================] - ETA: 0s - loss: 3.6983 - accuracy: 0.1208 - top_5_categorical_accuracy: 0.0696\n",
            "Epoch 22: val_accuracy did not improve from 0.07246\n",
            "149/149 [==============================] - 18s 120ms/step - loss: 3.6983 - accuracy: 0.1208 - top_5_categorical_accuracy: 0.0696 - val_loss: 5.5874 - val_accuracy: 0.0676 - val_top_5_categorical_accuracy: 0.0000e+00\n",
            "Epoch 23/100\n",
            "149/149 [==============================] - ETA: 0s - loss: 3.6623 - accuracy: 0.1360 - top_5_categorical_accuracy: 0.0597\n",
            "Epoch 23: val_accuracy did not improve from 0.07246\n",
            "149/149 [==============================] - 18s 121ms/step - loss: 3.6623 - accuracy: 0.1360 - top_5_categorical_accuracy: 0.0597 - val_loss: 5.1553 - val_accuracy: 0.0676 - val_top_5_categorical_accuracy: 0.0000e+00\n",
            "Epoch 24/100\n",
            "149/149 [==============================] - ETA: 0s - loss: 3.6309 - accuracy: 0.1379 - top_5_categorical_accuracy: 0.0685\n",
            "Epoch 24: val_accuracy did not improve from 0.07246\n",
            "149/149 [==============================] - 18s 120ms/step - loss: 3.6309 - accuracy: 0.1379 - top_5_categorical_accuracy: 0.0685 - val_loss: 5.2056 - val_accuracy: 0.0531 - val_top_5_categorical_accuracy: 0.0000e+00\n",
            "Epoch 25/100\n",
            "149/149 [==============================] - ETA: 0s - loss: 3.6210 - accuracy: 0.1345 - top_5_categorical_accuracy: 0.0645\n",
            "Epoch 25: val_accuracy did not improve from 0.07246\n",
            "149/149 [==============================] - 21s 138ms/step - loss: 3.6210 - accuracy: 0.1345 - top_5_categorical_accuracy: 0.0645 - val_loss: 5.6334 - val_accuracy: 0.0580 - val_top_5_categorical_accuracy: 0.0000e+00\n",
            "Epoch 26/100\n",
            "149/149 [==============================] - ETA: 0s - loss: 3.5932 - accuracy: 0.1435 - top_5_categorical_accuracy: 0.0594\n",
            "Epoch 26: val_accuracy did not improve from 0.07246\n",
            "149/149 [==============================] - 18s 121ms/step - loss: 3.5932 - accuracy: 0.1435 - top_5_categorical_accuracy: 0.0594 - val_loss: 5.3167 - val_accuracy: 0.0676 - val_top_5_categorical_accuracy: 0.0000e+00\n",
            "Epoch 27/100\n",
            "149/149 [==============================] - ETA: 0s - loss: 3.5673 - accuracy: 0.1421 - top_5_categorical_accuracy: 0.0599\n",
            "Epoch 27: val_accuracy improved from 0.07246 to 0.10145, saving model to base_model.h5\n",
            "149/149 [==============================] - 18s 123ms/step - loss: 3.5673 - accuracy: 0.1421 - top_5_categorical_accuracy: 0.0599 - val_loss: 5.2558 - val_accuracy: 0.1014 - val_top_5_categorical_accuracy: 0.0000e+00\n",
            "Epoch 28/100\n",
            "149/149 [==============================] - ETA: 0s - loss: 3.5512 - accuracy: 0.1444 - top_5_categorical_accuracy: 0.0643\n",
            "Epoch 28: val_accuracy did not improve from 0.10145\n",
            "149/149 [==============================] - 18s 122ms/step - loss: 3.5512 - accuracy: 0.1444 - top_5_categorical_accuracy: 0.0643 - val_loss: 5.4732 - val_accuracy: 0.0918 - val_top_5_categorical_accuracy: 0.0000e+00\n",
            "Epoch 29/100\n",
            "149/149 [==============================] - ETA: 0s - loss: 3.5297 - accuracy: 0.1558 - top_5_categorical_accuracy: 0.0658\n",
            "Epoch 29: val_accuracy did not improve from 0.10145\n",
            "149/149 [==============================] - 18s 121ms/step - loss: 3.5297 - accuracy: 0.1558 - top_5_categorical_accuracy: 0.0658 - val_loss: 5.4754 - val_accuracy: 0.0773 - val_top_5_categorical_accuracy: 0.0000e+00\n",
            "Epoch 30/100\n",
            "149/149 [==============================] - ETA: 0s - loss: 3.5259 - accuracy: 0.1554 - top_5_categorical_accuracy: 0.0586\n",
            "Epoch 30: val_accuracy did not improve from 0.10145\n",
            "149/149 [==============================] - 18s 120ms/step - loss: 3.5259 - accuracy: 0.1554 - top_5_categorical_accuracy: 0.0586 - val_loss: 5.4024 - val_accuracy: 0.0676 - val_top_5_categorical_accuracy: 0.0000e+00\n",
            "Epoch 31/100\n",
            "148/149 [============================>.] - ETA: 0s - loss: 3.5032 - accuracy: 0.1423 - top_5_categorical_accuracy: 0.0705\n",
            "Epoch 31: val_accuracy did not improve from 0.10145\n",
            "149/149 [==============================] - 20s 132ms/step - loss: 3.5033 - accuracy: 0.1423 - top_5_categorical_accuracy: 0.0704 - val_loss: 5.4518 - val_accuracy: 0.0821 - val_top_5_categorical_accuracy: 0.0048\n",
            "Epoch 32/100\n",
            "149/149 [==============================] - ETA: 0s - loss: 3.5070 - accuracy: 0.1535 - top_5_categorical_accuracy: 0.0643\n",
            "Epoch 32: val_accuracy did not improve from 0.10145\n",
            "149/149 [==============================] - 18s 119ms/step - loss: 3.5070 - accuracy: 0.1535 - top_5_categorical_accuracy: 0.0643 - val_loss: 5.6943 - val_accuracy: 0.0628 - val_top_5_categorical_accuracy: 0.0000e+00\n",
            "Epoch 33/100\n",
            "149/149 [==============================] - ETA: 0s - loss: 3.4781 - accuracy: 0.1621 - top_5_categorical_accuracy: 0.0575\n",
            "Epoch 33: val_accuracy did not improve from 0.10145\n",
            "149/149 [==============================] - 18s 119ms/step - loss: 3.4781 - accuracy: 0.1621 - top_5_categorical_accuracy: 0.0575 - val_loss: 5.5306 - val_accuracy: 0.0870 - val_top_5_categorical_accuracy: 0.0000e+00\n",
            "Epoch 34/100\n",
            "149/149 [==============================] - ETA: 0s - loss: 3.4420 - accuracy: 0.1665 - top_5_categorical_accuracy: 0.0554\n",
            "Epoch 34: val_accuracy did not improve from 0.10145\n",
            "149/149 [==============================] - 18s 120ms/step - loss: 3.4420 - accuracy: 0.1665 - top_5_categorical_accuracy: 0.0554 - val_loss: 5.7917 - val_accuracy: 0.0531 - val_top_5_categorical_accuracy: 0.0000e+00\n",
            "Epoch 35/100\n",
            "149/149 [==============================] - ETA: 0s - loss: 3.4472 - accuracy: 0.1581 - top_5_categorical_accuracy: 0.0666\n",
            "Epoch 35: val_accuracy did not improve from 0.10145\n",
            "149/149 [==============================] - 18s 120ms/step - loss: 3.4472 - accuracy: 0.1581 - top_5_categorical_accuracy: 0.0666 - val_loss: 5.5141 - val_accuracy: 0.0918 - val_top_5_categorical_accuracy: 0.0000e+00\n",
            "Epoch 36/100\n",
            "149/149 [==============================] - ETA: 0s - loss: 3.4332 - accuracy: 0.1591 - top_5_categorical_accuracy: 0.0670\n",
            "Epoch 36: val_accuracy improved from 0.10145 to 0.11111, saving model to base_model.h5\n",
            "149/149 [==============================] - 18s 122ms/step - loss: 3.4332 - accuracy: 0.1591 - top_5_categorical_accuracy: 0.0670 - val_loss: 5.8756 - val_accuracy: 0.1111 - val_top_5_categorical_accuracy: 0.0000e+00\n",
            "Epoch 37/100\n",
            "149/149 [==============================] - ETA: 0s - loss: 3.4159 - accuracy: 0.1707 - top_5_categorical_accuracy: 0.0698\n",
            "Epoch 37: val_accuracy did not improve from 0.11111\n",
            "149/149 [==============================] - 18s 121ms/step - loss: 3.4159 - accuracy: 0.1707 - top_5_categorical_accuracy: 0.0698 - val_loss: 5.7828 - val_accuracy: 0.1111 - val_top_5_categorical_accuracy: 0.0000e+00\n",
            "Epoch 38/100\n",
            "149/149 [==============================] - ETA: 0s - loss: 3.3747 - accuracy: 0.1790 - top_5_categorical_accuracy: 0.0584\n",
            "Epoch 38: val_accuracy did not improve from 0.11111\n",
            "149/149 [==============================] - 18s 121ms/step - loss: 3.3747 - accuracy: 0.1790 - top_5_categorical_accuracy: 0.0584 - val_loss: 5.8942 - val_accuracy: 0.0918 - val_top_5_categorical_accuracy: 0.0000e+00\n",
            "Epoch 39/100\n",
            "149/149 [==============================] - ETA: 0s - loss: 3.3774 - accuracy: 0.1766 - top_5_categorical_accuracy: 0.0696\n",
            "Epoch 39: val_accuracy did not improve from 0.11111\n",
            "149/149 [==============================] - 18s 120ms/step - loss: 3.3774 - accuracy: 0.1766 - top_5_categorical_accuracy: 0.0696 - val_loss: 5.6473 - val_accuracy: 0.1111 - val_top_5_categorical_accuracy: 0.0048\n",
            "Epoch 40/100\n",
            "149/149 [==============================] - ETA: 0s - loss: 3.3786 - accuracy: 0.1655 - top_5_categorical_accuracy: 0.0590\n",
            "Epoch 40: val_accuracy did not improve from 0.11111\n",
            "149/149 [==============================] - 18s 121ms/step - loss: 3.3786 - accuracy: 0.1655 - top_5_categorical_accuracy: 0.0590 - val_loss: 5.6026 - val_accuracy: 0.1111 - val_top_5_categorical_accuracy: 0.0000e+00\n",
            "Epoch 41/100\n",
            "149/149 [==============================] - ETA: 0s - loss: 3.3871 - accuracy: 0.1739 - top_5_categorical_accuracy: 0.0611\n",
            "Epoch 41: val_accuracy did not improve from 0.11111\n",
            "149/149 [==============================] - 21s 140ms/step - loss: 3.3871 - accuracy: 0.1739 - top_5_categorical_accuracy: 0.0611 - val_loss: 5.6057 - val_accuracy: 0.1014 - val_top_5_categorical_accuracy: 0.0000e+00\n",
            "Epoch 42/100\n",
            "149/149 [==============================] - ETA: 0s - loss: 3.3386 - accuracy: 0.1769 - top_5_categorical_accuracy: 0.0624\n",
            "Epoch 42: val_accuracy did not improve from 0.11111\n",
            "149/149 [==============================] - 18s 121ms/step - loss: 3.3386 - accuracy: 0.1769 - top_5_categorical_accuracy: 0.0624 - val_loss: 5.6626 - val_accuracy: 0.0918 - val_top_5_categorical_accuracy: 0.0000e+00\n",
            "Epoch 43/100\n",
            "149/149 [==============================] - ETA: 0s - loss: 3.3061 - accuracy: 0.1906 - top_5_categorical_accuracy: 0.0649\n",
            "Epoch 43: val_accuracy improved from 0.11111 to 0.12077, saving model to base_model.h5\n",
            "149/149 [==============================] - 18s 123ms/step - loss: 3.3061 - accuracy: 0.1906 - top_5_categorical_accuracy: 0.0649 - val_loss: 5.6865 - val_accuracy: 0.1208 - val_top_5_categorical_accuracy: 0.0000e+00\n",
            "Epoch 44/100\n",
            "149/149 [==============================] - ETA: 0s - loss: 3.3105 - accuracy: 0.1861 - top_5_categorical_accuracy: 0.0561\n",
            "Epoch 44: val_accuracy did not improve from 0.12077\n",
            "149/149 [==============================] - 18s 122ms/step - loss: 3.3105 - accuracy: 0.1861 - top_5_categorical_accuracy: 0.0561 - val_loss: 5.5539 - val_accuracy: 0.1063 - val_top_5_categorical_accuracy: 0.0000e+00\n",
            "Epoch 45/100\n",
            "149/149 [==============================] - ETA: 0s - loss: 3.3009 - accuracy: 0.1899 - top_5_categorical_accuracy: 0.0681\n",
            "Epoch 45: val_accuracy improved from 0.12077 to 0.13527, saving model to base_model.h5\n",
            "149/149 [==============================] - 18s 123ms/step - loss: 3.3009 - accuracy: 0.1899 - top_5_categorical_accuracy: 0.0681 - val_loss: 5.9070 - val_accuracy: 0.1353 - val_top_5_categorical_accuracy: 0.0000e+00\n",
            "Epoch 46/100\n",
            "149/149 [==============================] - ETA: 0s - loss: 3.2928 - accuracy: 0.1823 - top_5_categorical_accuracy: 0.0586\n",
            "Epoch 46: val_accuracy did not improve from 0.13527\n",
            "149/149 [==============================] - 21s 139ms/step - loss: 3.2928 - accuracy: 0.1823 - top_5_categorical_accuracy: 0.0586 - val_loss: 6.0160 - val_accuracy: 0.1111 - val_top_5_categorical_accuracy: 0.0000e+00\n",
            "Epoch 47/100\n",
            "149/149 [==============================] - ETA: 0s - loss: 3.3091 - accuracy: 0.1832 - top_5_categorical_accuracy: 0.0584\n",
            "Epoch 47: val_accuracy did not improve from 0.13527\n",
            "149/149 [==============================] - 18s 120ms/step - loss: 3.3091 - accuracy: 0.1832 - top_5_categorical_accuracy: 0.0584 - val_loss: 6.0067 - val_accuracy: 0.0821 - val_top_5_categorical_accuracy: 0.0000e+00\n",
            "Epoch 48/100\n",
            "149/149 [==============================] - ETA: 0s - loss: 3.2988 - accuracy: 0.1870 - top_5_categorical_accuracy: 0.0609\n",
            "Epoch 48: val_accuracy did not improve from 0.13527\n",
            "149/149 [==============================] - 18s 119ms/step - loss: 3.2988 - accuracy: 0.1870 - top_5_categorical_accuracy: 0.0609 - val_loss: 5.7082 - val_accuracy: 0.0821 - val_top_5_categorical_accuracy: 0.0000e+00\n",
            "Epoch 49/100\n",
            "149/149 [==============================] - ETA: 0s - loss: 3.2659 - accuracy: 0.1897 - top_5_categorical_accuracy: 0.0548\n",
            "Epoch 49: val_accuracy did not improve from 0.13527\n",
            "149/149 [==============================] - 18s 121ms/step - loss: 3.2659 - accuracy: 0.1897 - top_5_categorical_accuracy: 0.0548 - val_loss: 6.1643 - val_accuracy: 0.1256 - val_top_5_categorical_accuracy: 0.0000e+00\n",
            "Epoch 50/100\n",
            "149/149 [==============================] - ETA: 0s - loss: 3.2494 - accuracy: 0.1925 - top_5_categorical_accuracy: 0.0594\n",
            "Epoch 50: val_accuracy did not improve from 0.13527\n",
            "149/149 [==============================] - 18s 121ms/step - loss: 3.2494 - accuracy: 0.1925 - top_5_categorical_accuracy: 0.0594 - val_loss: 6.2665 - val_accuracy: 0.1208 - val_top_5_categorical_accuracy: 0.0000e+00\n",
            "Epoch 51/100\n",
            "149/149 [==============================] - ETA: 0s - loss: 3.2704 - accuracy: 0.1925 - top_5_categorical_accuracy: 0.0533\n",
            "Epoch 51: val_accuracy did not improve from 0.13527\n",
            "149/149 [==============================] - 18s 120ms/step - loss: 3.2704 - accuracy: 0.1925 - top_5_categorical_accuracy: 0.0533 - val_loss: 5.7373 - val_accuracy: 0.1304 - val_top_5_categorical_accuracy: 0.0000e+00\n",
            "Epoch 52/100\n",
            "149/149 [==============================] - ETA: 0s - loss: 3.2673 - accuracy: 0.1922 - top_5_categorical_accuracy: 0.0540\n",
            "Epoch 52: val_accuracy did not improve from 0.13527\n",
            "149/149 [==============================] - 18s 119ms/step - loss: 3.2673 - accuracy: 0.1922 - top_5_categorical_accuracy: 0.0540 - val_loss: 6.0280 - val_accuracy: 0.1256 - val_top_5_categorical_accuracy: 0.0000e+00\n",
            "Epoch 53/100\n",
            "149/149 [==============================] - ETA: 0s - loss: 3.2194 - accuracy: 0.2062 - top_5_categorical_accuracy: 0.0563\n",
            "Epoch 53: val_accuracy did not improve from 0.13527\n",
            "149/149 [==============================] - 18s 121ms/step - loss: 3.2194 - accuracy: 0.2062 - top_5_categorical_accuracy: 0.0563 - val_loss: 6.0648 - val_accuracy: 0.1304 - val_top_5_categorical_accuracy: 0.0000e+00\n",
            "Epoch 54/100\n",
            "149/149 [==============================] - ETA: 0s - loss: 3.2259 - accuracy: 0.1981 - top_5_categorical_accuracy: 0.0616\n",
            "Epoch 54: val_accuracy did not improve from 0.13527\n",
            "149/149 [==============================] - 18s 120ms/step - loss: 3.2259 - accuracy: 0.1981 - top_5_categorical_accuracy: 0.0616 - val_loss: 6.1389 - val_accuracy: 0.1256 - val_top_5_categorical_accuracy: 0.0000e+00\n",
            "Epoch 55/100\n",
            "149/149 [==============================] - ETA: 0s - loss: 3.1961 - accuracy: 0.2083 - top_5_categorical_accuracy: 0.0573\n",
            "Epoch 55: val_accuracy did not improve from 0.13527\n",
            "149/149 [==============================] - 18s 120ms/step - loss: 3.1961 - accuracy: 0.2083 - top_5_categorical_accuracy: 0.0573 - val_loss: 6.1016 - val_accuracy: 0.1159 - val_top_5_categorical_accuracy: 0.0000e+00\n",
            "Epoch 56/100\n",
            "149/149 [==============================] - ETA: 0s - loss: 3.1876 - accuracy: 0.2057 - top_5_categorical_accuracy: 0.0662\n",
            "Epoch 56: val_accuracy improved from 0.13527 to 0.14493, saving model to base_model.h5\n",
            "149/149 [==============================] - 21s 141ms/step - loss: 3.1876 - accuracy: 0.2057 - top_5_categorical_accuracy: 0.0662 - val_loss: 5.9611 - val_accuracy: 0.1449 - val_top_5_categorical_accuracy: 0.0048\n",
            "Epoch 57/100\n",
            "149/149 [==============================] - ETA: 0s - loss: 3.1894 - accuracy: 0.2152 - top_5_categorical_accuracy: 0.0542\n",
            "Epoch 57: val_accuracy did not improve from 0.14493\n",
            "149/149 [==============================] - 18s 121ms/step - loss: 3.1894 - accuracy: 0.2152 - top_5_categorical_accuracy: 0.0542 - val_loss: 6.3728 - val_accuracy: 0.1063 - val_top_5_categorical_accuracy: 0.0000e+00\n",
            "Epoch 58/100\n",
            "149/149 [==============================] - ETA: 0s - loss: 3.1788 - accuracy: 0.2038 - top_5_categorical_accuracy: 0.0634\n",
            "Epoch 58: val_accuracy did not improve from 0.14493\n",
            "149/149 [==============================] - 18s 121ms/step - loss: 3.1788 - accuracy: 0.2038 - top_5_categorical_accuracy: 0.0634 - val_loss: 6.2535 - val_accuracy: 0.1159 - val_top_5_categorical_accuracy: 0.0000e+00\n",
            "Epoch 59/100\n",
            "149/149 [==============================] - ETA: 0s - loss: 3.1854 - accuracy: 0.2040 - top_5_categorical_accuracy: 0.0495\n",
            "Epoch 59: val_accuracy did not improve from 0.14493\n",
            "149/149 [==============================] - 18s 121ms/step - loss: 3.1854 - accuracy: 0.2040 - top_5_categorical_accuracy: 0.0495 - val_loss: 6.2724 - val_accuracy: 0.1111 - val_top_5_categorical_accuracy: 0.0000e+00\n",
            "Epoch 60/100\n",
            "149/149 [==============================] - ETA: 0s - loss: 3.1802 - accuracy: 0.2121 - top_5_categorical_accuracy: 0.0624\n",
            "Epoch 60: val_accuracy did not improve from 0.14493\n",
            "149/149 [==============================] - 18s 120ms/step - loss: 3.1802 - accuracy: 0.2121 - top_5_categorical_accuracy: 0.0624 - val_loss: 6.3090 - val_accuracy: 0.1304 - val_top_5_categorical_accuracy: 0.0000e+00\n",
            "Epoch 61/100\n",
            "149/149 [==============================] - ETA: 0s - loss: 3.1757 - accuracy: 0.2078 - top_5_categorical_accuracy: 0.0597\n",
            "Epoch 61: val_accuracy did not improve from 0.14493\n",
            "149/149 [==============================] - 18s 120ms/step - loss: 3.1757 - accuracy: 0.2078 - top_5_categorical_accuracy: 0.0597 - val_loss: 6.0324 - val_accuracy: 0.1256 - val_top_5_categorical_accuracy: 0.0000e+00\n",
            "Epoch 62/100\n",
            "149/149 [==============================] - ETA: 0s - loss: 3.1336 - accuracy: 0.2148 - top_5_categorical_accuracy: 0.0504\n",
            "Epoch 62: val_accuracy did not improve from 0.14493\n",
            "149/149 [==============================] - 21s 140ms/step - loss: 3.1336 - accuracy: 0.2148 - top_5_categorical_accuracy: 0.0504 - val_loss: 6.0945 - val_accuracy: 0.1449 - val_top_5_categorical_accuracy: 0.0000e+00\n",
            "Epoch 63/100\n",
            "149/149 [==============================] - ETA: 0s - loss: 3.1345 - accuracy: 0.2112 - top_5_categorical_accuracy: 0.0478\n",
            "Epoch 63: val_accuracy did not improve from 0.14493\n",
            "149/149 [==============================] - 18s 121ms/step - loss: 3.1345 - accuracy: 0.2112 - top_5_categorical_accuracy: 0.0478 - val_loss: 6.3534 - val_accuracy: 0.1304 - val_top_5_categorical_accuracy: 0.0000e+00\n",
            "Epoch 64/100\n",
            "149/149 [==============================] - ETA: 0s - loss: 3.1216 - accuracy: 0.2177 - top_5_categorical_accuracy: 0.0628\n",
            "Epoch 64: val_accuracy did not improve from 0.14493\n",
            "149/149 [==============================] - 18s 120ms/step - loss: 3.1216 - accuracy: 0.2177 - top_5_categorical_accuracy: 0.0628 - val_loss: 6.1315 - val_accuracy: 0.1304 - val_top_5_categorical_accuracy: 0.0000e+00\n",
            "Epoch 65/100\n",
            "149/149 [==============================] - ETA: 0s - loss: 3.1343 - accuracy: 0.2173 - top_5_categorical_accuracy: 0.0550\n",
            "Epoch 65: val_accuracy did not improve from 0.14493\n",
            "149/149 [==============================] - 18s 121ms/step - loss: 3.1343 - accuracy: 0.2173 - top_5_categorical_accuracy: 0.0550 - val_loss: 6.1741 - val_accuracy: 0.1353 - val_top_5_categorical_accuracy: 0.0000e+00\n",
            "Epoch 66/100\n",
            "149/149 [==============================] - ETA: 0s - loss: 3.1045 - accuracy: 0.2253 - top_5_categorical_accuracy: 0.0622\n",
            "Epoch 66: val_accuracy did not improve from 0.14493\n",
            "149/149 [==============================] - 18s 121ms/step - loss: 3.1045 - accuracy: 0.2253 - top_5_categorical_accuracy: 0.0622 - val_loss: 6.4740 - val_accuracy: 0.1159 - val_top_5_categorical_accuracy: 0.0000e+00\n",
            "Epoch 67/100\n",
            "149/149 [==============================] - ETA: 0s - loss: 3.0992 - accuracy: 0.2215 - top_5_categorical_accuracy: 0.0584\n",
            "Epoch 67: val_accuracy did not improve from 0.14493\n",
            "149/149 [==============================] - 18s 121ms/step - loss: 3.0992 - accuracy: 0.2215 - top_5_categorical_accuracy: 0.0584 - val_loss: 6.6350 - val_accuracy: 0.1353 - val_top_5_categorical_accuracy: 0.0000e+00\n",
            "Epoch 68/100\n",
            "149/149 [==============================] - ETA: 0s - loss: 3.1080 - accuracy: 0.2270 - top_5_categorical_accuracy: 0.0588\n",
            "Epoch 68: val_accuracy did not improve from 0.14493\n",
            "149/149 [==============================] - 18s 120ms/step - loss: 3.1080 - accuracy: 0.2270 - top_5_categorical_accuracy: 0.0588 - val_loss: 6.1380 - val_accuracy: 0.1449 - val_top_5_categorical_accuracy: 0.0000e+00\n",
            "Epoch 69/100\n",
            "149/149 [==============================] - ETA: 0s - loss: 3.0814 - accuracy: 0.2285 - top_5_categorical_accuracy: 0.0561\n",
            "Epoch 69: val_accuracy did not improve from 0.14493\n",
            "149/149 [==============================] - 18s 121ms/step - loss: 3.0814 - accuracy: 0.2285 - top_5_categorical_accuracy: 0.0561 - val_loss: 6.1194 - val_accuracy: 0.1353 - val_top_5_categorical_accuracy: 0.0000e+00\n",
            "Epoch 70/100\n",
            "149/149 [==============================] - ETA: 0s - loss: 3.0842 - accuracy: 0.2333 - top_5_categorical_accuracy: 0.0563\n",
            "Epoch 70: val_accuracy did not improve from 0.14493\n",
            "149/149 [==============================] - 18s 120ms/step - loss: 3.0842 - accuracy: 0.2333 - top_5_categorical_accuracy: 0.0563 - val_loss: 6.2455 - val_accuracy: 0.1353 - val_top_5_categorical_accuracy: 0.0000e+00\n",
            "Epoch 71/100\n",
            "149/149 [==============================] - ETA: 0s - loss: 3.0974 - accuracy: 0.2159 - top_5_categorical_accuracy: 0.0607\n",
            "Epoch 71: val_accuracy did not improve from 0.14493\n",
            "149/149 [==============================] - 21s 138ms/step - loss: 3.0974 - accuracy: 0.2159 - top_5_categorical_accuracy: 0.0607 - val_loss: 6.2476 - val_accuracy: 0.1208 - val_top_5_categorical_accuracy: 0.0000e+00\n",
            "Epoch 72/100\n",
            "149/149 [==============================] - ETA: 0s - loss: 3.0631 - accuracy: 0.2266 - top_5_categorical_accuracy: 0.0601\n",
            "Epoch 72: val_accuracy did not improve from 0.14493\n",
            "149/149 [==============================] - 18s 122ms/step - loss: 3.0631 - accuracy: 0.2266 - top_5_categorical_accuracy: 0.0601 - val_loss: 6.3728 - val_accuracy: 0.1111 - val_top_5_categorical_accuracy: 0.0000e+00\n",
            "Epoch 73/100\n",
            "149/149 [==============================] - ETA: 0s - loss: 3.0702 - accuracy: 0.2272 - top_5_categorical_accuracy: 0.0497\n",
            "Epoch 73: val_accuracy did not improve from 0.14493\n",
            "149/149 [==============================] - 18s 120ms/step - loss: 3.0702 - accuracy: 0.2272 - top_5_categorical_accuracy: 0.0497 - val_loss: 6.6169 - val_accuracy: 0.1208 - val_top_5_categorical_accuracy: 0.0000e+00\n",
            "Epoch 74/100\n",
            "149/149 [==============================] - ETA: 0s - loss: 3.0697 - accuracy: 0.2247 - top_5_categorical_accuracy: 0.0613\n",
            "Epoch 74: val_accuracy did not improve from 0.14493\n",
            "149/149 [==============================] - 18s 121ms/step - loss: 3.0697 - accuracy: 0.2247 - top_5_categorical_accuracy: 0.0613 - val_loss: 6.1559 - val_accuracy: 0.1208 - val_top_5_categorical_accuracy: 0.0048\n",
            "Epoch 75/100\n",
            "149/149 [==============================] - ETA: 0s - loss: 3.0724 - accuracy: 0.2249 - top_5_categorical_accuracy: 0.0512\n",
            "Epoch 75: val_accuracy did not improve from 0.14493\n",
            "149/149 [==============================] - 18s 121ms/step - loss: 3.0724 - accuracy: 0.2249 - top_5_categorical_accuracy: 0.0512 - val_loss: 6.1593 - val_accuracy: 0.1449 - val_top_5_categorical_accuracy: 0.0000e+00\n",
            "Epoch 76/100\n",
            "149/149 [==============================] - ETA: 0s - loss: 3.0608 - accuracy: 0.2346 - top_5_categorical_accuracy: 0.0594\n",
            "Epoch 76: val_accuracy did not improve from 0.14493\n",
            "149/149 [==============================] - 18s 122ms/step - loss: 3.0608 - accuracy: 0.2346 - top_5_categorical_accuracy: 0.0594 - val_loss: 6.2242 - val_accuracy: 0.1304 - val_top_5_categorical_accuracy: 0.0000e+00\n",
            "Epoch 77/100\n",
            "149/149 [==============================] - ETA: 0s - loss: 3.0526 - accuracy: 0.2306 - top_5_categorical_accuracy: 0.0592\n",
            "Epoch 77: val_accuracy improved from 0.14493 to 0.14976, saving model to base_model.h5\n",
            "149/149 [==============================] - 18s 122ms/step - loss: 3.0526 - accuracy: 0.2306 - top_5_categorical_accuracy: 0.0592 - val_loss: 6.6819 - val_accuracy: 0.1498 - val_top_5_categorical_accuracy: 0.0000e+00\n",
            "Epoch 78/100\n",
            "149/149 [==============================] - ETA: 0s - loss: 3.0396 - accuracy: 0.2304 - top_5_categorical_accuracy: 0.0529\n",
            "Epoch 78: val_accuracy did not improve from 0.14976\n",
            "149/149 [==============================] - 21s 141ms/step - loss: 3.0396 - accuracy: 0.2304 - top_5_categorical_accuracy: 0.0529 - val_loss: 6.6378 - val_accuracy: 0.1304 - val_top_5_categorical_accuracy: 0.0000e+00\n",
            "Epoch 79/100\n",
            "149/149 [==============================] - ETA: 0s - loss: 3.0399 - accuracy: 0.2333 - top_5_categorical_accuracy: 0.0540\n",
            "Epoch 79: val_accuracy did not improve from 0.14976\n",
            "149/149 [==============================] - 18s 121ms/step - loss: 3.0399 - accuracy: 0.2333 - top_5_categorical_accuracy: 0.0540 - val_loss: 6.3550 - val_accuracy: 0.1159 - val_top_5_categorical_accuracy: 0.0000e+00\n",
            "Epoch 80/100\n",
            "149/149 [==============================] - ETA: 0s - loss: 3.0234 - accuracy: 0.2333 - top_5_categorical_accuracy: 0.0527\n",
            "Epoch 80: val_accuracy did not improve from 0.14976\n",
            "149/149 [==============================] - 18s 121ms/step - loss: 3.0234 - accuracy: 0.2333 - top_5_categorical_accuracy: 0.0527 - val_loss: 6.5105 - val_accuracy: 0.1304 - val_top_5_categorical_accuracy: 0.0000e+00\n",
            "Epoch 81/100\n",
            "149/149 [==============================] - ETA: 0s - loss: 3.0046 - accuracy: 0.2399 - top_5_categorical_accuracy: 0.0493\n",
            "Epoch 81: val_accuracy did not improve from 0.14976\n",
            "149/149 [==============================] - 18s 121ms/step - loss: 3.0046 - accuracy: 0.2399 - top_5_categorical_accuracy: 0.0493 - val_loss: 6.4867 - val_accuracy: 0.1208 - val_top_5_categorical_accuracy: 0.0000e+00\n",
            "Epoch 82/100\n",
            "149/149 [==============================] - ETA: 0s - loss: 3.0291 - accuracy: 0.2300 - top_5_categorical_accuracy: 0.0624\n",
            "Epoch 82: val_accuracy did not improve from 0.14976\n",
            "149/149 [==============================] - 18s 121ms/step - loss: 3.0291 - accuracy: 0.2300 - top_5_categorical_accuracy: 0.0624 - val_loss: 6.2419 - val_accuracy: 0.1256 - val_top_5_categorical_accuracy: 0.0000e+00\n",
            "Epoch 83/100\n",
            "149/149 [==============================] - ETA: 0s - loss: 3.0269 - accuracy: 0.2255 - top_5_categorical_accuracy: 0.0451\n",
            "Epoch 83: val_accuracy did not improve from 0.14976\n",
            "149/149 [==============================] - 18s 122ms/step - loss: 3.0269 - accuracy: 0.2255 - top_5_categorical_accuracy: 0.0451 - val_loss: 6.1834 - val_accuracy: 0.1401 - val_top_5_categorical_accuracy: 0.0048\n",
            "Epoch 84/100\n",
            "149/149 [==============================] - ETA: 0s - loss: 2.9909 - accuracy: 0.2361 - top_5_categorical_accuracy: 0.0637\n",
            "Epoch 84: val_accuracy did not improve from 0.14976\n",
            "149/149 [==============================] - 18s 123ms/step - loss: 2.9909 - accuracy: 0.2361 - top_5_categorical_accuracy: 0.0637 - val_loss: 6.4696 - val_accuracy: 0.1304 - val_top_5_categorical_accuracy: 0.0000e+00\n",
            "Epoch 85/100\n",
            "149/149 [==============================] - ETA: 0s - loss: 2.9882 - accuracy: 0.2460 - top_5_categorical_accuracy: 0.0497\n",
            "Epoch 85: val_accuracy did not improve from 0.14976\n",
            "149/149 [==============================] - 18s 121ms/step - loss: 2.9882 - accuracy: 0.2460 - top_5_categorical_accuracy: 0.0497 - val_loss: 6.7045 - val_accuracy: 0.1208 - val_top_5_categorical_accuracy: 0.0048\n",
            "Epoch 86/100\n",
            "149/149 [==============================] - ETA: 0s - loss: 3.0099 - accuracy: 0.2304 - top_5_categorical_accuracy: 0.0523\n",
            "Epoch 86: val_accuracy improved from 0.14976 to 0.15459, saving model to base_model.h5\n",
            "149/149 [==============================] - 18s 123ms/step - loss: 3.0099 - accuracy: 0.2304 - top_5_categorical_accuracy: 0.0523 - val_loss: 6.6122 - val_accuracy: 0.1546 - val_top_5_categorical_accuracy: 0.0048\n",
            "Epoch 87/100\n",
            "149/149 [==============================] - ETA: 0s - loss: 3.0278 - accuracy: 0.2277 - top_5_categorical_accuracy: 0.0519\n",
            "Epoch 87: val_accuracy improved from 0.15459 to 0.15942, saving model to base_model.h5\n",
            "149/149 [==============================] - 21s 141ms/step - loss: 3.0278 - accuracy: 0.2277 - top_5_categorical_accuracy: 0.0519 - val_loss: 6.3937 - val_accuracy: 0.1594 - val_top_5_categorical_accuracy: 0.0048\n",
            "Epoch 88/100\n",
            "149/149 [==============================] - ETA: 0s - loss: 2.9976 - accuracy: 0.2340 - top_5_categorical_accuracy: 0.0628\n",
            "Epoch 88: val_accuracy improved from 0.15942 to 0.16425, saving model to base_model.h5\n",
            "149/149 [==============================] - 18s 123ms/step - loss: 2.9976 - accuracy: 0.2340 - top_5_categorical_accuracy: 0.0628 - val_loss: 6.8075 - val_accuracy: 0.1643 - val_top_5_categorical_accuracy: 0.0000e+00\n",
            "Epoch 89/100\n",
            "149/149 [==============================] - ETA: 0s - loss: 2.9717 - accuracy: 0.2424 - top_5_categorical_accuracy: 0.0632\n",
            "Epoch 89: val_accuracy did not improve from 0.16425\n",
            "149/149 [==============================] - 18s 122ms/step - loss: 2.9717 - accuracy: 0.2424 - top_5_categorical_accuracy: 0.0632 - val_loss: 6.3356 - val_accuracy: 0.1498 - val_top_5_categorical_accuracy: 0.0000e+00\n",
            "Epoch 90/100\n",
            "149/149 [==============================] - ETA: 0s - loss: 2.9485 - accuracy: 0.2492 - top_5_categorical_accuracy: 0.0578\n",
            "Epoch 90: val_accuracy did not improve from 0.16425\n",
            "149/149 [==============================] - 18s 122ms/step - loss: 2.9485 - accuracy: 0.2492 - top_5_categorical_accuracy: 0.0578 - val_loss: 7.0956 - val_accuracy: 0.1449 - val_top_5_categorical_accuracy: 0.0048\n",
            "Epoch 91/100\n",
            "149/149 [==============================] - ETA: 0s - loss: 2.9991 - accuracy: 0.2392 - top_5_categorical_accuracy: 0.0466\n",
            "Epoch 91: val_accuracy did not improve from 0.16425\n",
            "149/149 [==============================] - 18s 120ms/step - loss: 2.9991 - accuracy: 0.2392 - top_5_categorical_accuracy: 0.0466 - val_loss: 6.4831 - val_accuracy: 0.1353 - val_top_5_categorical_accuracy: 0.0048\n",
            "Epoch 92/100\n",
            "149/149 [==============================] - ETA: 0s - loss: 2.9710 - accuracy: 0.2452 - top_5_categorical_accuracy: 0.0544\n",
            "Epoch 92: val_accuracy did not improve from 0.16425\n",
            "149/149 [==============================] - 18s 123ms/step - loss: 2.9710 - accuracy: 0.2452 - top_5_categorical_accuracy: 0.0544 - val_loss: 6.7531 - val_accuracy: 0.1498 - val_top_5_categorical_accuracy: 0.0048\n",
            "Epoch 93/100\n",
            "149/149 [==============================] - ETA: 0s - loss: 2.9708 - accuracy: 0.2462 - top_5_categorical_accuracy: 0.0588\n",
            "Epoch 93: val_accuracy did not improve from 0.16425\n",
            "149/149 [==============================] - 21s 142ms/step - loss: 2.9708 - accuracy: 0.2462 - top_5_categorical_accuracy: 0.0588 - val_loss: 6.7092 - val_accuracy: 0.1208 - val_top_5_categorical_accuracy: 0.0000e+00\n",
            "Epoch 94/100\n",
            "149/149 [==============================] - ETA: 0s - loss: 2.9532 - accuracy: 0.2424 - top_5_categorical_accuracy: 0.0514\n",
            "Epoch 94: val_accuracy did not improve from 0.16425\n",
            "149/149 [==============================] - 18s 121ms/step - loss: 2.9532 - accuracy: 0.2424 - top_5_categorical_accuracy: 0.0514 - val_loss: 6.7370 - val_accuracy: 0.1498 - val_top_5_categorical_accuracy: 0.0048\n",
            "Epoch 95/100\n",
            "149/149 [==============================] - ETA: 0s - loss: 2.9138 - accuracy: 0.2551 - top_5_categorical_accuracy: 0.0666\n",
            "Epoch 95: val_accuracy did not improve from 0.16425\n",
            "149/149 [==============================] - 18s 123ms/step - loss: 2.9138 - accuracy: 0.2551 - top_5_categorical_accuracy: 0.0666 - val_loss: 7.0568 - val_accuracy: 0.1449 - val_top_5_categorical_accuracy: 0.0048\n",
            "Epoch 96/100\n",
            "149/149 [==============================] - ETA: 0s - loss: 2.9175 - accuracy: 0.2538 - top_5_categorical_accuracy: 0.0586\n",
            "Epoch 96: val_accuracy did not improve from 0.16425\n",
            "149/149 [==============================] - 18s 122ms/step - loss: 2.9175 - accuracy: 0.2538 - top_5_categorical_accuracy: 0.0586 - val_loss: 7.0107 - val_accuracy: 0.1449 - val_top_5_categorical_accuracy: 0.0048\n",
            "Epoch 97/100\n",
            "149/149 [==============================] - ETA: 0s - loss: 2.9164 - accuracy: 0.2508 - top_5_categorical_accuracy: 0.0607\n",
            "Epoch 97: val_accuracy did not improve from 0.16425\n",
            "149/149 [==============================] - 18s 122ms/step - loss: 2.9164 - accuracy: 0.2508 - top_5_categorical_accuracy: 0.0607 - val_loss: 6.9880 - val_accuracy: 0.1256 - val_top_5_categorical_accuracy: 0.0048\n",
            "Epoch 98/100\n",
            "149/149 [==============================] - ETA: 0s - loss: 2.9674 - accuracy: 0.2367 - top_5_categorical_accuracy: 0.0493\n",
            "Epoch 98: val_accuracy did not improve from 0.16425\n",
            "149/149 [==============================] - 18s 122ms/step - loss: 2.9674 - accuracy: 0.2367 - top_5_categorical_accuracy: 0.0493 - val_loss: 6.7493 - val_accuracy: 0.1449 - val_top_5_categorical_accuracy: 0.0048\n",
            "Epoch 99/100\n",
            "149/149 [==============================] - ETA: 0s - loss: 2.9248 - accuracy: 0.2506 - top_5_categorical_accuracy: 0.0586\n",
            "Epoch 99: val_accuracy did not improve from 0.16425\n",
            "149/149 [==============================] - 18s 122ms/step - loss: 2.9248 - accuracy: 0.2506 - top_5_categorical_accuracy: 0.0586 - val_loss: 6.6530 - val_accuracy: 0.1353 - val_top_5_categorical_accuracy: 0.0000e+00\n",
            "Epoch 100/100\n",
            "149/149 [==============================] - ETA: 0s - loss: 2.9581 - accuracy: 0.2515 - top_5_categorical_accuracy: 0.0483\n",
            "Epoch 100: val_accuracy improved from 0.16425 to 0.16908, saving model to base_model.h5\n",
            "149/149 [==============================] - 18s 123ms/step - loss: 2.9581 - accuracy: 0.2515 - top_5_categorical_accuracy: 0.0483 - val_loss: 7.0703 - val_accuracy: 0.1691 - val_top_5_categorical_accuracy: 0.0048\n"
          ]
        }
      ],
      "source": [
        "# Compile and fit Adam model\n",
        "checkpoint = ModelCheckpoint(\"base_model.h5\", monitor='val_accuracy', verbose=1, save_best_only=True, save_weights_only=False, mode='auto', save_freq= 'epoch')\n",
        "early = EarlyStopping(monitor='val_accuracy', min_delta=0, patience=50, verbose=1, mode='auto')\n",
        "optimizer = tf.keras.optimizers.Adam(learning_rate = 0.001)\n",
        "cnn_model.compile(optimizer=optimizer, loss='sparse_categorical_crossentropy', metrics=['accuracy', top_5_categorical_accuracy])\n",
        "batch_size = 32\n",
        "steps_per_epoch = int( np.ceil(x_train.shape[0] / batch_size) )\n",
        "initial_epochs = 100\n",
        "history = cnn_model.fit(datagen.flow(x_train, y_train), batch_size=batch_size, steps_per_epoch = steps_per_epoch,\n",
        "              epochs=initial_epochs, verbose=1, validation_data= (x_test, y_test), callbacks = [early, checkpoint])"
      ]
    },
    {
      "cell_type": "code",
      "execution_count": 24,
      "metadata": {
        "colab": {
          "base_uri": "https://localhost:8080/"
        },
        "id": "E9BQ9qGp_wkC",
        "outputId": "43e251cd-4a5f-450a-d29c-f568f7c5e7bd"
      },
      "outputs": [
        {
          "output_type": "stream",
          "name": "stdout",
          "text": [
            "7/7 [==============================] - 0s 14ms/step - loss: 7.0703 - accuracy: 0.1691 - top_5_categorical_accuracy: 0.0048\n"
          ]
        },
        {
          "output_type": "execute_result",
          "data": {
            "text/plain": [
              "[7.070347785949707, 0.16908212006092072, 0.004830917809158564]"
            ]
          },
          "metadata": {},
          "execution_count": 24
        }
      ],
      "source": [
        "# Evaluate model\n",
        "cnn_model.evaluate(x_test, y_test)"
      ]
    },
    {
      "cell_type": "code",
      "execution_count": 25,
      "metadata": {
        "colab": {
          "base_uri": "https://localhost:8080/",
          "height": 805
        },
        "id": "Ksrr0Vqo_5Az",
        "outputId": "cff22d32-a5fc-4482-cbe7-d9368bcab3e3"
      },
      "outputs": [
        {
          "output_type": "display_data",
          "data": {
            "text/plain": [
              "<Figure size 576x432 with 1 Axes>"
            ],
            "image/png": "[encoded data removed]"
          },
          "metadata": {
            "needs_background": "light"
          }
        },
        {
          "output_type": "display_data",
          "data": {
            "text/plain": [
              "<Figure size 576x432 with 1 Axes>"
            ],
            "image/png": "[encoded data removed]"
          },
          "metadata": {
            "needs_background": "light"
          }
        }
      ],
      "source": [
        "# Show model's loss and accuracy graph\n",
        "loss = history.history['loss']\n",
        "val_loss = history.history['val_loss']\n",
        "\n",
        "accuracy = history.history['accuracy']\n",
        "val_accuracy = history.history['val_accuracy']\n",
        "\n",
        "plt.figure(figsize=[8,6])\n",
        "plt.plot(loss,'r',linewidth=3.0)\n",
        "plt.plot(val_loss,'b',linewidth=3.0)\n",
        "plt.legend(['Training loss', 'Validation Loss'],fontsize=18)\n",
        "plt.xlabel('Epochs ',fontsize=16)\n",
        "plt.ylabel('Loss',fontsize=16)\n",
        "plt.title('Loss Curves',fontsize=16)\n",
        "plt.show()\n",
        "\n",
        "plt.figure(figsize=[8,6])\n",
        "plt.plot(accuracy,'r',linewidth=3.0)\n",
        "plt.plot(val_accuracy,'b',linewidth=3.0)\n",
        "plt.legend(['Training Accuracy', 'Validation Accuracy'],fontsize=18)\n",
        "plt.xlabel('Epochs ',fontsize=16)\n",
        "plt.ylabel('Accuracy',fontsize=16)\n",
        "plt.title('Accuracy Curves',fontsize=16)\n",
        "plt.show() "
      ]
    }
  ],
  "metadata": {
    "accelerator": "GPU",
    "colab": {
      "collapsed_sections": [],
      "provenance": []
    },
    "gpuClass": "standard",
    "kernelspec": {
      "display_name": "Python 3",
      "name": "python3"
    },
    "language_info": {
      "name": "python"
    }
  },
  "nbformat": 4,
  "nbformat_minor": 0
}