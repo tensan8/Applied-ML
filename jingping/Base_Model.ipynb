{
  "cells": [
    {
      "cell_type": "code",
      "execution_count": 1,
      "metadata": {
        "id": "neIQx6jsHuAu"
      },
      "outputs": [],
      "source": [
        "from matplotlib import image\n",
        "import numpy as np\n",
        "import tensorflow as tf\n",
        "from keras.layers import Dense, Conv2D, MaxPooling2D, Dropout, Flatten\n",
        "from keras.callbacks import ModelCheckpoint, EarlyStopping\n",
        "from keras.models import Sequential, load_model\n",
        "from keras.utils import to_categorical\n",
        "from sklearn.model_selection import train_test_split\n",
        "from keras.metrics import top_k_categorical_accuracy\n",
        "from keras.preprocessing.image import ImageDataGenerator\n",
        "from keras import regularizers\n",
        "import matplotlib.pyplot as plt\n",
        "from sklearn.preprocessing import LabelEncoder"
      ]
    },
    {
      "cell_type": "code",
      "execution_count": 2,
      "metadata": {
        "colab": {
          "base_uri": "https://localhost:8080/"
        },
        "id": "Lmso7HEEDWeK",
        "outputId": "06ddc084-a81c-4a8c-dc3a-1cec9a5e7983"
      },
      "outputs": [
        {
          "output_type": "stream",
          "name": "stdout",
          "text": [
            "Drive already mounted at /content/drive/; to attempt to forcibly remount, call drive.mount(\"/content/drive/\", force_remount=True).\n"
          ]
        }
      ],
      "source": [
        "from google.colab import drive\n",
        "drive.mount('/content/drive/')"
      ]
    },
    {
      "cell_type": "code",
      "execution_count": 3,
      "metadata": {
        "id": "E_KY3hGzWC4-",
        "colab": {
          "base_uri": "https://localhost:8080/"
        },
        "outputId": "f820a5aa-6afe-48fa-96c2-440350d757f5"
      },
      "outputs": [
        {
          "output_type": "stream",
          "name": "stdout",
          "text": [
            "replace train/herbarium/148977/291355.jpg? [y]es, [n]o, [A]ll, [N]one, [r]ename: A\n",
            "replace test/11765.jpg? [y]es, [n]o, [A]ll, [N]one, [r]ename: A\n"
          ]
        }
      ],
      "source": [
        "!unzip drive/MyDrive/AML_project/train.zip > /dev/null\n",
        "!unzip drive/MyDrive/AML_project/test.zip > /dev/null\n",
        "\n",
        "!cp \"/content/drive/MyDrive/AML_project/list/train.txt\" \"train.txt\"\n",
        "!cp \"/content/drive/MyDrive/AML_project/list/groundtruth.txt\" \"groundtruth.txt\""
      ]
    },
    {
      "cell_type": "code",
      "execution_count": 4,
      "metadata": {
        "id": "6x0-zQ_rGHra"
      },
      "outputs": [],
      "source": [
        "def convert_image_to_numpy(image_paths_arr):\n",
        "  dataset_nparr = list()\n",
        "\n",
        "  for path in image_paths_arr:\n",
        "    image_data = image.imread(path)\n",
        "    image_data = tf.cast(image_data, tf.float32)/255\n",
        "    image_data = tf.image.resize(image_data, (128, 128), method = \"bilinear\")\n",
        "    dataset_nparr.append(image_data)\n",
        "\n",
        "  return np.array(dataset_nparr)"
      ]
    },
    {
      "cell_type": "code",
      "execution_count": 5,
      "metadata": {
        "id": "1qqQNgaVhEls"
      },
      "outputs": [],
      "source": [
        "def encode_labels(labels_arr):\n",
        "  label_encoder = LabelEncoder()\n",
        "  return label_encoder.fit_transform(labels_arr)"
      ]
    },
    {
      "cell_type": "code",
      "execution_count": 6,
      "metadata": {
        "id": "iwqVGlvUhAe5"
      },
      "outputs": [],
      "source": [
        "def load_data(text_file):\n",
        "  with open(text_file) as txt_file:\n",
        "    # read the file, with format \"path label\"\n",
        "    # e.g. train/photo/106023/1769.jpg 106023\n",
        "    lines_arr = [line.strip() for line in txt_file.readlines()]\n",
        "\n",
        "    # split the lines to image path and label\n",
        "    image_paths = [line.split(' ')[0] for line in lines_arr]\n",
        "    labels = [line.split(' ')[1] for line in lines_arr]\n",
        "\n",
        "    x_data = convert_image_to_numpy(image_paths)\n",
        "    y_data = encode_labels(labels)\n",
        "\n",
        "    return x_data, y_data"
      ]
    },
    {
      "cell_type": "code",
      "execution_count": 7,
      "metadata": {
        "id": "oQDlBcv8hc9M"
      },
      "outputs": [],
      "source": [
        "# Load train data\n",
        "x_train, y_train = load_data(\"train.txt\")"
      ]
    },
    {
      "cell_type": "code",
      "execution_count": 8,
      "metadata": {
        "id": "BJv0YUgAhoSi"
      },
      "outputs": [],
      "source": [
        "# Load test data\n",
        "x_test, y_test = load_data(\"groundtruth.txt\")"
      ]
    },
    {
      "cell_type": "code",
      "execution_count": 9,
      "metadata": {
        "colab": {
          "base_uri": "https://localhost:8080/"
        },
        "id": "N-E_rU9zifan",
        "outputId": "67028b22-9866-41da-91ff-90dcd0a975a3"
      },
      "outputs": [
        {
          "output_type": "stream",
          "name": "stdout",
          "text": [
            "Shapes Checking\n",
            "X-train: (4744, 128, 128, 3)\n",
            "y-train: (4744,)\n",
            "X-test: (207, 128, 128, 3)\n",
            "y-test: (207,)\n"
          ]
        }
      ],
      "source": [
        "# Check data shape\n",
        "print(\"Shapes Checking\")\n",
        "print(\"X-train: \" + str(x_train.shape))\n",
        "print(\"y-train: \" + str(y_train.shape))\n",
        "print(\"X-test: \" + str(x_test.shape))\n",
        "print(\"y-test: \" + str(y_test.shape))"
      ]
    },
    {
      "cell_type": "code",
      "execution_count": 10,
      "metadata": {
        "colab": {
          "base_uri": "https://localhost:8080/"
        },
        "id": "UHv1QFa96EEx",
        "outputId": "8a634254-00a5-4341-adcf-a4e51c2da7a7"
      },
      "outputs": [
        {
          "output_type": "stream",
          "name": "stdout",
          "text": [
            "Reshape Checking\n",
            "X-train: (4744, 128, 128, 3)\n",
            "X-test: (207, 128, 128, 3)\n"
          ]
        }
      ],
      "source": [
        "# Normalize and reshape the data\n",
        "nRows,nCols,nDims = x_train.shape[1:]\n",
        "x_train = x_train.reshape(x_train.shape[0], nRows, nCols, nDims)\n",
        "input_shape = (nRows, nCols, nDims)\n",
        "\n",
        "nRows,nCols,nDims = x_test.shape[1:]\n",
        "x_test = x_test.reshape(x_test.shape[0], nRows, nCols, nDims)\n",
        "\n",
        "print(\"Reshape Checking\")\n",
        "print(\"X-train: \" + str(x_train.shape))\n",
        "print(\"X-test: \" + str(x_test.shape))"
      ]
    },
    {
      "cell_type": "code",
      "execution_count": 11,
      "metadata": {
        "id": "Uhk_WlqG6zWM"
      },
      "outputs": [],
      "source": [
        "classes = np.unique(y_train)\n",
        "nClasses = len(classes)\n"
      ]
    },
    {
      "cell_type": "code",
      "execution_count": 12,
      "metadata": {
        "id": "PDwngO36AbNe"
      },
      "outputs": [],
      "source": [
        "# Image data generator (data augmentation)\n",
        "datagen = ImageDataGenerator(horizontal_flip=True,\n",
        "                            rotation_range=45,\n",
        "                            zoom_range=0.8,\n",
        "                            vertical_flip=True)\n",
        "\n",
        "datagen.fit(x_train)"
      ]
    },
    {
      "cell_type": "code",
      "execution_count": 13,
      "metadata": {
        "id": "Nbk1SklG68u-"
      },
      "outputs": [],
      "source": [
        "# Create Model\n",
        "def createModel():\n",
        "    model = Sequential()\n",
        "    model.add(Conv2D(64, (3, 3), padding = \"same\", kernel_regularizer=regularizers.L1(0.01), activation='relu', input_shape=input_shape))\n",
        "    model.add(Conv2D(32, (3, 3), activation='relu'))\n",
        "    model.add(MaxPooling2D(pool_size=(2, 2)))\n",
        " \n",
        "    model.add(Conv2D(16, (3, 3), activation='relu'))\n",
        "    model.add(MaxPooling2D(pool_size=(2, 2)))\n",
        "    model.add(Dropout(0.2))\n",
        "\n",
        "    model.add(Flatten())\n",
        "    model.add(Dense(512, activation='relu'))\n",
        "    model.add(Dropout(0.25))\n",
        "    model.add(Dense(nClasses, activation='softmax'))\n",
        "    \n",
        "    return model"
      ]
    },
    {
      "cell_type": "code",
      "execution_count": 14,
      "metadata": {
        "colab": {
          "base_uri": "https://localhost:8080/"
        },
        "id": "DTu8tO5O70QZ",
        "outputId": "fe38002f-ef2a-41cf-eac0-0d07f6cbd1b5"
      },
      "outputs": [
        {
          "output_type": "stream",
          "name": "stdout",
          "text": [
            "Model: \"sequential\"\n",
            "_________________________________________________________________\n",
            " Layer (type)                Output Shape              Param #   \n",
            "=================================================================\n",
            " conv2d (Conv2D)             (None, 128, 128, 64)      1792      \n",
            "                                                                 \n",
            " conv2d_1 (Conv2D)           (None, 126, 126, 32)      18464     \n",
            "                                                                 \n",
            " max_pooling2d (MaxPooling2D  (None, 63, 63, 32)       0         \n",
            " )                                                               \n",
            "                                                                 \n",
            " conv2d_2 (Conv2D)           (None, 61, 61, 16)        4624      \n",
            "                                                                 \n",
            " max_pooling2d_1 (MaxPooling  (None, 30, 30, 16)       0         \n",
            " 2D)                                                             \n",
            "                                                                 \n",
            " dropout (Dropout)           (None, 30, 30, 16)        0         \n",
            "                                                                 \n",
            " flatten (Flatten)           (None, 14400)             0         \n",
            "                                                                 \n",
            " dense (Dense)               (None, 512)               7373312   \n",
            "                                                                 \n",
            " dropout_1 (Dropout)         (None, 512)               0         \n",
            "                                                                 \n",
            " dense_1 (Dense)             (None, 100)               51300     \n",
            "                                                                 \n",
            "=================================================================\n",
            "Total params: 7,449,492\n",
            "Trainable params: 7,449,492\n",
            "Non-trainable params: 0\n",
            "_________________________________________________________________\n"
          ]
        }
      ],
      "source": [
        "# Call Create Model\n",
        "cnn_model = createModel()\n",
        "\n",
        "# Show model summary\n",
        "cnn_model.summary()"
      ]
    },
    {
      "cell_type": "code",
      "execution_count": 15,
      "metadata": {
        "id": "LH4zlZBR9WeS"
      },
      "outputs": [],
      "source": [
        "def top_5_categorical_accuracy(y_true, y_pred):\n",
        "    return top_k_categorical_accuracy (y_true, y_pred, k=5)"
      ]
    },
    {
      "cell_type": "code",
      "execution_count": 16,
      "metadata": {
        "colab": {
          "base_uri": "https://localhost:8080/"
        },
        "id": "HHD18BjX81sx",
        "outputId": "9870eb9e-e7a6-4b0c-9782-90f73810814d"
      },
      "outputs": [
        {
          "output_type": "stream",
          "name": "stdout",
          "text": [
            "Epoch 1/100\n",
            "149/149 [==============================] - ETA: 0s - loss: 4.9355 - accuracy: 0.0124 - top_5_categorical_accuracy: 0.0027\n",
            "Epoch 1: val_accuracy improved from -inf to 0.00966, saving model to base_model.h5\n",
            "149/149 [==============================] - 22s 125ms/step - loss: 4.9355 - accuracy: 0.0124 - top_5_categorical_accuracy: 0.0027 - val_loss: 4.7328 - val_accuracy: 0.0097 - val_top_5_categorical_accuracy: 0.0000e+00\n",
            "Epoch 2/100\n",
            "149/149 [==============================] - ETA: 0s - loss: 4.5496 - accuracy: 0.0192 - top_5_categorical_accuracy: 0.0546\n",
            "Epoch 2: val_accuracy improved from 0.00966 to 0.02415, saving model to base_model.h5\n",
            "149/149 [==============================] - 18s 121ms/step - loss: 4.5496 - accuracy: 0.0192 - top_5_categorical_accuracy: 0.0546 - val_loss: 4.8177 - val_accuracy: 0.0242 - val_top_5_categorical_accuracy: 0.0048\n",
            "Epoch 3/100\n",
            "149/149 [==============================] - ETA: 0s - loss: 4.4596 - accuracy: 0.0266 - top_5_categorical_accuracy: 0.1362\n",
            "Epoch 3: val_accuracy improved from 0.02415 to 0.03382, saving model to base_model.h5\n",
            "149/149 [==============================] - 18s 123ms/step - loss: 4.4596 - accuracy: 0.0266 - top_5_categorical_accuracy: 0.1362 - val_loss: 4.6891 - val_accuracy: 0.0338 - val_top_5_categorical_accuracy: 0.0000e+00\n",
            "Epoch 4/100\n",
            "149/149 [==============================] - ETA: 0s - loss: 4.4053 - accuracy: 0.0312 - top_5_categorical_accuracy: 0.0084\n",
            "Epoch 4: val_accuracy did not improve from 0.03382\n",
            "149/149 [==============================] - 18s 121ms/step - loss: 4.4053 - accuracy: 0.0312 - top_5_categorical_accuracy: 0.0084 - val_loss: 4.7877 - val_accuracy: 0.0193 - val_top_5_categorical_accuracy: 0.0000e+00\n",
            "Epoch 5/100\n",
            "149/149 [==============================] - ETA: 0s - loss: 4.3522 - accuracy: 0.0375 - top_5_categorical_accuracy: 0.0369\n",
            "Epoch 5: val_accuracy did not improve from 0.03382\n",
            "149/149 [==============================] - 18s 120ms/step - loss: 4.3522 - accuracy: 0.0375 - top_5_categorical_accuracy: 0.0369 - val_loss: 5.0419 - val_accuracy: 0.0097 - val_top_5_categorical_accuracy: 0.0000e+00\n",
            "Epoch 6/100\n",
            "149/149 [==============================] - ETA: 0s - loss: 4.3209 - accuracy: 0.0428 - top_5_categorical_accuracy: 0.1052\n",
            "Epoch 6: val_accuracy did not improve from 0.03382\n",
            "149/149 [==============================] - 18s 122ms/step - loss: 4.3209 - accuracy: 0.0428 - top_5_categorical_accuracy: 0.1052 - val_loss: 4.9442 - val_accuracy: 0.0290 - val_top_5_categorical_accuracy: 0.0000e+00\n",
            "Epoch 7/100\n",
            "149/149 [==============================] - ETA: 0s - loss: 4.2840 - accuracy: 0.0445 - top_5_categorical_accuracy: 0.0879\n",
            "Epoch 7: val_accuracy did not improve from 0.03382\n",
            "149/149 [==============================] - 18s 122ms/step - loss: 4.2840 - accuracy: 0.0445 - top_5_categorical_accuracy: 0.0879 - val_loss: 5.0051 - val_accuracy: 0.0290 - val_top_5_categorical_accuracy: 0.0000e+00\n",
            "Epoch 8/100\n",
            "149/149 [==============================] - ETA: 0s - loss: 4.2652 - accuracy: 0.0472 - top_5_categorical_accuracy: 0.0951\n",
            "Epoch 8: val_accuracy improved from 0.03382 to 0.05797, saving model to base_model.h5\n",
            "149/149 [==============================] - 18s 122ms/step - loss: 4.2652 - accuracy: 0.0472 - top_5_categorical_accuracy: 0.0951 - val_loss: 4.9887 - val_accuracy: 0.0580 - val_top_5_categorical_accuracy: 0.0000e+00\n",
            "Epoch 9/100\n",
            "149/149 [==============================] - ETA: 0s - loss: 4.2253 - accuracy: 0.0542 - top_5_categorical_accuracy: 0.0940\n",
            "Epoch 9: val_accuracy did not improve from 0.05797\n",
            "149/149 [==============================] - 18s 121ms/step - loss: 4.2253 - accuracy: 0.0542 - top_5_categorical_accuracy: 0.0940 - val_loss: 4.9763 - val_accuracy: 0.0338 - val_top_5_categorical_accuracy: 0.0000e+00\n",
            "Epoch 10/100\n",
            "149/149 [==============================] - ETA: 0s - loss: 4.1973 - accuracy: 0.0584 - top_5_categorical_accuracy: 0.1267\n",
            "Epoch 10: val_accuracy did not improve from 0.05797\n",
            "149/149 [==============================] - 18s 121ms/step - loss: 4.1973 - accuracy: 0.0584 - top_5_categorical_accuracy: 0.1267 - val_loss: 5.2513 - val_accuracy: 0.0531 - val_top_5_categorical_accuracy: 0.0000e+00\n",
            "Epoch 11/100\n",
            "149/149 [==============================] - ETA: 0s - loss: 4.1641 - accuracy: 0.0561 - top_5_categorical_accuracy: 0.1077\n",
            "Epoch 11: val_accuracy did not improve from 0.05797\n",
            "149/149 [==============================] - 18s 122ms/step - loss: 4.1641 - accuracy: 0.0561 - top_5_categorical_accuracy: 0.1077 - val_loss: 5.0407 - val_accuracy: 0.0531 - val_top_5_categorical_accuracy: 0.0000e+00\n",
            "Epoch 12/100\n",
            "149/149 [==============================] - ETA: 0s - loss: 4.1552 - accuracy: 0.0573 - top_5_categorical_accuracy: 0.0698\n",
            "Epoch 12: val_accuracy did not improve from 0.05797\n",
            "149/149 [==============================] - 18s 121ms/step - loss: 4.1552 - accuracy: 0.0573 - top_5_categorical_accuracy: 0.0698 - val_loss: 4.8955 - val_accuracy: 0.0386 - val_top_5_categorical_accuracy: 0.0000e+00\n",
            "Epoch 13/100\n",
            "149/149 [==============================] - ETA: 0s - loss: 4.1150 - accuracy: 0.0656 - top_5_categorical_accuracy: 0.0980\n",
            "Epoch 13: val_accuracy did not improve from 0.05797\n",
            "149/149 [==============================] - 18s 122ms/step - loss: 4.1150 - accuracy: 0.0656 - top_5_categorical_accuracy: 0.0980 - val_loss: 5.1272 - val_accuracy: 0.0531 - val_top_5_categorical_accuracy: 0.0000e+00\n",
            "Epoch 14/100\n",
            "149/149 [==============================] - ETA: 0s - loss: 4.1150 - accuracy: 0.0634 - top_5_categorical_accuracy: 0.0717\n",
            "Epoch 14: val_accuracy did not improve from 0.05797\n",
            "149/149 [==============================] - 18s 123ms/step - loss: 4.1150 - accuracy: 0.0634 - top_5_categorical_accuracy: 0.0717 - val_loss: 5.0447 - val_accuracy: 0.0531 - val_top_5_categorical_accuracy: 0.0000e+00\n",
            "Epoch 15/100\n",
            "149/149 [==============================] - ETA: 0s - loss: 4.0883 - accuracy: 0.0712 - top_5_categorical_accuracy: 0.0727\n",
            "Epoch 15: val_accuracy did not improve from 0.05797\n",
            "149/149 [==============================] - 18s 120ms/step - loss: 4.0883 - accuracy: 0.0712 - top_5_categorical_accuracy: 0.0727 - val_loss: 5.3912 - val_accuracy: 0.0531 - val_top_5_categorical_accuracy: 0.0000e+00\n",
            "Epoch 16/100\n",
            "149/149 [==============================] - ETA: 0s - loss: 4.0774 - accuracy: 0.0696 - top_5_categorical_accuracy: 0.0519\n",
            "Epoch 16: val_accuracy did not improve from 0.05797\n",
            "149/149 [==============================] - 18s 120ms/step - loss: 4.0774 - accuracy: 0.0696 - top_5_categorical_accuracy: 0.0519 - val_loss: 5.1068 - val_accuracy: 0.0435 - val_top_5_categorical_accuracy: 0.0048\n",
            "Epoch 17/100\n",
            "149/149 [==============================] - ETA: 0s - loss: 4.0434 - accuracy: 0.0694 - top_5_categorical_accuracy: 0.0588\n",
            "Epoch 17: val_accuracy did not improve from 0.05797\n",
            "149/149 [==============================] - 18s 123ms/step - loss: 4.0434 - accuracy: 0.0694 - top_5_categorical_accuracy: 0.0588 - val_loss: 5.2864 - val_accuracy: 0.0483 - val_top_5_categorical_accuracy: 0.0000e+00\n",
            "Epoch 18/100\n",
            "149/149 [==============================] - ETA: 0s - loss: 4.0286 - accuracy: 0.0795 - top_5_categorical_accuracy: 0.0664\n",
            "Epoch 18: val_accuracy did not improve from 0.05797\n",
            "149/149 [==============================] - 18s 120ms/step - loss: 4.0286 - accuracy: 0.0795 - top_5_categorical_accuracy: 0.0664 - val_loss: 5.1193 - val_accuracy: 0.0483 - val_top_5_categorical_accuracy: 0.0000e+00\n",
            "Epoch 19/100\n",
            "149/149 [==============================] - ETA: 0s - loss: 4.0297 - accuracy: 0.0820 - top_5_categorical_accuracy: 0.0978\n",
            "Epoch 19: val_accuracy did not improve from 0.05797\n",
            "149/149 [==============================] - 18s 121ms/step - loss: 4.0297 - accuracy: 0.0820 - top_5_categorical_accuracy: 0.0978 - val_loss: 5.3623 - val_accuracy: 0.0531 - val_top_5_categorical_accuracy: 0.0000e+00\n",
            "Epoch 20/100\n",
            "149/149 [==============================] - ETA: 0s - loss: 4.0028 - accuracy: 0.0797 - top_5_categorical_accuracy: 0.0578\n",
            "Epoch 20: val_accuracy improved from 0.05797 to 0.06280, saving model to base_model.h5\n",
            "149/149 [==============================] - 18s 123ms/step - loss: 4.0028 - accuracy: 0.0797 - top_5_categorical_accuracy: 0.0578 - val_loss: 5.2306 - val_accuracy: 0.0628 - val_top_5_categorical_accuracy: 0.0000e+00\n",
            "Epoch 21/100\n",
            "149/149 [==============================] - ETA: 0s - loss: 3.9960 - accuracy: 0.0797 - top_5_categorical_accuracy: 0.0512\n",
            "Epoch 21: val_accuracy improved from 0.06280 to 0.06763, saving model to base_model.h5\n",
            "149/149 [==============================] - 18s 123ms/step - loss: 3.9960 - accuracy: 0.0797 - top_5_categorical_accuracy: 0.0512 - val_loss: 5.2488 - val_accuracy: 0.0676 - val_top_5_categorical_accuracy: 0.0000e+00\n",
            "Epoch 22/100\n",
            "149/149 [==============================] - ETA: 0s - loss: 3.9878 - accuracy: 0.0795 - top_5_categorical_accuracy: 0.0849\n",
            "Epoch 22: val_accuracy did not improve from 0.06763\n",
            "149/149 [==============================] - 18s 121ms/step - loss: 3.9878 - accuracy: 0.0795 - top_5_categorical_accuracy: 0.0849 - val_loss: 5.2931 - val_accuracy: 0.0628 - val_top_5_categorical_accuracy: 0.0000e+00\n",
            "Epoch 23/100\n",
            "149/149 [==============================] - ETA: 0s - loss: 3.9638 - accuracy: 0.0837 - top_5_categorical_accuracy: 0.0702\n",
            "Epoch 23: val_accuracy did not improve from 0.06763\n",
            "149/149 [==============================] - 18s 119ms/step - loss: 3.9638 - accuracy: 0.0837 - top_5_categorical_accuracy: 0.0702 - val_loss: 5.4058 - val_accuracy: 0.0580 - val_top_5_categorical_accuracy: 0.0000e+00\n",
            "Epoch 24/100\n",
            "149/149 [==============================] - ETA: 0s - loss: 3.9720 - accuracy: 0.0858 - top_5_categorical_accuracy: 0.0573\n",
            "Epoch 24: val_accuracy did not improve from 0.06763\n",
            "149/149 [==============================] - 18s 121ms/step - loss: 3.9720 - accuracy: 0.0858 - top_5_categorical_accuracy: 0.0573 - val_loss: 5.1211 - val_accuracy: 0.0580 - val_top_5_categorical_accuracy: 0.0000e+00\n",
            "Epoch 25/100\n",
            "149/149 [==============================] - ETA: 0s - loss: 3.9502 - accuracy: 0.0917 - top_5_categorical_accuracy: 0.0740\n",
            "Epoch 25: val_accuracy improved from 0.06763 to 0.08213, saving model to base_model.h5\n",
            "149/149 [==============================] - 18s 122ms/step - loss: 3.9502 - accuracy: 0.0917 - top_5_categorical_accuracy: 0.0740 - val_loss: 5.3476 - val_accuracy: 0.0821 - val_top_5_categorical_accuracy: 0.0000e+00\n",
            "Epoch 26/100\n",
            "149/149 [==============================] - ETA: 0s - loss: 3.9333 - accuracy: 0.0919 - top_5_categorical_accuracy: 0.0620\n",
            "Epoch 26: val_accuracy did not improve from 0.08213\n",
            "149/149 [==============================] - 18s 121ms/step - loss: 3.9333 - accuracy: 0.0919 - top_5_categorical_accuracy: 0.0620 - val_loss: 5.3125 - val_accuracy: 0.0435 - val_top_5_categorical_accuracy: 0.0000e+00\n",
            "Epoch 27/100\n",
            "149/149 [==============================] - ETA: 0s - loss: 3.9343 - accuracy: 0.0883 - top_5_categorical_accuracy: 0.0641\n",
            "Epoch 27: val_accuracy did not improve from 0.08213\n",
            "149/149 [==============================] - 18s 123ms/step - loss: 3.9343 - accuracy: 0.0883 - top_5_categorical_accuracy: 0.0641 - val_loss: 5.3842 - val_accuracy: 0.0435 - val_top_5_categorical_accuracy: 0.0000e+00\n",
            "Epoch 28/100\n",
            "149/149 [==============================] - ETA: 0s - loss: 3.9289 - accuracy: 0.0919 - top_5_categorical_accuracy: 0.0653\n",
            "Epoch 28: val_accuracy did not improve from 0.08213\n",
            "149/149 [==============================] - 18s 121ms/step - loss: 3.9289 - accuracy: 0.0919 - top_5_categorical_accuracy: 0.0653 - val_loss: 5.3913 - val_accuracy: 0.0725 - val_top_5_categorical_accuracy: 0.0000e+00\n",
            "Epoch 29/100\n",
            "149/149 [==============================] - ETA: 0s - loss: 3.9031 - accuracy: 0.0932 - top_5_categorical_accuracy: 0.0523\n",
            "Epoch 29: val_accuracy did not improve from 0.08213\n",
            "149/149 [==============================] - 18s 120ms/step - loss: 3.9031 - accuracy: 0.0932 - top_5_categorical_accuracy: 0.0523 - val_loss: 5.3918 - val_accuracy: 0.0628 - val_top_5_categorical_accuracy: 0.0000e+00\n",
            "Epoch 30/100\n",
            "149/149 [==============================] - ETA: 0s - loss: 3.8761 - accuracy: 0.0963 - top_5_categorical_accuracy: 0.0519\n",
            "Epoch 30: val_accuracy did not improve from 0.08213\n",
            "149/149 [==============================] - 18s 124ms/step - loss: 3.8761 - accuracy: 0.0963 - top_5_categorical_accuracy: 0.0519 - val_loss: 5.3787 - val_accuracy: 0.0531 - val_top_5_categorical_accuracy: 0.0000e+00\n",
            "Epoch 31/100\n",
            "149/149 [==============================] - ETA: 0s - loss: 3.9066 - accuracy: 0.0949 - top_5_categorical_accuracy: 0.0748\n",
            "Epoch 31: val_accuracy did not improve from 0.08213\n",
            "149/149 [==============================] - 18s 123ms/step - loss: 3.9066 - accuracy: 0.0949 - top_5_categorical_accuracy: 0.0748 - val_loss: 5.3281 - val_accuracy: 0.0676 - val_top_5_categorical_accuracy: 0.0000e+00\n",
            "Epoch 32/100\n",
            "149/149 [==============================] - ETA: 0s - loss: 3.8701 - accuracy: 0.0991 - top_5_categorical_accuracy: 0.0694\n",
            "Epoch 32: val_accuracy did not improve from 0.08213\n",
            "149/149 [==============================] - 18s 123ms/step - loss: 3.8701 - accuracy: 0.0991 - top_5_categorical_accuracy: 0.0694 - val_loss: 5.4182 - val_accuracy: 0.0676 - val_top_5_categorical_accuracy: 0.0000e+00\n",
            "Epoch 33/100\n",
            "149/149 [==============================] - ETA: 0s - loss: 3.8632 - accuracy: 0.1005 - top_5_categorical_accuracy: 0.0750\n",
            "Epoch 33: val_accuracy did not improve from 0.08213\n",
            "149/149 [==============================] - 18s 122ms/step - loss: 3.8632 - accuracy: 0.1005 - top_5_categorical_accuracy: 0.0750 - val_loss: 5.4916 - val_accuracy: 0.0676 - val_top_5_categorical_accuracy: 0.0000e+00\n",
            "Epoch 34/100\n",
            "149/149 [==============================] - ETA: 0s - loss: 3.8707 - accuracy: 0.0963 - top_5_categorical_accuracy: 0.0430\n",
            "Epoch 34: val_accuracy did not improve from 0.08213\n",
            "149/149 [==============================] - 18s 124ms/step - loss: 3.8707 - accuracy: 0.0963 - top_5_categorical_accuracy: 0.0430 - val_loss: 5.5733 - val_accuracy: 0.0628 - val_top_5_categorical_accuracy: 0.0000e+00\n",
            "Epoch 35/100\n",
            "149/149 [==============================] - ETA: 0s - loss: 3.8404 - accuracy: 0.1018 - top_5_categorical_accuracy: 0.0588\n",
            "Epoch 35: val_accuracy did not improve from 0.08213\n",
            "149/149 [==============================] - 19s 124ms/step - loss: 3.8404 - accuracy: 0.1018 - top_5_categorical_accuracy: 0.0588 - val_loss: 5.5915 - val_accuracy: 0.0628 - val_top_5_categorical_accuracy: 0.0000e+00\n",
            "Epoch 36/100\n",
            "149/149 [==============================] - ETA: 0s - loss: 3.8412 - accuracy: 0.1077 - top_5_categorical_accuracy: 0.0502\n",
            "Epoch 36: val_accuracy did not improve from 0.08213\n",
            "149/149 [==============================] - 19s 126ms/step - loss: 3.8412 - accuracy: 0.1077 - top_5_categorical_accuracy: 0.0502 - val_loss: 5.5248 - val_accuracy: 0.0483 - val_top_5_categorical_accuracy: 0.0000e+00\n",
            "Epoch 37/100\n",
            "149/149 [==============================] - ETA: 0s - loss: 3.8352 - accuracy: 0.1031 - top_5_categorical_accuracy: 0.0582\n",
            "Epoch 37: val_accuracy did not improve from 0.08213\n",
            "149/149 [==============================] - 19s 127ms/step - loss: 3.8352 - accuracy: 0.1031 - top_5_categorical_accuracy: 0.0582 - val_loss: 5.8181 - val_accuracy: 0.0580 - val_top_5_categorical_accuracy: 0.0000e+00\n",
            "Epoch 38/100\n",
            "149/149 [==============================] - ETA: 0s - loss: 3.8199 - accuracy: 0.1086 - top_5_categorical_accuracy: 0.0411\n",
            "Epoch 38: val_accuracy did not improve from 0.08213\n",
            "149/149 [==============================] - 19s 127ms/step - loss: 3.8199 - accuracy: 0.1086 - top_5_categorical_accuracy: 0.0411 - val_loss: 5.3742 - val_accuracy: 0.0483 - val_top_5_categorical_accuracy: 0.0000e+00\n",
            "Epoch 39/100\n",
            "149/149 [==============================] - ETA: 0s - loss: 3.8112 - accuracy: 0.1065 - top_5_categorical_accuracy: 0.0599\n",
            "Epoch 39: val_accuracy did not improve from 0.08213\n",
            "149/149 [==============================] - 19s 127ms/step - loss: 3.8112 - accuracy: 0.1065 - top_5_categorical_accuracy: 0.0599 - val_loss: 5.5855 - val_accuracy: 0.0725 - val_top_5_categorical_accuracy: 0.0000e+00\n",
            "Epoch 40/100\n",
            "149/149 [==============================] - ETA: 0s - loss: 3.8204 - accuracy: 0.1056 - top_5_categorical_accuracy: 0.0592\n",
            "Epoch 40: val_accuracy did not improve from 0.08213\n",
            "149/149 [==============================] - 19s 128ms/step - loss: 3.8204 - accuracy: 0.1056 - top_5_categorical_accuracy: 0.0592 - val_loss: 5.4655 - val_accuracy: 0.0580 - val_top_5_categorical_accuracy: 0.0000e+00\n",
            "Epoch 41/100\n",
            "149/149 [==============================] - ETA: 0s - loss: 3.7906 - accuracy: 0.1073 - top_5_categorical_accuracy: 0.0580\n",
            "Epoch 41: val_accuracy did not improve from 0.08213\n",
            "149/149 [==============================] - 19s 127ms/step - loss: 3.7906 - accuracy: 0.1073 - top_5_categorical_accuracy: 0.0580 - val_loss: 5.7038 - val_accuracy: 0.0580 - val_top_5_categorical_accuracy: 0.0000e+00\n",
            "Epoch 42/100\n",
            "149/149 [==============================] - ETA: 0s - loss: 3.7833 - accuracy: 0.1092 - top_5_categorical_accuracy: 0.0664\n",
            "Epoch 42: val_accuracy did not improve from 0.08213\n",
            "149/149 [==============================] - 19s 127ms/step - loss: 3.7833 - accuracy: 0.1092 - top_5_categorical_accuracy: 0.0664 - val_loss: 5.6614 - val_accuracy: 0.0531 - val_top_5_categorical_accuracy: 0.0000e+00\n",
            "Epoch 43/100\n",
            "149/149 [==============================] - ETA: 0s - loss: 3.7759 - accuracy: 0.1081 - top_5_categorical_accuracy: 0.0605\n",
            "Epoch 43: val_accuracy did not improve from 0.08213\n",
            "149/149 [==============================] - 19s 128ms/step - loss: 3.7759 - accuracy: 0.1081 - top_5_categorical_accuracy: 0.0605 - val_loss: 5.4761 - val_accuracy: 0.0628 - val_top_5_categorical_accuracy: 0.0000e+00\n",
            "Epoch 44/100\n",
            "149/149 [==============================] - ETA: 0s - loss: 3.7947 - accuracy: 0.1058 - top_5_categorical_accuracy: 0.0582\n",
            "Epoch 44: val_accuracy did not improve from 0.08213\n",
            "149/149 [==============================] - 19s 125ms/step - loss: 3.7947 - accuracy: 0.1058 - top_5_categorical_accuracy: 0.0582 - val_loss: 5.7349 - val_accuracy: 0.0676 - val_top_5_categorical_accuracy: 0.0000e+00\n",
            "Epoch 45/100\n",
            "149/149 [==============================] - ETA: 0s - loss: 3.7729 - accuracy: 0.1033 - top_5_categorical_accuracy: 0.0476\n",
            "Epoch 45: val_accuracy did not improve from 0.08213\n",
            "149/149 [==============================] - 19s 125ms/step - loss: 3.7729 - accuracy: 0.1033 - top_5_categorical_accuracy: 0.0476 - val_loss: 5.5400 - val_accuracy: 0.0580 - val_top_5_categorical_accuracy: 0.0000e+00\n",
            "Epoch 46/100\n",
            "149/149 [==============================] - ETA: 0s - loss: 3.7468 - accuracy: 0.1126 - top_5_categorical_accuracy: 0.0506\n",
            "Epoch 46: val_accuracy did not improve from 0.08213\n",
            "149/149 [==============================] - 19s 126ms/step - loss: 3.7468 - accuracy: 0.1126 - top_5_categorical_accuracy: 0.0506 - val_loss: 5.6448 - val_accuracy: 0.0773 - val_top_5_categorical_accuracy: 0.0000e+00\n",
            "Epoch 47/100\n",
            "149/149 [==============================] - ETA: 0s - loss: 3.7561 - accuracy: 0.1185 - top_5_categorical_accuracy: 0.0550\n",
            "Epoch 47: val_accuracy did not improve from 0.08213\n",
            "149/149 [==============================] - 18s 123ms/step - loss: 3.7561 - accuracy: 0.1185 - top_5_categorical_accuracy: 0.0550 - val_loss: 5.4767 - val_accuracy: 0.0531 - val_top_5_categorical_accuracy: 0.0000e+00\n",
            "Epoch 48/100\n",
            "149/149 [==============================] - ETA: 0s - loss: 3.7519 - accuracy: 0.1109 - top_5_categorical_accuracy: 0.0645\n",
            "Epoch 48: val_accuracy did not improve from 0.08213\n",
            "149/149 [==============================] - 18s 122ms/step - loss: 3.7519 - accuracy: 0.1109 - top_5_categorical_accuracy: 0.0645 - val_loss: 5.5458 - val_accuracy: 0.0773 - val_top_5_categorical_accuracy: 0.0000e+00\n",
            "Epoch 49/100\n",
            "149/149 [==============================] - ETA: 0s - loss: 3.7519 - accuracy: 0.1166 - top_5_categorical_accuracy: 0.0443\n",
            "Epoch 49: val_accuracy did not improve from 0.08213\n",
            "149/149 [==============================] - 19s 124ms/step - loss: 3.7519 - accuracy: 0.1166 - top_5_categorical_accuracy: 0.0443 - val_loss: 5.4994 - val_accuracy: 0.0725 - val_top_5_categorical_accuracy: 0.0000e+00\n",
            "Epoch 50/100\n",
            "149/149 [==============================] - ETA: 0s - loss: 3.7607 - accuracy: 0.1088 - top_5_categorical_accuracy: 0.0470\n",
            "Epoch 50: val_accuracy did not improve from 0.08213\n",
            "149/149 [==============================] - 19s 125ms/step - loss: 3.7607 - accuracy: 0.1088 - top_5_categorical_accuracy: 0.0470 - val_loss: 5.5402 - val_accuracy: 0.0676 - val_top_5_categorical_accuracy: 0.0000e+00\n",
            "Epoch 51/100\n",
            "149/149 [==============================] - ETA: 0s - loss: 3.7486 - accuracy: 0.1151 - top_5_categorical_accuracy: 0.0489\n",
            "Epoch 51: val_accuracy did not improve from 0.08213\n",
            "149/149 [==============================] - 18s 124ms/step - loss: 3.7486 - accuracy: 0.1151 - top_5_categorical_accuracy: 0.0489 - val_loss: 5.4366 - val_accuracy: 0.0628 - val_top_5_categorical_accuracy: 0.0000e+00\n",
            "Epoch 52/100\n",
            "149/149 [==============================] - ETA: 0s - loss: 3.7059 - accuracy: 0.1170 - top_5_categorical_accuracy: 0.0584\n",
            "Epoch 52: val_accuracy did not improve from 0.08213\n",
            "149/149 [==============================] - 18s 123ms/step - loss: 3.7059 - accuracy: 0.1170 - top_5_categorical_accuracy: 0.0584 - val_loss: 5.7324 - val_accuracy: 0.0676 - val_top_5_categorical_accuracy: 0.0000e+00\n",
            "Epoch 53/100\n",
            "149/149 [==============================] - ETA: 0s - loss: 3.7253 - accuracy: 0.1086 - top_5_categorical_accuracy: 0.0611\n",
            "Epoch 53: val_accuracy did not improve from 0.08213\n",
            "149/149 [==============================] - 19s 124ms/step - loss: 3.7253 - accuracy: 0.1086 - top_5_categorical_accuracy: 0.0611 - val_loss: 5.5635 - val_accuracy: 0.0676 - val_top_5_categorical_accuracy: 0.0000e+00\n",
            "Epoch 54/100\n",
            "149/149 [==============================] - ETA: 0s - loss: 3.6901 - accuracy: 0.1166 - top_5_categorical_accuracy: 0.0660\n",
            "Epoch 54: val_accuracy did not improve from 0.08213\n",
            "149/149 [==============================] - 18s 123ms/step - loss: 3.6901 - accuracy: 0.1166 - top_5_categorical_accuracy: 0.0660 - val_loss: 5.8801 - val_accuracy: 0.0531 - val_top_5_categorical_accuracy: 0.0000e+00\n",
            "Epoch 55/100\n",
            "149/149 [==============================] - ETA: 0s - loss: 3.6945 - accuracy: 0.1263 - top_5_categorical_accuracy: 0.0424\n",
            "Epoch 55: val_accuracy did not improve from 0.08213\n",
            "149/149 [==============================] - 19s 125ms/step - loss: 3.6945 - accuracy: 0.1263 - top_5_categorical_accuracy: 0.0424 - val_loss: 5.6539 - val_accuracy: 0.0725 - val_top_5_categorical_accuracy: 0.0000e+00\n",
            "Epoch 56/100\n",
            "149/149 [==============================] - ETA: 0s - loss: 3.6849 - accuracy: 0.1225 - top_5_categorical_accuracy: 0.0616\n",
            "Epoch 56: val_accuracy did not improve from 0.08213\n",
            "149/149 [==============================] - 19s 125ms/step - loss: 3.6849 - accuracy: 0.1225 - top_5_categorical_accuracy: 0.0616 - val_loss: 5.7217 - val_accuracy: 0.0483 - val_top_5_categorical_accuracy: 0.0000e+00\n",
            "Epoch 57/100\n",
            "149/149 [==============================] - ETA: 0s - loss: 3.6725 - accuracy: 0.1248 - top_5_categorical_accuracy: 0.0658\n",
            "Epoch 57: val_accuracy did not improve from 0.08213\n",
            "149/149 [==============================] - 19s 125ms/step - loss: 3.6725 - accuracy: 0.1248 - top_5_categorical_accuracy: 0.0658 - val_loss: 5.6374 - val_accuracy: 0.0531 - val_top_5_categorical_accuracy: 0.0000e+00\n",
            "Epoch 58/100\n",
            "149/149 [==============================] - ETA: 0s - loss: 3.6756 - accuracy: 0.1208 - top_5_categorical_accuracy: 0.0575\n",
            "Epoch 58: val_accuracy did not improve from 0.08213\n",
            "149/149 [==============================] - 19s 125ms/step - loss: 3.6756 - accuracy: 0.1208 - top_5_categorical_accuracy: 0.0575 - val_loss: 5.5882 - val_accuracy: 0.0580 - val_top_5_categorical_accuracy: 0.0000e+00\n",
            "Epoch 59/100\n",
            "149/149 [==============================] - ETA: 0s - loss: 3.6426 - accuracy: 0.1197 - top_5_categorical_accuracy: 0.0457\n",
            "Epoch 59: val_accuracy did not improve from 0.08213\n",
            "149/149 [==============================] - 19s 125ms/step - loss: 3.6426 - accuracy: 0.1197 - top_5_categorical_accuracy: 0.0457 - val_loss: 5.6795 - val_accuracy: 0.0628 - val_top_5_categorical_accuracy: 0.0000e+00\n",
            "Epoch 60/100\n",
            "149/149 [==============================] - ETA: 0s - loss: 3.6517 - accuracy: 0.1303 - top_5_categorical_accuracy: 0.0601\n",
            "Epoch 60: val_accuracy did not improve from 0.08213\n",
            "149/149 [==============================] - 18s 122ms/step - loss: 3.6517 - accuracy: 0.1303 - top_5_categorical_accuracy: 0.0601 - val_loss: 5.4312 - val_accuracy: 0.0773 - val_top_5_categorical_accuracy: 0.0000e+00\n",
            "Epoch 61/100\n",
            "149/149 [==============================] - ETA: 0s - loss: 3.6746 - accuracy: 0.1301 - top_5_categorical_accuracy: 0.0592\n",
            "Epoch 61: val_accuracy did not improve from 0.08213\n",
            "149/149 [==============================] - 18s 122ms/step - loss: 3.6746 - accuracy: 0.1301 - top_5_categorical_accuracy: 0.0592 - val_loss: 5.7677 - val_accuracy: 0.0725 - val_top_5_categorical_accuracy: 0.0000e+00\n",
            "Epoch 62/100\n",
            "149/149 [==============================] - ETA: 0s - loss: 3.6328 - accuracy: 0.1311 - top_5_categorical_accuracy: 0.0460\n",
            "Epoch 62: val_accuracy did not improve from 0.08213\n",
            "149/149 [==============================] - 18s 122ms/step - loss: 3.6328 - accuracy: 0.1311 - top_5_categorical_accuracy: 0.0460 - val_loss: 5.5265 - val_accuracy: 0.0676 - val_top_5_categorical_accuracy: 0.0000e+00\n",
            "Epoch 63/100\n",
            "149/149 [==============================] - ETA: 0s - loss: 3.6128 - accuracy: 0.1376 - top_5_categorical_accuracy: 0.0476\n",
            "Epoch 63: val_accuracy did not improve from 0.08213\n",
            "149/149 [==============================] - 18s 122ms/step - loss: 3.6128 - accuracy: 0.1376 - top_5_categorical_accuracy: 0.0476 - val_loss: 5.8901 - val_accuracy: 0.0676 - val_top_5_categorical_accuracy: 0.0000e+00\n",
            "Epoch 64/100\n",
            "149/149 [==============================] - ETA: 0s - loss: 3.6216 - accuracy: 0.1349 - top_5_categorical_accuracy: 0.0628\n",
            "Epoch 64: val_accuracy did not improve from 0.08213\n",
            "149/149 [==============================] - 18s 121ms/step - loss: 3.6216 - accuracy: 0.1349 - top_5_categorical_accuracy: 0.0628 - val_loss: 5.4996 - val_accuracy: 0.0725 - val_top_5_categorical_accuracy: 0.0000e+00\n",
            "Epoch 65/100\n",
            "149/149 [==============================] - ETA: 0s - loss: 3.6186 - accuracy: 0.1412 - top_5_categorical_accuracy: 0.0502\n",
            "Epoch 65: val_accuracy did not improve from 0.08213\n",
            "149/149 [==============================] - 18s 122ms/step - loss: 3.6186 - accuracy: 0.1412 - top_5_categorical_accuracy: 0.0502 - val_loss: 5.7039 - val_accuracy: 0.0483 - val_top_5_categorical_accuracy: 0.0000e+00\n",
            "Epoch 66/100\n",
            "149/149 [==============================] - ETA: 0s - loss: 3.6012 - accuracy: 0.1305 - top_5_categorical_accuracy: 0.0559\n",
            "Epoch 66: val_accuracy did not improve from 0.08213\n",
            "149/149 [==============================] - 19s 124ms/step - loss: 3.6012 - accuracy: 0.1305 - top_5_categorical_accuracy: 0.0559 - val_loss: 5.4252 - val_accuracy: 0.0531 - val_top_5_categorical_accuracy: 0.0000e+00\n",
            "Epoch 67/100\n",
            "149/149 [==============================] - ETA: 0s - loss: 3.6207 - accuracy: 0.1341 - top_5_categorical_accuracy: 0.0487\n",
            "Epoch 67: val_accuracy did not improve from 0.08213\n",
            "149/149 [==============================] - 18s 121ms/step - loss: 3.6207 - accuracy: 0.1341 - top_5_categorical_accuracy: 0.0487 - val_loss: 5.7062 - val_accuracy: 0.0580 - val_top_5_categorical_accuracy: 0.0000e+00\n",
            "Epoch 68/100\n",
            "149/149 [==============================] - ETA: 0s - loss: 3.6022 - accuracy: 0.1339 - top_5_categorical_accuracy: 0.0584\n",
            "Epoch 68: val_accuracy did not improve from 0.08213\n",
            "149/149 [==============================] - 18s 121ms/step - loss: 3.6022 - accuracy: 0.1339 - top_5_categorical_accuracy: 0.0584 - val_loss: 5.5448 - val_accuracy: 0.0580 - val_top_5_categorical_accuracy: 0.0000e+00\n",
            "Epoch 69/100\n",
            "149/149 [==============================] - ETA: 0s - loss: 3.5754 - accuracy: 0.1383 - top_5_categorical_accuracy: 0.0592\n",
            "Epoch 69: val_accuracy did not improve from 0.08213\n",
            "149/149 [==============================] - 18s 122ms/step - loss: 3.5754 - accuracy: 0.1383 - top_5_categorical_accuracy: 0.0592 - val_loss: 5.7255 - val_accuracy: 0.0580 - val_top_5_categorical_accuracy: 0.0000e+00\n",
            "Epoch 70/100\n",
            "149/149 [==============================] - ETA: 0s - loss: 3.5791 - accuracy: 0.1461 - top_5_categorical_accuracy: 0.0434\n",
            "Epoch 70: val_accuracy did not improve from 0.08213\n",
            "149/149 [==============================] - 18s 121ms/step - loss: 3.5791 - accuracy: 0.1461 - top_5_categorical_accuracy: 0.0434 - val_loss: 5.5744 - val_accuracy: 0.0580 - val_top_5_categorical_accuracy: 0.0000e+00\n",
            "Epoch 71/100\n",
            "149/149 [==============================] - ETA: 0s - loss: 3.5557 - accuracy: 0.1389 - top_5_categorical_accuracy: 0.0567\n",
            "Epoch 71: val_accuracy did not improve from 0.08213\n",
            "149/149 [==============================] - 18s 120ms/step - loss: 3.5557 - accuracy: 0.1389 - top_5_categorical_accuracy: 0.0567 - val_loss: 5.6222 - val_accuracy: 0.0628 - val_top_5_categorical_accuracy: 0.0000e+00\n",
            "Epoch 72/100\n",
            "149/149 [==============================] - ETA: 0s - loss: 3.5627 - accuracy: 0.1347 - top_5_categorical_accuracy: 0.0681\n",
            "Epoch 72: val_accuracy did not improve from 0.08213\n",
            "149/149 [==============================] - 18s 122ms/step - loss: 3.5627 - accuracy: 0.1347 - top_5_categorical_accuracy: 0.0681 - val_loss: 5.5178 - val_accuracy: 0.0531 - val_top_5_categorical_accuracy: 0.0000e+00\n",
            "Epoch 73/100\n",
            "149/149 [==============================] - ETA: 0s - loss: 3.5464 - accuracy: 0.1467 - top_5_categorical_accuracy: 0.0649\n",
            "Epoch 73: val_accuracy did not improve from 0.08213\n",
            "149/149 [==============================] - 18s 120ms/step - loss: 3.5464 - accuracy: 0.1467 - top_5_categorical_accuracy: 0.0649 - val_loss: 5.4466 - val_accuracy: 0.0821 - val_top_5_categorical_accuracy: 0.0000e+00\n",
            "Epoch 74/100\n",
            "149/149 [==============================] - ETA: 0s - loss: 3.5403 - accuracy: 0.1467 - top_5_categorical_accuracy: 0.0527\n",
            "Epoch 74: val_accuracy did not improve from 0.08213\n",
            "149/149 [==============================] - 18s 120ms/step - loss: 3.5403 - accuracy: 0.1467 - top_5_categorical_accuracy: 0.0527 - val_loss: 5.5102 - val_accuracy: 0.0580 - val_top_5_categorical_accuracy: 0.0000e+00\n",
            "Epoch 75/100\n",
            "149/149 [==============================] - ETA: 0s - loss: 3.5122 - accuracy: 0.1490 - top_5_categorical_accuracy: 0.0584\n",
            "Epoch 75: val_accuracy did not improve from 0.08213\n",
            "149/149 [==============================] - 18s 120ms/step - loss: 3.5122 - accuracy: 0.1490 - top_5_categorical_accuracy: 0.0584 - val_loss: 5.4272 - val_accuracy: 0.0628 - val_top_5_categorical_accuracy: 0.0000e+00\n",
            "Epoch 75: early stopping\n"
          ]
        }
      ],
      "source": [
        "# Compile and fit Adam model\n",
        "checkpoint = ModelCheckpoint(\"base_model.h5\", monitor='val_accuracy', verbose=1, save_best_only=True, save_weights_only=False, mode='auto', save_freq= 'epoch')\n",
        "early = EarlyStopping(monitor='val_accuracy', min_delta=0, patience=50, verbose=1, mode='auto')\n",
        "optimizer = tf.keras.optimizers.Adam(learning_rate = 0.001)\n",
        "cnn_model.compile(optimizer=optimizer, loss='sparse_categorical_crossentropy', metrics=['accuracy', top_5_categorical_accuracy])\n",
        "batch_size = 32\n",
        "steps_per_epoch = int( np.ceil(x_train.shape[0] / batch_size) )\n",
        "initial_epochs = 100\n",
        "history = cnn_model.fit(datagen.flow(x_train, y_train), batch_size=batch_size, steps_per_epoch = steps_per_epoch,\n",
        "              epochs=initial_epochs, verbose=1, validation_data= (x_test, y_test), callbacks = [early, checkpoint])"
      ]
    },
    {
      "cell_type": "code",
      "execution_count": 17,
      "metadata": {
        "id": "E9BQ9qGp_wkC",
        "colab": {
          "base_uri": "https://localhost:8080/"
        },
        "outputId": "042415c3-f9bc-4cea-a650-5a27e6a8669f"
      },
      "outputs": [
        {
          "output_type": "stream",
          "name": "stdout",
          "text": [
            "7/7 [==============================] - 0s 15ms/step - loss: 5.4272 - accuracy: 0.0628 - top_5_categorical_accuracy: 0.0000e+00\n"
          ]
        },
        {
          "output_type": "execute_result",
          "data": {
            "text/plain": [
              "[5.427151679992676, 0.06280193477869034, 0.0]"
            ]
          },
          "metadata": {},
          "execution_count": 17
        }
      ],
      "source": [
        "# Evaluate model\n",
        "cnn_model.evaluate(x_test, y_test)"
      ]
    },
    {
      "cell_type": "code",
      "source": [
        "# Save model\n",
        "cnn_model.save(\"saved_model\")"
      ],
      "metadata": {
        "id": "esjjQTXA9Pa-",
        "colab": {
          "base_uri": "https://localhost:8080/"
        },
        "outputId": "3d045a0e-1e3d-43c0-ca7a-e4735a6e1f62"
      },
      "execution_count": 18,
      "outputs": [
        {
          "output_type": "stream",
          "name": "stderr",
          "text": [
            "WARNING:absl:Found untraced functions such as _jit_compiled_convolution_op, _jit_compiled_convolution_op, _jit_compiled_convolution_op while saving (showing 3 of 3). These functions will not be directly callable after loading.\n"
          ]
        }
      ]
    },
    {
      "cell_type": "code",
      "source": [
        "!zip -r /content/saved_model.zip /content/saved_model"
      ],
      "metadata": {
        "colab": {
          "base_uri": "https://localhost:8080/"
        },
        "id": "Qn79lpiiPkJf",
        "outputId": "4356c76d-2c7b-4d4f-e003-727c8d07898d"
      },
      "execution_count": 21,
      "outputs": [
        {
          "output_type": "stream",
          "name": "stdout",
          "text": [
            "  adding: content/saved_model/ (stored 0%)\n",
            "  adding: content/saved_model/keras_metadata.pb (deflated 91%)\n",
            "  adding: content/saved_model/saved_model.pb (deflated 88%)\n",
            "  adding: content/saved_model/variables/ (stored 0%)\n",
            "  adding: content/saved_model/variables/variables.index (deflated 67%)\n",
            "  adding: content/saved_model/variables/variables.data-00000-of-00001 (deflated 30%)\n",
            "  adding: content/saved_model/assets/ (stored 0%)\n"
          ]
        }
      ]
    },
    {
      "cell_type": "code",
      "execution_count": 19,
      "metadata": {
        "id": "Ksrr0Vqo_5Az",
        "colab": {
          "base_uri": "https://localhost:8080/",
          "height": 805
        },
        "outputId": "3a47f854-4591-416c-c495-34947823ac60"
      },
      "outputs": [
        {
          "output_type": "display_data",
          "data": {
            "text/plain": [
              "<Figure size 576x432 with 1 Axes>"
            ],
            "image/png": "[encoded data removed]"
          },
          "metadata": {
            "needs_background": "light"
          }
        },
        {
          "output_type": "display_data",
          "data": {
            "text/plain": [
              "<Figure size 576x432 with 1 Axes>"
            ],
            "image/png": "[encoded data removed]"
          },
          "metadata": {
            "needs_background": "light"
          }
        }
      ],
      "source": [
        "# Show model's loss and accuracy graph\n",
        "loss = history.history['loss']\n",
        "val_loss = history.history['val_loss']\n",
        "\n",
        "accuracy = history.history['accuracy']\n",
        "val_accuracy = history.history['val_accuracy']\n",
        "\n",
        "plt.figure(figsize=[8,6])\n",
        "plt.plot(loss,'r',linewidth=3.0)\n",
        "plt.plot(val_loss,'b',linewidth=3.0)\n",
        "plt.legend(['Training loss', 'Validation Loss'],fontsize=18)\n",
        "plt.xlabel('Epochs ',fontsize=16)\n",
        "plt.ylabel('Loss',fontsize=16)\n",
        "plt.title('Loss Curves',fontsize=16)\n",
        "plt.show()\n",
        "\n",
        "plt.figure(figsize=[8,6])\n",
        "plt.plot(accuracy,'r',linewidth=3.0)\n",
        "plt.plot(val_accuracy,'b',linewidth=3.0)\n",
        "plt.legend(['Training Accuracy', 'Validation Accuracy'],fontsize=18)\n",
        "plt.xlabel('Epochs ',fontsize=16)\n",
        "plt.ylabel('Accuracy',fontsize=16)\n",
        "plt.title('Accuracy Curves',fontsize=16)\n",
        "plt.show() "
      ]
    }
  ],
  "metadata": {
    "accelerator": "GPU",
    "colab": {
      "collapsed_sections": [],
      "provenance": []
    },
    "gpuClass": "standard",
    "kernelspec": {
      "display_name": "Python 3",
      "name": "python3"
    },
    "language_info": {
      "name": "python"
    }
  },
  "nbformat": 4,
  "nbformat_minor": 0
}