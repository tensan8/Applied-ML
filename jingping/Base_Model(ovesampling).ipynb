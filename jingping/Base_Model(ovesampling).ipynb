{
  "cells": [
    {
      "cell_type": "code",
      "execution_count": 1,
      "metadata": {
        "id": "neIQx6jsHuAu"
      },
      "outputs": [],
      "source": [
        "from matplotlib import image\n",
        "import numpy as np\n",
        "import tensorflow as tf\n",
        "from keras.layers import Dense, Conv2D, MaxPooling2D, Dropout, Flatten\n",
        "from keras.callbacks import ModelCheckpoint, EarlyStopping\n",
        "from keras.models import Sequential, load_model\n",
        "from keras.utils import to_categorical\n",
        "from sklearn.model_selection import train_test_split\n",
        "from keras.metrics import sparse_top_k_categorical_accuracy\n",
        "from keras.preprocessing.image import ImageDataGenerator\n",
        "from keras import regularizers\n",
        "import matplotlib.pyplot as plt\n",
        "from sklearn.preprocessing import LabelEncoder\n",
        "from imblearn.over_sampling import RandomOverSampler"
      ]
    },
    {
      "cell_type": "code",
      "execution_count": 2,
      "metadata": {
        "colab": {
          "base_uri": "https://localhost:8080/"
        },
        "id": "Lmso7HEEDWeK",
        "outputId": "cb1f79a1-5ea8-49a7-bbda-0df68a5f46d4"
      },
      "outputs": [
        {
          "output_type": "stream",
          "name": "stdout",
          "text": [
            "Mounted at /content/drive/\n"
          ]
        }
      ],
      "source": [
        "from google.colab import drive\n",
        "drive.mount('/content/drive/')"
      ]
    },
    {
      "cell_type": "code",
      "execution_count": 3,
      "metadata": {
        "id": "E_KY3hGzWC4-"
      },
      "outputs": [],
      "source": [
        "!unzip drive/MyDrive/AML_project/train.zip > /dev/null\n",
        "!unzip drive/MyDrive/AML_project/test.zip > /dev/null\n",
        "\n",
        "!cp \"/content/drive/MyDrive/AML_project/list/train.txt\" \"train.txt\"\n",
        "!cp \"/content/drive/MyDrive/AML_project/list/groundtruth.txt\" \"groundtruth.txt\""
      ]
    },
    {
      "cell_type": "code",
      "execution_count": 4,
      "metadata": {
        "id": "6x0-zQ_rGHra"
      },
      "outputs": [],
      "source": [
        "def convert_image_to_numpy(image_paths_arr):\n",
        "  dataset_nparr = list()\n",
        "\n",
        "  for path in image_paths_arr:\n",
        "    image_data = image.imread(path)\n",
        "    image_data = tf.cast(image_data, tf.float32)/255\n",
        "    image_data = tf.image.resize(image_data, (128, 128), method = \"bilinear\")\n",
        "    dataset_nparr.append(image_data)\n",
        "\n",
        "  return np.array(dataset_nparr)"
      ]
    },
    {
      "cell_type": "code",
      "execution_count": 5,
      "metadata": {
        "id": "1qqQNgaVhEls"
      },
      "outputs": [],
      "source": [
        "def encode_labels(labels_arr):\n",
        "  label_encoder = LabelEncoder()\n",
        "  return label_encoder.fit_transform(labels_arr)"
      ]
    },
    {
      "cell_type": "code",
      "execution_count": 6,
      "metadata": {
        "id": "iwqVGlvUhAe5"
      },
      "outputs": [],
      "source": [
        "def load_data(text_file):\n",
        "  with open(text_file) as txt_file:\n",
        "    # read the file, with format \"path label\"\n",
        "    # e.g. train/photo/106023/1769.jpg 106023\n",
        "    lines_arr = [line.strip() for line in txt_file.readlines()]\n",
        "\n",
        "    # split the lines to image path and label\n",
        "    image_paths = [line.split(' ')[0] for line in lines_arr]\n",
        "    labels = [line.split(' ')[1] for line in lines_arr]\n",
        "    x_data = convert_image_to_numpy(image_paths)\n",
        "    y_data = encode_labels(labels)\n",
        "\n",
        "    return x_data, y_data"
      ]
    },
    {
      "cell_type": "code",
      "execution_count": 7,
      "metadata": {
        "id": "oQDlBcv8hc9M"
      },
      "outputs": [],
      "source": [
        "# Load train data\n",
        "x_train, y_train = load_data(\"train.txt\")"
      ]
    },
    {
      "cell_type": "code",
      "execution_count": 8,
      "metadata": {
        "colab": {
          "base_uri": "https://localhost:8080/"
        },
        "id": "Og3RpMxMqvcW",
        "outputId": "3b8b1dd5-2cf1-41fd-9aa7-c48cfe702870"
      },
      "outputs": [
        {
          "output_type": "stream",
          "name": "stdout",
          "text": [
            "(4744, 49152)\n"
          ]
        }
      ],
      "source": [
        "#Undersampling train data\n",
        "ReX_train = x_train.reshape(x_train.shape[0], x_train.shape[1] * x_train.shape[2] * x_train.shape[3])\n",
        "print(ReX_train.shape)\n",
        "#rus = RandomUnderSampler(sampling_strategy=1) # Numerical value\n",
        "ros = RandomOverSampler(sampling_strategy=\"not majority\") # String\n",
        "x_train, y_train = ros.fit_resample(ReX_train, y_train)"
      ]
    },
    {
      "cell_type": "code",
      "execution_count": 9,
      "metadata": {
        "id": "BJv0YUgAhoSi"
      },
      "outputs": [],
      "source": [
        "# Load test data\n",
        "x_test, y_test = load_data(\"groundtruth.txt\")"
      ]
    },
    {
      "cell_type": "code",
      "execution_count": 10,
      "metadata": {
        "colab": {
          "base_uri": "https://localhost:8080/"
        },
        "id": "-0WhzR7itxvz",
        "outputId": "97d17069-0a43-4232-dc46-88fc44a76687"
      },
      "outputs": [
        {
          "output_type": "stream",
          "name": "stdout",
          "text": [
            "(207, 49152)\n"
          ]
        }
      ],
      "source": [
        "#Undersampling test data\n",
        "ReX_test = x_test.reshape(x_test.shape[0], x_test.shape[1] * x_test.shape[2] * x_test.shape[3])\n",
        "print(ReX_test.shape)\n",
        "#rus = RandomUnderSampler(sampling_strategy=1) # Numerical value\n",
        "ros = RandomOverSampler(sampling_strategy=\"not majority\") # String\n",
        "x_test, y_test = ros.fit_resample(ReX_test, y_test)"
      ]
    },
    {
      "cell_type": "code",
      "execution_count": 11,
      "metadata": {
        "id": "E97HTHV-1miM"
      },
      "outputs": [],
      "source": [
        "x_train = x_train.reshape(x_train.shape[0], 128, 128, 3)\n",
        "x_test = x_test.reshape(x_test.shape[0], 128, 128, 3)"
      ]
    },
    {
      "cell_type": "code",
      "execution_count": 12,
      "metadata": {
        "colab": {
          "base_uri": "https://localhost:8080/"
        },
        "id": "N-E_rU9zifan",
        "outputId": "ad18558e-4ef7-48f3-87ff-d125588bd737"
      },
      "outputs": [
        {
          "output_type": "stream",
          "name": "stdout",
          "text": [
            "Shapes Checking\n",
            "X-train: (5000, 128, 128, 3)\n",
            "y-train: (5000,)\n",
            "X-test: (300, 128, 128, 3)\n",
            "y-test: (300,)\n"
          ]
        }
      ],
      "source": [
        "# Check data shape\n",
        "print(\"Shapes Checking\")\n",
        "print(\"X-train: \" + str(x_train.shape))\n",
        "print(\"y-train: \" + str(y_train.shape))\n",
        "print(\"X-test: \" + str(x_test.shape))\n",
        "print(\"y-test: \" + str(y_test.shape))"
      ]
    },
    {
      "cell_type": "code",
      "execution_count": 13,
      "metadata": {
        "colab": {
          "base_uri": "https://localhost:8080/"
        },
        "id": "UHv1QFa96EEx",
        "outputId": "a7ed84c1-5623-439a-c22e-98ed78951c65"
      },
      "outputs": [
        {
          "output_type": "stream",
          "name": "stdout",
          "text": [
            "Reshape Checking\n",
            "X-train: (5000, 128, 128, 3)\n",
            "X-test: (300, 128, 128, 3)\n"
          ]
        }
      ],
      "source": [
        "# Normalize and reshape the data\n",
        "nRows,nCols,nDims = x_train.shape[1:]\n",
        "x_train = x_train.reshape(x_train.shape[0], nRows, nCols, nDims)\n",
        "input_shape = (nRows, nCols, nDims)\n",
        "\n",
        "nRows,nCols,nDims = x_test.shape[1:]\n",
        "x_test = x_test.reshape(x_test.shape[0], nRows, nCols, nDims)\n",
        "\n",
        "print(\"Reshape Checking\")\n",
        "print(\"X-train: \" + str(x_train.shape))\n",
        "print(\"X-test: \" + str(x_test.shape))"
      ]
    },
    {
      "cell_type": "code",
      "execution_count": 14,
      "metadata": {
        "id": "Uhk_WlqG6zWM"
      },
      "outputs": [],
      "source": [
        "classes = np.unique(y_train)\n",
        "nClasses = len(classes)\n"
      ]
    },
    {
      "cell_type": "code",
      "execution_count": 15,
      "metadata": {
        "id": "PDwngO36AbNe"
      },
      "outputs": [],
      "source": [
        "# Image data generator (data augmentation)\n",
        "datagen = ImageDataGenerator(horizontal_flip=True,\n",
        "                            rotation_range=45,\n",
        "                            zoom_range=0.8,\n",
        "                            vertical_flip=True)\n",
        "\n",
        "datagen.fit(x_train)"
      ]
    },
    {
      "cell_type": "code",
      "execution_count": 16,
      "metadata": {
        "id": "Nbk1SklG68u-"
      },
      "outputs": [],
      "source": [
        "# Create Model\n",
        "def createModel():\n",
        "    model = Sequential()\n",
        "    model.add(Conv2D(64, (3, 3), kernel_regularizer=regularizers.L1L2(l1=0.01, l2=0.01), activation='relu', input_shape=input_shape))\n",
        "    model.add(Conv2D(32, (3, 3), activation='relu'))\n",
        "    model.add(MaxPooling2D(pool_size=(2, 2)))\n",
        " \n",
        "    model.add(Conv2D(16, (3, 3), activation='relu'))\n",
        "    model.add(MaxPooling2D(pool_size=(2, 2)))\n",
        "    model.add(Dropout(0.2))\n",
        "\n",
        "    model.add(Flatten())\n",
        "    model.add(Dense(512, activation='relu'))\n",
        "    model.add(Dropout(0.25))\n",
        "    model.add(Dense(nClasses, activation='softmax'))\n",
        "    \n",
        "    return model"
      ]
    },
    {
      "cell_type": "code",
      "execution_count": 17,
      "metadata": {
        "colab": {
          "base_uri": "https://localhost:8080/"
        },
        "id": "DTu8tO5O70QZ",
        "outputId": "ed124756-fc63-4cdb-eff7-c8ac4da977ea"
      },
      "outputs": [
        {
          "output_type": "stream",
          "name": "stdout",
          "text": [
            "Model: \"sequential\"\n",
            "_________________________________________________________________\n",
            " Layer (type)                Output Shape              Param #   \n",
            "=================================================================\n",
            " conv2d (Conv2D)             (None, 126, 126, 64)      1792      \n",
            "                                                                 \n",
            " conv2d_1 (Conv2D)           (None, 124, 124, 32)      18464     \n",
            "                                                                 \n",
            " max_pooling2d (MaxPooling2D  (None, 62, 62, 32)       0         \n",
            " )                                                               \n",
            "                                                                 \n",
            " conv2d_2 (Conv2D)           (None, 60, 60, 16)        4624      \n",
            "                                                                 \n",
            " max_pooling2d_1 (MaxPooling  (None, 30, 30, 16)       0         \n",
            " 2D)                                                             \n",
            "                                                                 \n",
            " dropout (Dropout)           (None, 30, 30, 16)        0         \n",
            "                                                                 \n",
            " flatten (Flatten)           (None, 14400)             0         \n",
            "                                                                 \n",
            " dense (Dense)               (None, 512)               7373312   \n",
            "                                                                 \n",
            " dropout_1 (Dropout)         (None, 512)               0         \n",
            "                                                                 \n",
            " dense_1 (Dense)             (None, 100)               51300     \n",
            "                                                                 \n",
            "=================================================================\n",
            "Total params: 7,449,492\n",
            "Trainable params: 7,449,492\n",
            "Non-trainable params: 0\n",
            "_________________________________________________________________\n"
          ]
        }
      ],
      "source": [
        "# Call Create Model\n",
        "cnn_model = createModel()\n",
        "\n",
        "# Show model summary\n",
        "cnn_model.summary()"
      ]
    },
    {
      "cell_type": "code",
      "execution_count": 18,
      "metadata": {
        "id": "LH4zlZBR9WeS"
      },
      "outputs": [],
      "source": [
        "def top_5_accuracy(y_true, y_pred):\n",
        "    return sparse_top_k_categorical_accuracy (y_true, y_pred, k=5)"
      ]
    },
    {
      "cell_type": "code",
      "execution_count": 19,
      "metadata": {
        "colab": {
          "base_uri": "https://localhost:8080/"
        },
        "id": "HHD18BjX81sx",
        "outputId": "6f11ee03-321c-47e6-e326-2fa30753d2d6"
      },
      "outputs": [
        {
          "output_type": "stream",
          "name": "stdout",
          "text": [
            "Epoch 1/100\n",
            "157/157 [==============================] - ETA: 0s - loss: 5.5350 - accuracy: 0.0084 - top_5_accuracy: 0.0506\n",
            "Epoch 1: val_top_5_accuracy improved from -inf to 0.05667, saving model to base_model.h5\n",
            "157/157 [==============================] - 28s 122ms/step - loss: 5.5350 - accuracy: 0.0084 - top_5_accuracy: 0.0506 - val_loss: 5.5101 - val_accuracy: 0.0100 - val_top_5_accuracy: 0.0567\n",
            "Epoch 2/100\n",
            "157/157 [==============================] - ETA: 0s - loss: 5.5006 - accuracy: 0.0108 - top_5_accuracy: 0.0530\n",
            "Epoch 2: val_top_5_accuracy improved from 0.05667 to 0.06667, saving model to base_model.h5\n",
            "157/157 [==============================] - 26s 164ms/step - loss: 5.5006 - accuracy: 0.0108 - top_5_accuracy: 0.0530 - val_loss: 5.4843 - val_accuracy: 0.0100 - val_top_5_accuracy: 0.0667\n",
            "Epoch 3/100\n",
            "157/157 [==============================] - ETA: 0s - loss: 5.4697 - accuracy: 0.0134 - top_5_accuracy: 0.0640\n",
            "Epoch 3: val_top_5_accuracy improved from 0.06667 to 0.08000, saving model to base_model.h5\n",
            "157/157 [==============================] - 20s 128ms/step - loss: 5.4697 - accuracy: 0.0134 - top_5_accuracy: 0.0640 - val_loss: 5.4603 - val_accuracy: 0.0067 - val_top_5_accuracy: 0.0800\n",
            "Epoch 4/100\n",
            "157/157 [==============================] - ETA: 0s - loss: 5.4348 - accuracy: 0.0170 - top_5_accuracy: 0.0796\n",
            "Epoch 4: val_top_5_accuracy did not improve from 0.08000\n",
            "157/157 [==============================] - 20s 127ms/step - loss: 5.4348 - accuracy: 0.0170 - top_5_accuracy: 0.0796 - val_loss: 5.4387 - val_accuracy: 0.0133 - val_top_5_accuracy: 0.0700\n",
            "Epoch 5/100\n",
            "157/157 [==============================] - ETA: 0s - loss: 5.3979 - accuracy: 0.0212 - top_5_accuracy: 0.0826\n",
            "Epoch 5: val_top_5_accuracy did not improve from 0.08000\n",
            "157/157 [==============================] - 19s 123ms/step - loss: 5.3979 - accuracy: 0.0212 - top_5_accuracy: 0.0826 - val_loss: 5.4309 - val_accuracy: 0.0100 - val_top_5_accuracy: 0.0600\n",
            "Epoch 6/100\n",
            "157/157 [==============================] - ETA: 0s - loss: 5.3506 - accuracy: 0.0240 - top_5_accuracy: 0.0968\n",
            "Epoch 6: val_top_5_accuracy did not improve from 0.08000\n",
            "157/157 [==============================] - 20s 125ms/step - loss: 5.3506 - accuracy: 0.0240 - top_5_accuracy: 0.0968 - val_loss: 5.4251 - val_accuracy: 0.0133 - val_top_5_accuracy: 0.0733\n",
            "Epoch 7/100\n",
            "157/157 [==============================] - ETA: 0s - loss: 5.3123 - accuracy: 0.0250 - top_5_accuracy: 0.1076\n",
            "Epoch 7: val_top_5_accuracy did not improve from 0.08000\n",
            "157/157 [==============================] - 19s 122ms/step - loss: 5.3123 - accuracy: 0.0250 - top_5_accuracy: 0.1076 - val_loss: 5.4344 - val_accuracy: 0.0100 - val_top_5_accuracy: 0.0800\n",
            "Epoch 8/100\n",
            "157/157 [==============================] - ETA: 0s - loss: 5.2701 - accuracy: 0.0304 - top_5_accuracy: 0.1204\n",
            "Epoch 8: val_top_5_accuracy improved from 0.08000 to 0.08333, saving model to base_model.h5\n",
            "157/157 [==============================] - 20s 124ms/step - loss: 5.2701 - accuracy: 0.0304 - top_5_accuracy: 0.1204 - val_loss: 5.4352 - val_accuracy: 0.0067 - val_top_5_accuracy: 0.0833\n",
            "Epoch 9/100\n",
            "157/157 [==============================] - ETA: 0s - loss: 5.2305 - accuracy: 0.0368 - top_5_accuracy: 0.1188\n",
            "Epoch 9: val_top_5_accuracy improved from 0.08333 to 0.09000, saving model to base_model.h5\n",
            "157/157 [==============================] - 20s 129ms/step - loss: 5.2305 - accuracy: 0.0368 - top_5_accuracy: 0.1188 - val_loss: 5.4340 - val_accuracy: 0.0167 - val_top_5_accuracy: 0.0900\n",
            "Epoch 10/100\n",
            "157/157 [==============================] - ETA: 0s - loss: 5.1890 - accuracy: 0.0354 - top_5_accuracy: 0.1346\n",
            "Epoch 10: val_top_5_accuracy did not improve from 0.09000\n",
            "157/157 [==============================] - 19s 119ms/step - loss: 5.1890 - accuracy: 0.0354 - top_5_accuracy: 0.1346 - val_loss: 5.4504 - val_accuracy: 0.0133 - val_top_5_accuracy: 0.0833\n",
            "Epoch 11/100\n",
            "157/157 [==============================] - ETA: 0s - loss: 5.1619 - accuracy: 0.0348 - top_5_accuracy: 0.1338\n",
            "Epoch 11: val_top_5_accuracy did not improve from 0.09000\n",
            "157/157 [==============================] - 20s 128ms/step - loss: 5.1619 - accuracy: 0.0348 - top_5_accuracy: 0.1338 - val_loss: 5.4620 - val_accuracy: 0.0167 - val_top_5_accuracy: 0.0900\n",
            "Epoch 12/100\n",
            "157/157 [==============================] - ETA: 0s - loss: 5.1315 - accuracy: 0.0420 - top_5_accuracy: 0.1480\n",
            "Epoch 12: val_top_5_accuracy did not improve from 0.09000\n",
            "157/157 [==============================] - 20s 127ms/step - loss: 5.1315 - accuracy: 0.0420 - top_5_accuracy: 0.1480 - val_loss: 5.4628 - val_accuracy: 0.0133 - val_top_5_accuracy: 0.0833\n",
            "Epoch 13/100\n",
            "157/157 [==============================] - ETA: 0s - loss: 5.0999 - accuracy: 0.0368 - top_5_accuracy: 0.1438\n",
            "Epoch 13: val_top_5_accuracy improved from 0.09000 to 0.10000, saving model to base_model.h5\n",
            "157/157 [==============================] - 20s 129ms/step - loss: 5.0999 - accuracy: 0.0368 - top_5_accuracy: 0.1438 - val_loss: 5.4815 - val_accuracy: 0.0233 - val_top_5_accuracy: 0.1000\n",
            "Epoch 14/100\n",
            "157/157 [==============================] - ETA: 0s - loss: 5.0734 - accuracy: 0.0404 - top_5_accuracy: 0.1588\n",
            "Epoch 14: val_top_5_accuracy improved from 0.10000 to 0.10333, saving model to base_model.h5\n",
            "157/157 [==============================] - 19s 121ms/step - loss: 5.0734 - accuracy: 0.0404 - top_5_accuracy: 0.1588 - val_loss: 5.4968 - val_accuracy: 0.0333 - val_top_5_accuracy: 0.1033\n",
            "Epoch 15/100\n",
            "157/157 [==============================] - ETA: 0s - loss: 5.0451 - accuracy: 0.0422 - top_5_accuracy: 0.1624\n",
            "Epoch 15: val_top_5_accuracy did not improve from 0.10333\n",
            "157/157 [==============================] - 20s 128ms/step - loss: 5.0451 - accuracy: 0.0422 - top_5_accuracy: 0.1624 - val_loss: 5.5004 - val_accuracy: 0.0233 - val_top_5_accuracy: 0.0967\n",
            "Epoch 16/100\n",
            "157/157 [==============================] - ETA: 0s - loss: 5.0268 - accuracy: 0.0434 - top_5_accuracy: 0.1616\n",
            "Epoch 16: val_top_5_accuracy did not improve from 0.10333\n",
            "157/157 [==============================] - 18s 118ms/step - loss: 5.0268 - accuracy: 0.0434 - top_5_accuracy: 0.1616 - val_loss: 5.5140 - val_accuracy: 0.0267 - val_top_5_accuracy: 0.0833\n",
            "Epoch 17/100\n",
            "157/157 [==============================] - ETA: 0s - loss: 4.9970 - accuracy: 0.0450 - top_5_accuracy: 0.1646\n",
            "Epoch 17: val_top_5_accuracy improved from 0.10333 to 0.11667, saving model to base_model.h5\n",
            "157/157 [==============================] - 20s 130ms/step - loss: 4.9970 - accuracy: 0.0450 - top_5_accuracy: 0.1646 - val_loss: 5.5274 - val_accuracy: 0.0167 - val_top_5_accuracy: 0.1167\n",
            "Epoch 18/100\n",
            "157/157 [==============================] - ETA: 0s - loss: 4.9755 - accuracy: 0.0476 - top_5_accuracy: 0.1712\n",
            "Epoch 18: val_top_5_accuracy did not improve from 0.11667\n",
            "157/157 [==============================] - 19s 119ms/step - loss: 4.9755 - accuracy: 0.0476 - top_5_accuracy: 0.1712 - val_loss: 5.5321 - val_accuracy: 0.0133 - val_top_5_accuracy: 0.1133\n",
            "Epoch 19/100\n",
            "157/157 [==============================] - ETA: 0s - loss: 4.9590 - accuracy: 0.0472 - top_5_accuracy: 0.1734\n",
            "Epoch 19: val_top_5_accuracy did not improve from 0.11667\n",
            "157/157 [==============================] - 20s 126ms/step - loss: 4.9590 - accuracy: 0.0472 - top_5_accuracy: 0.1734 - val_loss: 5.5477 - val_accuracy: 0.0333 - val_top_5_accuracy: 0.1133\n",
            "Epoch 20/100\n",
            "157/157 [==============================] - ETA: 0s - loss: 4.9443 - accuracy: 0.0536 - top_5_accuracy: 0.1852\n",
            "Epoch 20: val_top_5_accuracy did not improve from 0.11667\n",
            "157/157 [==============================] - 19s 120ms/step - loss: 4.9443 - accuracy: 0.0536 - top_5_accuracy: 0.1852 - val_loss: 5.5541 - val_accuracy: 0.0333 - val_top_5_accuracy: 0.1133\n",
            "Epoch 21/100\n",
            "157/157 [==============================] - ETA: 0s - loss: 4.9288 - accuracy: 0.0516 - top_5_accuracy: 0.1798\n",
            "Epoch 21: val_top_5_accuracy improved from 0.11667 to 0.12000, saving model to base_model.h5\n",
            "157/157 [==============================] - 20s 128ms/step - loss: 4.9288 - accuracy: 0.0516 - top_5_accuracy: 0.1798 - val_loss: 5.5286 - val_accuracy: 0.0367 - val_top_5_accuracy: 0.1200\n",
            "Epoch 22/100\n",
            "157/157 [==============================] - ETA: 0s - loss: 4.9006 - accuracy: 0.0534 - top_5_accuracy: 0.1902\n",
            "Epoch 22: val_top_5_accuracy improved from 0.12000 to 0.13333, saving model to base_model.h5\n",
            "157/157 [==============================] - 19s 122ms/step - loss: 4.9006 - accuracy: 0.0534 - top_5_accuracy: 0.1902 - val_loss: 5.5639 - val_accuracy: 0.0433 - val_top_5_accuracy: 0.1333\n",
            "Epoch 23/100\n",
            "157/157 [==============================] - ETA: 0s - loss: 4.8962 - accuracy: 0.0558 - top_5_accuracy: 0.1886\n",
            "Epoch 23: val_top_5_accuracy improved from 0.13333 to 0.13667, saving model to base_model.h5\n",
            "157/157 [==============================] - 19s 121ms/step - loss: 4.8962 - accuracy: 0.0558 - top_5_accuracy: 0.1886 - val_loss: 5.5492 - val_accuracy: 0.0367 - val_top_5_accuracy: 0.1367\n",
            "Epoch 24/100\n",
            "157/157 [==============================] - ETA: 0s - loss: 4.8776 - accuracy: 0.0542 - top_5_accuracy: 0.1932\n",
            "Epoch 24: val_top_5_accuracy did not improve from 0.13667\n",
            "157/157 [==============================] - 20s 128ms/step - loss: 4.8776 - accuracy: 0.0542 - top_5_accuracy: 0.1932 - val_loss: 5.5410 - val_accuracy: 0.0433 - val_top_5_accuracy: 0.1100\n",
            "Epoch 25/100\n",
            "157/157 [==============================] - ETA: 0s - loss: 4.8587 - accuracy: 0.0566 - top_5_accuracy: 0.1880\n",
            "Epoch 25: val_top_5_accuracy did not improve from 0.13667\n",
            "157/157 [==============================] - 19s 120ms/step - loss: 4.8587 - accuracy: 0.0566 - top_5_accuracy: 0.1880 - val_loss: 5.5387 - val_accuracy: 0.0400 - val_top_5_accuracy: 0.1167\n",
            "Epoch 26/100\n",
            "157/157 [==============================] - ETA: 0s - loss: 4.8359 - accuracy: 0.0534 - top_5_accuracy: 0.1986\n",
            "Epoch 26: val_top_5_accuracy did not improve from 0.13667\n",
            "157/157 [==============================] - 20s 128ms/step - loss: 4.8359 - accuracy: 0.0534 - top_5_accuracy: 0.1986 - val_loss: 5.5523 - val_accuracy: 0.0333 - val_top_5_accuracy: 0.1233\n",
            "Epoch 27/100\n",
            "157/157 [==============================] - ETA: 0s - loss: 4.8197 - accuracy: 0.0642 - top_5_accuracy: 0.2030\n",
            "Epoch 27: val_top_5_accuracy did not improve from 0.13667\n",
            "157/157 [==============================] - 19s 120ms/step - loss: 4.8197 - accuracy: 0.0642 - top_5_accuracy: 0.2030 - val_loss: 5.5811 - val_accuracy: 0.0367 - val_top_5_accuracy: 0.1267\n",
            "Epoch 28/100\n",
            "157/157 [==============================] - ETA: 0s - loss: 4.8166 - accuracy: 0.0562 - top_5_accuracy: 0.2040\n",
            "Epoch 28: val_top_5_accuracy did not improve from 0.13667\n",
            "157/157 [==============================] - 20s 127ms/step - loss: 4.8166 - accuracy: 0.0562 - top_5_accuracy: 0.2040 - val_loss: 5.5862 - val_accuracy: 0.0400 - val_top_5_accuracy: 0.1300\n",
            "Epoch 29/100\n",
            "157/157 [==============================] - ETA: 0s - loss: 4.7971 - accuracy: 0.0604 - top_5_accuracy: 0.2014\n",
            "Epoch 29: val_top_5_accuracy did not improve from 0.13667\n",
            "157/157 [==============================] - 20s 126ms/step - loss: 4.7971 - accuracy: 0.0604 - top_5_accuracy: 0.2014 - val_loss: 5.5928 - val_accuracy: 0.0400 - val_top_5_accuracy: 0.1367\n",
            "Epoch 30/100\n",
            "157/157 [==============================] - ETA: 0s - loss: 4.7824 - accuracy: 0.0634 - top_5_accuracy: 0.2170\n",
            "Epoch 30: val_top_5_accuracy did not improve from 0.13667\n",
            "157/157 [==============================] - 20s 127ms/step - loss: 4.7824 - accuracy: 0.0634 - top_5_accuracy: 0.2170 - val_loss: 5.6151 - val_accuracy: 0.0467 - val_top_5_accuracy: 0.1100\n",
            "Epoch 31/100\n",
            "157/157 [==============================] - ETA: 0s - loss: 4.7653 - accuracy: 0.0642 - top_5_accuracy: 0.2148\n",
            "Epoch 31: val_top_5_accuracy did not improve from 0.13667\n",
            "157/157 [==============================] - 19s 119ms/step - loss: 4.7653 - accuracy: 0.0642 - top_5_accuracy: 0.2148 - val_loss: 5.6206 - val_accuracy: 0.0467 - val_top_5_accuracy: 0.1133\n",
            "Epoch 32/100\n",
            "157/157 [==============================] - ETA: 0s - loss: 4.7525 - accuracy: 0.0608 - top_5_accuracy: 0.2180\n",
            "Epoch 32: val_top_5_accuracy did not improve from 0.13667\n",
            "157/157 [==============================] - 20s 127ms/step - loss: 4.7525 - accuracy: 0.0608 - top_5_accuracy: 0.2180 - val_loss: 5.6198 - val_accuracy: 0.0467 - val_top_5_accuracy: 0.1033\n",
            "Epoch 33/100\n",
            "157/157 [==============================] - ETA: 0s - loss: 4.7495 - accuracy: 0.0600 - top_5_accuracy: 0.2102\n",
            "Epoch 33: val_top_5_accuracy did not improve from 0.13667\n",
            "157/157 [==============================] - 19s 118ms/step - loss: 4.7495 - accuracy: 0.0600 - top_5_accuracy: 0.2102 - val_loss: 5.6213 - val_accuracy: 0.0433 - val_top_5_accuracy: 0.1300\n",
            "Epoch 34/100\n",
            "157/157 [==============================] - ETA: 0s - loss: 4.7275 - accuracy: 0.0654 - top_5_accuracy: 0.2164\n",
            "Epoch 34: val_top_5_accuracy did not improve from 0.13667\n",
            "157/157 [==============================] - 19s 119ms/step - loss: 4.7275 - accuracy: 0.0654 - top_5_accuracy: 0.2164 - val_loss: 5.6102 - val_accuracy: 0.0400 - val_top_5_accuracy: 0.1300\n",
            "Epoch 35/100\n",
            "157/157 [==============================] - ETA: 0s - loss: 4.7139 - accuracy: 0.0690 - top_5_accuracy: 0.2200\n",
            "Epoch 35: val_top_5_accuracy did not improve from 0.13667\n",
            "157/157 [==============================] - 20s 127ms/step - loss: 4.7139 - accuracy: 0.0690 - top_5_accuracy: 0.2200 - val_loss: 5.6465 - val_accuracy: 0.0433 - val_top_5_accuracy: 0.1167\n",
            "Epoch 36/100\n",
            "157/157 [==============================] - ETA: 0s - loss: 4.7029 - accuracy: 0.0678 - top_5_accuracy: 0.2174\n",
            "Epoch 36: val_top_5_accuracy did not improve from 0.13667\n",
            "157/157 [==============================] - 18s 117ms/step - loss: 4.7029 - accuracy: 0.0678 - top_5_accuracy: 0.2174 - val_loss: 5.6809 - val_accuracy: 0.0567 - val_top_5_accuracy: 0.1200\n",
            "Epoch 37/100\n",
            "157/157 [==============================] - ETA: 0s - loss: 4.7014 - accuracy: 0.0736 - top_5_accuracy: 0.2298\n",
            "Epoch 37: val_top_5_accuracy did not improve from 0.13667\n",
            "157/157 [==============================] - 20s 127ms/step - loss: 4.7014 - accuracy: 0.0736 - top_5_accuracy: 0.2298 - val_loss: 5.6514 - val_accuracy: 0.0467 - val_top_5_accuracy: 0.1333\n",
            "Epoch 38/100\n",
            "157/157 [==============================] - ETA: 0s - loss: 4.6660 - accuracy: 0.0736 - top_5_accuracy: 0.2370\n",
            "Epoch 38: val_top_5_accuracy did not improve from 0.13667\n",
            "157/157 [==============================] - 20s 127ms/step - loss: 4.6660 - accuracy: 0.0736 - top_5_accuracy: 0.2370 - val_loss: 5.6835 - val_accuracy: 0.0400 - val_top_5_accuracy: 0.1167\n",
            "Epoch 39/100\n",
            "157/157 [==============================] - ETA: 0s - loss: 4.6767 - accuracy: 0.0738 - top_5_accuracy: 0.2310\n",
            "Epoch 39: val_top_5_accuracy did not improve from 0.13667\n",
            "157/157 [==============================] - 20s 127ms/step - loss: 4.6767 - accuracy: 0.0738 - top_5_accuracy: 0.2310 - val_loss: 5.6870 - val_accuracy: 0.0433 - val_top_5_accuracy: 0.1300\n",
            "Epoch 40/100\n",
            "157/157 [==============================] - ETA: 0s - loss: 4.6683 - accuracy: 0.0698 - top_5_accuracy: 0.2258\n",
            "Epoch 40: val_top_5_accuracy did not improve from 0.13667\n",
            "157/157 [==============================] - 19s 119ms/step - loss: 4.6683 - accuracy: 0.0698 - top_5_accuracy: 0.2258 - val_loss: 5.7068 - val_accuracy: 0.0467 - val_top_5_accuracy: 0.1333\n",
            "Epoch 41/100\n",
            "157/157 [==============================] - ETA: 0s - loss: 4.6559 - accuracy: 0.0700 - top_5_accuracy: 0.2262\n",
            "Epoch 41: val_top_5_accuracy did not improve from 0.13667\n",
            "157/157 [==============================] - 20s 126ms/step - loss: 4.6559 - accuracy: 0.0700 - top_5_accuracy: 0.2262 - val_loss: 5.7035 - val_accuracy: 0.0567 - val_top_5_accuracy: 0.1233\n",
            "Epoch 42/100\n",
            "157/157 [==============================] - ETA: 0s - loss: 4.6439 - accuracy: 0.0728 - top_5_accuracy: 0.2370\n",
            "Epoch 42: val_top_5_accuracy did not improve from 0.13667\n",
            "157/157 [==============================] - 19s 118ms/step - loss: 4.6439 - accuracy: 0.0728 - top_5_accuracy: 0.2370 - val_loss: 5.7591 - val_accuracy: 0.0533 - val_top_5_accuracy: 0.1267\n",
            "Epoch 43/100\n",
            "157/157 [==============================] - ETA: 0s - loss: 4.6276 - accuracy: 0.0746 - top_5_accuracy: 0.2332\n",
            "Epoch 43: val_top_5_accuracy did not improve from 0.13667\n",
            "157/157 [==============================] - 20s 127ms/step - loss: 4.6276 - accuracy: 0.0746 - top_5_accuracy: 0.2332 - val_loss: 5.6890 - val_accuracy: 0.0533 - val_top_5_accuracy: 0.1300\n",
            "Epoch 44/100\n",
            "157/157 [==============================] - ETA: 0s - loss: 4.6269 - accuracy: 0.0772 - top_5_accuracy: 0.2394\n",
            "Epoch 44: val_top_5_accuracy did not improve from 0.13667\n",
            "157/157 [==============================] - 19s 119ms/step - loss: 4.6269 - accuracy: 0.0772 - top_5_accuracy: 0.2394 - val_loss: 5.7063 - val_accuracy: 0.0433 - val_top_5_accuracy: 0.1267\n",
            "Epoch 45/100\n",
            "157/157 [==============================] - ETA: 0s - loss: 4.6203 - accuracy: 0.0714 - top_5_accuracy: 0.2346\n",
            "Epoch 45: val_top_5_accuracy did not improve from 0.13667\n",
            "157/157 [==============================] - 18s 118ms/step - loss: 4.6203 - accuracy: 0.0714 - top_5_accuracy: 0.2346 - val_loss: 5.7385 - val_accuracy: 0.0500 - val_top_5_accuracy: 0.1200\n",
            "Epoch 46/100\n",
            "157/157 [==============================] - ETA: 0s - loss: 4.6196 - accuracy: 0.0680 - top_5_accuracy: 0.2342\n",
            "Epoch 46: val_top_5_accuracy did not improve from 0.13667\n",
            "157/157 [==============================] - 20s 129ms/step - loss: 4.6196 - accuracy: 0.0680 - top_5_accuracy: 0.2342 - val_loss: 5.7181 - val_accuracy: 0.0500 - val_top_5_accuracy: 0.1333\n",
            "Epoch 47/100\n",
            "157/157 [==============================] - ETA: 0s - loss: 4.6037 - accuracy: 0.0720 - top_5_accuracy: 0.2402\n",
            "Epoch 47: val_top_5_accuracy did not improve from 0.13667\n",
            "157/157 [==============================] - 20s 128ms/step - loss: 4.6037 - accuracy: 0.0720 - top_5_accuracy: 0.2402 - val_loss: 5.7679 - val_accuracy: 0.0500 - val_top_5_accuracy: 0.1367\n",
            "Epoch 48/100\n",
            "157/157 [==============================] - ETA: 0s - loss: 4.6047 - accuracy: 0.0778 - top_5_accuracy: 0.2460\n",
            "Epoch 48: val_top_5_accuracy improved from 0.13667 to 0.14333, saving model to base_model.h5\n",
            "157/157 [==============================] - 20s 129ms/step - loss: 4.6047 - accuracy: 0.0778 - top_5_accuracy: 0.2460 - val_loss: 5.7793 - val_accuracy: 0.0500 - val_top_5_accuracy: 0.1433\n",
            "Epoch 49/100\n",
            "157/157 [==============================] - ETA: 0s - loss: 4.6047 - accuracy: 0.0748 - top_5_accuracy: 0.2340\n",
            "Epoch 49: val_top_5_accuracy did not improve from 0.14333\n",
            "157/157 [==============================] - 19s 120ms/step - loss: 4.6047 - accuracy: 0.0748 - top_5_accuracy: 0.2340 - val_loss: 5.7964 - val_accuracy: 0.0533 - val_top_5_accuracy: 0.1333\n",
            "Epoch 50/100\n",
            "157/157 [==============================] - ETA: 0s - loss: 4.5792 - accuracy: 0.0782 - top_5_accuracy: 0.2556\n",
            "Epoch 50: val_top_5_accuracy did not improve from 0.14333\n",
            "157/157 [==============================] - 20s 128ms/step - loss: 4.5792 - accuracy: 0.0782 - top_5_accuracy: 0.2556 - val_loss: 5.7668 - val_accuracy: 0.0533 - val_top_5_accuracy: 0.1300\n",
            "Epoch 51/100\n",
            "157/157 [==============================] - ETA: 0s - loss: 4.5807 - accuracy: 0.0756 - top_5_accuracy: 0.2468\n",
            "Epoch 51: val_top_5_accuracy did not improve from 0.14333\n",
            "157/157 [==============================] - 19s 119ms/step - loss: 4.5807 - accuracy: 0.0756 - top_5_accuracy: 0.2468 - val_loss: 5.7801 - val_accuracy: 0.0567 - val_top_5_accuracy: 0.1300\n",
            "Epoch 52/100\n",
            "157/157 [==============================] - ETA: 0s - loss: 4.5657 - accuracy: 0.0792 - top_5_accuracy: 0.2506\n",
            "Epoch 52: val_top_5_accuracy did not improve from 0.14333\n",
            "157/157 [==============================] - 20s 127ms/step - loss: 4.5657 - accuracy: 0.0792 - top_5_accuracy: 0.2506 - val_loss: 5.7458 - val_accuracy: 0.0567 - val_top_5_accuracy: 0.1400\n",
            "Epoch 53/100\n",
            "157/157 [==============================] - ETA: 0s - loss: 4.5708 - accuracy: 0.0748 - top_5_accuracy: 0.2444\n",
            "Epoch 53: val_top_5_accuracy did not improve from 0.14333\n",
            "157/157 [==============================] - 19s 119ms/step - loss: 4.5708 - accuracy: 0.0748 - top_5_accuracy: 0.2444 - val_loss: 5.8286 - val_accuracy: 0.0600 - val_top_5_accuracy: 0.1433\n",
            "Epoch 54/100\n",
            "157/157 [==============================] - ETA: 0s - loss: 4.5567 - accuracy: 0.0762 - top_5_accuracy: 0.2586\n",
            "Epoch 54: val_top_5_accuracy did not improve from 0.14333\n",
            "157/157 [==============================] - 20s 128ms/step - loss: 4.5567 - accuracy: 0.0762 - top_5_accuracy: 0.2586 - val_loss: 5.8162 - val_accuracy: 0.0633 - val_top_5_accuracy: 0.1367\n",
            "Epoch 55/100\n",
            "157/157 [==============================] - ETA: 0s - loss: 4.5393 - accuracy: 0.0834 - top_5_accuracy: 0.2596\n",
            "Epoch 55: val_top_5_accuracy did not improve from 0.14333\n",
            "157/157 [==============================] - 20s 127ms/step - loss: 4.5393 - accuracy: 0.0834 - top_5_accuracy: 0.2596 - val_loss: 5.8233 - val_accuracy: 0.0633 - val_top_5_accuracy: 0.1300\n",
            "Epoch 56/100\n",
            "157/157 [==============================] - ETA: 0s - loss: 4.5434 - accuracy: 0.0740 - top_5_accuracy: 0.2536\n",
            "Epoch 56: val_top_5_accuracy improved from 0.14333 to 0.14667, saving model to base_model.h5\n",
            "157/157 [==============================] - 20s 128ms/step - loss: 4.5434 - accuracy: 0.0740 - top_5_accuracy: 0.2536 - val_loss: 5.8871 - val_accuracy: 0.0633 - val_top_5_accuracy: 0.1467\n",
            "Epoch 57/100\n",
            "157/157 [==============================] - ETA: 0s - loss: 4.5368 - accuracy: 0.0794 - top_5_accuracy: 0.2508\n",
            "Epoch 57: val_top_5_accuracy improved from 0.14667 to 0.16000, saving model to base_model.h5\n",
            "157/157 [==============================] - 19s 120ms/step - loss: 4.5368 - accuracy: 0.0794 - top_5_accuracy: 0.2508 - val_loss: 5.8166 - val_accuracy: 0.0533 - val_top_5_accuracy: 0.1600\n",
            "Epoch 58/100\n",
            "157/157 [==============================] - ETA: 0s - loss: 4.5437 - accuracy: 0.0844 - top_5_accuracy: 0.2584\n",
            "Epoch 58: val_top_5_accuracy did not improve from 0.16000\n",
            "157/157 [==============================] - 19s 119ms/step - loss: 4.5437 - accuracy: 0.0844 - top_5_accuracy: 0.2584 - val_loss: 5.8494 - val_accuracy: 0.0567 - val_top_5_accuracy: 0.1467\n",
            "Epoch 59/100\n",
            "157/157 [==============================] - ETA: 0s - loss: 4.5138 - accuracy: 0.0842 - top_5_accuracy: 0.2658\n",
            "Epoch 59: val_top_5_accuracy did not improve from 0.16000\n",
            "157/157 [==============================] - 20s 128ms/step - loss: 4.5138 - accuracy: 0.0842 - top_5_accuracy: 0.2658 - val_loss: 5.8691 - val_accuracy: 0.0667 - val_top_5_accuracy: 0.1533\n",
            "Epoch 60/100\n",
            "157/157 [==============================] - ETA: 0s - loss: 4.5081 - accuracy: 0.0778 - top_5_accuracy: 0.2598\n",
            "Epoch 60: val_top_5_accuracy did not improve from 0.16000\n",
            "157/157 [==============================] - 19s 118ms/step - loss: 4.5081 - accuracy: 0.0778 - top_5_accuracy: 0.2598 - val_loss: 5.9092 - val_accuracy: 0.0633 - val_top_5_accuracy: 0.1533\n",
            "Epoch 61/100\n",
            "157/157 [==============================] - ETA: 0s - loss: 4.5042 - accuracy: 0.0850 - top_5_accuracy: 0.2638\n",
            "Epoch 61: val_top_5_accuracy improved from 0.16000 to 0.16667, saving model to base_model.h5\n",
            "157/157 [==============================] - 20s 128ms/step - loss: 4.5042 - accuracy: 0.0850 - top_5_accuracy: 0.2638 - val_loss: 5.8971 - val_accuracy: 0.0567 - val_top_5_accuracy: 0.1667\n",
            "Epoch 62/100\n",
            "157/157 [==============================] - ETA: 0s - loss: 4.4964 - accuracy: 0.0802 - top_5_accuracy: 0.2670\n",
            "Epoch 62: val_top_5_accuracy did not improve from 0.16667\n",
            "157/157 [==============================] - 19s 119ms/step - loss: 4.4964 - accuracy: 0.0802 - top_5_accuracy: 0.2670 - val_loss: 5.9077 - val_accuracy: 0.0667 - val_top_5_accuracy: 0.1533\n",
            "Epoch 63/100\n",
            "157/157 [==============================] - ETA: 0s - loss: 4.4999 - accuracy: 0.0822 - top_5_accuracy: 0.2620\n",
            "Epoch 63: val_top_5_accuracy improved from 0.16667 to 0.17000, saving model to base_model.h5\n",
            "157/157 [==============================] - 20s 130ms/step - loss: 4.4999 - accuracy: 0.0822 - top_5_accuracy: 0.2620 - val_loss: 5.8923 - val_accuracy: 0.0700 - val_top_5_accuracy: 0.1700\n",
            "Epoch 64/100\n",
            "157/157 [==============================] - ETA: 0s - loss: 4.4889 - accuracy: 0.0894 - top_5_accuracy: 0.2678\n",
            "Epoch 64: val_top_5_accuracy did not improve from 0.17000\n",
            "157/157 [==============================] - 20s 127ms/step - loss: 4.4889 - accuracy: 0.0894 - top_5_accuracy: 0.2678 - val_loss: 5.9196 - val_accuracy: 0.0667 - val_top_5_accuracy: 0.1633\n",
            "Epoch 65/100\n",
            "157/157 [==============================] - ETA: 0s - loss: 4.4812 - accuracy: 0.0894 - top_5_accuracy: 0.2680\n",
            "Epoch 65: val_top_5_accuracy did not improve from 0.17000\n",
            "157/157 [==============================] - 20s 128ms/step - loss: 4.4812 - accuracy: 0.0894 - top_5_accuracy: 0.2680 - val_loss: 5.9032 - val_accuracy: 0.0700 - val_top_5_accuracy: 0.1600\n",
            "Epoch 66/100\n",
            "157/157 [==============================] - ETA: 0s - loss: 4.4838 - accuracy: 0.0844 - top_5_accuracy: 0.2598\n",
            "Epoch 66: val_top_5_accuracy did not improve from 0.17000\n",
            "157/157 [==============================] - 19s 119ms/step - loss: 4.4838 - accuracy: 0.0844 - top_5_accuracy: 0.2598 - val_loss: 5.8948 - val_accuracy: 0.0633 - val_top_5_accuracy: 0.1600\n",
            "Epoch 67/100\n",
            "157/157 [==============================] - ETA: 0s - loss: 4.4814 - accuracy: 0.0886 - top_5_accuracy: 0.2674\n",
            "Epoch 67: val_top_5_accuracy did not improve from 0.17000\n",
            "157/157 [==============================] - 20s 128ms/step - loss: 4.4814 - accuracy: 0.0886 - top_5_accuracy: 0.2674 - val_loss: 5.9154 - val_accuracy: 0.0633 - val_top_5_accuracy: 0.1600\n",
            "Epoch 68/100\n",
            "157/157 [==============================] - ETA: 0s - loss: 4.4611 - accuracy: 0.0880 - top_5_accuracy: 0.2738\n",
            "Epoch 68: val_top_5_accuracy did not improve from 0.17000\n",
            "157/157 [==============================] - 19s 120ms/step - loss: 4.4611 - accuracy: 0.0880 - top_5_accuracy: 0.2738 - val_loss: 5.9442 - val_accuracy: 0.0667 - val_top_5_accuracy: 0.1533\n",
            "Epoch 69/100\n",
            "157/157 [==============================] - ETA: 0s - loss: 4.4680 - accuracy: 0.0866 - top_5_accuracy: 0.2734\n",
            "Epoch 69: val_top_5_accuracy did not improve from 0.17000\n",
            "157/157 [==============================] - 20s 130ms/step - loss: 4.4680 - accuracy: 0.0866 - top_5_accuracy: 0.2734 - val_loss: 5.9512 - val_accuracy: 0.0700 - val_top_5_accuracy: 0.1667\n",
            "Epoch 70/100\n",
            "157/157 [==============================] - ETA: 0s - loss: 4.4532 - accuracy: 0.0908 - top_5_accuracy: 0.2722\n",
            "Epoch 70: val_top_5_accuracy did not improve from 0.17000\n",
            "157/157 [==============================] - 19s 120ms/step - loss: 4.4532 - accuracy: 0.0908 - top_5_accuracy: 0.2722 - val_loss: 5.9864 - val_accuracy: 0.0700 - val_top_5_accuracy: 0.1600\n",
            "Epoch 71/100\n",
            "157/157 [==============================] - ETA: 0s - loss: 4.4618 - accuracy: 0.0936 - top_5_accuracy: 0.2794\n",
            "Epoch 71: val_top_5_accuracy did not improve from 0.17000\n",
            "157/157 [==============================] - 20s 125ms/step - loss: 4.4618 - accuracy: 0.0936 - top_5_accuracy: 0.2794 - val_loss: 5.9320 - val_accuracy: 0.0633 - val_top_5_accuracy: 0.1533\n",
            "Epoch 72/100\n",
            "157/157 [==============================] - ETA: 0s - loss: 4.4512 - accuracy: 0.0916 - top_5_accuracy: 0.2722\n",
            "Epoch 72: val_top_5_accuracy did not improve from 0.17000\n",
            "157/157 [==============================] - 19s 123ms/step - loss: 4.4512 - accuracy: 0.0916 - top_5_accuracy: 0.2722 - val_loss: 6.0491 - val_accuracy: 0.0700 - val_top_5_accuracy: 0.1633\n",
            "Epoch 73/100\n",
            "157/157 [==============================] - ETA: 0s - loss: 4.4469 - accuracy: 0.0916 - top_5_accuracy: 0.2812\n",
            "Epoch 73: val_top_5_accuracy did not improve from 0.17000\n",
            "157/157 [==============================] - 20s 128ms/step - loss: 4.4469 - accuracy: 0.0916 - top_5_accuracy: 0.2812 - val_loss: 5.9575 - val_accuracy: 0.0567 - val_top_5_accuracy: 0.1600\n",
            "Epoch 74/100\n",
            "157/157 [==============================] - ETA: 0s - loss: 4.4368 - accuracy: 0.0904 - top_5_accuracy: 0.2860\n",
            "Epoch 74: val_top_5_accuracy improved from 0.17000 to 0.17333, saving model to base_model.h5\n",
            "157/157 [==============================] - 20s 130ms/step - loss: 4.4368 - accuracy: 0.0904 - top_5_accuracy: 0.2860 - val_loss: 5.9779 - val_accuracy: 0.0633 - val_top_5_accuracy: 0.1733\n",
            "Epoch 75/100\n",
            "157/157 [==============================] - ETA: 0s - loss: 4.4383 - accuracy: 0.0920 - top_5_accuracy: 0.2874\n",
            "Epoch 75: val_top_5_accuracy did not improve from 0.17333\n",
            "157/157 [==============================] - 19s 119ms/step - loss: 4.4383 - accuracy: 0.0920 - top_5_accuracy: 0.2874 - val_loss: 5.9726 - val_accuracy: 0.0667 - val_top_5_accuracy: 0.1667\n",
            "Epoch 76/100\n",
            "157/157 [==============================] - ETA: 0s - loss: 4.4323 - accuracy: 0.0934 - top_5_accuracy: 0.2782\n",
            "Epoch 76: val_top_5_accuracy did not improve from 0.17333\n",
            "157/157 [==============================] - 20s 128ms/step - loss: 4.4323 - accuracy: 0.0934 - top_5_accuracy: 0.2782 - val_loss: 5.9585 - val_accuracy: 0.0667 - val_top_5_accuracy: 0.1667\n",
            "Epoch 77/100\n",
            "157/157 [==============================] - ETA: 0s - loss: 4.4306 - accuracy: 0.0898 - top_5_accuracy: 0.2790\n",
            "Epoch 77: val_top_5_accuracy did not improve from 0.17333\n",
            "157/157 [==============================] - 19s 119ms/step - loss: 4.4306 - accuracy: 0.0898 - top_5_accuracy: 0.2790 - val_loss: 6.0458 - val_accuracy: 0.0667 - val_top_5_accuracy: 0.1633\n",
            "Epoch 78/100\n",
            "157/157 [==============================] - ETA: 0s - loss: 4.4153 - accuracy: 0.0956 - top_5_accuracy: 0.2894\n",
            "Epoch 78: val_top_5_accuracy did not improve from 0.17333\n",
            "157/157 [==============================] - 20s 127ms/step - loss: 4.4153 - accuracy: 0.0956 - top_5_accuracy: 0.2894 - val_loss: 6.0161 - val_accuracy: 0.0667 - val_top_5_accuracy: 0.1667\n",
            "Epoch 79/100\n",
            "157/157 [==============================] - ETA: 0s - loss: 4.4206 - accuracy: 0.0940 - top_5_accuracy: 0.2876\n",
            "Epoch 79: val_top_5_accuracy did not improve from 0.17333\n",
            "157/157 [==============================] - 19s 120ms/step - loss: 4.4206 - accuracy: 0.0940 - top_5_accuracy: 0.2876 - val_loss: 6.0298 - val_accuracy: 0.0667 - val_top_5_accuracy: 0.1700\n",
            "Epoch 80/100\n",
            "157/157 [==============================] - ETA: 0s - loss: 4.4091 - accuracy: 0.0992 - top_5_accuracy: 0.2860\n",
            "Epoch 80: val_top_5_accuracy did not improve from 0.17333\n",
            "157/157 [==============================] - 20s 127ms/step - loss: 4.4091 - accuracy: 0.0992 - top_5_accuracy: 0.2860 - val_loss: 6.0629 - val_accuracy: 0.0633 - val_top_5_accuracy: 0.1667\n",
            "Epoch 81/100\n",
            "157/157 [==============================] - ETA: 0s - loss: 4.3968 - accuracy: 0.1008 - top_5_accuracy: 0.2828\n",
            "Epoch 81: val_top_5_accuracy did not improve from 0.17333\n",
            "157/157 [==============================] - 20s 127ms/step - loss: 4.3968 - accuracy: 0.1008 - top_5_accuracy: 0.2828 - val_loss: 6.0580 - val_accuracy: 0.0667 - val_top_5_accuracy: 0.1633\n",
            "Epoch 82/100\n",
            "157/157 [==============================] - ETA: 0s - loss: 4.4008 - accuracy: 0.0982 - top_5_accuracy: 0.2844\n",
            "Epoch 82: val_top_5_accuracy did not improve from 0.17333\n",
            "157/157 [==============================] - 20s 128ms/step - loss: 4.4008 - accuracy: 0.0982 - top_5_accuracy: 0.2844 - val_loss: 6.0339 - val_accuracy: 0.0700 - val_top_5_accuracy: 0.1667\n",
            "Epoch 83/100\n",
            "157/157 [==============================] - ETA: 0s - loss: 4.4023 - accuracy: 0.0930 - top_5_accuracy: 0.2926\n",
            "Epoch 83: val_top_5_accuracy did not improve from 0.17333\n",
            "157/157 [==============================] - 19s 120ms/step - loss: 4.4023 - accuracy: 0.0930 - top_5_accuracy: 0.2926 - val_loss: 6.0182 - val_accuracy: 0.0733 - val_top_5_accuracy: 0.1700\n",
            "Epoch 84/100\n",
            "157/157 [==============================] - ETA: 0s - loss: 4.3889 - accuracy: 0.0972 - top_5_accuracy: 0.2920\n",
            "Epoch 84: val_top_5_accuracy did not improve from 0.17333\n",
            "157/157 [==============================] - 19s 119ms/step - loss: 4.3889 - accuracy: 0.0972 - top_5_accuracy: 0.2920 - val_loss: 6.0021 - val_accuracy: 0.0700 - val_top_5_accuracy: 0.1733\n",
            "Epoch 85/100\n",
            "157/157 [==============================] - ETA: 0s - loss: 4.3935 - accuracy: 0.1010 - top_5_accuracy: 0.2974\n",
            "Epoch 85: val_top_5_accuracy did not improve from 0.17333\n",
            "157/157 [==============================] - 20s 128ms/step - loss: 4.3935 - accuracy: 0.1010 - top_5_accuracy: 0.2974 - val_loss: 6.0490 - val_accuracy: 0.0700 - val_top_5_accuracy: 0.1700\n",
            "Epoch 86/100\n",
            "157/157 [==============================] - ETA: 0s - loss: 4.3885 - accuracy: 0.0974 - top_5_accuracy: 0.3008\n",
            "Epoch 86: val_top_5_accuracy did not improve from 0.17333\n",
            "157/157 [==============================] - 19s 118ms/step - loss: 4.3885 - accuracy: 0.0974 - top_5_accuracy: 0.3008 - val_loss: 6.0317 - val_accuracy: 0.0700 - val_top_5_accuracy: 0.1667\n",
            "Epoch 87/100\n",
            "157/157 [==============================] - ETA: 0s - loss: 4.3902 - accuracy: 0.1010 - top_5_accuracy: 0.2884\n",
            "Epoch 87: val_top_5_accuracy did not improve from 0.17333\n",
            "157/157 [==============================] - 20s 128ms/step - loss: 4.3902 - accuracy: 0.1010 - top_5_accuracy: 0.2884 - val_loss: 6.0555 - val_accuracy: 0.0700 - val_top_5_accuracy: 0.1633\n",
            "Epoch 88/100\n",
            "157/157 [==============================] - ETA: 0s - loss: 4.3871 - accuracy: 0.0984 - top_5_accuracy: 0.2850\n",
            "Epoch 88: val_top_5_accuracy improved from 0.17333 to 0.18000, saving model to base_model.h5\n",
            "157/157 [==============================] - 19s 120ms/step - loss: 4.3871 - accuracy: 0.0984 - top_5_accuracy: 0.2850 - val_loss: 6.0312 - val_accuracy: 0.0733 - val_top_5_accuracy: 0.1800\n",
            "Epoch 89/100\n",
            "157/157 [==============================] - ETA: 0s - loss: 4.3786 - accuracy: 0.0984 - top_5_accuracy: 0.2916\n",
            "Epoch 89: val_top_5_accuracy did not improve from 0.18000\n",
            "157/157 [==============================] - 20s 127ms/step - loss: 4.3786 - accuracy: 0.0984 - top_5_accuracy: 0.2916 - val_loss: 6.0983 - val_accuracy: 0.0733 - val_top_5_accuracy: 0.1633\n",
            "Epoch 90/100\n",
            "157/157 [==============================] - ETA: 0s - loss: 4.3765 - accuracy: 0.0954 - top_5_accuracy: 0.2928\n",
            "Epoch 90: val_top_5_accuracy did not improve from 0.18000\n",
            "157/157 [==============================] - 20s 128ms/step - loss: 4.3765 - accuracy: 0.0954 - top_5_accuracy: 0.2928 - val_loss: 6.0596 - val_accuracy: 0.0767 - val_top_5_accuracy: 0.1800\n",
            "Epoch 91/100\n",
            "157/157 [==============================] - ETA: 0s - loss: 4.3550 - accuracy: 0.1026 - top_5_accuracy: 0.2958\n",
            "Epoch 91: val_top_5_accuracy did not improve from 0.18000\n",
            "157/157 [==============================] - 20s 128ms/step - loss: 4.3550 - accuracy: 0.1026 - top_5_accuracy: 0.2958 - val_loss: 6.0986 - val_accuracy: 0.0833 - val_top_5_accuracy: 0.1667\n",
            "Epoch 92/100\n",
            "157/157 [==============================] - ETA: 0s - loss: 4.3537 - accuracy: 0.1010 - top_5_accuracy: 0.3020\n",
            "Epoch 92: val_top_5_accuracy did not improve from 0.18000\n",
            "157/157 [==============================] - 19s 119ms/step - loss: 4.3537 - accuracy: 0.1010 - top_5_accuracy: 0.3020 - val_loss: 6.0766 - val_accuracy: 0.0667 - val_top_5_accuracy: 0.1700\n",
            "Epoch 93/100\n",
            "157/157 [==============================] - ETA: 0s - loss: 4.3597 - accuracy: 0.0884 - top_5_accuracy: 0.2986\n",
            "Epoch 93: val_top_5_accuracy did not improve from 0.18000\n",
            "157/157 [==============================] - 20s 130ms/step - loss: 4.3597 - accuracy: 0.0884 - top_5_accuracy: 0.2986 - val_loss: 6.0849 - val_accuracy: 0.0800 - val_top_5_accuracy: 0.1800\n",
            "Epoch 94/100\n",
            "157/157 [==============================] - ETA: 0s - loss: 4.3549 - accuracy: 0.0950 - top_5_accuracy: 0.2962\n",
            "Epoch 94: val_top_5_accuracy did not improve from 0.18000\n",
            "157/157 [==============================] - 19s 119ms/step - loss: 4.3549 - accuracy: 0.0950 - top_5_accuracy: 0.2962 - val_loss: 6.1054 - val_accuracy: 0.0700 - val_top_5_accuracy: 0.1733\n",
            "Epoch 95/100\n",
            "157/157 [==============================] - ETA: 0s - loss: 4.3427 - accuracy: 0.0980 - top_5_accuracy: 0.2994\n",
            "Epoch 95: val_top_5_accuracy improved from 0.18000 to 0.19000, saving model to base_model.h5\n",
            "157/157 [==============================] - 20s 127ms/step - loss: 4.3427 - accuracy: 0.0980 - top_5_accuracy: 0.2994 - val_loss: 6.0940 - val_accuracy: 0.0667 - val_top_5_accuracy: 0.1900\n",
            "Epoch 96/100\n",
            "157/157 [==============================] - ETA: 0s - loss: 4.3340 - accuracy: 0.1054 - top_5_accuracy: 0.3046\n",
            "Epoch 96: val_top_5_accuracy did not improve from 0.19000\n",
            "157/157 [==============================] - 19s 122ms/step - loss: 4.3340 - accuracy: 0.1054 - top_5_accuracy: 0.3046 - val_loss: 6.1146 - val_accuracy: 0.0767 - val_top_5_accuracy: 0.1867\n",
            "Epoch 97/100\n",
            "157/157 [==============================] - ETA: 0s - loss: 4.3320 - accuracy: 0.1014 - top_5_accuracy: 0.3022\n",
            "Epoch 97: val_top_5_accuracy did not improve from 0.19000\n",
            "157/157 [==============================] - 19s 120ms/step - loss: 4.3320 - accuracy: 0.1014 - top_5_accuracy: 0.3022 - val_loss: 6.1871 - val_accuracy: 0.0733 - val_top_5_accuracy: 0.1833\n",
            "Epoch 98/100\n",
            "157/157 [==============================] - ETA: 0s - loss: 4.3316 - accuracy: 0.0970 - top_5_accuracy: 0.2972\n",
            "Epoch 98: val_top_5_accuracy did not improve from 0.19000\n",
            "157/157 [==============================] - 20s 128ms/step - loss: 4.3316 - accuracy: 0.0970 - top_5_accuracy: 0.2972 - val_loss: 6.1240 - val_accuracy: 0.0833 - val_top_5_accuracy: 0.1767\n",
            "Epoch 99/100\n",
            "157/157 [==============================] - ETA: 0s - loss: 4.3464 - accuracy: 0.1018 - top_5_accuracy: 0.2994\n",
            "Epoch 99: val_top_5_accuracy did not improve from 0.19000\n",
            "157/157 [==============================] - 20s 127ms/step - loss: 4.3464 - accuracy: 0.1018 - top_5_accuracy: 0.2994 - val_loss: 6.1622 - val_accuracy: 0.0700 - val_top_5_accuracy: 0.1800\n",
            "Epoch 100/100\n",
            "157/157 [==============================] - ETA: 0s - loss: 4.3259 - accuracy: 0.1078 - top_5_accuracy: 0.3006\n",
            "Epoch 100: val_top_5_accuracy improved from 0.19000 to 0.19667, saving model to base_model.h5\n",
            "157/157 [==============================] - 20s 130ms/step - loss: 4.3259 - accuracy: 0.1078 - top_5_accuracy: 0.3006 - val_loss: 6.1784 - val_accuracy: 0.0700 - val_top_5_accuracy: 0.1967\n"
          ]
        }
      ],
      "source": [
        "# Compile and fit Adam model\n",
        "checkpoint = ModelCheckpoint(\"base_model.h5\", monitor='val_top_5_accuracy', verbose=1, save_best_only=True, save_weights_only=False, mode='auto', save_freq= 'epoch')\n",
        "early = EarlyStopping(monitor='val_top_5_accuracy', min_delta=0, patience=50, verbose=1, mode='auto')\n",
        "optimizer = tf.keras.optimizers.Adam(learning_rate = 0.00001)\n",
        "cnn_model.compile(optimizer=optimizer, loss='sparse_categorical_crossentropy', metrics=[\"accuracy\",top_5_accuracy])\n",
        "batch_size = 32\n",
        "steps_per_epoch = int( np.ceil(x_train.shape[0] / batch_size) )\n",
        "initial_epochs = 100\n",
        "history = cnn_model.fit(datagen.flow(x_train, y_train), batch_size=batch_size, steps_per_epoch = steps_per_epoch,\n",
        "              epochs=initial_epochs, verbose=1, validation_data= (x_test, y_test), callbacks = [early, checkpoint])"
      ]
    },
    {
      "cell_type": "code",
      "execution_count": 20,
      "metadata": {
        "colab": {
          "base_uri": "https://localhost:8080/"
        },
        "id": "E9BQ9qGp_wkC",
        "outputId": "84b12a84-3cc3-4bc9-812f-63ae391872f9"
      },
      "outputs": [
        {
          "output_type": "stream",
          "name": "stdout",
          "text": [
            "10/10 [==============================] - 0s 15ms/step - loss: 6.1784 - accuracy: 0.0700 - top_5_accuracy: 0.1967\n"
          ]
        },
        {
          "output_type": "execute_result",
          "data": {
            "text/plain": [
              "[6.178411483764648, 0.07000000029802322, 0.1966666728258133]"
            ]
          },
          "metadata": {},
          "execution_count": 20
        }
      ],
      "source": [
        "# Evaluate model\n",
        "cnn_model.evaluate(x_test, y_test)"
      ]
    },
    {
      "cell_type": "code",
      "execution_count": 21,
      "metadata": {
        "colab": {
          "base_uri": "https://localhost:8080/"
        },
        "id": "esjjQTXA9Pa-",
        "outputId": "c36897ea-7cc5-4166-d699-00fb8d885767"
      },
      "outputs": [
        {
          "output_type": "stream",
          "name": "stderr",
          "text": [
            "WARNING:absl:Found untraced functions such as _jit_compiled_convolution_op, _jit_compiled_convolution_op, _jit_compiled_convolution_op while saving (showing 3 of 3). These functions will not be directly callable after loading.\n"
          ]
        }
      ],
      "source": [
        "# Save model\n",
        "cnn_model.save(\"saved_model\")"
      ]
    },
    {
      "cell_type": "code",
      "execution_count": 22,
      "metadata": {
        "colab": {
          "base_uri": "https://localhost:8080/"
        },
        "id": "Qn79lpiiPkJf",
        "outputId": "af714284-cd25-49f2-f23f-495369ced915"
      },
      "outputs": [
        {
          "output_type": "stream",
          "name": "stdout",
          "text": [
            "  adding: content/saved_model/ (stored 0%)\n",
            "  adding: content/saved_model/assets/ (stored 0%)\n",
            "  adding: content/saved_model/keras_metadata.pb (deflated 91%)\n",
            "  adding: content/saved_model/saved_model.pb (deflated 89%)\n",
            "  adding: content/saved_model/variables/ (stored 0%)\n",
            "  adding: content/saved_model/variables/variables.data-00000-of-00001 (deflated 10%)\n",
            "  adding: content/saved_model/variables/variables.index (deflated 66%)\n"
          ]
        }
      ],
      "source": [
        "!zip -r /content/saved_model.zip /content/saved_model"
      ]
    },
    {
      "cell_type": "code",
      "execution_count": 23,
      "metadata": {
        "colab": {
          "base_uri": "https://localhost:8080/",
          "height": 805
        },
        "id": "Ksrr0Vqo_5Az",
        "outputId": "0220d697-0b0e-4924-a455-8bdef53e6604"
      },
      "outputs": [
        {
          "output_type": "display_data",
          "data": {
            "text/plain": [
              "<Figure size 576x432 with 1 Axes>"
            ],
            "image/png": "[encoded data removed]"
          },
          "metadata": {
            "needs_background": "light"
          }
        },
        {
          "output_type": "display_data",
          "data": {
            "text/plain": [
              "<Figure size 576x432 with 1 Axes>"
            ],
            "image/png": "[encoded data removed]"
          },
          "metadata": {
            "needs_background": "light"
          }
        }
      ],
      "source": [
        "# Show model's loss and accuracy graph\n",
        "loss = history.history['loss']\n",
        "val_loss = history.history['val_loss']\n",
        "\n",
        "accuracy = history.history['accuracy']\n",
        "val_accuracy = history.history['val_accuracy']\n",
        "\n",
        "plt.figure(figsize=[8,6])\n",
        "plt.plot(loss,'r',linewidth=3.0)\n",
        "plt.plot(val_loss,'b',linewidth=3.0)\n",
        "plt.legend(['Training loss', 'Validation Loss'],fontsize=18)\n",
        "plt.xlabel('Epochs ',fontsize=16)\n",
        "plt.ylabel('Loss',fontsize=16)\n",
        "plt.title('Loss Curves',fontsize=16)\n",
        "plt.show()\n",
        "\n",
        "plt.figure(figsize=[8,6])\n",
        "plt.plot(accuracy,'r',linewidth=3.0)\n",
        "plt.plot(val_accuracy,'b',linewidth=3.0)\n",
        "plt.legend(['Training Accuracy', 'Validation Accuracy'],fontsize=18)\n",
        "plt.xlabel('Epochs ',fontsize=16)\n",
        "plt.ylabel('Accuracy',fontsize=16)\n",
        "plt.title('Accuracy Curves',fontsize=16)\n",
        "plt.show() "
      ]
    }
  ],
  "metadata": {
    "accelerator": "GPU",
    "colab": {
      "provenance": []
    },
    "gpuClass": "standard",
    "kernelspec": {
      "display_name": "Python 3",
      "name": "python3"
    },
    "language_info": {
      "name": "python"
    }
  },
  "nbformat": 4,
  "nbformat_minor": 0
}