{
  "cells": [
    {
      "cell_type": "markdown",
      "source": [
        "# Logic"
      ],
      "metadata": {
        "id": "NG2yqNXp1NK0"
      }
    },
    {
      "cell_type": "code",
      "source": [
        "from matplotlib import image\n",
        "import numpy as np\n",
        "import tensorflow as tf\n",
        "from sklearn.preprocessing import LabelEncoder"
      ],
      "metadata": {
        "id": "LQxJIC-01kTA"
      },
      "execution_count": 1,
      "outputs": []
    },
    {
      "cell_type": "code",
      "source": [
        "from google.colab import drive\n",
        "drive.mount('/content/drive')"
      ],
      "metadata": {
        "colab": {
          "base_uri": "https://localhost:8080/"
        },
        "id": "Sidg2QGL372u",
        "outputId": "2345aef7-1e71-49f4-c3c3-8e3943affe72"
      },
      "execution_count": 4,
      "outputs": [
        {
          "output_type": "stream",
          "name": "stdout",
          "text": [
            "Mounted at /content/drive\n"
          ]
        }
      ]
    },
    {
      "cell_type": "code",
      "source": [
        "!cp \"/content/drive/MyDrive/AML_project/list/train.txt\" \"train.txt\""
      ],
      "metadata": {
        "id": "E_KY3hGzWC4-"
      },
      "execution_count": 5,
      "outputs": []
    },
    {
      "cell_type": "code",
      "source": [
        "# Extracting the labels from the train.txt for encoding and decoding purposes\n",
        "with open('train.txt') as txt_file:\n",
        "  lines_arr = [line.strip() for line in txt_file.readlines()]\n",
        "  labels = [line.split(' ')[1] for line in lines_arr]"
      ],
      "metadata": {
        "id": "iwqVGlvUhAe5"
      },
      "execution_count": 6,
      "outputs": []
    },
    {
      "cell_type": "code",
      "source": [
        "# As we have encoded the labels on the training process, we might need to also have the decoder to change the encoded labels\n",
        "# back to its true form of species codes thus it is easier to find \n",
        "# the real name of the species later on\n",
        "def decode_labels(all_labels, target_label):\n",
        "  label_encoder = LabelEncoder()\n",
        "  label_encoder.fit(all_labels)\n",
        "  return label_encoder.inverse_transform(target_label)  "
      ],
      "metadata": {
        "id": "vM6ZqtzeB1me"
      },
      "execution_count": 7,
      "outputs": []
    },
    {
      "cell_type": "markdown",
      "source": [
        "# GUI"
      ],
      "metadata": {
        "id": "6uScTtk41PHS"
      }
    },
    {
      "cell_type": "code",
      "execution_count": 8,
      "metadata": {
        "id": "rdi8gUbfjJ8M",
        "colab": {
          "base_uri": "https://localhost:8080/"
        },
        "outputId": "7480e21d-397e-4fc1-8321-5161c32ff486"
      },
      "outputs": [
        {
          "output_type": "stream",
          "name": "stdout",
          "text": [
            "Looking in indexes: https://pypi.org/simple, https://us-python.pkg.dev/colab-wheels/public/simple/\n",
            "Collecting pyngrok==4.1.1\n",
            "  Downloading pyngrok-4.1.1.tar.gz (18 kB)\n",
            "Requirement already satisfied: future in /usr/local/lib/python3.7/dist-packages (from pyngrok==4.1.1) (0.16.0)\n",
            "Requirement already satisfied: PyYAML in /usr/local/lib/python3.7/dist-packages (from pyngrok==4.1.1) (6.0)\n",
            "Building wheels for collected packages: pyngrok\n",
            "  Building wheel for pyngrok (setup.py) ... \u001b[?25l\u001b[?25hdone\n",
            "  Created wheel for pyngrok: filename=pyngrok-4.1.1-py3-none-any.whl size=15982 sha256=83d600ffd9cff465901a7c983eec310ee56bd8387f453c34016a7d7c5528cdeb\n",
            "  Stored in directory: /root/.cache/pip/wheels/b1/d9/12/045a042fee3127dc40ba6f5df2798aa2df38c414bf533ca765\n",
            "Successfully built pyngrok\n",
            "Installing collected packages: pyngrok\n",
            "Successfully installed pyngrok-4.1.1\n",
            "Looking in indexes: https://pypi.org/simple, https://us-python.pkg.dev/colab-wheels/public/simple/\n",
            "Collecting flask-ngrok\n",
            "  Downloading flask_ngrok-0.0.25-py3-none-any.whl (3.1 kB)\n",
            "Requirement already satisfied: Flask>=0.8 in /usr/local/lib/python3.7/dist-packages (from flask-ngrok) (1.1.4)\n",
            "Requirement already satisfied: requests in /usr/local/lib/python3.7/dist-packages (from flask-ngrok) (2.23.0)\n",
            "Requirement already satisfied: Jinja2<3.0,>=2.10.1 in /usr/local/lib/python3.7/dist-packages (from Flask>=0.8->flask-ngrok) (2.11.3)\n",
            "Requirement already satisfied: itsdangerous<2.0,>=0.24 in /usr/local/lib/python3.7/dist-packages (from Flask>=0.8->flask-ngrok) (1.1.0)\n",
            "Requirement already satisfied: Werkzeug<2.0,>=0.15 in /usr/local/lib/python3.7/dist-packages (from Flask>=0.8->flask-ngrok) (1.0.1)\n",
            "Requirement already satisfied: click<8.0,>=5.1 in /usr/local/lib/python3.7/dist-packages (from Flask>=0.8->flask-ngrok) (7.1.2)\n",
            "Requirement already satisfied: MarkupSafe>=0.23 in /usr/local/lib/python3.7/dist-packages (from Jinja2<3.0,>=2.10.1->Flask>=0.8->flask-ngrok) (2.0.1)\n",
            "Requirement already satisfied: idna<3,>=2.5 in /usr/local/lib/python3.7/dist-packages (from requests->flask-ngrok) (2.10)\n",
            "Requirement already satisfied: chardet<4,>=3.0.2 in /usr/local/lib/python3.7/dist-packages (from requests->flask-ngrok) (3.0.4)\n",
            "Requirement already satisfied: urllib3!=1.25.0,!=1.25.1,<1.26,>=1.21.1 in /usr/local/lib/python3.7/dist-packages (from requests->flask-ngrok) (1.24.3)\n",
            "Requirement already satisfied: certifi>=2017.4.17 in /usr/local/lib/python3.7/dist-packages (from requests->flask-ngrok) (2022.9.24)\n",
            "Installing collected packages: flask-ngrok\n",
            "Successfully installed flask-ngrok-0.0.25\n",
            "Looking in indexes: https://pypi.org/simple, https://us-python.pkg.dev/colab-wheels/public/simple/\n",
            "Collecting flask-bootstrap\n",
            "  Downloading Flask-Bootstrap-3.3.7.1.tar.gz (456 kB)\n",
            "\u001b[K     |████████████████████████████████| 456 kB 6.6 MB/s \n",
            "\u001b[?25hRequirement already satisfied: Flask>=0.8 in /usr/local/lib/python3.7/dist-packages (from flask-bootstrap) (1.1.4)\n",
            "Collecting dominate\n",
            "  Downloading dominate-2.7.0-py2.py3-none-any.whl (29 kB)\n",
            "Collecting visitor\n",
            "  Downloading visitor-0.1.3.tar.gz (3.3 kB)\n",
            "Requirement already satisfied: itsdangerous<2.0,>=0.24 in /usr/local/lib/python3.7/dist-packages (from Flask>=0.8->flask-bootstrap) (1.1.0)\n",
            "Requirement already satisfied: Werkzeug<2.0,>=0.15 in /usr/local/lib/python3.7/dist-packages (from Flask>=0.8->flask-bootstrap) (1.0.1)\n",
            "Requirement already satisfied: click<8.0,>=5.1 in /usr/local/lib/python3.7/dist-packages (from Flask>=0.8->flask-bootstrap) (7.1.2)\n",
            "Requirement already satisfied: Jinja2<3.0,>=2.10.1 in /usr/local/lib/python3.7/dist-packages (from Flask>=0.8->flask-bootstrap) (2.11.3)\n",
            "Requirement already satisfied: MarkupSafe>=0.23 in /usr/local/lib/python3.7/dist-packages (from Jinja2<3.0,>=2.10.1->Flask>=0.8->flask-bootstrap) (2.0.1)\n",
            "Building wheels for collected packages: flask-bootstrap, visitor\n",
            "  Building wheel for flask-bootstrap (setup.py) ... \u001b[?25l\u001b[?25hdone\n",
            "  Created wheel for flask-bootstrap: filename=Flask_Bootstrap-3.3.7.1-py3-none-any.whl size=460123 sha256=7bd5445b8175416164d7f08c343d6a0b42cce1c46d1596a5e878df3473dbbdda\n",
            "  Stored in directory: /root/.cache/pip/wheels/67/a2/d6/50d039c9b59b4caca6d7b53839c8100354a52ab7553d2456eb\n",
            "  Building wheel for visitor (setup.py) ... \u001b[?25l\u001b[?25hdone\n",
            "  Created wheel for visitor: filename=visitor-0.1.3-py3-none-any.whl size=3943 sha256=7daf060dc87a7acce4d1834f713a543744cbd7e5c30000369b0f59dbd6587e26\n",
            "  Stored in directory: /root/.cache/pip/wheels/64/34/11/053f47218984c9a31a00f911ed98dda036b867481dcc527a12\n",
            "Successfully built flask-bootstrap visitor\n",
            "Installing collected packages: visitor, dominate, flask-bootstrap\n",
            "Successfully installed dominate-2.7.0 flask-bootstrap-3.3.7.1 visitor-0.1.3\n",
            "Looking in indexes: https://pypi.org/simple, https://us-python.pkg.dev/colab-wheels/public/simple/\n",
            "Requirement already satisfied: pip in /usr/local/lib/python3.7/dist-packages (21.1.3)\n",
            "Collecting pip\n",
            "  Downloading pip-22.3.1-py3-none-any.whl (2.1 MB)\n",
            "\u001b[K     |████████████████████████████████| 2.1 MB 7.0 MB/s \n",
            "\u001b[?25hInstalling collected packages: pip\n",
            "  Attempting uninstall: pip\n",
            "    Found existing installation: pip 21.1.3\n",
            "    Uninstalling pip-21.1.3:\n",
            "      Successfully uninstalled pip-21.1.3\n",
            "Successfully installed pip-22.3.1\n"
          ]
        }
      ],
      "source": [
        "!pip install pyngrok==4.1.1\n",
        "!pip install flask-ngrok\n",
        "!pip install flask-bootstrap\n",
        "!pip install --upgrade pip"
      ]
    },
    {
      "cell_type": "code",
      "execution_count": 9,
      "metadata": {
        "colab": {
          "base_uri": "https://localhost:8080/"
        },
        "id": "sp3OmihZrHLY",
        "outputId": "7bc60ee5-b11b-4913-d3e1-8ff780c86531"
      },
      "outputs": [
        {
          "output_type": "stream",
          "name": "stdout",
          "text": [
            "Authtoken saved to configuration file: /root/.ngrok2/ngrok.yml\n"
          ]
        }
      ],
      "source": [
        "!ngrok authtoken 2A700gdUVgeF9pUCudFiGfb5Nu1_6ED94twFJEyKzM3dFZhQE"
      ]
    },
    {
      "cell_type": "code",
      "execution_count": 10,
      "metadata": {
        "id": "GfeMwjdSG8aL"
      },
      "outputs": [],
      "source": [
        "# Extracting list of species from species.txt \n",
        "# for mapping the predicted value into the species value\n",
        "def load_species(text_file):\n",
        "  with open(text_file) as txt_file:\n",
        "    species_dict = {}\n",
        "    for line in txt_file.readlines():\n",
        "      split_line = line.split(';')\n",
        "      class_value = split_line[0]\n",
        "      species_name = split_line[1].strip()\n",
        "\n",
        "      species_dict[class_value] = species_name\n",
        "    return species_dict\n"
      ]
    },
    {
      "cell_type": "code",
      "source": [
        "import os\n",
        "from PIL import Image\n",
        "import os.path\n",
        "import io\n",
        "import base64\n",
        "\n",
        "# Returning the Herbarium from the training set \n",
        "# To show the references \n",
        "# Currently return up to 5 Herbarium references\n",
        "def load_images_from_folder(folder):\n",
        "    images = []\n",
        "    counter = 0\n",
        "    for filename in os.listdir(folder):\n",
        "        image = os.path.join(folder,filename)\n",
        "        im = Image.open(image)\n",
        "        data = io.BytesIO()\n",
        "        im.save(data, \"JPEG\")\n",
        "\n",
        "        encoded_img_data = base64.b64encode(data.getvalue())\n",
        "        images.append(encoded_img_data.decode('utf-8'))\n",
        "        counter += 1\n",
        "\n",
        "        if counter == 5:\n",
        "          return images"
      ],
      "metadata": {
        "id": "2eI3frpTmkCZ"
      },
      "execution_count": 11,
      "outputs": []
    },
    {
      "cell_type": "code",
      "source": [
        "from matplotlib import image\n",
        "\n",
        "# To preprocess the input image from the user\n",
        "def preprocess_image(image_file):\n",
        "    image_data = image.imread(image_file)\n",
        "    image_data = tf.cast(image_data, tf.float32)/255\n",
        "    image_data = tf.image.resize(image_data, (128, 128), method = \"bilinear\")\n",
        "    image_data = np.array(image_data)\n",
        "    image_data = image_data.ravel()\n",
        "    image_data = image_data.reshape(1, 128, 128, 3)\n",
        "\n",
        "    return image_data"
      ],
      "metadata": {
        "id": "fPB7HS3O2-ny"
      },
      "execution_count": 12,
      "outputs": []
    },
    {
      "cell_type": "code",
      "source": [
        "from tensorflow import keras\n",
        "model = tf.keras.models.load_model('drive/MyDrive/AML_project/saved_models/', compile=False)\n",
        "\n",
        "def model_predict(image_data):\n",
        "  y_pred_score = model.predict(image_data)\n",
        "  y_pred = np.argmax(y_pred_score, axis=1)\n",
        "  return decode_labels(labels, y_pred)[0]"
      ],
      "metadata": {
        "colab": {
          "base_uri": "https://localhost:8080/"
        },
        "id": "caLCfk2VAGVP",
        "outputId": "27fdae06-f27d-4743-a8e0-ecc4b248df6a"
      },
      "execution_count": 13,
      "outputs": [
        {
          "output_type": "stream",
          "name": "stderr",
          "text": [
            "WARNING:tensorflow:Unable to restore custom metric. Please ensure that the layer implements `get_config` and `from_config` when saving. In addition, please use the `custom_objects` arg when calling `load_model()`.\n"
          ]
        }
      ]
    },
    {
      "cell_type": "code",
      "source": [
        "species_dict = load_species(\"/content/drive/MyDrive/AML_project/list/species_list.txt\")\n",
        "species_dict"
      ],
      "metadata": {
        "id": "Hv5IKhyDVmRN",
        "colab": {
          "base_uri": "https://localhost:8080/"
        },
        "outputId": "34f9744f-6729-4398-aa09-62578de245b9"
      },
      "execution_count": 14,
      "outputs": [
        {
          "output_type": "execute_result",
          "data": {
            "text/plain": [
              "{'105951': 'Maripa glabra Choisy',\n",
              " '106023': 'Merremia umbellata (L.) Hallier f.',\n",
              " '106387': 'Costus arabicus L.',\n",
              " '106461': 'Costus scaber Ruiz Pav.',\n",
              " '106466': 'Costus spiralis (Jacq.) Roscoe',\n",
              " '110432': 'Evodianthus funifer (Poit.) Lindm.',\n",
              " '116853': 'Pteridium arachnoideum (Kaulf.) Maxon',\n",
              " '119986': 'Olfersia cervina (L.) Kunze',\n",
              " '120497': 'Diospyros capreifolia Mart. ex Hiern',\n",
              " '121836': 'Sloanea grandiflora Sm.',\n",
              " '121841': 'Sloanea guianensis (Aubl.) Benth.',\n",
              " '12254': 'Anacardium occidentale L.',\n",
              " '12518': 'Mangifera indica L.',\n",
              " '125412': 'Sphyrospermum cordifolium Benth.',\n",
              " '126895': 'Syngonanthus caulescens (Poir.) Ruhland',\n",
              " '127007': 'Tonina fluviatilis Aubl.',\n",
              " '127097': 'Erythroxylum fimbriatum Peyr.',\n",
              " '127151': 'Erythroxylum macrophyllum Cav.',\n",
              " '127242': 'Erythroxylum squamatum Sw.',\n",
              " '12910': 'Spondias mombin L.',\n",
              " '12922': 'Tapirira guianensis Aubl.',\n",
              " '129645': 'Croton schiedeanus Schltdl.',\n",
              " '130657': 'Euphorbia cotinifolia L.',\n",
              " '131079': 'Euphorbia heterophylla L.',\n",
              " '131736': 'Euphorbia prostrata Aiton',\n",
              " '132107': 'Euphorbia thymifolia L.',\n",
              " '132113': 'Euphorbia tithymaloides L.',\n",
              " '132431': 'Hura crepitans L.',\n",
              " '132476': 'Jatropha curcas L.',\n",
              " '132501': 'Jatropha gossypiifolia L.',\n",
              " '13276': 'Annona ambotay Aubl.',\n",
              " '13325': 'Annona foetida Mart.',\n",
              " '13330': 'Annona glabra L.',\n",
              " '133595': 'Ricinus communis L.',\n",
              " '133617': 'Sapium glandulosum (L.) Morong',\n",
              " '13370': 'Annona muricata L.',\n",
              " '136761': 'Potalia amara Aubl.',\n",
              " '138662': 'Chrysothemis pulchella (Donn ex Sims) Decne.',\n",
              " '140367': 'Lembocarpus amoenus Leeuwenb.',\n",
              " '141068': 'Sinningia incarnata (Aubl.) D.L.Denham',\n",
              " '141332': 'Dicranopteris flexuosa (Schrad.) Underw.',\n",
              " '141336': 'Dicranopteris pectinata (Willd.) Underw.',\n",
              " '142550': 'Heliconia chartacea Lane ex Barreiros',\n",
              " '142736': 'Hernandia guianensis Aubl.',\n",
              " '143496': 'Hymenophyllum hirsutum (L.) Sw.',\n",
              " '14353': 'Guatteria ouregou (Aubl.) Dunal',\n",
              " '143706': 'Trichomanes diversifrons (Bory) Mett. ex Sadeb.',\n",
              " '143758': 'Trichomanes punctatum Poir.',\n",
              " '14401': 'Guatteria scandens Ducke',\n",
              " '144394': 'Didymochlaena truncatula (Sw.) J. Sm.',\n",
              " '145020': 'Cipura paludosa Aubl.',\n",
              " '148220': 'Aegiphila macrantha Ducke',\n",
              " '148977': 'Clerodendrum paniculatum L.',\n",
              " '149264': 'Congea tomentosa Roxb.',\n",
              " '149682': 'Gmelina philippensis Cham.',\n",
              " '149919': 'Holmskioldia sanguinea Retz.',\n",
              " '150135': 'Hyptis lanceolata Poir.',\n",
              " '15014': 'Rollinia mucosa (Jacq.) Baill.',\n",
              " '151469': 'Ocimum campechianum Mill.',\n",
              " '151593': 'Orthosiphon aristatus (Blume) Miq.',\n",
              " '15318': 'Xylopia aromatica (Lam.) Mart.',\n",
              " '15330': 'Xylopia cayennensis Maas',\n",
              " '15355': 'Xylopia frutescens Aubl.',\n",
              " '156516': 'Aniba guianensis Aubl.',\n",
              " '156526': 'Aniba megaphylla Mez',\n",
              " '158341': 'Nectandra cissiflora Nees',\n",
              " '158592': 'Ocotea cernua (Nees) Mez',\n",
              " '158653': 'Ocotea floribunda (Sw.) Mez',\n",
              " '158736': 'Ocotea longifolia Kunth',\n",
              " '158793': 'Ocotea oblonga (Meisn.) Mez',\n",
              " '158833': 'Ocotea puberula (Rich.) Nees',\n",
              " '159434': 'Couratari guianensis Aubl.',\n",
              " '159516': 'Eschweilera parviflora (Aubl.) Miers',\n",
              " '159518': 'Eschweilera pedicellata (Rich.) S.A.Mori',\n",
              " '160570': 'Acacia mangium Willd.',\n",
              " '166822': 'Caesalpinia pulcherrima (L.) Sw.',\n",
              " '166869': 'Cajanus cajan (L.) Millsp.',\n",
              " '169293': 'Crotalaria retusa L.',\n",
              " '171727': 'Erythrina fusca Lour.',\n",
              " '173914': 'Inga alba (Sw.) Willd.',\n",
              " '173972': 'Inga capitata Desv.',\n",
              " '174017': 'Inga edulis Mart.',\n",
              " '177730': 'Mimosa pigra L.',\n",
              " '177775': 'Mimosa pudica L.',\n",
              " '189669': 'Punica granatum L.',\n",
              " '191642': 'Adansonia digitata L.',\n",
              " '19165': 'Allamanda cathartica L.',\n",
              " '192311': 'Ceiba pentandra (L.) Gaertn.',\n",
              " '194035': 'Hibiscus rosa-sinensis L.',\n",
              " '19489': 'Asclepias curassavica L.',\n",
              " '209328': 'Psidium guineense Sw.',\n",
              " '211059': 'Nephrolepis biserrata (Sw.) Schott',\n",
              " '244705': 'Averrhoa carambola L.',\n",
              " '248392': 'Turnera ulmifolia L.',\n",
              " '254180': 'Piper peltatum L.',\n",
              " '275029': 'Eichhornia crassipes (Mart.) Solms',\n",
              " '280085': 'Ceratopteris thalictroides (L.) Brongn.',\n",
              " '280698': 'Pityrogramma calomelanos (L.) Link',\n",
              " '285398': 'Cassipourea guianensis Aubl.',\n",
              " '29686': 'Oreopanax capitatus (Jacq.) Decne. Planch.'}"
            ]
          },
          "metadata": {},
          "execution_count": 14
        }
      ]
    },
    {
      "cell_type": "code",
      "source": [
        "!unzip drive/MyDrive/AML_project/train.zip > /dev/null\n",
        "!unzip drive/MyDrive/AML_project/test.zip > /dev/null"
      ],
      "metadata": {
        "id": "4uZswqRymCZa"
      },
      "execution_count": 15,
      "outputs": []
    },
    {
      "cell_type": "code",
      "execution_count": null,
      "metadata": {
        "colab": {
          "base_uri": "https://localhost:8080/"
        },
        "id": "E-SBp9TZjTvH",
        "outputId": "2f891369-1a99-4d02-8373-fc7550cfb3cc"
      },
      "outputs": [
        {
          "output_type": "stream",
          "name": "stdout",
          "text": [
            " * Serving Flask app \"__main__\" (lazy loading)\n",
            " * Environment: production\n",
            "\u001b[31m   WARNING: This is a development server. Do not use it in a production deployment.\u001b[0m\n",
            "\u001b[2m   Use a production WSGI server instead.\u001b[0m\n",
            " * Debug mode: off\n"
          ]
        },
        {
          "output_type": "stream",
          "name": "stderr",
          "text": [
            "INFO:werkzeug: * Running on http://127.0.0.1:5000/ (Press CTRL+C to quit)\n"
          ]
        },
        {
          "output_type": "stream",
          "name": "stdout",
          "text": [
            " * Running on http://296c-35-247-15-146.ngrok.io\n",
            " * Traffic stats available on http://127.0.0.1:4040\n"
          ]
        },
        {
          "output_type": "stream",
          "name": "stderr",
          "text": [
            "INFO:werkzeug:127.0.0.1 - - [26/Nov/2022 17:17:18] \"\u001b[37mGET / HTTP/1.1\u001b[0m\" 200 -\n",
            "INFO:werkzeug:127.0.0.1 - - [26/Nov/2022 17:17:18] \"\u001b[37mGET /static/index.css HTTP/1.1\u001b[0m\" 200 -\n",
            "INFO:werkzeug:127.0.0.1 - - [26/Nov/2022 17:17:19] \"\u001b[33mGET /favicon.ico HTTP/1.1\u001b[0m\" 404 -\n",
            "INFO:werkzeug:127.0.0.1 - - [26/Nov/2022 17:17:20] \"\u001b[37mGET / HTTP/1.1\u001b[0m\" 200 -\n",
            "INFO:werkzeug:127.0.0.1 - - [26/Nov/2022 17:17:21] \"\u001b[37mGET /static/index.css HTTP/1.1\u001b[0m\" 200 -\n"
          ]
        },
        {
          "output_type": "stream",
          "name": "stdout",
          "text": [
            "1/1 [==============================] - 0s 20ms/step\n"
          ]
        },
        {
          "output_type": "stream",
          "name": "stderr",
          "text": [
            "INFO:werkzeug:127.0.0.1 - - [26/Nov/2022 17:17:25] \"\u001b[37mPOST /image HTTP/1.1\u001b[0m\" 200 -\n",
            "INFO:werkzeug:127.0.0.1 - - [26/Nov/2022 17:17:25] \"\u001b[31m\u001b[1mGET /image HTTP/1.1\u001b[0m\" 405 -\n"
          ]
        },
        {
          "output_type": "stream",
          "name": "stdout",
          "text": [
            "1/1 [==============================] - 0s 21ms/step\n"
          ]
        },
        {
          "output_type": "stream",
          "name": "stderr",
          "text": [
            "INFO:werkzeug:127.0.0.1 - - [26/Nov/2022 17:17:30] \"\u001b[37mPOST /image HTTP/1.1\u001b[0m\" 200 -\n",
            "INFO:werkzeug:127.0.0.1 - - [26/Nov/2022 17:17:32] \"\u001b[37mGET /static/assets/arrow.png HTTP/1.1\u001b[0m\" 200 -\n",
            "INFO:werkzeug:127.0.0.1 - - [26/Nov/2022 17:17:32] \"\u001b[33mGET /favicon.ico HTTP/1.1\u001b[0m\" 404 -\n"
          ]
        }
      ],
      "source": [
        "import base64\n",
        "from flask_ngrok import run_with_ngrok\n",
        "from flask import Flask, render_template, request, redirect, url_for\n",
        "\n",
        "# import the source codes to Flask and host it on ngrok\n",
        "app = Flask(__name__, template_folder = './drive/MyDrive/AML_project/GUI/templates', static_folder = './drive/MyDrive/AML_project/GUI/static')\n",
        "run_with_ngrok(app)\n",
        "\n",
        "@app.route(\"/\")\n",
        "def index():\n",
        "  return render_template(\"index.html\")\n",
        "\n",
        "@app.route(\"/image\", methods=['POST'])\n",
        "def my_form_post():\n",
        "  image_upload = request.files['file']\n",
        "  image_data = preprocess_image(image_upload)\n",
        "  pred = model_predict(image_data)\n",
        "\n",
        "  image_b64 = base64.b64encode(image_upload.getvalue()).decode('utf-8')\n",
        "\n",
        "  prediction = str(pred)\n",
        "\n",
        "  prediction_text = species_dict[prediction]\n",
        "\n",
        "  images = load_images_from_folder(\"train/herbarium/{}\".format(prediction))\n",
        "  \n",
        "  return render_template(\"showImage.html\", image_name=image_upload.filename, image_list=images, image_upload=image_b64, prediction=prediction_text)\n",
        "\n",
        "\n",
        "# Run the Flask Web App\n",
        "if __name__ == '__main__':\n",
        "  app.run()"
      ]
    }
  ],
  "metadata": {
    "colab": {
      "provenance": []
    },
    "kernelspec": {
      "display_name": "Python 3",
      "name": "python3"
    },
    "language_info": {
      "name": "python"
    },
    "accelerator": "GPU",
    "gpuClass": "standard"
  },
  "nbformat": 4,
  "nbformat_minor": 0
}