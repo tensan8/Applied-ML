{
  "nbformat": 4,
  "nbformat_minor": 0,
  "metadata": {
    "colab": {
      "provenance": []
    },
    "kernelspec": {
      "name": "python3",
      "display_name": "Python 3"
    },
    "language_info": {
      "name": "python"
    },
    "accelerator": "GPU",
    "gpuClass": "standard"
  },
  "cells": [
    {
      "cell_type": "markdown",
      "source": [
        "# Introduction"
      ],
      "metadata": {
        "id": "EGDL4_VZVaYi"
      }
    },
    {
      "cell_type": "markdown",
      "source": [
        "**Members:** \n",
        "\n",
        "Alesandro Michael Ferdinand (101228984)\n",
        "\n",
        "Bryan Austyn Ichsan (101229576)\n",
        "\n",
        "Ng Jing Ping (101211418)\n",
        "\n",
        "\n",
        "---\n",
        "\n",
        "\n",
        "\n",
        "**Unit:** COS30082 - Applied Machine Learning\n",
        "\n",
        "\n",
        "\n",
        "---\n",
        "\n",
        "\n",
        "\n"
      ],
      "metadata": {
        "id": "00p7lBwPVcXa"
      }
    },
    {
      "cell_type": "markdown",
      "source": [
        "There are a lot of species of plants in the world and botanist need to be able to identify them for their research need. Identifying numerous species of plants itself has been a hard thing by itself, identifying the species of plants on tropical area which does not have a lot of references to be used adds more challenges for botanists and reseachers. In order to solve the lack of references that can be used by the researchers to identify the species of plants in the real environment, Computer Vision comes to help by learning about the herbarium data of the plants thus it is targeted that the AI itself can also identify the species of the plants in the real field environment. Having an AI that can help the researchers and botanist to get the predicted species of the plants will really help the researchers and the botanist to conduct their research easier. This project is targeted to develop an AI that can be used to solve the stated issue with several different approaches of Machine Learning (and Deep Learning as the subset of Machine Learning)."
      ],
      "metadata": {
        "id": "CFMIErJsX7S4"
      }
    },
    {
      "cell_type": "markdown",
      "source": [
        "# Data Preparation"
      ],
      "metadata": {
        "id": "0980WmjPZopW"
      }
    },
    {
      "cell_type": "markdown",
      "source": [
        "First of all, we will need to prepare the data that we will use for the project whereby the data is taken from the PlantCLEF 2020 Challenge which contains 100 species of plants with 2 different type of images, herbarium and field. We will need to load the data first."
      ],
      "metadata": {
        "id": "gTzVbpy2ZsNI"
      }
    },
    {
      "cell_type": "code",
      "source": [
        "# Import required libraries\n",
        "from matplotlib import image\n",
        "import numpy as np\n",
        "import tensorflow as tf\n",
        "from keras.utils import to_categorical\n",
        "from sklearn.model_selection import train_test_split\n",
        "from sklearn.preprocessing import LabelEncoder"
      ],
      "metadata": {
        "id": "neIQx6jsHuAu"
      },
      "execution_count": null,
      "outputs": []
    },
    {
      "cell_type": "code",
      "execution_count": null,
      "metadata": {
        "colab": {
          "base_uri": "https://localhost:8080/"
        },
        "id": "Lmso7HEEDWeK",
        "outputId": "197f6d6f-6966-4716-d7c1-9700a4ba9d93"
      },
      "outputs": [
        {
          "output_type": "stream",
          "name": "stdout",
          "text": [
            "Mounted at /content/drive/\n"
          ]
        }
      ],
      "source": [
        "# Connect to Google Colab\n",
        "from google.colab import drive\n",
        "drive.mount('/content/drive/')"
      ]
    },
    {
      "cell_type": "code",
      "source": [
        "# Load the data to Colab Session\n",
        "!unzip drive/MyDrive/AML_project/train.zip > /dev/null\n",
        "!unzip drive/MyDrive/AML_project/test.zip > /dev/null\n",
        "\n",
        "!cp \"/content/drive/MyDrive/AML_project/list/train.txt\" \"train.txt\"\n",
        "!cp \"/content/drive/MyDrive/AML_project/list/groundtruth.txt\" \"groundtruth.txt\"\n",
        "\n",
        "# You can click on the loaded data on the files explorer tab of Colab to have a look on the data"
      ],
      "metadata": {
        "id": "E_KY3hGzWC4-"
      },
      "execution_count": null,
      "outputs": []
    },
    {
      "cell_type": "code",
      "source": [
        "# Since AI can process numbers only, we will need to load the image data into numbers\n",
        "def convert_image_to_numpy(image_paths_arr):\n",
        "  dataset_nparr = list()\n",
        "\n",
        "  for path in image_paths_arr:\n",
        "    image_data = image.imread(path)\n",
        "    image_data = tf.cast(image_data, tf.float32)/255\n",
        "    image_data = tf.image.resize(image_data, (128, 128), method = \"bilinear\")\n",
        "    dataset_nparr.append(image_data)\n",
        "\n",
        "  return np.array(dataset_nparr)"
      ],
      "metadata": {
        "id": "6x0-zQ_rGHra"
      },
      "execution_count": null,
      "outputs": []
    },
    {
      "cell_type": "code",
      "source": [
        "# The labels given on the dataset is not in ordered manner, thus classification model\n",
        "# might assume that there is more than 100 species because of the codes of the species.\n",
        "# We will need to encode those codes into nomimal data for the model to use\n",
        "def encode_labels(labels_arr):\n",
        "  label_encoder = LabelEncoder()\n",
        "  return label_encoder.fit_transform(labels_arr)"
      ],
      "metadata": {
        "id": "1qqQNgaVhEls"
      },
      "execution_count": null,
      "outputs": []
    },
    {
      "cell_type": "code",
      "source": [
        "# We will need to take the picture from the dedicated folders and match it with the labels on the\n",
        "# txt file. In order to do so, we will need to read the txt file then split the line into the path of the image\n",
        "# and the labels. We will then load the image based on the path to numbers and encode the labels.\n",
        "# This code will be used for loading the mixed stream data\n",
        "def load_data(text_file):\n",
        "  with open(text_file) as txt_file:\n",
        "    # read the file, with format \"path label\"\n",
        "    # e.g. train/photo/106023/1769.jpg 106023\n",
        "    lines_arr = [line.strip() for line in txt_file.readlines()]\n",
        "\n",
        "    # split the lines to image path and label\n",
        "    image_paths = [line.split(' ')[0] for line in lines_arr]\n",
        "    labels = [line.split(' ')[1] for line in lines_arr]\n",
        "\n",
        "    x_data = convert_image_to_numpy(image_paths)\n",
        "    y_data = encode_labels(labels)\n",
        "\n",
        "    return x_data, y_data, labels"
      ],
      "metadata": {
        "id": "iwqVGlvUhAe5"
      },
      "execution_count": null,
      "outputs": []
    },
    {
      "cell_type": "code",
      "source": [
        "# Loading the data into herbarium and fields will be a bit different compared to the mixed stream one\n",
        "# as we need to classify either the image belongs to field or herbarium. We will then load the image and encode the labels\n",
        "# separetely thus we can get the separated data of herbarium and fields\n",
        "def load_separated_data(text_file):\n",
        "  with open(text_file) as txt_file:\n",
        "    lines_arr = [line.strip() for line in txt_file.readlines()]\n",
        "\n",
        "    natural_image_paths = []\n",
        "    natural_labels = []\n",
        "\n",
        "    herbarium_image_paths = []\n",
        "    herbarium_labels = []\n",
        "\n",
        "    for line in lines_arr:\n",
        "      full_path = line.split(' ')[0]\n",
        "      photo_type = full_path.split('/')[1]\n",
        "      if(photo_type == \"photo\"):\n",
        "        natural_image_paths.append(full_path)\n",
        "        natural_labels.append(line.split(' ')[1])\n",
        "      else:\n",
        "        herbarium_image_paths.append(full_path)\n",
        "        herbarium_labels.append(line.split(' ')[1])\n",
        "\n",
        "    x_natural = convert_image_to_numpy(natural_image_paths)\n",
        "    y_natural = encode_labels(natural_labels)\n",
        "\n",
        "    x_herbarium = convert_image_to_numpy(herbarium_image_paths)\n",
        "    y_herbarium = encode_labels(herbarium_labels)\n",
        "\n",
        "    return x_natural, y_natural, x_herbarium, y_herbarium"
      ],
      "metadata": {
        "id": "7i3drpkJ-u9F"
      },
      "execution_count": null,
      "outputs": []
    },
    {
      "cell_type": "code",
      "source": [
        "# Load the training set as mixed stream data\n",
        "x_train, y_train, train_labels = load_data(\"train.txt\")"
      ],
      "metadata": {
        "id": "oQDlBcv8hc9M"
      },
      "execution_count": null,
      "outputs": []
    },
    {
      "cell_type": "code",
      "source": [
        "# Load the training set as separated data (herbarium and field)\n",
        "x_natural, y_natural, x_herbarium, y_herbarium = load_separated_data(\"train.txt\")"
      ],
      "metadata": {
        "id": "CBGUVwAiBZDU"
      },
      "execution_count": null,
      "outputs": []
    },
    {
      "cell_type": "code",
      "source": [
        "# Load the test set\n",
        "x_test, y_test, test_labels = load_data(\"groundtruth.txt\")"
      ],
      "metadata": {
        "id": "BJv0YUgAhoSi"
      },
      "execution_count": null,
      "outputs": []
    },
    {
      "cell_type": "code",
      "source": [
        "# Check the shapes to ensure that the data has been loaded correctly\n",
        "print(\"Shapes Checking\")\n",
        "print(\"X-natural: \" + str(x_natural.shape))\n",
        "print(\"y-natural: \" + str(y_natural.shape))\n",
        "print(\"X-herbarium: \" + str(x_herbarium.shape))\n",
        "print(\"y-herbarium: \" + str(y_herbarium.shape))"
      ],
      "metadata": {
        "id": "bLx-IK2YBsdl",
        "colab": {
          "base_uri": "https://localhost:8080/"
        },
        "outputId": "2e24375a-0379-421a-f045-3f1974237a4f"
      },
      "execution_count": null,
      "outputs": [
        {
          "output_type": "stream",
          "name": "stdout",
          "text": [
            "Shapes Checking\n",
            "X-natural: (1044, 128, 128, 3)\n",
            "y-natural: (1044,)\n",
            "X-herbarium: (3700, 128, 128, 3)\n",
            "y-herbarium: (3700,)\n"
          ]
        }
      ]
    },
    {
      "cell_type": "code",
      "source": [
        "# The mixed stream data should have bigger size as it is the mixed of herbarium and fields\n",
        "print(\"Shapes Checking\")\n",
        "print(\"X-train: \" + str(x_train.shape))\n",
        "print(\"y-train: \" + str(y_train.shape))\n",
        "print(\"X-test: \" + str(x_test.shape))\n",
        "print(\"y-test: \" + str(y_test.shape))"
      ],
      "metadata": {
        "id": "N-E_rU9zifan",
        "colab": {
          "base_uri": "https://localhost:8080/"
        },
        "outputId": "6d92ee50-cd22-47b5-821b-5353304d9f55"
      },
      "execution_count": null,
      "outputs": [
        {
          "output_type": "stream",
          "name": "stdout",
          "text": [
            "Shapes Checking\n",
            "X-train: (4744, 128, 128, 3)\n",
            "y-train: (4744,)\n",
            "X-test: (207, 128, 128, 3)\n",
            "y-test: (207,)\n"
          ]
        }
      ]
    },
    {
      "cell_type": "markdown",
      "source": [
        "# Modelling"
      ],
      "metadata": {
        "id": "usdctfKiMaGm"
      }
    },
    {
      "cell_type": "markdown",
      "source": [
        "Before we started to explore the models one-by-one, we will need to define the common metrics that will be used by the models first thus the model can be trained under the similar condition for fair comparison.\n",
        "\n",
        "\n",
        "Three Model for this project: \n",
        "1.   Base Model with Mixed Stream Data \n",
        "2.   Base model with oversampling\n",
        "3.   Transfer Learning with Mixed Stream Data\n",
        "\n"
      ],
      "metadata": {
        "id": "NZ2A1GEgNhz7"
      }
    },
    {
      "cell_type": "code",
      "source": [
        "# Load the required libraries\n",
        "from matplotlib import image\n",
        "import numpy as np\n",
        "import tensorflow as tf\n",
        "from keras.layers import Dense, Conv2D, MaxPooling2D, Dropout, Flatten\n",
        "from keras.callbacks import ModelCheckpoint, EarlyStopping\n",
        "from keras.models import Sequential, load_model\n",
        "from keras.utils import to_categorical\n",
        "from sklearn.model_selection import train_test_split\n",
        "from keras.metrics import top_k_categorical_accuracy\n",
        "from keras.preprocessing.image import ImageDataGenerator\n",
        "from keras import regularizers\n",
        "import matplotlib.pyplot as plt\n",
        "from sklearn.preprocessing import LabelEncoder\n",
        "import pandas as pd"
      ],
      "metadata": {
        "id": "r2Ahr2qt7Rt8"
      },
      "execution_count": null,
      "outputs": []
    },
    {
      "cell_type": "code",
      "source": [
        "# First, we will need to load the evaluation metrics that we will use for the project\n",
        "# which are the top-1 accuracy (also known as accuracy) and top-5 accuracy\n",
        "from keras.metrics import sparse_top_k_categorical_accuracy\n",
        "\n",
        "def top_5_accuracy(y_true, y_pred):\n",
        "  return sparse_top_k_categorical_accuracy (y_true, y_pred, k=5)"
      ],
      "metadata": {
        "id": "shHQ-o9HOfLf"
      },
      "execution_count": null,
      "outputs": []
    },
    {
      "cell_type": "code",
      "source": [
        "# Make the function that will help us to show the performance of the model in term of its\n",
        "# loss and accuracy trends hence we can determine whether the model is overfitting, underfitting, or\n",
        "# well-trained\n",
        "def plot_performance(history):\n",
        "  loss = history.history['loss']\n",
        "  val_loss = history.history['val_loss']\n",
        "\n",
        "  accuracy = history.history['accuracy']\n",
        "  val_accuracy = history.history['val_accuracy']\n",
        "\n",
        "  plt.figure(figsize=[8,6])\n",
        "  plt.plot(loss,'r',linewidth=3.0)\n",
        "  plt.plot(val_loss,'b',linewidth=3.0)\n",
        "  plt.legend(['Training loss', 'Validation Loss'],fontsize=18)\n",
        "  plt.xlabel('Epochs ',fontsize=16)\n",
        "  plt.ylabel('Loss',fontsize=16)\n",
        "  plt.title('Loss Curves',fontsize=16)\n",
        "  plt.show()\n",
        "\n",
        "  plt.figure(figsize=[8,6])\n",
        "  plt.plot(accuracy,'r',linewidth=3.0)\n",
        "  plt.plot(val_accuracy,'b',linewidth=3.0)\n",
        "  plt.legend(['Training Accuracy', 'Validation Accuracy'],fontsize=18)\n",
        "  plt.xlabel('Epochs ',fontsize=16)\n",
        "  plt.ylabel('Accuracy',fontsize=16)\n",
        "  plt.title('Accuracy Curves',fontsize=16)\n",
        "  plt.show()"
      ],
      "metadata": {
        "id": "7H0clKI161HH"
      },
      "execution_count": null,
      "outputs": []
    },
    {
      "cell_type": "markdown",
      "source": [
        "## Base Model with Mixed Stream Data"
      ],
      "metadata": {
        "id": "aN35UhvL6sX5"
      }
    },
    {
      "cell_type": "markdown",
      "source": [
        "The first model that we will train is a CNN model with mixed stream data, meaning that the model will be trained by using a mixed dataset of field and herbarium image."
      ],
      "metadata": {
        "id": "gfrknStN35Qk"
      }
    },
    {
      "cell_type": "code",
      "source": [
        "# Fetch the information about the number of classess on the training set\n",
        "classes = np.unique(y_train)\n",
        "nClasses = len(classes)"
      ],
      "metadata": {
        "id": "_bnikdzI7SWU"
      },
      "execution_count": null,
      "outputs": []
    },
    {
      "cell_type": "code",
      "source": [
        "# The input shape will the shape of the image itself\n",
        "nRows,nCols,nDims = x_train.shape[1:]\n",
        "input_shape = (nRows, nCols, nDims)"
      ],
      "metadata": {
        "id": "Boy-qcmLBnLd"
      },
      "execution_count": null,
      "outputs": []
    },
    {
      "cell_type": "code",
      "source": [
        "# To add more varieties to the dataset, we can do data augmentation simply by\n",
        "# flipping or rotating the images\n",
        "datagen = ImageDataGenerator(horizontal_flip=True,\n",
        "                            rotation_range=45,\n",
        "                            zoom_range=0.8,\n",
        "                            vertical_flip=True)\n",
        "\n",
        "datagen.fit(x_train)"
      ],
      "metadata": {
        "id": "QqSSeIfG7cM-"
      },
      "execution_count": null,
      "outputs": []
    },
    {
      "cell_type": "code",
      "source": [
        "# Create the CNN model\n",
        "def createModel():\n",
        "    model = Sequential()\n",
        "    model.add(Conv2D(64, (3, 3), padding = \"same\", kernel_regularizer=regularizers.L1(0.01), activation='relu', input_shape=input_shape))\n",
        "    model.add(Conv2D(32, (3, 3), activation='relu'))\n",
        "    model.add(MaxPooling2D(pool_size=(2, 2)))\n",
        " \n",
        "    model.add(Conv2D(16, (3, 3), activation='relu'))\n",
        "    model.add(MaxPooling2D(pool_size=(2, 2)))\n",
        "    model.add(Dropout(0.2))\n",
        "\n",
        "    model.add(Flatten())\n",
        "    model.add(Dense(512, activation='relu'))\n",
        "    model.add(Dropout(0.25))\n",
        "    model.add(Dense(nClasses, activation='softmax'))\n",
        "    \n",
        "    return model"
      ],
      "metadata": {
        "id": "a787j5Nk7qNs"
      },
      "execution_count": null,
      "outputs": []
    },
    {
      "cell_type": "code",
      "source": [
        "# Print out the model information\n",
        "cnn_model = createModel()\n",
        "cnn_model.summary()"
      ],
      "metadata": {
        "id": "w1lq4mJh7tGE",
        "colab": {
          "base_uri": "https://localhost:8080/"
        },
        "outputId": "ad467bc3-447e-4d47-a1cf-32b5753bcf0f"
      },
      "execution_count": null,
      "outputs": [
        {
          "output_type": "stream",
          "name": "stdout",
          "text": [
            "Model: \"sequential\"\n",
            "_________________________________________________________________\n",
            " Layer (type)                Output Shape              Param #   \n",
            "=================================================================\n",
            " conv2d (Conv2D)             (None, 128, 128, 64)      1792      \n",
            "                                                                 \n",
            " conv2d_1 (Conv2D)           (None, 126, 126, 32)      18464     \n",
            "                                                                 \n",
            " max_pooling2d (MaxPooling2D  (None, 63, 63, 32)       0         \n",
            " )                                                               \n",
            "                                                                 \n",
            " conv2d_2 (Conv2D)           (None, 61, 61, 16)        4624      \n",
            "                                                                 \n",
            " max_pooling2d_1 (MaxPooling  (None, 30, 30, 16)       0         \n",
            " 2D)                                                             \n",
            "                                                                 \n",
            " dropout (Dropout)           (None, 30, 30, 16)        0         \n",
            "                                                                 \n",
            " flatten (Flatten)           (None, 14400)             0         \n",
            "                                                                 \n",
            " dense (Dense)               (None, 512)               7373312   \n",
            "                                                                 \n",
            " dropout_1 (Dropout)         (None, 512)               0         \n",
            "                                                                 \n",
            " dense_1 (Dense)             (None, 100)               51300     \n",
            "                                                                 \n",
            "=================================================================\n",
            "Total params: 7,449,492\n",
            "Trainable params: 7,449,492\n",
            "Non-trainable params: 0\n",
            "_________________________________________________________________\n"
          ]
        }
      ]
    },
    {
      "cell_type": "code",
      "source": [
        "# Train the model\n",
        "optimizer = tf.keras.optimizers.Adam(learning_rate = 0.001)\n",
        "cnn_model.compile(optimizer=optimizer, loss='sparse_categorical_crossentropy', metrics=['accuracy', top_5_accuracy])\n",
        "batch_size = 32\n",
        "steps_per_epoch = int( np.ceil(x_train.shape[0] / batch_size) )\n",
        "initial_epochs = 32\n",
        "history = cnn_model.fit(datagen.flow(x_train, y_train), batch_size=batch_size, steps_per_epoch=steps_per_epoch,\n",
        "              epochs=initial_epochs, verbose=1, validation_data=(x_test, y_test))"
      ],
      "metadata": {
        "id": "lCdDOOi1710w",
        "colab": {
          "base_uri": "https://localhost:8080/"
        },
        "outputId": "b6ecb543-90fc-49f1-c227-7b10bc9f1aeb"
      },
      "execution_count": null,
      "outputs": [
        {
          "output_type": "stream",
          "name": "stdout",
          "text": [
            "Epoch 1/32\n",
            "149/149 [==============================] - 27s 120ms/step - loss: 4.9681 - accuracy: 0.0141 - top_5_accuracy: 0.0578 - val_loss: 4.6801 - val_accuracy: 0.0145 - val_top_5_accuracy: 0.0676\n",
            "Epoch 2/32\n",
            "149/149 [==============================] - 18s 118ms/step - loss: 4.5864 - accuracy: 0.0175 - top_5_accuracy: 0.0753 - val_loss: 4.6080 - val_accuracy: 0.0145 - val_top_5_accuracy: 0.0580\n",
            "Epoch 3/32\n",
            "149/149 [==============================] - 18s 119ms/step - loss: 4.4983 - accuracy: 0.0255 - top_5_accuracy: 0.0999 - val_loss: 4.7991 - val_accuracy: 0.0193 - val_top_5_accuracy: 0.0773\n",
            "Epoch 4/32\n",
            "149/149 [==============================] - 18s 118ms/step - loss: 4.4239 - accuracy: 0.0287 - top_5_accuracy: 0.1294 - val_loss: 4.9377 - val_accuracy: 0.0242 - val_top_5_accuracy: 0.0966\n",
            "Epoch 5/32\n",
            "149/149 [==============================] - 19s 126ms/step - loss: 4.3574 - accuracy: 0.0401 - top_5_accuracy: 0.1570 - val_loss: 4.8654 - val_accuracy: 0.0290 - val_top_5_accuracy: 0.0773\n",
            "Epoch 6/32\n",
            "149/149 [==============================] - 18s 118ms/step - loss: 4.2950 - accuracy: 0.0436 - top_5_accuracy: 0.1735 - val_loss: 4.7985 - val_accuracy: 0.0435 - val_top_5_accuracy: 0.0870\n",
            "Epoch 7/32\n",
            "149/149 [==============================] - 18s 118ms/step - loss: 4.2505 - accuracy: 0.0481 - top_5_accuracy: 0.1806 - val_loss: 5.1403 - val_accuracy: 0.0386 - val_top_5_accuracy: 0.1208\n",
            "Epoch 8/32\n",
            "149/149 [==============================] - 18s 118ms/step - loss: 4.2057 - accuracy: 0.0569 - top_5_accuracy: 0.1954 - val_loss: 5.0927 - val_accuracy: 0.0386 - val_top_5_accuracy: 0.1159\n",
            "Epoch 9/32\n",
            "149/149 [==============================] - 18s 118ms/step - loss: 4.1716 - accuracy: 0.0603 - top_5_accuracy: 0.2081 - val_loss: 4.9956 - val_accuracy: 0.0580 - val_top_5_accuracy: 0.1256\n",
            "Epoch 10/32\n",
            "149/149 [==============================] - 18s 119ms/step - loss: 4.1456 - accuracy: 0.0622 - top_5_accuracy: 0.2133 - val_loss: 4.9266 - val_accuracy: 0.0483 - val_top_5_accuracy: 0.1498\n",
            "Epoch 11/32\n",
            "149/149 [==============================] - 18s 119ms/step - loss: 4.1297 - accuracy: 0.0702 - top_5_accuracy: 0.2281 - val_loss: 5.0776 - val_accuracy: 0.0338 - val_top_5_accuracy: 0.1401\n",
            "Epoch 12/32\n",
            "149/149 [==============================] - 18s 119ms/step - loss: 4.0851 - accuracy: 0.0706 - top_5_accuracy: 0.2361 - val_loss: 5.1139 - val_accuracy: 0.0580 - val_top_5_accuracy: 0.1353\n",
            "Epoch 13/32\n",
            "149/149 [==============================] - 18s 118ms/step - loss: 4.0679 - accuracy: 0.0805 - top_5_accuracy: 0.2420 - val_loss: 5.0063 - val_accuracy: 0.0338 - val_top_5_accuracy: 0.1594\n",
            "Epoch 14/32\n",
            "149/149 [==============================] - 18s 118ms/step - loss: 4.0396 - accuracy: 0.0748 - top_5_accuracy: 0.2494 - val_loss: 5.1302 - val_accuracy: 0.0483 - val_top_5_accuracy: 0.1401\n",
            "Epoch 15/32\n",
            "149/149 [==============================] - 18s 118ms/step - loss: 4.0114 - accuracy: 0.0778 - top_5_accuracy: 0.2593 - val_loss: 5.0369 - val_accuracy: 0.0435 - val_top_5_accuracy: 0.1449\n",
            "Epoch 16/32\n",
            "149/149 [==============================] - 18s 119ms/step - loss: 3.9921 - accuracy: 0.0866 - top_5_accuracy: 0.2548 - val_loss: 5.1439 - val_accuracy: 0.0290 - val_top_5_accuracy: 0.1401\n",
            "Epoch 17/32\n",
            "149/149 [==============================] - 19s 126ms/step - loss: 3.9803 - accuracy: 0.0793 - top_5_accuracy: 0.2629 - val_loss: 5.1361 - val_accuracy: 0.0676 - val_top_5_accuracy: 0.1884\n",
            "Epoch 18/32\n",
            "149/149 [==============================] - 18s 119ms/step - loss: 3.9577 - accuracy: 0.0860 - top_5_accuracy: 0.2671 - val_loss: 5.2862 - val_accuracy: 0.0483 - val_top_5_accuracy: 0.1691\n",
            "Epoch 19/32\n",
            "149/149 [==============================] - 18s 120ms/step - loss: 3.9310 - accuracy: 0.0932 - top_5_accuracy: 0.2827 - val_loss: 5.0197 - val_accuracy: 0.0338 - val_top_5_accuracy: 0.1884\n",
            "Epoch 20/32\n",
            "149/149 [==============================] - 18s 119ms/step - loss: 3.8921 - accuracy: 0.0921 - top_5_accuracy: 0.2945 - val_loss: 4.9725 - val_accuracy: 0.0435 - val_top_5_accuracy: 0.1787\n",
            "Epoch 21/32\n",
            "149/149 [==============================] - 18s 120ms/step - loss: 3.8718 - accuracy: 0.0993 - top_5_accuracy: 0.2981 - val_loss: 5.2217 - val_accuracy: 0.0628 - val_top_5_accuracy: 0.1594\n",
            "Epoch 22/32\n",
            "149/149 [==============================] - 18s 118ms/step - loss: 3.8562 - accuracy: 0.1020 - top_5_accuracy: 0.3109 - val_loss: 5.2402 - val_accuracy: 0.0386 - val_top_5_accuracy: 0.1932\n",
            "Epoch 23/32\n",
            "149/149 [==============================] - 18s 120ms/step - loss: 3.8252 - accuracy: 0.1029 - top_5_accuracy: 0.3130 - val_loss: 5.0250 - val_accuracy: 0.0531 - val_top_5_accuracy: 0.1981\n",
            "Epoch 24/32\n",
            "149/149 [==============================] - 18s 119ms/step - loss: 3.8176 - accuracy: 0.1075 - top_5_accuracy: 0.3143 - val_loss: 5.3970 - val_accuracy: 0.0580 - val_top_5_accuracy: 0.2029\n",
            "Epoch 25/32\n",
            "149/149 [==============================] - 18s 118ms/step - loss: 3.7995 - accuracy: 0.1109 - top_5_accuracy: 0.3139 - val_loss: 5.1855 - val_accuracy: 0.0580 - val_top_5_accuracy: 0.2174\n",
            "Epoch 26/32\n",
            "149/149 [==============================] - 18s 119ms/step - loss: 3.7724 - accuracy: 0.1102 - top_5_accuracy: 0.3236 - val_loss: 5.0975 - val_accuracy: 0.0628 - val_top_5_accuracy: 0.2271\n",
            "Epoch 27/32\n",
            "149/149 [==============================] - 18s 120ms/step - loss: 3.7384 - accuracy: 0.1235 - top_5_accuracy: 0.3377 - val_loss: 5.3388 - val_accuracy: 0.0628 - val_top_5_accuracy: 0.2174\n",
            "Epoch 28/32\n",
            "149/149 [==============================] - 18s 119ms/step - loss: 3.7072 - accuracy: 0.1119 - top_5_accuracy: 0.3518 - val_loss: 5.3154 - val_accuracy: 0.0628 - val_top_5_accuracy: 0.2415\n",
            "Epoch 29/32\n",
            "149/149 [==============================] - 19s 128ms/step - loss: 3.7152 - accuracy: 0.1176 - top_5_accuracy: 0.3398 - val_loss: 5.0709 - val_accuracy: 0.0290 - val_top_5_accuracy: 0.1932\n",
            "Epoch 30/32\n",
            "149/149 [==============================] - 18s 118ms/step - loss: 3.6960 - accuracy: 0.1210 - top_5_accuracy: 0.3531 - val_loss: 5.2959 - val_accuracy: 0.0580 - val_top_5_accuracy: 0.2271\n",
            "Epoch 31/32\n",
            "149/149 [==============================] - 18s 119ms/step - loss: 3.6731 - accuracy: 0.1199 - top_5_accuracy: 0.3615 - val_loss: 5.2735 - val_accuracy: 0.0483 - val_top_5_accuracy: 0.2174\n",
            "Epoch 32/32\n",
            "149/149 [==============================] - 18s 118ms/step - loss: 3.6552 - accuracy: 0.1305 - top_5_accuracy: 0.3605 - val_loss: 5.1256 - val_accuracy: 0.0483 - val_top_5_accuracy: 0.2222\n"
          ]
        }
      ]
    },
    {
      "cell_type": "code",
      "source": [
        "# Evaluate the performance of the base model with mixed stream data\n",
        "cnn_model.evaluate(x_test, y_test)"
      ],
      "metadata": {
        "id": "QBwejI4opjm0",
        "colab": {
          "base_uri": "https://localhost:8080/"
        },
        "outputId": "530e5fa8-b71d-4c02-9911-9e1efa5ba1cd"
      },
      "execution_count": null,
      "outputs": [
        {
          "output_type": "stream",
          "name": "stdout",
          "text": [
            "7/7 [==============================] - 0s 15ms/step - loss: 5.1256 - accuracy: 0.0483 - top_5_accuracy: 0.2222\n"
          ]
        },
        {
          "output_type": "execute_result",
          "data": {
            "text/plain": [
              "[5.1256103515625, 0.04830917716026306, 0.2222222238779068]"
            ]
          },
          "metadata": {},
          "execution_count": 22
        }
      ]
    },
    {
      "cell_type": "code",
      "source": [
        "# Plot the performance of the model\n",
        "plot_performance(history)"
      ],
      "metadata": {
        "id": "nQac7zvW-lS1",
        "colab": {
          "base_uri": "https://localhost:8080/",
          "height": 805
        },
        "outputId": "50ec07ed-5cd0-4cd6-e48c-93550eeaa5e6"
      },
      "execution_count": null,
      "outputs": [
        {
          "output_type": "display_data",
          "data": {
            "text/plain": [
              "<Figure size 576x432 with 1 Axes>"
            ],
            "image/png": "[encoded data removed]"
          },
          "metadata": {
            "needs_background": "light"
          }
        },
        {
          "output_type": "display_data",
          "data": {
            "text/plain": [
              "<Figure size 576x432 with 1 Axes>"
            ],
            "image/png": "[encoded data removed]"
          },
          "metadata": {
            "needs_background": "light"
          }
        }
      ]
    },
    {
      "cell_type": "markdown",
      "source": [
        "## Base model with oversampling"
      ],
      "metadata": {
        "id": "PBjZSGOYKIKE"
      }
    },
    {
      "cell_type": "markdown",
      "source": [
        "The second approach that we will try to increase the performance of the CNN model is by oversampling the data. Current data has some classes that have only few number of data while the other classess have more data in significant amount. Training a model with this kind of data might cause the model to be biased because of the skewed distribution of data. Oversampling is an approach that can be considered to solve this kind of issue simply by appending random data to the classes that have less amount of data. RandomOverSampler will help us to do so by picking the minority classess then generating random data to add more information for the classess with less amount of data. Oversampling was more preferred compared to undersampling simply because of the small amount of data that we have. However, oversampling comes with a risk for the model to perform even worse because of the random noisy data so the approach itself will need to be handled carefully."
      ],
      "metadata": {
        "id": "DT2QzvAx6gwX"
      }
    },
    {
      "cell_type": "code",
      "source": [
        "# Import the required library\n",
        "from imblearn.over_sampling import RandomOverSampler"
      ],
      "metadata": {
        "id": "gxaWyl93YI6R"
      },
      "execution_count": null,
      "outputs": []
    },
    {
      "cell_type": "code",
      "source": [
        "# Oversample the train set\n",
        "ReX_train = x_train.reshape(x_train.shape[0], x_train.shape[1] * x_train.shape[2] * x_train.shape[3])\n",
        "print(ReX_train.shape)\n",
        "\n",
        "ros = RandomOverSampler(sampling_strategy=\"not majority\") # String\n",
        "x_train_oversampled, y_train_oversampled = ros.fit_resample(ReX_train, y_train)"
      ],
      "metadata": {
        "id": "3NuHgx2mKkHu",
        "colab": {
          "base_uri": "https://localhost:8080/"
        },
        "outputId": "46f65eaa-a58d-4dd5-e4ed-98958bf6471b"
      },
      "execution_count": null,
      "outputs": [
        {
          "output_type": "stream",
          "name": "stdout",
          "text": [
            "(4744, 49152)\n"
          ]
        }
      ]
    },
    {
      "cell_type": "code",
      "source": [
        "# Reshape the oversampled data to fit the input shape of the CNN model\n",
        "# We can see that the amount of data for the training set has changed from 4744 -> 5000\n",
        "\n",
        "x_train_oversampled = x_train_oversampled.reshape(x_train_oversampled.shape[0], 128, 128, 3)\n",
        "x_train_oversampled.shape"
      ],
      "metadata": {
        "id": "63PfgQ-ReIk0",
        "colab": {
          "base_uri": "https://localhost:8080/"
        },
        "outputId": "227779be-de57-4180-9da8-24027fc7d6d6"
      },
      "execution_count": null,
      "outputs": [
        {
          "output_type": "execute_result",
          "data": {
            "text/plain": [
              "(5000, 128, 128, 3)"
            ]
          },
          "metadata": {},
          "execution_count": 26
        }
      ]
    },
    {
      "cell_type": "code",
      "source": [
        "# Call Create Model\n",
        "cnn_model = createModel()\n",
        "cnn_model.compile(optimizer=optimizer, loss='sparse_categorical_crossentropy', metrics=[\"accuracy\",top_5_accuracy])"
      ],
      "metadata": {
        "id": "jGi-rA98Yjqf"
      },
      "execution_count": null,
      "outputs": []
    },
    {
      "cell_type": "code",
      "source": [
        "# Train the same model but now with the oversampled data\n",
        "history_oversampled = cnn_model.fit(datagen.flow(x_train_oversampled, y_train_oversampled), batch_size=batch_size, steps_per_epoch = steps_per_epoch,\n",
        "              epochs=initial_epochs, verbose=1, validation_data= (x_test, y_test))"
      ],
      "metadata": {
        "id": "vMHsoDjDYoxH",
        "colab": {
          "base_uri": "https://localhost:8080/"
        },
        "outputId": "36b6c0b2-0312-4712-c851-14e6670f0427"
      },
      "execution_count": null,
      "outputs": [
        {
          "output_type": "stream",
          "name": "stdout",
          "text": [
            "Epoch 1/32\n",
            "149/149 [==============================] - 18s 120ms/step - loss: 5.0777 - accuracy: 0.0086 - top_5_accuracy: 0.0441 - val_loss: 4.8456 - val_accuracy: 0.0048 - val_top_5_accuracy: 0.0386\n",
            "Epoch 2/32\n",
            "149/149 [==============================] - 18s 119ms/step - loss: 4.7745 - accuracy: 0.0084 - top_5_accuracy: 0.0426 - val_loss: 4.7173 - val_accuracy: 0.0048 - val_top_5_accuracy: 0.0435\n",
            "Epoch 3/32\n",
            "149/149 [==============================] - 18s 118ms/step - loss: 4.6855 - accuracy: 0.0070 - top_5_accuracy: 0.0405 - val_loss: 4.6601 - val_accuracy: 0.0048 - val_top_5_accuracy: 0.0531\n",
            "Epoch 4/32\n",
            "149/149 [==============================] - 18s 120ms/step - loss: 4.6450 - accuracy: 0.0093 - top_5_accuracy: 0.0428 - val_loss: 4.6316 - val_accuracy: 0.0145 - val_top_5_accuracy: 0.0628\n",
            "Epoch 5/32\n",
            "149/149 [==============================] - 18s 120ms/step - loss: 4.6251 - accuracy: 0.0076 - top_5_accuracy: 0.0407 - val_loss: 4.6187 - val_accuracy: 0.0048 - val_top_5_accuracy: 0.0531\n",
            "Epoch 6/32\n",
            "149/149 [==============================] - 18s 118ms/step - loss: 4.6154 - accuracy: 0.0086 - top_5_accuracy: 0.0436 - val_loss: 4.6119 - val_accuracy: 0.0048 - val_top_5_accuracy: 0.0435\n",
            "Epoch 7/32\n",
            "149/149 [==============================] - 18s 119ms/step - loss: 4.6105 - accuracy: 0.0093 - top_5_accuracy: 0.0426 - val_loss: 4.6089 - val_accuracy: 0.0048 - val_top_5_accuracy: 0.0338\n",
            "Epoch 8/32\n",
            "149/149 [==============================] - 18s 119ms/step - loss: 4.6084 - accuracy: 0.0093 - top_5_accuracy: 0.0434 - val_loss: 4.6078 - val_accuracy: 0.0048 - val_top_5_accuracy: 0.0338\n",
            "Epoch 9/32\n",
            "149/149 [==============================] - 19s 128ms/step - loss: 4.6077 - accuracy: 0.0099 - top_5_accuracy: 0.0443 - val_loss: 4.6074 - val_accuracy: 0.0048 - val_top_5_accuracy: 0.0435\n",
            "Epoch 10/32\n",
            "149/149 [==============================] - 18s 120ms/step - loss: 4.6075 - accuracy: 0.0101 - top_5_accuracy: 0.0449 - val_loss: 4.6074 - val_accuracy: 0.0048 - val_top_5_accuracy: 0.0531\n",
            "Epoch 11/32\n",
            "149/149 [==============================] - 18s 119ms/step - loss: 4.6075 - accuracy: 0.0091 - top_5_accuracy: 0.0451 - val_loss: 4.6072 - val_accuracy: 0.0048 - val_top_5_accuracy: 0.0531\n",
            "Epoch 12/32\n",
            "149/149 [==============================] - 18s 118ms/step - loss: 4.6074 - accuracy: 0.0097 - top_5_accuracy: 0.0457 - val_loss: 4.6071 - val_accuracy: 0.0048 - val_top_5_accuracy: 0.0435\n",
            "Epoch 13/32\n",
            "149/149 [==============================] - 18s 119ms/step - loss: 4.6075 - accuracy: 0.0089 - top_5_accuracy: 0.0472 - val_loss: 4.6070 - val_accuracy: 0.0145 - val_top_5_accuracy: 0.0435\n",
            "Epoch 14/32\n",
            "149/149 [==============================] - 18s 118ms/step - loss: 4.6075 - accuracy: 0.0074 - top_5_accuracy: 0.0447 - val_loss: 4.6071 - val_accuracy: 0.0145 - val_top_5_accuracy: 0.0580\n",
            "Epoch 15/32\n",
            "149/149 [==============================] - 18s 118ms/step - loss: 4.6075 - accuracy: 0.0067 - top_5_accuracy: 0.0417 - val_loss: 4.6074 - val_accuracy: 0.0145 - val_top_5_accuracy: 0.0580\n",
            "Epoch 16/32\n",
            "149/149 [==============================] - 18s 119ms/step - loss: 4.6075 - accuracy: 0.0080 - top_5_accuracy: 0.0390 - val_loss: 4.6072 - val_accuracy: 0.0097 - val_top_5_accuracy: 0.0676\n",
            "Epoch 17/32\n",
            "149/149 [==============================] - 18s 118ms/step - loss: 4.6075 - accuracy: 0.0065 - top_5_accuracy: 0.0434 - val_loss: 4.6073 - val_accuracy: 0.0145 - val_top_5_accuracy: 0.0628\n",
            "Epoch 18/32\n",
            "149/149 [==============================] - 18s 117ms/step - loss: 4.6076 - accuracy: 0.0082 - top_5_accuracy: 0.0441 - val_loss: 4.6072 - val_accuracy: 0.0145 - val_top_5_accuracy: 0.0628\n",
            "Epoch 19/32\n",
            "149/149 [==============================] - 17s 117ms/step - loss: 4.6075 - accuracy: 0.0070 - top_5_accuracy: 0.0443 - val_loss: 4.6075 - val_accuracy: 0.0145 - val_top_5_accuracy: 0.0628\n",
            "Epoch 20/32\n",
            "149/149 [==============================] - 18s 117ms/step - loss: 4.6076 - accuracy: 0.0103 - top_5_accuracy: 0.0411 - val_loss: 4.6073 - val_accuracy: 0.0145 - val_top_5_accuracy: 0.0435\n",
            "Epoch 21/32\n",
            "149/149 [==============================] - 19s 129ms/step - loss: 4.6077 - accuracy: 0.0084 - top_5_accuracy: 0.0428 - val_loss: 4.6073 - val_accuracy: 0.0145 - val_top_5_accuracy: 0.0435\n",
            "Epoch 22/32\n",
            "149/149 [==============================] - 18s 118ms/step - loss: 4.6076 - accuracy: 0.0080 - top_5_accuracy: 0.0451 - val_loss: 4.6076 - val_accuracy: 0.0145 - val_top_5_accuracy: 0.0435\n",
            "Epoch 23/32\n",
            "149/149 [==============================] - 18s 118ms/step - loss: 4.6076 - accuracy: 0.0080 - top_5_accuracy: 0.0428 - val_loss: 4.6074 - val_accuracy: 0.0048 - val_top_5_accuracy: 0.0386\n",
            "Epoch 24/32\n",
            "149/149 [==============================] - 18s 119ms/step - loss: 4.6076 - accuracy: 0.0091 - top_5_accuracy: 0.0419 - val_loss: 4.6075 - val_accuracy: 0.0048 - val_top_5_accuracy: 0.0338\n",
            "Epoch 25/32\n",
            "149/149 [==============================] - 18s 118ms/step - loss: 4.6076 - accuracy: 0.0070 - top_5_accuracy: 0.0396 - val_loss: 4.6072 - val_accuracy: 0.0048 - val_top_5_accuracy: 0.0483\n",
            "Epoch 26/32\n",
            "149/149 [==============================] - 18s 118ms/step - loss: 4.6077 - accuracy: 0.0080 - top_5_accuracy: 0.0388 - val_loss: 4.6072 - val_accuracy: 0.0097 - val_top_5_accuracy: 0.0338\n",
            "Epoch 27/32\n",
            "149/149 [==============================] - 18s 119ms/step - loss: 4.6078 - accuracy: 0.0094 - top_5_accuracy: 0.0472 - val_loss: 4.6072 - val_accuracy: 0.0048 - val_top_5_accuracy: 0.0338\n",
            "Epoch 28/32\n",
            "149/149 [==============================] - 18s 119ms/step - loss: 4.6077 - accuracy: 0.0076 - top_5_accuracy: 0.0354 - val_loss: 4.6073 - val_accuracy: 0.0048 - val_top_5_accuracy: 0.0386\n",
            "Epoch 29/32\n",
            "149/149 [==============================] - 18s 119ms/step - loss: 4.6077 - accuracy: 0.0065 - top_5_accuracy: 0.0424 - val_loss: 4.6076 - val_accuracy: 0.0097 - val_top_5_accuracy: 0.0483\n",
            "Epoch 30/32\n",
            "149/149 [==============================] - 18s 119ms/step - loss: 4.6077 - accuracy: 0.0072 - top_5_accuracy: 0.0358 - val_loss: 4.6074 - val_accuracy: 0.0048 - val_top_5_accuracy: 0.0386\n",
            "Epoch 31/32\n",
            "149/149 [==============================] - 18s 118ms/step - loss: 4.6078 - accuracy: 0.0097 - top_5_accuracy: 0.0375 - val_loss: 4.6074 - val_accuracy: 0.0097 - val_top_5_accuracy: 0.0531\n",
            "Epoch 32/32\n",
            "149/149 [==============================] - 19s 124ms/step - loss: 4.6078 - accuracy: 0.0072 - top_5_accuracy: 0.0386 - val_loss: 4.6073 - val_accuracy: 0.0097 - val_top_5_accuracy: 0.0483\n"
          ]
        }
      ]
    },
    {
      "cell_type": "code",
      "source": [
        "# Evaluate the performance of the model.\n",
        "cnn_model.evaluate(x_test, y_test)"
      ],
      "metadata": {
        "id": "-fISxVbnpcx8",
        "colab": {
          "base_uri": "https://localhost:8080/"
        },
        "outputId": "71161642-b0bb-4677-ea15-22af0f24598a"
      },
      "execution_count": null,
      "outputs": [
        {
          "output_type": "stream",
          "name": "stdout",
          "text": [
            "7/7 [==============================] - 0s 18ms/step - loss: 4.6073 - accuracy: 0.0097 - top_5_accuracy: 0.0483\n"
          ]
        },
        {
          "output_type": "execute_result",
          "data": {
            "text/plain": [
              "[4.607281684875488, 0.009661835618317127, 0.04830917716026306]"
            ]
          },
          "metadata": {},
          "execution_count": 29
        }
      ]
    },
    {
      "cell_type": "code",
      "source": [
        "# Plot the performance of model with oversampled data\n",
        "plot_performance(history_oversampled)"
      ],
      "metadata": {
        "id": "vdW5CSmVaasM",
        "colab": {
          "base_uri": "https://localhost:8080/",
          "height": 805
        },
        "outputId": "9673585a-82cb-45e5-f682-2874ff296071"
      },
      "execution_count": null,
      "outputs": [
        {
          "output_type": "display_data",
          "data": {
            "text/plain": [
              "<Figure size 576x432 with 1 Axes>"
            ],
            "image/png": "[encoded data removed]"
          },
          "metadata": {
            "needs_background": "light"
          }
        },
        {
          "output_type": "display_data",
          "data": {
            "text/plain": [
              "<Figure size 576x432 with 1 Axes>"
            ],
            "image/png": "[encoded data removed]"
          },
          "metadata": {
            "needs_background": "light"
          }
        }
      ]
    },
    {
      "cell_type": "markdown",
      "source": [
        "## Transfer Learning with Mixed Stream Data\n",
        "\n",
        "*: MobileNetV2*"
      ],
      "metadata": {
        "id": "B-A24NXTn29d"
      }
    },
    {
      "cell_type": "markdown",
      "source": [
        "With the limited amount of data that we have, it might be hard to get a really good model if we train everything from scratch as a deep learning model need a big amount of data to understand the data well enough. In order to solve this kind of issue, we can try to utilize pre-trained model to help us in getting better model performance for project that we are working on."
      ],
      "metadata": {
        "id": "zAqhF-akAJ6j"
      }
    },
    {
      "cell_type": "code",
      "source": [
        "# Import the required libraries\n",
        "from keras.applications import MobileNetV2 # We will use MobileNetV2 as our pre-trained model\n",
        "from keras.applications.mobilenet_v2 import preprocess_input\n",
        "from matplotlib import image\n",
        "import numpy as np\n",
        "import tensorflow as tf\n",
        "from keras.layers import Dense, Conv2D, MaxPooling2D, Dropout, Flatten, RandomFlip, RandomRotation\n",
        "from keras.callbacks import ModelCheckpoint, EarlyStopping\n",
        "from keras.models import Sequential, load_model\n",
        "from keras.utils import to_categorical\n",
        "from sklearn.model_selection import train_test_split\n",
        "from keras.metrics import top_k_categorical_accuracy\n",
        "from keras.preprocessing.image import ImageDataGenerator\n",
        "from keras import regularizers\n",
        "import matplotlib.pyplot as plt\n",
        "from sklearn.preprocessing import LabelEncoder\n",
        "from keras.regularizers import l2\n",
        "from keras.metrics import TopKCategoricalAccuracy"
      ],
      "metadata": {
        "id": "xwAqIgcpn6kr"
      },
      "execution_count": null,
      "outputs": []
    },
    {
      "cell_type": "code",
      "source": [
        "# Load the pre-trained model but remove the classification layer or the output layer from the model\n",
        "# as we will put some extra layer on top of it manually\n",
        "base_model = MobileNetV2(input_shape=(128, 128, 3), include_top=False, weights='imagenet')"
      ],
      "metadata": {
        "id": "Xa3yTJ1sn91w",
        "colab": {
          "base_uri": "https://localhost:8080/"
        },
        "outputId": "fedb59d4-54d7-4dc9-c43a-2944a8c99c0b"
      },
      "execution_count": null,
      "outputs": [
        {
          "output_type": "stream",
          "name": "stdout",
          "text": [
            "Downloading data from https://storage.googleapis.com/tensorflow/keras-applications/mobilenet_v2/mobilenet_v2_weights_tf_dim_ordering_tf_kernels_1.0_128_no_top.h5\n",
            "9406464/9406464 [==============================] - 0s 0us/step\n"
          ]
        }
      ]
    },
    {
      "cell_type": "code",
      "source": [
        "# We will freeze all the layers of the pre-trained model for now to prevent the embedded weight from been updated\n",
        "base_model.trainable = False"
      ],
      "metadata": {
        "id": "82LlPSHKoA2f"
      },
      "execution_count": null,
      "outputs": []
    },
    {
      "cell_type": "code",
      "source": [
        "# We will do simple data augmentation by flipping and rotating the image.\n",
        "data_augmentation = Sequential([\n",
        "    RandomFlip('horizontal'),\n",
        "    RandomRotation(0.2)\n",
        "])"
      ],
      "metadata": {
        "id": "zJY-5QaOoE04"
      },
      "execution_count": null,
      "outputs": []
    },
    {
      "cell_type": "code",
      "source": [
        "# Look for the amount of classess for training\n",
        "classes = np.unique(y_train)\n",
        "nClasses = len(classes)"
      ],
      "metadata": {
        "id": "MnujmVkWtQQI"
      },
      "execution_count": null,
      "outputs": []
    },
    {
      "cell_type": "code",
      "source": [
        "# Build the model by including the pre-trained model among the other layers\n",
        "inputs = tf.keras.Input(shape=(128, 128, 3))\n",
        "augmented_data = data_augmentation(inputs)\n",
        "pretrained_data = base_model(augmented_data, training=False) #Fit the augmented data to the pre-trained model\n",
        "pooled_data = tf.keras.layers.GlobalAveragePooling2D()(pretrained_data) #Use the output of pre-trained model to be further processed\n",
        "dropped_data = Dropout(0.4)(pooled_data)\n",
        "outputs = Dense(nClasses, activation = 'softmax')(dropped_data) #Output/Classification layer\n",
        "model = tf.keras.Model(inputs, outputs)"
      ],
      "metadata": {
        "id": "6TxZXZ5CoFc3"
      },
      "execution_count": null,
      "outputs": []
    },
    {
      "cell_type": "code",
      "source": [
        "# We will utilize ADAM as the optimizer but take note that the learning rate is smaller compared to the other two models\n",
        "optimizer = tf.keras.optimizers.Adam(learning_rate = 0.00001)"
      ],
      "metadata": {
        "id": "4G7QCfJYvZ2E"
      },
      "execution_count": null,
      "outputs": []
    },
    {
      "cell_type": "code",
      "source": [
        "# Compile the model\n",
        "model.compile(optimizer=optimizer, loss='sparse_categorical_crossentropy', metrics=[\"accuracy\",top_5_accuracy])"
      ],
      "metadata": {
        "id": "9mSHoFdlo7bZ"
      },
      "execution_count": null,
      "outputs": []
    },
    {
      "cell_type": "code",
      "source": [
        "# Let's add more data by augmenting the data with different approach\n",
        "datagen = ImageDataGenerator(horizontal_flip=True,\n",
        "                            rotation_range=45,\n",
        "                            zoom_range=0.8,\n",
        "                            vertical_flip=True)\n",
        "\n",
        "datagen.fit(x_train)\n",
        "\n",
        "# We will try to train the model with 20 epoch first before we fine-tune the model later on\n",
        "batch_size = 32\n",
        "steps_per_epoch = int( np.ceil(x_train.shape[0] / batch_size) )\n",
        "initial_epochs = 20"
      ],
      "metadata": {
        "id": "1cTW9iMitY_F"
      },
      "execution_count": null,
      "outputs": []
    },
    {
      "cell_type": "code",
      "source": [
        "# Train the model\n",
        "history_transfer = model.fit(\n",
        "    datagen.flow(x_train, y_train),\n",
        "    batch_size=batch_size,\n",
        "    steps_per_epoch = steps_per_epoch,\n",
        "    epochs=initial_epochs,\n",
        "    verbose=1,\n",
        "    validation_data= (x_test, y_test)\n",
        ")"
      ],
      "metadata": {
        "id": "eB4I533Go7ba",
        "colab": {
          "base_uri": "https://localhost:8080/"
        },
        "outputId": "db368d75-a70a-4cda-a3f0-fce40a1504a2"
      },
      "execution_count": null,
      "outputs": [
        {
          "output_type": "stream",
          "name": "stdout",
          "text": [
            "Epoch 1/20\n",
            "149/149 [==============================] - 23s 133ms/step - loss: 5.8607 - accuracy: 0.0082 - top_5_accuracy: 0.0472 - val_loss: 5.3263 - val_accuracy: 0.0000e+00 - val_top_5_accuracy: 0.0531\n",
            "Epoch 2/20\n",
            "149/149 [==============================] - 19s 124ms/step - loss: 5.7540 - accuracy: 0.0091 - top_5_accuracy: 0.0485 - val_loss: 5.2770 - val_accuracy: 0.0000e+00 - val_top_5_accuracy: 0.0483\n",
            "Epoch 3/20\n",
            "149/149 [==============================] - 19s 125ms/step - loss: 5.6665 - accuracy: 0.0091 - top_5_accuracy: 0.0584 - val_loss: 5.2414 - val_accuracy: 0.0000e+00 - val_top_5_accuracy: 0.0531\n",
            "Epoch 4/20\n",
            "149/149 [==============================] - 19s 125ms/step - loss: 5.5943 - accuracy: 0.0103 - top_5_accuracy: 0.0508 - val_loss: 5.2135 - val_accuracy: 0.0048 - val_top_5_accuracy: 0.0531\n",
            "Epoch 5/20\n",
            "149/149 [==============================] - 19s 126ms/step - loss: 5.5635 - accuracy: 0.0126 - top_5_accuracy: 0.0575 - val_loss: 5.1906 - val_accuracy: 0.0097 - val_top_5_accuracy: 0.0531\n",
            "Epoch 6/20\n",
            "149/149 [==============================] - 19s 125ms/step - loss: 5.5222 - accuracy: 0.0097 - top_5_accuracy: 0.0540 - val_loss: 5.1706 - val_accuracy: 0.0097 - val_top_5_accuracy: 0.0531\n",
            "Epoch 7/20\n",
            "149/149 [==============================] - 19s 124ms/step - loss: 5.4937 - accuracy: 0.0099 - top_5_accuracy: 0.0546 - val_loss: 5.1538 - val_accuracy: 0.0193 - val_top_5_accuracy: 0.0580\n",
            "Epoch 8/20\n",
            "149/149 [==============================] - 19s 125ms/step - loss: 5.4390 - accuracy: 0.0137 - top_5_accuracy: 0.0601 - val_loss: 5.1382 - val_accuracy: 0.0145 - val_top_5_accuracy: 0.0580\n",
            "Epoch 9/20\n",
            "149/149 [==============================] - 19s 125ms/step - loss: 5.4593 - accuracy: 0.0099 - top_5_accuracy: 0.0590 - val_loss: 5.1225 - val_accuracy: 0.0145 - val_top_5_accuracy: 0.0531\n",
            "Epoch 10/20\n",
            "149/149 [==============================] - 19s 125ms/step - loss: 5.3920 - accuracy: 0.0145 - top_5_accuracy: 0.0643 - val_loss: 5.1100 - val_accuracy: 0.0145 - val_top_5_accuracy: 0.0531\n",
            "Epoch 11/20\n",
            "149/149 [==============================] - 19s 127ms/step - loss: 5.3584 - accuracy: 0.0110 - top_5_accuracy: 0.0628 - val_loss: 5.0953 - val_accuracy: 0.0145 - val_top_5_accuracy: 0.0531\n",
            "Epoch 12/20\n",
            "149/149 [==============================] - 20s 134ms/step - loss: 5.3784 - accuracy: 0.0139 - top_5_accuracy: 0.0626 - val_loss: 5.0818 - val_accuracy: 0.0145 - val_top_5_accuracy: 0.0531\n",
            "Epoch 13/20\n",
            "149/149 [==============================] - 19s 125ms/step - loss: 5.3212 - accuracy: 0.0126 - top_5_accuracy: 0.0696 - val_loss: 5.0683 - val_accuracy: 0.0145 - val_top_5_accuracy: 0.0531\n",
            "Epoch 14/20\n",
            "149/149 [==============================] - 19s 127ms/step - loss: 5.3246 - accuracy: 0.0181 - top_5_accuracy: 0.0666 - val_loss: 5.0568 - val_accuracy: 0.0145 - val_top_5_accuracy: 0.0531\n",
            "Epoch 15/20\n",
            "149/149 [==============================] - 19s 126ms/step - loss: 5.3119 - accuracy: 0.0131 - top_5_accuracy: 0.0620 - val_loss: 5.0434 - val_accuracy: 0.0145 - val_top_5_accuracy: 0.0531\n",
            "Epoch 16/20\n",
            "149/149 [==============================] - 19s 124ms/step - loss: 5.2713 - accuracy: 0.0126 - top_5_accuracy: 0.0769 - val_loss: 5.0324 - val_accuracy: 0.0145 - val_top_5_accuracy: 0.0435\n",
            "Epoch 17/20\n",
            "149/149 [==============================] - 19s 126ms/step - loss: 5.2221 - accuracy: 0.0171 - top_5_accuracy: 0.0731 - val_loss: 5.0201 - val_accuracy: 0.0145 - val_top_5_accuracy: 0.0531\n",
            "Epoch 18/20\n",
            "149/149 [==============================] - 19s 125ms/step - loss: 5.2420 - accuracy: 0.0173 - top_5_accuracy: 0.0801 - val_loss: 5.0087 - val_accuracy: 0.0145 - val_top_5_accuracy: 0.0531\n",
            "Epoch 19/20\n",
            "149/149 [==============================] - 19s 125ms/step - loss: 5.2033 - accuracy: 0.0207 - top_5_accuracy: 0.0803 - val_loss: 4.9973 - val_accuracy: 0.0145 - val_top_5_accuracy: 0.0531\n",
            "Epoch 20/20\n",
            "149/149 [==============================] - 19s 125ms/step - loss: 5.1683 - accuracy: 0.0207 - top_5_accuracy: 0.0833 - val_loss: 4.9850 - val_accuracy: 0.0145 - val_top_5_accuracy: 0.0531\n"
          ]
        }
      ]
    },
    {
      "cell_type": "markdown",
      "source": [
        "It seems like the performance of the pre-trained model is still not satisfying at this point, we might need to fine-tune the pre-trained model to adjust its weight according to our data."
      ],
      "metadata": {
        "id": "VoSDuE6EFGHD"
      }
    },
    {
      "cell_type": "code",
      "source": [
        "# Unfreeze the pretrained model\n",
        "base_model.trainable = True"
      ],
      "metadata": {
        "id": "_GuIIHxHph1c"
      },
      "execution_count": null,
      "outputs": []
    },
    {
      "cell_type": "code",
      "source": [
        "# Let's take a look to see how many layers are in the base model\n",
        "print(\"Number of layers in the base model: \", len(base_model.layers))\n",
        "\n",
        "# Fine-tune from this layer onwards\n",
        "fine_tune_at = 50\n",
        "\n",
        "# Freeze all the layers before the `fine_tune_at` layer\n",
        "for layer in base_model.layers[:fine_tune_at]:\n",
        "  layer.trainable = False"
      ],
      "metadata": {
        "id": "9d4_3rWgpmgZ",
        "colab": {
          "base_uri": "https://localhost:8080/"
        },
        "outputId": "2179219d-b690-421a-8909-effc93067bc1"
      },
      "execution_count": null,
      "outputs": [
        {
          "output_type": "stream",
          "name": "stdout",
          "text": [
            "Number of layers in the base model:  154\n"
          ]
        }
      ]
    },
    {
      "cell_type": "code",
      "source": [
        "# Compile the model that we will fine-tune\n",
        "model.compile(optimizer=optimizer, loss='sparse_categorical_crossentropy', metrics=[\"accuracy\",top_5_accuracy])"
      ],
      "metadata": {
        "id": "6hrBFTt3ppVz"
      },
      "execution_count": null,
      "outputs": []
    },
    {
      "cell_type": "code",
      "source": [
        "# Continue the training from the latest epoch (20) until it reachs 32 as the epochs of the other model\n",
        "fine_tune_epochs = 12\n",
        "total_epochs =  initial_epochs + fine_tune_epochs\n",
        "\n",
        "# Fine-tune the model\n",
        "history_transfer_fine = model.fit(\n",
        "    datagen.flow(x_train, y_train),\n",
        "    batch_size=batch_size,\n",
        "    steps_per_epoch = steps_per_epoch,\n",
        "    epochs=total_epochs,\n",
        "    initial_epoch=history_transfer.epoch[-1],\n",
        "    verbose=1,\n",
        "    validation_data= (x_test, y_test)\n",
        ")"
      ],
      "metadata": {
        "id": "iiLV8DL1pu_6",
        "colab": {
          "base_uri": "https://localhost:8080/"
        },
        "outputId": "358948fe-c0c4-408e-bba8-35448d1e7e44"
      },
      "execution_count": null,
      "outputs": [
        {
          "output_type": "stream",
          "name": "stdout",
          "text": [
            "Epoch 20/32\n",
            "149/149 [==============================] - 25s 139ms/step - loss: 4.6275 - accuracy: 0.0108 - top_5_accuracy: 0.0626 - val_loss: 4.5875 - val_accuracy: 0.0097 - val_top_5_accuracy: 0.0435\n",
            "Epoch 21/32\n",
            "149/149 [==============================] - 20s 134ms/step - loss: 4.5886 - accuracy: 0.0152 - top_5_accuracy: 0.0719 - val_loss: 4.5716 - val_accuracy: 0.0000e+00 - val_top_5_accuracy: 0.0918\n",
            "Epoch 22/32\n",
            "149/149 [==============================] - 20s 133ms/step - loss: 4.5511 - accuracy: 0.0278 - top_5_accuracy: 0.0995 - val_loss: 4.5716 - val_accuracy: 0.0338 - val_top_5_accuracy: 0.1014\n",
            "Epoch 23/32\n",
            "149/149 [==============================] - 21s 141ms/step - loss: 4.4751 - accuracy: 0.0352 - top_5_accuracy: 0.1216 - val_loss: 4.5243 - val_accuracy: 0.0338 - val_top_5_accuracy: 0.1304\n",
            "Epoch 24/32\n",
            "149/149 [==============================] - 20s 133ms/step - loss: 4.3848 - accuracy: 0.0453 - top_5_accuracy: 0.1473 - val_loss: 4.4440 - val_accuracy: 0.0483 - val_top_5_accuracy: 0.1643\n",
            "Epoch 25/32\n",
            "149/149 [==============================] - 20s 134ms/step - loss: 4.2795 - accuracy: 0.0580 - top_5_accuracy: 0.1809 - val_loss: 4.4079 - val_accuracy: 0.0580 - val_top_5_accuracy: 0.2029\n",
            "Epoch 26/32\n",
            "149/149 [==============================] - 20s 133ms/step - loss: 4.1732 - accuracy: 0.0759 - top_5_accuracy: 0.2228 - val_loss: 4.3891 - val_accuracy: 0.0531 - val_top_5_accuracy: 0.1932\n",
            "Epoch 27/32\n",
            "149/149 [==============================] - 20s 133ms/step - loss: 4.1033 - accuracy: 0.0856 - top_5_accuracy: 0.2485 - val_loss: 4.3468 - val_accuracy: 0.0676 - val_top_5_accuracy: 0.2077\n",
            "Epoch 28/32\n",
            "149/149 [==============================] - 20s 133ms/step - loss: 4.0177 - accuracy: 0.0993 - top_5_accuracy: 0.2704 - val_loss: 4.2998 - val_accuracy: 0.1208 - val_top_5_accuracy: 0.2464\n",
            "Epoch 29/32\n",
            "149/149 [==============================] - 20s 133ms/step - loss: 3.9752 - accuracy: 0.1086 - top_5_accuracy: 0.2869 - val_loss: 4.2840 - val_accuracy: 0.0918 - val_top_5_accuracy: 0.2464\n",
            "Epoch 30/32\n",
            "149/149 [==============================] - 20s 133ms/step - loss: 3.8803 - accuracy: 0.1176 - top_5_accuracy: 0.3132 - val_loss: 4.2759 - val_accuracy: 0.1208 - val_top_5_accuracy: 0.2464\n",
            "Epoch 31/32\n",
            "149/149 [==============================] - 20s 134ms/step - loss: 3.8089 - accuracy: 0.1273 - top_5_accuracy: 0.3314 - val_loss: 4.2680 - val_accuracy: 0.1353 - val_top_5_accuracy: 0.2609\n",
            "Epoch 32/32\n",
            "149/149 [==============================] - 20s 133ms/step - loss: 3.7519 - accuracy: 0.1400 - top_5_accuracy: 0.3455 - val_loss: 4.2618 - val_accuracy: 0.1353 - val_top_5_accuracy: 0.2657\n"
          ]
        }
      ]
    },
    {
      "cell_type": "code",
      "source": [
        "# Evaluate the performance of the pre-trained model approach\n",
        "model.evaluate(x_test, y_test)"
      ],
      "metadata": {
        "id": "nUeklf4hn0dO",
        "colab": {
          "base_uri": "https://localhost:8080/"
        },
        "outputId": "34f8caca-571e-4b40-c07d-28bc8bba8b81"
      },
      "execution_count": null,
      "outputs": [
        {
          "output_type": "stream",
          "name": "stdout",
          "text": [
            "7/7 [==============================] - 0s 20ms/step - loss: 4.2618 - accuracy: 0.1353 - top_5_accuracy: 0.2657\n"
          ]
        },
        {
          "output_type": "execute_result",
          "data": {
            "text/plain": [
              "[4.261824607849121, 0.13526569306850433, 0.26570048928260803]"
            ]
          },
          "metadata": {},
          "execution_count": 46
        }
      ]
    },
    {
      "cell_type": "code",
      "source": [
        "# Append the new history information so we can show the fine-tuning effect on graph later on\n",
        "loss = history_transfer.history['loss'].copy()\n",
        "val_loss = history_transfer.history['val_loss'].copy()\n",
        "\n",
        "loss += history_transfer_fine.history['loss']\n",
        "val_loss += history_transfer_fine.history['val_loss']\n",
        "\n",
        "accuracy = history_transfer.history['accuracy'].copy()\n",
        "val_accuracy = history_transfer.history['val_accuracy'].copy()\n",
        "\n",
        "accuracy += history_transfer_fine.history['accuracy']\n",
        "val_accuracy += history_transfer_fine.history['val_accuracy']"
      ],
      "metadata": {
        "id": "kvsED8Hs5AZx"
      },
      "execution_count": null,
      "outputs": []
    },
    {
      "cell_type": "code",
      "source": [
        "# Plot the performance of the pre-trained model before and after fine-tuning\n",
        "plt.plot(loss, label='Training Loss')\n",
        "plt.plot(val_loss, label='Validation Loss')\n",
        "plt.plot([initial_epochs-1,initial_epochs-1], plt.ylim(), label='Start Fine Tuning')\n",
        "plt.legend(loc='upper right')\n",
        "plt.title('Training and Validation Loss')\n",
        "plt.xlabel('epoch')\n",
        "plt.show()\n",
        "\n",
        "plt.plot(accuracy, label='Training Accuracy')\n",
        "plt.plot(val_accuracy, label='Validation Accuracy')\n",
        "plt.plot([initial_epochs-1,initial_epochs-1], plt.ylim(), label='Start Fine Tuning')\n",
        "plt.legend(loc='upper left')\n",
        "plt.title('Training and Validation Accuracy')\n",
        "plt.xlabel('epoch')\n",
        "plt.show()"
      ],
      "metadata": {
        "id": "XoDHtZkKtk3J",
        "colab": {
          "base_uri": "https://localhost:8080/",
          "height": 573
        },
        "outputId": "e285de7c-9e10-4907-b491-f9a849a45852"
      },
      "execution_count": null,
      "outputs": [
        {
          "output_type": "display_data",
          "data": {
            "text/plain": [
              "<Figure size 432x288 with 1 Axes>"
            ],
            "image/png": "[encoded data removed]"
          },
          "metadata": {
            "needs_background": "light"
          }
        },
        {
          "output_type": "display_data",
          "data": {
            "text/plain": [
              "<Figure size 432x288 with 1 Axes>"
            ],
            "image/png": "[encoded data removed]"
          },
          "metadata": {
            "needs_background": "light"
          }
        }
      ]
    },
    {
      "cell_type": "code",
      "source": [
        "# It seems like the pre-trained model is the best model in term of performance compared to the other 2 models so far\n",
        "# By that, we will take this model to be used on our GUI and Jetson Nano so we will need to save this model to our drive.\n",
        "model.save(\"/content/drive/MyDrive/AML_project/saved_models\")"
      ],
      "metadata": {
        "id": "NcnLiRwioCv3",
        "colab": {
          "base_uri": "https://localhost:8080/"
        },
        "outputId": "77488289-01be-4338-d869-64a20c8170dd"
      },
      "execution_count": null,
      "outputs": [
        {
          "output_type": "stream",
          "name": "stderr",
          "text": [
            "WARNING:absl:Found untraced functions such as _jit_compiled_convolution_op, _jit_compiled_convolution_op, _jit_compiled_convolution_op, _jit_compiled_convolution_op, _jit_compiled_convolution_op while saving (showing 5 of 52). These functions will not be directly callable after loading.\n"
          ]
        }
      ]
    },
    {
      "cell_type": "markdown",
      "source": [
        "# Result"
      ],
      "metadata": {
        "id": "N3IcnZ-c0xIF"
      }
    },
    {
      "cell_type": "markdown",
      "source": [
        "After modeling, the results of this project were based on:\n",
        "1.   Base Model with Mixed Stream Data \n",
        "2.   Base model with oversampling\n",
        "3.   Transfer Learning with Mixed Stream Data"
      ],
      "metadata": {
        "id": "dcweBLgPI1Hj"
      }
    },
    {
      "cell_type": "code",
      "source": [
        "df = pd.DataFrame(columns=['Model', 'Epochs', 'Training Accuracy', 'Validation Accuracy'])"
      ],
      "metadata": {
        "id": "rPD8QfAjE8YK"
      },
      "execution_count": null,
      "outputs": []
    },
    {
      "cell_type": "code",
      "source": [
        "# Base Model with Mix Stream Data\n",
        "df = df.append({\n",
        "    'Model': 'Base Model with Mix Stream Data',\n",
        "    'Epochs': 32,\n",
        "    'Training Accuracy': 'Top-1: ' + str(round(history.history['accuracy'][-1], 3)) + ', Top-5: ' + str(round(history.history['top_5_accuracy'][-1], 3)),\n",
        "    'Validation Accuracy': 'Top-1: ' + str(round(history.history['val_accuracy'][-1], 3)) + ', Top-5: ' + str(round(history.history['val_top_5_accuracy'][-1], 3))\n",
        "}, ignore_index=True)\n",
        "\n",
        "# Base Model with Oversampled Mix Stream Data\n",
        "df = df.append({\n",
        "    'Model': 'Base Model with Oversampled Mix Stream Data',\n",
        "    'Epochs': 32,\n",
        "    'Training Accuracy': 'Top-1: ' + str(round(history_oversampled.history['accuracy'][-1], 3)) + ', Top-5: ' + str(round(history_oversampled.history['top_5_accuracy'][-1], 3)),\n",
        "    'Validation Accuracy': 'Top-1: ' + str(round(history_oversampled.history['val_accuracy'][-1], 3)) + ', Top-5: ' + str(round(history_oversampled.history['val_top_5_accuracy'][-1], 3))\n",
        "}, ignore_index=True)\n",
        "\n",
        "# Transfer Learning with Mixed Stream Data\n",
        "df = df.append({\n",
        "    'Model': 'Transfer Learning with Mixed Stream Data',\n",
        "    'Epochs': 32,\n",
        "    'Training Accuracy': 'Top-1: ' + str(round(history_transfer_fine.history['accuracy'][-1], 3)) + ', Top-5: ' + str(round(history_transfer_fine.history['top_5_accuracy'][-1], 3)),\n",
        "    'Validation Accuracy': 'Top-1: ' + str(round(history_transfer_fine.history['val_accuracy'][-1], 3)) + ', Top-5: ' + str(round(history_transfer_fine.history['val_top_5_accuracy'][-1], 3))\n",
        "}, ignore_index=True)"
      ],
      "metadata": {
        "id": "8rOJZHu5072g"
      },
      "execution_count": null,
      "outputs": []
    },
    {
      "cell_type": "code",
      "source": [
        "df"
      ],
      "metadata": {
        "id": "_z_MtYe2dvw8",
        "colab": {
          "base_uri": "https://localhost:8080/",
          "height": 143
        },
        "outputId": "185dffa7-1725-4af8-c337-6e228ac623c9"
      },
      "execution_count": null,
      "outputs": [
        {
          "output_type": "execute_result",
          "data": {
            "text/plain": [
              "                                         Model Epochs  \\\n",
              "0              Base Model with Mix Stream Data     32   \n",
              "1  Base Model with Oversampled Mix Stream Data     32   \n",
              "2     Transfer Learning with Mixed Stream Data     32   \n",
              "\n",
              "            Training Accuracy         Validation Accuracy  \n",
              "0    Top-1: 0.13, Top-5: 0.36  Top-1: 0.048, Top-5: 0.222  \n",
              "1  Top-1: 0.007, Top-5: 0.039   Top-1: 0.01, Top-5: 0.048  \n",
              "2   Top-1: 0.14, Top-5: 0.345  Top-1: 0.135, Top-5: 0.266  "
            ],
            "text/html": [
              "\n",
              "  <div id=\"df-7540ce22-9f66-469b-965c-eb4c55162754\">\n",
              "    <div class=\"colab-df-container\">\n",
              "      <div>\n",
              "<style scoped>\n",
              "    .dataframe tbody tr th:only-of-type {\n",
              "        vertical-align: middle;\n",
              "    }\n",
              "\n",
              "    .dataframe tbody tr th {\n",
              "        vertical-align: top;\n",
              "    }\n",
              "\n",
              "    .dataframe thead th {\n",
              "        text-align: right;\n",
              "    }\n",
              "</style>\n",
              "<table border=\"1\" class=\"dataframe\">\n",
              "  <thead>\n",
              "    <tr style=\"text-align: right;\">\n",
              "      <th></th>\n",
              "      <th>Model</th>\n",
              "      <th>Epochs</th>\n",
              "      <th>Training Accuracy</th>\n",
              "      <th>Validation Accuracy</th>\n",
              "    </tr>\n",
              "  </thead>\n",
              "  <tbody>\n",
              "    <tr>\n",
              "      <th>0</th>\n",
              "      <td>Base Model with Mix Stream Data</td>\n",
              "      <td>32</td>\n",
              "      <td>Top-1: 0.13, Top-5: 0.36</td>\n",
              "      <td>Top-1: 0.048, Top-5: 0.222</td>\n",
              "    </tr>\n",
              "    <tr>\n",
              "      <th>1</th>\n",
              "      <td>Base Model with Oversampled Mix Stream Data</td>\n",
              "      <td>32</td>\n",
              "      <td>Top-1: 0.007, Top-5: 0.039</td>\n",
              "      <td>Top-1: 0.01, Top-5: 0.048</td>\n",
              "    </tr>\n",
              "    <tr>\n",
              "      <th>2</th>\n",
              "      <td>Transfer Learning with Mixed Stream Data</td>\n",
              "      <td>32</td>\n",
              "      <td>Top-1: 0.14, Top-5: 0.345</td>\n",
              "      <td>Top-1: 0.135, Top-5: 0.266</td>\n",
              "    </tr>\n",
              "  </tbody>\n",
              "</table>\n",
              "</div>\n",
              "      <button class=\"colab-df-convert\" onclick=\"convertToInteractive('df-7540ce22-9f66-469b-965c-eb4c55162754')\"\n",
              "              title=\"Convert this dataframe to an interactive table.\"\n",
              "              style=\"display:none;\">\n",
              "        \n",
              "  <svg xmlns=\"http://www.w3.org/2000/svg\" height=\"24px\"viewBox=\"0 0 24 24\"\n",
              "       width=\"24px\">\n",
              "    <path d=\"M0 0h24v24H0V0z\" fill=\"none\"/>\n",
              "    <path d=\"M18.56 5.44l.94 2.06.94-2.06 2.06-.94-2.06-.94-.94-2.06-.94 2.06-2.06.94zm-11 1L8.5 8.5l.94-2.06 2.06-.94-2.06-.94L8.5 2.5l-.94 2.06-2.06.94zm10 10l.94 2.06.94-2.06 2.06-.94-2.06-.94-.94-2.06-.94 2.06-2.06.94z\"/><path d=\"M17.41 7.96l-1.37-1.37c-.4-.4-.92-.59-1.43-.59-.52 0-1.04.2-1.43.59L10.3 9.45l-7.72 7.72c-.78.78-.78 2.05 0 2.83L4 21.41c.39.39.9.59 1.41.59.51 0 1.02-.2 1.41-.59l7.78-7.78 2.81-2.81c.8-.78.8-2.07 0-2.86zM5.41 20L4 18.59l7.72-7.72 1.47 1.35L5.41 20z\"/>\n",
              "  </svg>\n",
              "      </button>\n",
              "      \n",
              "  <style>\n",
              "    .colab-df-container {\n",
              "      display:flex;\n",
              "      flex-wrap:wrap;\n",
              "      gap: 12px;\n",
              "    }\n",
              "\n",
              "    .colab-df-convert {\n",
              "      background-color: #E8F0FE;\n",
              "      border: none;\n",
              "      border-radius: 50%;\n",
              "      cursor: pointer;\n",
              "      display: none;\n",
              "      fill: #1967D2;\n",
              "      height: 32px;\n",
              "      padding: 0 0 0 0;\n",
              "      width: 32px;\n",
              "    }\n",
              "\n",
              "    .colab-df-convert:hover {\n",
              "      background-color: #E2EBFA;\n",
              "      box-shadow: 0px 1px 2px rgba(60, 64, 67, 0.3), 0px 1px 3px 1px rgba(60, 64, 67, 0.15);\n",
              "      fill: #174EA6;\n",
              "    }\n",
              "\n",
              "    [theme=dark] .colab-df-convert {\n",
              "      background-color: #3B4455;\n",
              "      fill: #D2E3FC;\n",
              "    }\n",
              "\n",
              "    [theme=dark] .colab-df-convert:hover {\n",
              "      background-color: #434B5C;\n",
              "      box-shadow: 0px 1px 3px 1px rgba(0, 0, 0, 0.15);\n",
              "      filter: drop-shadow(0px 1px 2px rgba(0, 0, 0, 0.3));\n",
              "      fill: #FFFFFF;\n",
              "    }\n",
              "  </style>\n",
              "\n",
              "      <script>\n",
              "        const buttonEl =\n",
              "          document.querySelector('#df-7540ce22-9f66-469b-965c-eb4c55162754 button.colab-df-convert');\n",
              "        buttonEl.style.display =\n",
              "          google.colab.kernel.accessAllowed ? 'block' : 'none';\n",
              "\n",
              "        async function convertToInteractive(key) {\n",
              "          const element = document.querySelector('#df-7540ce22-9f66-469b-965c-eb4c55162754');\n",
              "          const dataTable =\n",
              "            await google.colab.kernel.invokeFunction('convertToInteractive',\n",
              "                                                     [key], {});\n",
              "          if (!dataTable) return;\n",
              "\n",
              "          const docLinkHtml = 'Like what you see? Visit the ' +\n",
              "            '<a target=\"_blank\" href=https://colab.research.google.com/notebooks/data_table.ipynb>data table notebook</a>'\n",
              "            + ' to learn more about interactive tables.';\n",
              "          element.innerHTML = '';\n",
              "          dataTable['output_type'] = 'display_data';\n",
              "          await google.colab.output.renderOutput(dataTable, element);\n",
              "          const docLink = document.createElement('div');\n",
              "          docLink.innerHTML = docLinkHtml;\n",
              "          element.appendChild(docLink);\n",
              "        }\n",
              "      </script>\n",
              "    </div>\n",
              "  </div>\n",
              "  "
            ]
          },
          "metadata": {},
          "execution_count": 52
        }
      ]
    }
  ]
}